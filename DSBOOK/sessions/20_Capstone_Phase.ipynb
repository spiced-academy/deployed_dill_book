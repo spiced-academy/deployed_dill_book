{
 "cells": [
  {
   "cell_type": "markdown",
   "id": "defb3803",
   "metadata": {
    "slideshow": {
     "slide_type": "skip"
    }
   },
   "source": [
    "# Capstone Phase"
   ]
  },
  {
   "cell_type": "markdown",
   "id": "cd321fd4",
   "metadata": {
    "slideshow": {
     "slide_type": "slide"
    },
    "tags": [
     "remove-cell"
    ]
   },
   "source": [
    "<div class=\"slide-title\">\n",
    "    \n",
    "# Capstone Phase\n",
    "    \n",
    "</div>"
   ]
  },
  {
   "cell_type": "markdown",
   "id": "372cf218",
   "metadata": {
    "slideshow": {
     "slide_type": "slide"
    }
   },
   "source": [
    "## Structure your Capstone Project\n",
    "\n",
    "- **Precisely define your Goal**\n",
    "    - what have others reached?\n",
    "    - what do you want to reach?\n",
    "    - what are the steps to get there?\n",
    "- **Set yourself small tasks to reach your Goal**\n",
    "    - Github Projects with a Kanban Board for Issues \\\n",
    "        → great for planning next steps especially in teams"
   ]
  },
  {
   "cell_type": "markdown",
   "id": "c55ac08f",
   "metadata": {
    "slideshow": {
     "slide_type": "notes"
    },
    "tags": [
     "remove-cell"
    ]
   },
   "source": [
    "Notes: \n",
    "\n",
    "https://ohshitgit.com/ \n",
    "\n",
    "https://github.com/apps/github-learning-lab \n"
   ]
  },
  {
   "cell_type": "markdown",
   "id": "44c3a554",
   "metadata": {
    "slideshow": {
     "slide_type": "slide"
    }
   },
   "source": [
    "## Working on same Data\n",
    "\n",
    "+ better exchange with teammates (people face same problems)\n",
    "+ find quicker solutions to general problems 🦆\n",
    "+ supplement each other\n",
    "+ safety in stakeholder calls\n",
    "+ comparable results\n",
    "+ drag each other out of rabbit holes"
   ]
  },
  {
   "cell_type": "markdown",
   "id": "29f06a66",
   "metadata": {
    "slideshow": {
     "slide_type": "slide"
    }
   },
   "source": [
    "## Sessions in Capstone Phase\n",
    "\n",
    "- **Daily Stand-Up**\n",
    "    - short meeting with coaches \n",
    "    - photo/video of the day\n",
    "    - job interview / recap questions (optional)\n",
    "\n",
    "- **Weekly Project Management Meeting**\n",
    "    - structuring the project and prioritizing issues\n",
    "    - discuss blockers and/or issues\n",
    "    - fine-tuning goals"
   ]
  },
  {
   "cell_type": "markdown",
   "id": "db3d7666",
   "metadata": {
    "slideshow": {
     "slide_type": "slide"
    }
   },
   "source": [
    "## Sessions in Capstone Phase\n",
    "\n",
    "- **Stakeholder Review on midterm**\n",
    "    - after 2 weeks\n",
    "    - presenting 10 min per group the results of the project so far\n",
    "    - discussing project and further work with Stakeholders\n",
    "    - playing roles for a realistic setting\n",
    "- **Agile Workshop**\n",
    "    - introduction to agile methodologies (e.g. Kanban, Scrum)"
   ]
  },
  {
   "cell_type": "markdown",
   "id": "6e456317",
   "metadata": {
    "slideshow": {
     "slide_type": "slide"
    }
   },
   "source": [
    "## Code Reviews\n",
    "\n",
    "**Opportunity to [code review](https://google.github.io/eng-practices/review/#:~:text=A%20code%20review%20is%20a,code%20review%20processes%20and%20policies.) each other**\n",
    "\n",
    "- **two pairs of eyes see more than one**\n",
    "- **learn from each other**\n",
    "    - someone else solves a problem and you learn\n",
    "    - maybe you work in time series analysis and want to learn about NLP\n",
    "- **learn about usual business at work**\n",
    "    - code reviews are important in daily work\n",
    "    - learn to work with people of the other kind \\\n",
    "       → some are slower, some are faster"
   ]
  },
  {
   "cell_type": "markdown",
   "id": "f4738d88",
   "metadata": {
    "slideshow": {
     "slide_type": "notes"
    },
    "tags": [
     "remove-cell"
    ]
   },
   "source": [
    "Notes: \n",
    "\n",
    "[Code Review Best Practices](https://blog.palantir.com/code-review-best-practices-19e02780015f)"
   ]
  },
  {
   "cell_type": "markdown",
   "id": "efbf755b",
   "metadata": {
    "slideshow": {
     "slide_type": "slide"
    }
   },
   "source": [
    "## Top-Up Sessions\n",
    "\n",
    "We will offer (if requested) further lectures on specific topics during the capstone phase (participation is optional).\n",
    "\n",
    "For example regarding topics as...\n",
    "- Intro to Cloud\n",
    "- MLflow\n",
    "- Plotly/Dash dashboard\n",
    "- Python APIs\n",
    "- Web Scraping\n",
    "- Semi-supervised learning"
   ]
  },
  {
   "cell_type": "markdown",
   "id": "0dfd9173",
   "metadata": {
    "slideshow": {
     "slide_type": "skip"
    }
   },
   "source": [
    "## Meteolytix - Freshly baked!\n",
    "\n",
    "Turnover for bakeries and weather data.\n",
    "\n",
    "- **Time Series**\n",
    "- Weather Data\n",
    "- Stakeholder - probably"
   ]
  },
  {
   "cell_type": "markdown",
   "id": "56774dd9",
   "metadata": {
    "slideshow": {
     "slide_type": "slide"
    }
   },
   "source": [
    "## Public Datasets\n",
    "\n",
    "<center>\n",
    "    <img src=\"../images/capstone_phase/img_p8_1.png\" width=1000>\n",
    "</center>\n",
    "\n",
    "[Sources](https://www.govdata.de/)"
   ]
  },
  {
   "cell_type": "markdown",
   "id": "db01804f",
   "metadata": {
    "slideshow": {
     "slide_type": "slide"
    }
   },
   "source": [
    "## Public Datasets\n",
    "\n",
    "<center>\n",
    "    <img src=\"../images/capstone_phase/img_p9_1.png\" width=700>\n",
    "</center>\n",
    "\n",
    "[Sources](https://data.deutschebahn.com)"
   ]
  },
  {
   "cell_type": "markdown",
   "id": "609ba857",
   "metadata": {
    "slideshow": {
     "slide_type": "slide"
    }
   },
   "source": [
    "## Public Datasets\n",
    "\n",
    "<center>\n",
    "    <img src=\"../images/capstone_phase/img_p10_1.png\" width=400>\n",
    "</center>\n",
    "\n",
    "[Sources](https://github.com/awesomedata/awesome-public-datasets)"
   ]
  },
  {
   "cell_type": "markdown",
   "id": "a34fb0db",
   "metadata": {
    "slideshow": {
     "slide_type": "slide"
    }
   },
   "source": [
    "## Public Datasets\n",
    "\n",
    "<center>\n",
    "    <img src=\"../images/capstone_phase/img_p11_2.png\" width=1000>\n",
    "</center>\n",
    "\n",
    "[Data is Plural](https://dataset-finder.netlify.app/)"
   ]
  },
  {
   "cell_type": "markdown",
   "id": "649b7ea6",
   "metadata": {
    "slideshow": {
     "slide_type": "slide"
    }
   },
   "source": [
    "## Datasets - other common sources\n",
    "\n",
    "Challenges and datasets\n",
    "\n",
    "There’s always new challenges coming up. Popular locations are...\n",
    "\n",
    "- [Kaggle](https://www.kaggle.com/)\n",
    "- [Zindi](https://zindi.africa/)\n",
    "- [AICrowd](https://www.aicrowd.com/)\n",
    "- [globalfishingwatch](https://globalfishingwatch.org/)\n",
    "- [Driven Data](https://www.drivendata.org/)"
   ]
  }
 ],
 "metadata": {
  "celltoolbar": "Slideshow",
  "jupytext": {
   "cell_metadata_filter": "-all",
   "main_language": "python",
   "notebook_metadata_filter": "-all"
  },
  "kernelspec": {
   "display_name": "Python 3 (ipykernel)",
   "language": "python",
   "name": "python3"
  },
  "language_info": {
   "codemirror_mode": {
    "name": "ipython",
    "version": 3
   },
   "file_extension": ".py",
   "mimetype": "text/x-python",
   "name": "python",
   "nbconvert_exporter": "python",
   "pygments_lexer": "ipython3",
   "version": "3.11.3"
  },
  "rise": {
   "auto_select": "none",
   "transition": "fade"
  }
 },
 "nbformat": 4,
 "nbformat_minor": 5
}
