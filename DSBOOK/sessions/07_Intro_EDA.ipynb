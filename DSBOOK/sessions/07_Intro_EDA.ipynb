{
 "cells": [
  {
   "cell_type": "markdown",
   "id": "22886fa8",
   "metadata": {
    "hideCode": true,
    "hidePrompt": true,
    "slideshow": {
     "slide_type": "skip"
    }
   },
   "source": [
    "# Exploratory Data Analysis"
   ]
  },
  {
   "cell_type": "markdown",
   "id": "1f65eeee",
   "metadata": {
    "hideCode": true,
    "hidePrompt": true,
    "slideshow": {
     "slide_type": "slide"
    },
    "tags": [
     "remove-cell"
    ]
   },
   "source": [
    "<div class=\"slide-title\">\n",
    "\n",
    "# Exploratory Data Analysis\n",
    "     \n",
    "</div>"
   ]
  },
  {
   "cell_type": "markdown",
   "id": "1bb787ac",
   "metadata": {
    "slideshow": {
     "slide_type": "slide"
    }
   },
   "source": [
    "## Table of Content  \n",
    "- The EDA Process put into context\n",
    "- Types of EDA\n",
    "  - uni-/bi-/multi-variate\n",
    "  - numerical vs. graphical\n",
    "  - continuous vs. categorical data\n",
    "- Measures of central tendency / dispersion\n",
    "- Distribution functions / histograms / modality\n",
    "- Correlations\n",
    "- Special considerations for categorical / discrete variables\n",
    "- Summary / References\n",
    "\n",
    "  "
   ]
  },
  {
   "cell_type": "markdown",
   "id": "df86e7fe",
   "metadata": {
    "hideCode": true,
    "hidePrompt": true,
    "slideshow": {
     "slide_type": "slide"
    }
   },
   "source": [
    "## The EDA Process"
   ]
  },
  {
   "cell_type": "markdown",
   "id": "37200d74",
   "metadata": {
    "hideCode": true,
    "hidePrompt": true,
    "slideshow": {
     "slide_type": "slide"
    }
   },
   "source": [
    "### Research / Business Questions\n",
    "\n",
    "Those questions that arise from a researcher guessing about reality (data). They are written in the form of a question.\n",
    "\n",
    "Examples:\n",
    "* Which factors can increase ice cream sales?\n",
    "* Can we predict skin cancer using photographs of the melanome?\n",
    "* How does the material composition of a bridge affect its durability?\n"
   ]
  },
  {
   "cell_type": "markdown",
   "id": "c847addc",
   "metadata": {
    "hideCode": true,
    "hidePrompt": true,
    "slideshow": {
     "slide_type": "slide"
    }
   },
   "source": [
    "### Hypothesis Generation\n",
    "* Hypotheses are assumptions or educated guesses we make about the data, using our domain knowledge.\n",
    "* You can form a hypothesis in the form of \"if/then\" or “the more the\".\n",
    "* A Hypothesis is formed as a measurable (operationisable) statement you can validate by looking at data.\n",
    "* A research question can have multiple hypotheses attached to it.\n",
    "\n",
    "Examples:\n",
    "* If the sun is shining then ice cream sales increase.\n",
    "* The larger the melanoma, the greater the risk that it is malignant.\n",
    "* The cheaper the material composition the shorter its durability.\n"
   ]
  },
  {
   "cell_type": "markdown",
   "id": "6d2bb009",
   "metadata": {
    "hideCode": true,
    "hidePrompt": true,
    "slideshow": {
     "slide_type": "notes"
    }
   },
   "source": [
    "### Hypothesis Generation != Hypothesis testing\n",
    "\n",
    "The process is an educated guess, the hypothesis could still come out to be true or false after EDA and hypothesis testing (is the conclusion random or not?)\n",
    "\n",
    "[Hypothesis testing](https://www.analyticsvidhya.com/blog/2015/09/hypothesis-testing-explained/)\n"
   ]
  },
  {
   "cell_type": "markdown",
   "id": "be782727",
   "metadata": {
    "hideCode": true,
    "hidePrompt": true,
    "slideshow": {
     "slide_type": "slide"
    }
   },
   "source": [
    "## Where does EDA belong in the bigger picture?\n",
    "\n",
    "<center>\n",
    "    <img src=\"../images/eda_intro/img_p2_6.png\" width=700>\n",
    "</center>   \n"
   ]
  },
  {
   "cell_type": "markdown",
   "id": "d5b8d7f4",
   "metadata": {
    "hideCode": true,
    "hidePrompt": true,
    "slideshow": {
     "slide_type": "notes"
    },
    "tags": [
     "remove-cell"
    ]
   },
   "source": [
    "Note:\n",
    "Research question --> interface to Data Science --> above process  \n",
    "- Area sizes denote complexity / effort  \n",
    "- most interesting field is often small\n",
    "- borders are fluid\n",
    "- difference between *exploration* (for our own understanding) and \"explanation* (to others)"
   ]
  },
  {
   "cell_type": "markdown",
   "id": "dcdd8268",
   "metadata": {
    "hideCode": true,
    "hidePrompt": true,
    "slideshow": {
     "slide_type": "slide"
    }
   },
   "source": [
    "## Black cats and domain experts\n",
    "\n",
    "<div class=\"group\">\n",
    "    <div class=\"text\">\n",
    "The hardest thing of all is to find a black cat in a dark room, especially if there is no cat.\n",
    "<br>\n",
    "<br> \n",
    "<br> \n",
    "→ Talk to domain experts or become one.\n",
    "    </div>\n",
    "    <div class=\"images\">\n",
    "        <img src=\"../images/eda_intro/img_p1_2.png\">\n",
    "    </div>\n",
    "</div>"
   ]
  },
  {
   "cell_type": "markdown",
   "id": "7b650a3e",
   "metadata": {
    "slideshow": {
     "slide_type": "notes"
    },
    "tags": [
     "remove-cell"
    ]
   },
   "source": [
    "Notes:\n",
    "The more expert knowledge you have, the better you know, e.g. which features are (un)important / redundant / need processing"
   ]
  },
  {
   "cell_type": "markdown",
   "id": "e2506bc0",
   "metadata": {
    "hideCode": true,
    "hidePrompt": true,
    "slideshow": {
     "slide_type": "slide"
    }
   },
   "source": [
    "## What is EDA and why do we do it?"
   ]
  },
  {
   "cell_type": "markdown",
   "id": "ae17a1e2",
   "metadata": {
    "hideCode": true,
    "hidePrompt": true,
    "slideshow": {
     "slide_type": "slide"
    }
   },
   "source": [
    "### What is EDA?\n",
    "\n",
    "→ **Detective work**\n",
    "\n",
    "EDA is the process of summarizing and visualising important characteristics of the data in order to gain insights.\n",
    "\n",
    "It’s an **approach/process** not a set of techniques.\n",
    "\n",
    "**Tools:**\n",
    "* Any method of looking at data that does not include formal statistical modelling and inference\n",
    "* Visualisation \n",
    "\n",
    "\n",
    "<div class=\"alert alert-block alert-info\">\n",
    "<b>Note:</b> \n",
    "\n",
    "Confirm the expected or show the unexpected!\n",
    "</div>"
   ]
  },
  {
   "cell_type": "markdown",
   "id": "8d748f31",
   "metadata": {
    "slideshow": {
     "slide_type": "notes"
    },
    "tags": [
     "remove-cell"
    ]
   },
   "source": [
    "Notes: We will learn to know some tools and terms today"
   ]
  },
  {
   "cell_type": "markdown",
   "id": "975d1613",
   "metadata": {
    "hideCode": true,
    "hidePrompt": true,
    "slideshow": {
     "slide_type": "slide"
    }
   },
   "source": [
    "### Goals and Benefits\n",
    "* Understand each variable\n",
    "* Get insight into relationships between the variables\n",
    "* Draw valid conclusions\n",
    "* Checking assumptions\n",
    "* Aid in decision making and planning\n",
    "* Help in causal analysis\n",
    "\n",
    "→ To build intuition about the data and gain insights\n",
    "\n",
    "→ To generate and corroborate or reject hypotheses\n"
   ]
  },
  {
   "cell_type": "markdown",
   "id": "6394e646",
   "metadata": {
    "hideCode": true,
    "hidePrompt": true,
    "slideshow": {
     "slide_type": "slide"
    }
   },
   "source": [
    "### Types of EDA\n",
    "* Univariate or multivariate\n",
    "* Graphical or non-graphical\n",
    "* Dealing with both categorical and numerical data\n"
   ]
  },
  {
   "cell_type": "markdown",
   "id": "79f1b6c2",
   "metadata": {
    "hideCode": true,
    "hidePrompt": true,
    "slideshow": {
     "slide_type": "slide"
    }
   },
   "source": [
    "### Estimates\n",
    "\n",
    "<div class=\"group\">\n",
    "    <div class=\"text\">\n",
    "        \n",
    "* We can rarely have money/resources to measure everything\n",
    "* So we will have **samples** of the **population** which we hope to be representative of the whole population\n",
    "* The more data we have the more confident we are in the estimates\n",
    "* Ideally: the results drawn from our experiments are reproducible\n",
    "\n",
    "        \n",
    "<div class=\"alert alert-block alert-info\">\n",
    "<b>Note:</b> \n",
    "\n",
    "In Data Science most metrics omit the “estimate” word...\n",
    "nevertheless mostly all metrics we use are estimates.\n",
    "</div>   \n",
    "    </div>\n",
    "    <div class=\"images\">\n",
    "        <img src=\"../images/eda_intro/img_p7_2.png\">\n",
    "    </div>\n",
    "</div>"
   ]
  },
  {
   "cell_type": "markdown",
   "id": "908849df",
   "metadata": {
    "slideshow": {
     "slide_type": "notes"
    },
    "tags": [
     "remove-cell"
    ]
   },
   "source": [
    "Notes:  \n",
    "This figure shows two things:  \n",
    "- population vs. sample (here: data) and\n",
    "- the two types of statistics:  \n",
    "\n",
    "EDA is mainly **descriptive statistics** to describe single variables or the relationship of different vars  \n",
    "The figure also shows the other type of statistics: **inferential statistics**."
   ]
  },
  {
   "cell_type": "markdown",
   "id": "25991052",
   "metadata": {
    "hideCode": true,
    "hidePrompt": true,
    "slideshow": {
     "slide_type": "slide"
    }
   },
   "source": [
    "### Univariate vs. Multivariate Analysis\n",
    "\n",
    "<div class=\"group\">\n",
    "    <div class=\"text\">\n",
    "        \n",
    "**Univariate Analysis:**\n",
    "* Analysis of a single variable (often called feature)  \n",
    "* Characterises data by focusing on distribution, central tendency, dispertion, etc\n",
    "* Represents information numerically and visually</br></br>\n",
    "    </div>\n",
    "    <div class=\"text\">\n",
    "    \n",
    "**Multivariate Analysis:**\n",
    "* Simultaneous analysis of multiple variables\n",
    "* Examines how changes in one variable are associated with changes in others\n",
    "* Characterises dependence by a numerical coefficient</br></br>\n",
    "    </div>\n",
    "</div>\n",
    "\n",
    "<div class=\"group\">\n",
    "    <div class=\"text\">\n",
    "→ Description and understanding of individual variables \n",
    "    </div>\n",
    "    <div class=\"text\">       \n",
    "→ Understanding of the relationship and interaction among multiple variables \n",
    "    </div>\n",
    "</div>\n",
    "\n"
   ]
  },
  {
   "cell_type": "markdown",
   "id": "2dc04448",
   "metadata": {
    "hideCode": true,
    "hidePrompt": true,
    "slideshow": {
     "slide_type": "slide"
    }
   },
   "source": [
    "### Data Types\n",
    "<img src=\"../images/eda_intro/data_types.png\">"
   ]
  },
  {
   "cell_type": "markdown",
   "id": "29177174",
   "metadata": {
    "slideshow": {
     "slide_type": "notes"
    },
    "tags": [
     "remove-cell"
    ]
   },
   "source": [
    "Notes:  \n",
    "There are different kinds of \"measurement levels\". This one is a very common one.  \n",
    "Sometimes \"numerical\" are also called \"metric\" or \"scalar\".\n",
    "\n",
    "further subclasses of scalar values:   \n",
    "- Interval scaled data: we can add / subtract, but not multiply / divide (there is no zero), e.g. °C\n",
    "- Ratio: same as interval values but with absolute zero"
   ]
  },
  {
   "cell_type": "markdown",
   "id": "e81fb4c1",
   "metadata": {
    "hideCode": true,
    "hidePrompt": true,
    "slideshow": {
     "slide_type": "slide"
    }
   },
   "source": [
    "## Univariate EDA"
   ]
  },
  {
   "cell_type": "markdown",
   "id": "ac652f75",
   "metadata": {
    "hideCode": true,
    "hidePrompt": true,
    "slideshow": {
     "slide_type": "notes"
    },
    "tags": [
     "remove-cell"
    ]
   },
   "source": [
    "Notes: Most of the descriptive statistics can be applied to numerical data. For categorical data the choice is limited."
   ]
  },
  {
   "cell_type": "markdown",
   "id": "76e8ad0c",
   "metadata": {
    "hideCode": true,
    "hidePrompt": true,
    "slideshow": {
     "slide_type": "slide"
    }
   },
   "source": [
    "### Describing Central Tendency"
   ]
  },
  {
   "cell_type": "markdown",
   "id": "d62f771b",
   "metadata": {
    "hideCode": true,
    "hidePrompt": true,
    "slideshow": {
     "slide_type": "slide"
    }
   },
   "source": [
    "#### Mean\n",
    "\n",
    "<div class=\"group\">\n",
    "    <div class=\"text\">\n",
    "        \n",
    "* sum of data points divided by number of data points\n",
    "* often used as default\n",
    "* sensitive to extreme values\n",
    "  \n",
    "What is the mean in this example?        \n",
    "|id | y | \n",
    "|---|---|\n",
    "| 1 | 2 |\n",
    "| 2 | 6 |\n",
    "| 3 | 6 |\n",
    "| 4 | 8 |\n",
    "| 5 | 10 |\n",
    "        \n",
    "</div>\n",
    "    <div class=\"images\">\n",
    "        \n",
    "$$\\bar{y}=\\frac{1}{n} \\sum\\limits_{i=1}^{n}y_{i}$$        \n",
    "        \n",
    "<img src=\"../images/eda_intro/img_p14_2.png\">\n",
    "    </div>\n",
    "</div>\n"
   ]
  },
  {
   "cell_type": "markdown",
   "id": "950389ea",
   "metadata": {
    "hideCode": true,
    "hidePrompt": true,
    "slideshow": {
     "slide_type": "notes"
    },
    "tags": [
     "remove-cell"
    ]
   },
   "source": [
    "Notes: mean = 6.4  \n",
    "The shown distribution function is symmetric and continuous as an example of a special case (not the given one)."
   ]
  },
  {
   "cell_type": "markdown",
   "id": "3c0d5d86",
   "metadata": {
    "hideCode": true,
    "hidePrompt": true,
    "slideshow": {
     "slide_type": "slide"
    }
   },
   "source": [
    "#### Median\n",
    "\n",
    "<div class=\"group\">\n",
    "    <div class=\"text\">\n",
    "        \n",
    "* value in the middle of a data series ordered by size\n",
    "* more robust against extreme values but computationally more expensive since values need to be sorted\n",
    "  \n",
    "What is the median in this example?        \n",
    "|id | y | \n",
    "|---|---|\n",
    "| 1 | 2 |\n",
    "| 2 | 6 |\n",
    "| 3 | 6 |\n",
    "| 4 | 8 |\n",
    "| 5 | 10 |\n",
    "        \n",
    "</div>\n",
    "    <div class=\"images\">\n",
    "        \n",
    "$$       \n",
    "y_{i} \\leq y_{i+1}\\;\\text{for}\\;i=1,...,n-1 \\\\\n",
    "y_{\\frac{n+1}{2}}\\;\\text{if}\\;n\\;\\text{is odd} \\\\\n",
    "\\frac{1}{2}\\big(y_{\\frac{n}{2}}+y_{\\frac{n+1}{2}}\\big)\\;\\text{if}\\;n\\;\\text{is even}\n",
    "$$\n",
    "\n",
    "<img src=\"../images/eda_intro/img_p15_2.png\">\n",
    "    </div>\n",
    "</div>"
   ]
  },
  {
   "cell_type": "markdown",
   "id": "d3282ac6",
   "metadata": {
    "hideCode": true,
    "hidePrompt": true,
    "slideshow": {
     "slide_type": "notes"
    },
    "tags": [
     "remove-cell"
    ]
   },
   "source": [
    "Notes: median = 6 For skewed distribution or when there is concern about outliers, the median might be preferred to the mean."
   ]
  },
  {
   "cell_type": "markdown",
   "id": "12e14811",
   "metadata": {
    "hideCode": true,
    "hidePrompt": true,
    "slideshow": {
     "slide_type": "slide"
    }
   },
   "source": [
    "#### Mode\n",
    "<div class=\"group\">\n",
    "    <div class=\"text\">\n",
    "        \n",
    "\n",
    "* most frequent values\n",
    "* not necessarily unique\n",
    "* mostly used for categorical data\n",
    "  \n",
    "What is the mode in this example?        \n",
    "|id | y | \n",
    "|---|---|\n",
    "| 1 | 2 |\n",
    "| 2 | 6 |\n",
    "| 3 | 6 |\n",
    "| 4 | 8 |\n",
    "| 5 | 10 |\n",
    "        \n",
    "</div>\n",
    "    <div class=\"images\">\n",
    "        <img src=\"../images/eda_intro/img_p16_2.png\">\n",
    "    </div>\n",
    "</div>"
   ]
  },
  {
   "cell_type": "markdown",
   "id": "16ec9015",
   "metadata": {
    "hideCode": true,
    "hidePrompt": true,
    "slideshow": {
     "slide_type": "notes"
    },
    "tags": [
     "remove-cell"
    ]
   },
   "source": [
    "Notes: mode = 6"
   ]
  },
  {
   "cell_type": "markdown",
   "id": "7f1ce862",
   "metadata": {
    "hideCode": true,
    "hidePrompt": true,
    "slideshow": {
     "slide_type": "slide"
    }
   },
   "source": [
    "### Describing the Spread"
   ]
  },
  {
   "cell_type": "markdown",
   "id": "4703fa4c",
   "metadata": {
    "hideCode": true,
    "hidePrompt": true,
    "slideshow": {
     "slide_type": "slide"
    }
   },
   "source": [
    "#### Range\n",
    "<div class=\"group\">\n",
    "    <div class=\"text\">\n",
    "        \n",
    "* difference between largest and smallest value\n",
    "* measures the spread of the data\n",
    "* sensitive to outliers\n",
    "        \n",
    "</div>\n",
    "    <div class=\"images\">\n",
    "Which dataset has the larger range?       \n",
    "        <img src=\"../images/eda_intro/img_p18_2.png\" width=250>\n",
    "    </div>\n",
    "</div>"
   ]
  },
  {
   "cell_type": "markdown",
   "id": "f3ca131a",
   "metadata": {
    "hideCode": true,
    "hidePrompt": true,
    "slideshow": {
     "slide_type": "notes"
    },
    "tags": [
     "remove-cell"
    ]
   },
   "source": [
    "Notes: dataset1 = 38-20 = 18 dataset2 = 52-11 = 41"
   ]
  },
  {
   "cell_type": "markdown",
   "id": "2cbb72fe",
   "metadata": {
    "hideCode": true,
    "hidePrompt": true,
    "slideshow": {
     "slide_type": "slide"
    }
   },
   "source": [
    "#### Quantiles\n",
    "\n",
    "<div class=\"group\">\n",
    "    <div class=\"text\">\n",
    "        \n",
    "* quantiles split sorted data into parts with **equal amount of observations**\n",
    "    * quartiles: splits data into 4 parts\n",
    "    * deciles: splits data into 10 parts\n",
    "    * percentiles: splits data into 100 parts\n",
    "        \n",
    "</div>\n",
    "    <div class=\"images\">       \n",
    "        <img src=\"../images/eda_intro/img_p17_2.png\">\n",
    "    </div>\n",
    "</div>"
   ]
  },
  {
   "cell_type": "markdown",
   "id": "3ec15e9e",
   "metadata": {
    "slideshow": {
     "slide_type": "notes"
    }
   },
   "source": [
    "Notes: The position of the percentiles are not equidistant (and depend on the distribution)"
   ]
  },
  {
   "cell_type": "markdown",
   "id": "f7819e84",
   "metadata": {
    "hideCode": true,
    "hidePrompt": true,
    "slideshow": {
     "slide_type": "slide"
    }
   },
   "source": [
    "#### Interquartile Range (IQR)\n",
    "\n",
    "<div class=\"group\">\n",
    "    <div class=\"text\">\n",
    "        \n",
    "* width of interval that contains the middle 50% of the data\n",
    "* interval between the 25th and 75th percentile\n",
    "* interval between 1st and 3rd quartile\n",
    "* robust to outliers\n",
    "        \n",
    "</div>\n",
    "    <div class=\"images\">       \n",
    "        <img src=\"../images/eda_intro/img_p19_2.png\">\n",
    "    </div>\n",
    "</div>"
   ]
  },
  {
   "cell_type": "markdown",
   "id": "25c55225",
   "metadata": {
    "hideCode": true,
    "hidePrompt": true,
    "slideshow": {
     "slide_type": "slide"
    }
   },
   "source": [
    "#### Outliers\n",
    "\n",
    "<div class=\"group\">\n",
    "    <div class=\"text\">\n",
    "        \n",
    "* No generally recognized formal definition for outlier\n",
    "* Values outside of the areas of a distribution that would commonly occur\n",
    "\n",
    "<div class=\"alert alert-block alert-info\">\n",
    "<b>Note:</b> \n",
    "\n",
    "If an outlier is good or bad depends on the data problem. For example for anomaly detection you want to keep outliers.\n",
    "</div>\n",
    "        \n",
    "</div>\n",
    "    <div class=\"text\"> \n",
    "        <img src=\"../images/eda_intro/img_p25_2.png\">\n",
    "    </div>\n",
    "</div>"
   ]
  },
  {
   "cell_type": "markdown",
   "id": "03a73213",
   "metadata": {
    "slideshow": {
     "slide_type": "notes"
    },
    "tags": [
     "remove-cell"
    ]
   },
   "source": [
    "Notes:  \n",
    "The lower line is not a line but should be brackets.\n",
    "All which is further away from 1.5 times IQR from the IQR is regarded as outlier here. the \"extreme\" is (about) Q3 + 3 x IQR"
   ]
  },
  {
   "cell_type": "markdown",
   "id": "8fd3b996",
   "metadata": {
    "hideCode": true,
    "hidePrompt": true,
    "slideshow": {
     "slide_type": "slide"
    }
   },
   "source": [
    "### Box Plots\n",
    "\n",
    "<center>\n",
    "<img src=\"../images/eda_intro/img_p51_2.png\">\n",
    "</center>"
   ]
  },
  {
   "cell_type": "markdown",
   "id": "7afe5fe6",
   "metadata": {
    "hideCode": true,
    "hidePrompt": true,
    "slideshow": {
     "slide_type": "slide"
    }
   },
   "source": [
    "#### Variance & Standard Deviation\n",
    "\n",
    "<div class=\"group\">\n",
    "    <div class=\"text\">\n",
    "        \n",
    "**Variance**\n",
    "* average squared difference of the values from the mean:  $ \\sigma_{sample} = \\frac{1}{n-1}\\sum_i{(x_i-\\bar{x})^2}$\n",
    "\n",
    "**Standard deviation**\n",
    "* square root of variance: $SD = \\sqrt{\\sigma}$\n",
    "* standard difference between each data point and the mean\n",
    "* has the same unit as the original data\n",
    "\n",
    "Both are not robust to outliers.\n",
    "\n",
    "[degrees of freedom](https://web.ma.utexas.edu/users/mks/M358KInstr/SampleSDPf.pdf)        \n",
    "</div>\n",
    "    <div class=\"images\">\n",
    "        \n",
    "<img src=\"../images/eda_intro/img_p20_3.png\" width=500>\n",
    "    </div>\n",
    "</div>"
   ]
  },
  {
   "cell_type": "markdown",
   "id": "d6bb47c4",
   "metadata": {
    "hideCode": true,
    "hidePrompt": true,
    "slideshow": {
     "slide_type": "notes"
    },
    "tags": [
     "remove-cell"
    ]
   },
   "source": [
    "Notes: \n",
    "include a live example here, e.g. [2, 2, 3, 5], mean=12/4, SD = 1/3(1+1+0+2)^2  \n",
    "denomiator in standard deviation of *population* is n (instead of n-1).  \n",
    "Want to know more? consider the link about DoF"
   ]
  },
  {
   "cell_type": "markdown",
   "id": "be5f6772",
   "metadata": {
    "hideCode": true,
    "hidePrompt": true,
    "slideshow": {
     "slide_type": "slide"
    }
   },
   "source": [
    "### Describing the Distribution"
   ]
  },
  {
   "cell_type": "markdown",
   "id": "ea99ae24",
   "metadata": {
    "slideshow": {
     "slide_type": "notes"
    },
    "tags": [
     "remove-cell"
    ]
   },
   "source": [
    "Notes: Note that we saw / used distributions already above. Now some more details"
   ]
  },
  {
   "cell_type": "markdown",
   "id": "f5da44c9",
   "metadata": {
    "hideCode": true,
    "hidePrompt": true,
    "slideshow": {
     "slide_type": "slide"
    }
   },
   "source": [
    "#### Skewness & Kurtosis\n",
    "<div class=\"group\">\n",
    "    <div class=\"text\">\n",
    "        \n",
    "**Skewness**\n",
    "* degree of asymmetry of the distribution of the data\n",
    "\n",
    "    <img src=\"../images/eda_intro/img_p21_2.png\">\n",
    "        \n",
    "</div>\n",
    "    <div class=\"text\">\n",
    "        \n",
    "**Kurtosis**\n",
    "* degree of pointyness relative to a normal distribution (flat vs. pointy)     \n",
    "        <img src=\"../images/eda_intro/img_p21_3.png\">\n",
    "\n",
    "[Kurtosis](https://www.spektrum.de/lexikon/geographie/kurtosis/4488)\n",
    "    </div>\n",
    "</div>"
   ]
  },
  {
   "cell_type": "markdown",
   "id": "f25a3cb3",
   "metadata": {
    "hideCode": true,
    "hidePrompt": true,
    "slideshow": {
     "slide_type": "notes"
    },
    "tags": [
     "remove-cell"
    ]
   },
   "source": [
    "Notes:  \n",
    "Which estimate of location (mean, median, mode) would you use if your data is skewed? (mode: not affected by outliers)\n",
    "\n",
    "for positive skewed distributions, the mode is the smallest value, followed by median, then mean"
   ]
  },
  {
   "cell_type": "markdown",
   "id": "e04639c6",
   "metadata": {
    "hideCode": true,
    "hidePrompt": true,
    "slideshow": {
     "slide_type": "slide"
    }
   },
   "source": [
    "### [Data Distributions](https://en.wikipedia.org/wiki/List_of_probability_distributions)\n",
    "\n",
    "\n",
    "<div class=\"group\">\n",
    "    <div class=\"text\">\n",
    "        \n",
    "* <font size=\"4\">***Uniform***  \n",
    " all events have same frequency, e.g. outcome of a dice roll</font>\n",
    "* <font size=\"4\">***Bernoulli***  \n",
    " two possible outcomes, e.g. a coin toss</font>\n",
    "* <font size=\"4\">***Binomial***  \n",
    " \"discrete version\" of normal distribution, e.g. 100 x two coins: likelihood of a certain number of only heads</font>\n",
    "* <font size=\"4\">***Normal***  \n",
    " most continuous real-valued variables in nature follow this distribution</font>\n",
    "* <font size=\"4\">***Poisson***  \n",
    " events occurring at random points of time and space - the number of events [Video](https://www.youtube.com/watch?v=jmqZG6roVqU)</font>\n",
    "* <font size=\"4\">***Exponential***  \n",
    " the interval between events</font>\n",
    "        \n",
    "</div>\n",
    "    <div class=\"images\"> \n",
    "        <img src=\"../images/eda_intro/img_p47_2.png\">\n",
    "    </div>\n",
    "</div>"
   ]
  },
  {
   "cell_type": "markdown",
   "id": "c8a1a142",
   "metadata": {
    "slideshow": {
     "slide_type": "notes"
    },
    "tags": [
     "remove-cell"
    ]
   },
   "source": [
    "In general there are **discrete** and **continuous** [distributions](https://tinyheero.github.io/2016/03/17/prob-distr.html)  \n",
    "Their number is [immens](https://en.wikipedia.org/wiki/List_of_probability_distributions)  \n",
    "Create histograms (see above) to have an idea about the distribution (e.g. sns.pairplot)"
   ]
  },
  {
   "cell_type": "markdown",
   "id": "6602812d",
   "metadata": {
    "hideCode": true,
    "hidePrompt": true,
    "slideshow": {
     "slide_type": "skip"
    },
    "tags": [
     "remove-cell"
    ]
   },
   "source": [
    "### Q-Q Plot or Probability Plot\n",
    "\n",
    "<div class=\"group\">\n",
    "    <div class=\"text\">\n",
    "        \n",
    "* A Q–Q plot is a plot of the quantiles of two distributions against each other.\n",
    "* It is used to check if the data follows a certain distribution\n",
    "* If data points follow a straight line, your data follows that distribution\n",
    "        \n",
    "</div>\n",
    "    <div class=\"images\"> \n",
    "        <img src=\"../images/eda_intro/img_p48_2.png\">\n",
    "    </div>\n",
    "</div>"
   ]
  },
  {
   "cell_type": "markdown",
   "id": "c85a832a",
   "metadata": {
    "hideCode": true,
    "hidePrompt": true,
    "slideshow": {
     "slide_type": "slide"
    }
   },
   "source": [
    "### Visualising Data Distributions with Histograms"
   ]
  },
  {
   "cell_type": "markdown",
   "id": "0c8430be",
   "metadata": {
    "hideCode": true,
    "hidePrompt": true,
    "slideshow": {
     "slide_type": "skip"
    }
   },
   "source": [
    "### Box Plots\n",
    "What do we see here?\n",
    "<center>\n",
    "<img src=\"../images/eda_intro/img_p52_2.png\">\n",
    "</center>\n"
   ]
  },
  {
   "cell_type": "markdown",
   "id": "1262fb14",
   "metadata": {
    "hideCode": true,
    "hidePrompt": true,
    "slideshow": {
     "slide_type": "slide"
    }
   },
   "source": [
    "#### Binwidth\n",
    "\n",
    "<div class=\"group\">\n",
    "    <div class=\"text\">\n",
    "        \n",
    "* **Binwidth matters!**\n",
    "* Same data with bin width = 5, 2, 1\n",
    "        \n",
    "</div>\n",
    "    <div class=\"text\"> \n",
    "        <img src=\"../images/eda_intro/img_p23_2.png\">\n",
    "    </div>\n",
    "</div>\n",
    "\n",
    "\n",
    "<div class=\"alert alert-block alert-info\">\n",
    "<b>Note:</b> \n",
    "\n",
    "Rule of thumb: Take the square root of the sample size as the number of bins for a first guess (trial and error).\n",
    "</div>"
   ]
  },
  {
   "cell_type": "markdown",
   "id": "cbdfa316",
   "metadata": {
    "hideCode": true,
    "hidePrompt": true,
    "slideshow": {
     "slide_type": "notes"
    }
   },
   "source": [
    "#### How to choose number of bins\n",
    "Rule of thumb: Take the square root of the sample size as the number of bins for a first guess (trial and error).\n",
    "\n",
    "Consider:  \n",
    "- too large bins &rarr; we lose details or end up having only one bin\n",
    "- too small &rarr; we have too much detail or end up with one bin per observation"
   ]
  },
  {
   "cell_type": "markdown",
   "id": "eef69e5e",
   "metadata": {
    "hideCode": true,
    "hidePrompt": true,
    "slideshow": {
     "slide_type": "slide"
    }
   },
   "source": [
    "### Comparing Data Distributions with Histograms\n",
    "\n",
    "<div class=\"group\">\n",
    "    <div class=\"text\">\n",
    "Histograms:<br>\n",
    "\n",
    "* Good for looking at residuals (variance)\n",
    "* Works best for comparing max 3-4 groups\n",
    "* You can use so-called kernel density estimates (KDE) to plot it continuously  \n",
    "    </div>\n",
    "    <div class=\"text\">\n",
    "        <img src=\"../images/eda_intro/img_p50_2.png\">\n",
    "    </div>\n",
    "</div>\n"
   ]
  },
  {
   "cell_type": "markdown",
   "id": "99a318a3",
   "metadata": {
    "hideCode": true,
    "hidePrompt": true,
    "slideshow": {
     "slide_type": "notes"
    },
    "tags": [
     "remove-cell"
    ]
   },
   "source": [
    "Notes: A kernel density estimate (KDE) plot is a method for visualizing the distribution of observations in a dataset, analogous to a histogram. KDE represents the data using a continuous probability density curve in one or more dimensions"
   ]
  },
  {
   "cell_type": "markdown",
   "id": "6bf6941c",
   "metadata": {
    "hideCode": true,
    "hidePrompt": true,
    "slideshow": {
     "slide_type": "slide"
    }
   },
   "source": [
    "#### Modality\n",
    "\n",
    "* Plot a histogram and look at the number of peaks in the distribution\n",
    "\n",
    "<center>\n",
    "    <img src=\"../images/eda_intro/img_p22_2.png\">\n",
    "</center>"
   ]
  },
  {
   "cell_type": "markdown",
   "id": "c76dd72d",
   "metadata": {
    "hideCode": true,
    "hidePrompt": true,
    "slideshow": {
     "slide_type": "slide"
    }
   },
   "source": [
    "#### Data Summaries\n",
    "\n",
    "\n",
    "| Central tendency | Spread | Modality | Shape | Outliers | \n",
    "|:----------------:|:------:|:--------:|:-----:|:--------:|\n",
    "|mean | range | unimodal | skewness | |\n",
    "| median | interquartile range | bimodal | kurtosis | | \n",
    "| mode | variance | multimodal | | \n",
    "| quantiles | standard deviation |uniform | | | "
   ]
  },
  {
   "cell_type": "markdown",
   "id": "a8d735d2",
   "metadata": {
    "hideCode": true,
    "hidePrompt": true,
    "slideshow": {
     "slide_type": "slide"
    }
   },
   "source": [
    "## Multivariate EDA"
   ]
  },
  {
   "cell_type": "markdown",
   "id": "5a196c37",
   "metadata": {
    "hideCode": true,
    "hidePrompt": true,
    "slideshow": {
     "slide_type": "slide"
    }
   },
   "source": [
    "### Numerical Data"
   ]
  },
  {
   "cell_type": "markdown",
   "id": "deacc2f0",
   "metadata": {
    "hideCode": true,
    "hidePrompt": true,
    "slideshow": {
     "slide_type": "notes"
    },
    "tags": [
     "remove-cell"
    ]
   },
   "source": [
    "Notes: Most of the descriptive statistics can be applied to numerical data. For categorical data the choice is limited."
   ]
  },
  {
   "cell_type": "markdown",
   "id": "0e2bc8ce",
   "metadata": {
    "hideCode": true,
    "hidePrompt": true,
    "slideshow": {
     "slide_type": "slide"
    }
   },
   "source": [
    "#### Scatter Plot\n",
    "<div class=\"group\">\n",
    "    <div class=\"text\">\n",
    "        \n",
    "* Used to visualise relationship between two numeric variables\n",
    "* Also called correlation plots\n",
    "* Can encode multiple dimensions by color and size\n",
    "\n",
    "It visually answers the question:  \n",
    "        \n",
    "→ “How are these variables related?”    \n",
    "        \n",
    "→ “When variable X grows, what happens to variable Y? With which intensity?”\n",
    "        \n",
    "</div>\n",
    "    <div class=\"text\"> \n",
    "        <img src=\"../images/eda_intro/img_p35_2.png\">\n",
    "    </div>\n",
    "</div>"
   ]
  },
  {
   "cell_type": "markdown",
   "id": "9c367b93",
   "metadata": {
    "hideCode": true,
    "hidePrompt": true,
    "slideshow": {
     "slide_type": "slide"
    }
   },
   "source": [
    "#### Pearson correlation coefficient / Pearson’s r\n",
    "<div class=\"group\">\n",
    "    <div class=\"text\">\n",
    "        \n",
    "* Measures the **linear relationship** between two variables\n",
    "* Ranges between -1 and 1\n",
    "        \n",
    "→ close to 1: strong positive linear relationship\n",
    "        \n",
    "→ around 0: no linear relationship\n",
    "        \n",
    "→ close to -1: strong negative linear relationship\n",
    "        \n",
    "[guess the correlation](https://guessthecorrelation.com/)\n",
    "        \n",
    "</div>\n",
    "    <div class=\"text\"> \n",
    "        <img src=\"../images/eda_intro/img_p36_3.png\">\n",
    "    </div>\n",
    "</div>"
   ]
  },
  {
   "cell_type": "markdown",
   "id": "6bad19f2",
   "metadata": {
    "hideCode": true,
    "hidePrompt": true,
    "slideshow": {
     "slide_type": "notes"
    },
    "tags": [
     "remove-cell"
    ]
   },
   "source": [
    "Notes: https://guessthecorrelation.com/"
   ]
  },
  {
   "cell_type": "markdown",
   "id": "ec160b65",
   "metadata": {
    "hideCode": true,
    "hidePrompt": true,
    "slideshow": {
     "slide_type": "slide"
    }
   },
   "source": [
    "#### The ice cream example\n",
    "\n",
    "<div class=\"group\">\n",
    "    <div class=\"text\">\n",
    "        \n",
    "| Month | Average Temp | Sales |\n",
    "|-------|--------------|-------|\n",
    "| January | 4 | 73 |\n",
    "| February | 4 | 57 |\n",
    "| March | 7 | 81 |\n",
    "| April | 8 | 94 |\n",
    "| May | 12 | 110 |\n",
    "| June | 15 | 124 |\n",
    "| July | 16 | 134 |\n",
    "| August | 17 | 139 |\n",
    "| September | 14 | 124 |\n",
    "| October | 11 | 103 |\n",
    "| November | 7 | 81 |\n",
    "| December | 5 | 80 |\n",
    "        \n",
    "</div>\n",
    "    <div class=\"text\"> \n",
    "        <img src=\"../images/eda_intro/img_p35_2.png\">\n",
    "    </div>\n",
    "</div>"
   ]
  },
  {
   "cell_type": "markdown",
   "id": "55cc3399",
   "metadata": {
    "hideCode": true,
    "hidePrompt": true,
    "slideshow": {
     "slide_type": "slide"
    }
   },
   "source": [
    "#### The ice cream example\n",
    "\n",
    "<div class=\"group\">\n",
    "    <div class=\"text\">\n",
    "        \n",
    "**r = 0.983**\n",
    "        \n",
    "<div class=\"alert alert-block alert-info\">\n",
    "<b>Note:</b> \n",
    "\n",
    "A correlation analysis may establish a linear\n",
    "relationship but does not allow us to use it to\n",
    "predict the value of a variable given another.\n",
    "Regression analysis allows us to this and\n",
    "more.\n",
    "</div>\n",
    "        \n",
    "</div>\n",
    "    <div class=\"text\"> \n",
    "        <img src=\"../images/eda_intro/img_p35_2.png\">\n",
    "    </div>\n",
    "</div>"
   ]
  },
  {
   "cell_type": "markdown",
   "id": "02e7abdc",
   "metadata": {
    "slideshow": {
     "slide_type": "notes"
    },
    "tags": [
     "remove-cell"
    ]
   },
   "source": [
    "Difference between correlation (just one number) and regression (the predictive formula): https://www.g2.com/articles/correlation-vs-regression"
   ]
  },
  {
   "cell_type": "markdown",
   "id": "2f0c5b3d",
   "metadata": {
    "hideCode": true,
    "hidePrompt": true,
    "slideshow": {
     "slide_type": "slide"
    }
   },
   "source": [
    "#### Spearman rank correlation coefficient - Spearman’s ρ\n",
    "\n",
    "\n",
    "<div class=\"group\">\n",
    "    <div class=\"text_70\">\n",
    " \n",
    "\n",
    "* Measure of rank correlation, it is based on the rank of the values vs. the raw data\n",
    "* Represents the strength of a monotonic relationship \n",
    "\n",
    "**Monotonic function:**\n",
    "\n",
    "→ increasing: as X increases Y never decreases\n",
    "\n",
    "→ decreasing: as X increases Y never increases      \n",
    "        \n",
    "</div>\n",
    "    <div class=\"text_30\"> \n",
    "        <img src=\"../images/eda_intro/spearman.png\" width=200>\n",
    "    </div>\n",
    "</div>\n"
   ]
  },
  {
   "cell_type": "markdown",
   "id": "befa7a52",
   "metadata": {
    "hideCode": true,
    "hidePrompt": true,
    "slideshow": {
     "slide_type": "notes"
    },
    "tags": [
     "remove-cell"
    ]
   },
   "source": [
    "Notes:  \n",
    "similar to Pearson: instead of using the raw data, use the rank numbers for x as well as for y.  \n",
    "Monotonically increasing - as the x variable increases the y variable never decreases and vice versa."
   ]
  },
  {
   "cell_type": "markdown",
   "id": "82db81ed",
   "metadata": {
    "hideCode": true,
    "hidePrompt": true,
    "slideshow": {
     "slide_type": "slide"
    }
   },
   "source": [
    "#### Consideration about correlation  \n",
    "\n",
    "<div class=\"group\">\n",
    "    <div class=\"text\">\n",
    "        \n",
    "* If two variables are independent, their correlation is 0, but a correlation of 0 does not imply that two variables are independent!  \n",
    "* The correlation coefficients cannot replace visual examination of data.  \n",
    "* The presence of correlation is not enough to infer causation!  \n",
    "        \n",
    "   </div>\n",
    "   <div class=\"images\"> \n",
    "        <img src=\"../images/eda_intro/img_p40_2.png\">\n",
    "   </div>\n",
    "</div>"
   ]
  },
  {
   "cell_type": "markdown",
   "id": "c057f212",
   "metadata": {
    "slideshow": {
     "slide_type": "notes"
    },
    "tags": [
     "remove-cell"
    ]
   },
   "source": [
    "Notes:  \n",
    "Visualization would reveal those non-linear correlations but it is not feasible in case of too many features."
   ]
  },
  {
   "cell_type": "markdown",
   "id": "4abcb900",
   "metadata": {
    "hideCode": true,
    "hidePrompt": true,
    "slideshow": {
     "slide_type": "skip"
    },
    "tags": [
     "remove-cell"
    ]
   },
   "source": [
    "#### Correlation != Causation\n",
    "\n",
    "<center>\n",
    "<img src=\"../images/eda_intro/img_p42_2.png\" width=800>\n",
    "</center>"
   ]
  },
  {
   "cell_type": "markdown",
   "id": "9b373cda",
   "metadata": {
    "hideCode": true,
    "hidePrompt": true,
    "slideshow": {
     "slide_type": "slide"
    }
   },
   "source": [
    "### Bivariate and Multivariate Analysis\n",
    "<div class=\"group\">\n",
    "    <div class=\"text\">\n",
    "        \n",
    "Looking at all possible combinations of features:\n",
    "* for 9 features bivariate would mean 36 combinations: $\\sum_{i=1}^{8} i$\n",
    "* How do we reduce the exploration space or focus on interesting combinations?\n",
    "        \n",
    "[Correlation Matrix](https://www.displayr.com/what-is-a-correlation-matrix/)\n",
    "        \n",
    "</div>\n",
    "    <div class=\"images\"> \n",
    "        <img src=\"../images/eda_intro/img_p43_1.png\">\n",
    "    </div>\n",
    "</div>"
   ]
  },
  {
   "cell_type": "markdown",
   "id": "431b7e6f",
   "metadata": {
    "hideCode": true,
    "hidePrompt": true,
    "slideshow": {
     "slide_type": "notes"
    },
    "tags": [
     "remove-cell"
    ]
   },
   "source": [
    "Notes:  \n",
    "check correlation matrix for correlated combinations to  \n",
    "- discover redundancies  \n",
    "- form hypothesis relevant for our interest/business case and focus on confirming or refuting them  \n",
    "\n",
    "3 terms describing similar things: pairplot, correlation matrix, heatmap  "
   ]
  },
  {
   "cell_type": "markdown",
   "id": "3bd07be3",
   "metadata": {
    "hideCode": true,
    "hidePrompt": true,
    "slideshow": {
     "slide_type": "slide"
    }
   },
   "source": [
    "### Special consideration of discrete / categorical data  \n",
    "* mode\n",
    "* frequency tables: number of times a value occurs\n",
    "* expected values: weighted mean when categories can be associated with numerical value"
   ]
  },
  {
   "cell_type": "markdown",
   "id": "203ea4c2",
   "metadata": {
    "hideCode": true,
    "hidePrompt": true,
    "slideshow": {
     "slide_type": "notes"
    },
    "tags": [
     "remove-cell"
    ]
   },
   "source": [
    "Notes: Most of the descriptive statistics can be applied to numerical data. For categorical data the choice is limited."
   ]
  },
  {
   "cell_type": "markdown",
   "id": "dde4d282",
   "metadata": {
    "hideCode": true,
    "hidePrompt": true,
    "slideshow": {
     "slide_type": "slide"
    }
   },
   "source": [
    "#### Frequency tables\n",
    "<div class=\"group\">\n",
    "    <div class=\"text\">\n",
    "        \n",
    "* Tabulation of the frequencies\n",
    "* Show the range of values and frequency of occurrence\n",
    "        \n",
    "</div>\n",
    "    <div class=\"text\"> \n",
    "        <img src=\"../images/eda_intro/img_p30_2.png\">\n",
    "    </div>\n",
    "</div>"
   ]
  },
  {
   "cell_type": "markdown",
   "id": "bca4d6a2",
   "metadata": {
    "hideCode": true,
    "hidePrompt": true,
    "slideshow": {
     "slide_type": "slide"
    }
   },
   "source": [
    "#### Expected values\n",
    "<div class=\"group\">\n",
    "    <div class=\"text\">\n",
    "        \n",
    "* weighted mean\n",
    "        \n",
    "*Example:\n",
    "Offers for different course plans\n",
    "for financial purposes we can sum this up in a single\n",
    "“expected value,” which is a form of weighted mean,\n",
    "in which the weights are probabilities.*\n",
    "\n",
    "$EV = 0.05*300 + 0.15*50 + 0.80*0 = 22.5$        \n",
    "        \n",
    "</div>\n",
    "    <div class=\"text\"> \n",
    "        <img src=\"../images/eda_intro/img_p31_2.png\">\n",
    "    </div>\n",
    "</div>"
   ]
  },
  {
   "cell_type": "markdown",
   "id": "a0a85f6e",
   "metadata": {
    "hideCode": true,
    "hidePrompt": true,
    "slideshow": {
     "slide_type": "notes"
    },
    "tags": [
     "remove-cell"
    ]
   },
   "source": [
    "Notes: Example: A marketer for a new cloud technology, for example, offers two levels of service, one priced at $300/month and another at $50/month. The marketer offers free webinars to generate leads, and the firm figures that 5% of the attendees will sign up for the $300 service, 15% will sign up for the $50 service, and 80% will not sign up for anything. This data can be summed up, for financial purposes, in a single “expected value,” which is a form of weighted mean, in which the weights are probabilities"
   ]
  },
  {
   "cell_type": "markdown",
   "id": "a4d3978d",
   "metadata": {
    "hideCode": true,
    "hidePrompt": true,
    "slideshow": {
     "slide_type": "slide"
    }
   },
   "source": [
    "#### Cross-tabulation\n",
    "\n",
    "<center>\n",
    "<img src=\"../images/eda_intro/img_p45_2.png\" width=700>\n",
    "</center>"
   ]
  },
  {
   "cell_type": "markdown",
   "id": "84010e4e",
   "metadata": {
    "slideshow": {
     "slide_type": "slide"
    }
   },
   "source": [
    "## Summary / Outlook"
   ]
  },
  {
   "cell_type": "markdown",
   "id": "156ae79e",
   "metadata": {
    "slideshow": {
     "slide_type": "slide"
    }
   },
   "source": [
    "EDA is like a detective's investigation to  \n",
    "- understand the data\n",
    "- identify patterns\n",
    "\n",
    "Why do we want to know our data? Because we want to find out\n",
    "- how to answer our research / business question\n",
    "- whether the data is suitable / sufficient\n",
    "- how to answer the research questions with the existing data  \n",
    "- how to phrase/refine our hypotheses"
   ]
  },
  {
   "cell_type": "markdown",
   "id": "ee136bcd",
   "metadata": {
    "hideCode": true,
    "hidePrompt": true,
    "slideshow": {
     "slide_type": "slide"
    }
   },
   "source": [
    "#### Summaries vs. Details...\n",
    "\n",
    "<center>\n",
    "    <img src=\"../images/eda_intro/img_p26_2.gif\" width=800>\n",
    "</center>"
   ]
  },
  {
   "cell_type": "markdown",
   "id": "02873ddd",
   "metadata": {
    "hideCode": true,
    "hidePrompt": true,
    "slideshow": {
     "slide_type": "notes"
    },
    "tags": [
     "remove-cell"
    ]
   },
   "source": [
    "Notes: Condensing the information from data into few values is helpful but we also lose a lot of details… → same summary statistics but completely different datasets statistics + visualisation"
   ]
  },
  {
   "cell_type": "markdown",
   "id": "8daaa838",
   "metadata": {
    "hideCode": true,
    "hidePrompt": true,
    "slideshow": {
     "slide_type": "slide"
    }
   },
   "source": [
    "#### Techniques Map\n",
    "\n",
    "<center>\n",
    "<img src=\"../images/eda_intro/img_p59_6.png\" width=900>\n",
    "</center>\n",
    "\n",
    "[Techniques Map](https://extremepresentation.typepad.com/files/choosing-a-good-chart-09.pdf)"
   ]
  },
  {
   "cell_type": "markdown",
   "id": "c0eeff14",
   "metadata": {
    "hideCode": true,
    "hidePrompt": true,
    "slideshow": {
     "slide_type": "slide"
    }
   },
   "source": [
    "#### Visual Vocabulary\n",
    "\n",
    "<center>\n",
    "<img src=\"../images/eda_intro/img_p60_3.png\" width=800>\n",
    "</center>\n",
    "\n",
    "[Visual Vocabulary](https://github.com/Financial-Times/chart-doctor/tree/main/visual-vocabulary)"
   ]
  },
  {
   "cell_type": "markdown",
   "id": "d1be4767",
   "metadata": {
    "hideCode": true,
    "hidePrompt": true,
    "slideshow": {
     "slide_type": "slide"
    }
   },
   "source": [
    "#### References\n",
    "* [Introduction to Data Science Lecture 6 Exploratory Data Analysis](https://bcourses.berkeley.edu/courses/1267848/files/51138259/download?verifier=SiKALrm4j6S8wszD3ZCnn7a39CcRwtCQnN1U8Eqp&wrap=1)\n",
    "* [Exploratory Data Analysis](https://archive.org/details/exploratorydataa0000tuke_7616) - John W. Tukey\n",
    "* [Practical Statistics for Data Science](https://books.google.de/books/about/Practical_Statistics_for_Data_Scientists.html?id=k2XcDwAAQBAJ&redir_esc=y) - Peter Bruce & Andrew Bruce\n",
    "* [Econometric Methods with Applications in Business and Economics](https://dl.rasabourse.com/Econometrics_Erasmus/Christiaan_Heij_Paul_de_Boer.pdf) - Christiaan Heij, Paul de Boer, Philip Hans Franses, Teun Kloek, Herman K. van Dijk\n",
    "* [http://www.sumsar.net/blog/2014/03/oldies-but-goldies-statistical-graphics-books](http://www.sumsar.net/blog/2014/03/oldies-but-goldies-statistical-graphics-books)\n",
    "* [The Dino dataset](http://www.thefunctionalart.com/2016/08/download-datasaurus-never-trust-summary.html)\n",
    "* [AMLD EDA workshop](https://github.com/terezaif/workshops_data_exploration)\n",
    "* [Clearly explained pearson vs. spearman correlation coefficient](https://towardsdatascience.com/clearly-explained-pearson-v-s-spearman-correlation-coefficient-ada2f473b8)\n",
    "* [Visual Vocabulary](https://github.com/ft-interactive/chart-doctor/tree/master/visual-vocabulary)\n",
    "* [EDA Checklist](https://github.com/neuefische/datascience-infographics/blob/main/EDA_Checklist.md)\n",
    "* [https://extremepresentation.typepad.com/files/choosing-a-good-chart-09.pdf](https://extremepresentation.typepad.com/files/choosing-a-good-chart-09.pdf)\n",
    "* [https://www.stat.cmu.edu/~hseltman/309/Book/Book.pdf](https://www.stat.cmu.edu/~hseltman/309/Book/Book.pdf)\n",
    "* [A bit on distributions](https://www.kdnuggets.com/2020/02/probability-distributions-data-science.html)\n",
    "* [Even more distributions](http://www.math.wm.edu/~leemis/chart/UDR/UDR.html)"
   ]
  }
 ],
 "metadata": {
  "celltoolbar": "Slideshow",
  "hide_code_all_hidden": true,
  "jupytext": {
   "cell_metadata_filter": "-all",
   "main_language": "python",
   "notebook_metadata_filter": "-all"
  },
  "kernelspec": {
   "display_name": "Python 3 (ipykernel)",
   "language": "python",
   "name": "python3"
  },
  "language_info": {
   "codemirror_mode": {
    "name": "ipython",
    "version": 3
   },
   "file_extension": ".py",
   "mimetype": "text/x-python",
   "name": "python",
   "nbconvert_exporter": "python",
   "pygments_lexer": "ipython3",
   "version": "3.11.6"
  }
 },
 "nbformat": 4,
 "nbformat_minor": 5
}
