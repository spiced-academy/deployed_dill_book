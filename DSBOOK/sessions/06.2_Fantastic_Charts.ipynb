{
 "cells": [
  {
   "cell_type": "markdown",
   "id": "1814ac38",
   "metadata": {
    "slideshow": {
     "slide_type": "skip"
    }
   },
   "source": [
    "# Introduction to Visualisation Charts"
   ]
  },
  {
   "cell_type": "code",
   "execution_count": 1,
   "id": "2c64788d",
   "metadata": {
    "slideshow": {
     "slide_type": "skip"
    },
    "tags": [
     "remove-cell"
    ]
   },
   "outputs": [],
   "source": [
    "import pandas as pd\n",
    "import numpy as np\n",
    "import random\n",
    "\n",
    "import json\n",
    "import matplotlib.pyplot as plt\n",
    "import seaborn as sns\n",
    "import plotly.graph_objects as go\n",
    "from plotly.subplots import make_subplots\n",
    "#import plotly.io as pio\n",
    "#pio.renderers.default='notebook'\n",
    "\n",
    "np.random.seed(42)\n",
    "random.seed(42)"
   ]
  },
  {
   "cell_type": "code",
   "execution_count": 2,
   "id": "ad405b5f",
   "metadata": {
    "slideshow": {
     "slide_type": "skip"
    },
    "tags": [
     "remove-cell"
    ]
   },
   "outputs": [],
   "source": [
    "# Import company colors\n",
    "with open('plot_colors.json', 'r') as pc:\n",
    "    color_dict = json.load(pc)\n",
    "\n",
    "c_light, c_dark, c_blue, c_green = color_dict['color_light'], color_dict['color_dark'], color_dict['color_blue'], color_dict['color_green']\n",
    "\n",
    "c_blue = '#33A5FF'\n",
    "c_green = '#A7E521'\n",
    "c_yellow = '#FFE600'\n",
    "c_purple = '#696CFF'\n",
    "c_grey = '#9e9e9e'\n",
    "\n",
    "sns.set_palette([c_light, c_dark, c_blue, c_green, c_yellow])\n",
    "\n",
    "custom_palette = [c_light, c_dark, c_blue, c_green, c_yellow]\n",
    "\n",
    "custom_colorscale = [\n",
    "    [0.0, c_light],\n",
    "    [0.5, '#f2f0ec'],  # light\n",
    "    [1.0, c_blue]\n",
    "]"
   ]
  },
  {
   "cell_type": "code",
   "execution_count": 3,
   "id": "9fca88a5",
   "metadata": {
    "slideshow": {
     "slide_type": "skip"
    },
    "tags": [
     "remove-cell"
    ]
   },
   "outputs": [],
   "source": [
    "def length_vs_area(barplots=True, figure_size=(19,9)):\n",
    "\n",
    "    data = pd.DataFrame({\n",
    "        'x': np.arange(1, 6),\n",
    "        'y1': np.array([56,54,50,46,44]),\n",
    "        'y2': np.array([44,46,50,54,56]),\n",
    "        'y3': np.array([50,50,52,48,50])\n",
    "    })\n",
    "\n",
    "    # Create a color mapping for the 'x' values\n",
    "    color_mapping = {key: value for key, value in zip(data['x'], custom_palette)}\n",
    "    # Set global font size\n",
    "    plt.rcParams.update({'font.size': 14})\n",
    "\n",
    "    # Create the figure and the subplots\n",
    "    fig, axes = plt.subplots(2, 3, figsize=figure_size)\n",
    "\n",
    "    # Data for pie charts (summing y-values to create proportions)\n",
    "    pie_data = data[['y1', 'y2', 'y3']].sum()\n",
    "\n",
    "    # Plot 1st row - pie charts\n",
    "    axes[0, 0].pie(data['y1'], labels=data['x'], counterclock=False, startangle=90)\n",
    "    axes[0, 0].set_title('Chart 1')\n",
    "\n",
    "    axes[0, 1].pie(data['y2'], labels=data['x'], counterclock=False, startangle=90)\n",
    "    axes[0, 1].set_title('Chart 2')\n",
    "\n",
    "    axes[0, 2].pie(data['y3'], labels=data['x'], counterclock=False, startangle=90)\n",
    "    axes[0, 2].set_title('Chart 3')\n",
    "\n",
    "    if barplots:\n",
    "        # Plot 2nd row - bar plots\n",
    "        sns.barplot(x='x', y='y1', data=data, hue='x', palette=color_mapping, ax=axes[1, 0])\n",
    "        axes[1, 0].set_xlabel('')\n",
    "        axes[1, 0].set_ylabel('')\n",
    "        sns.barplot(x='x', y='y2', data=data, hue='x', palette=color_mapping, ax=axes[1, 1])\n",
    "        axes[1, 1].set_xlabel('')\n",
    "        axes[1, 1].set_ylabel('')\n",
    "        sns.barplot(x='x', y='y3', data=data, hue='x', palette=color_mapping, ax=axes[1, 2])\n",
    "        axes[1, 0].set_xlabel('')\n",
    "        axes[1, 0].set_ylabel('')\n",
    "        axes[1, 1].set_xlabel('')\n",
    "        axes[1, 1].set_ylabel('')\n",
    "        axes[1, 2].set_xlabel('')\n",
    "        axes[1, 2].set_ylabel('')\n",
    "        axes[1,0].set_ylim(0,60)\n",
    "        axes[1,1].set_ylim(0,60)\n",
    "        axes[1,2].set_ylim(0,60)\n",
    "        axes[1, 0].spines[['top','right']].set_visible(False)\n",
    "        axes[1, 1].spines[['top','right']].set_visible(False)\n",
    "        axes[1, 2].spines[['top','right']].set_visible(False)\n",
    "\n",
    "\n",
    "        # Remove legends (since hue='x' will create them)\n",
    "        axes[1, 0].legend_.remove()\n",
    "        axes[1, 1].legend_.remove()\n",
    "        axes[1, 2].legend_.remove()\n",
    "    else:\n",
    "        for ax in axes[1]:\n",
    "            ax.axis('off')\n",
    "            \n",
    "    plt.tight_layout()\n",
    "\n",
    "    plt.show()"
   ]
  },
  {
   "cell_type": "code",
   "execution_count": 4,
   "id": "03a0d27b",
   "metadata": {
    "slideshow": {
     "slide_type": "skip"
    },
    "tags": [
     "remove-cell"
    ]
   },
   "outputs": [],
   "source": [
    "def basic_plots(name, figure_height=800, figure_width=900):\n",
    "    \n",
    "    np.random.seed(42)\n",
    "    random.seed(42)\n",
    "\n",
    "    data = pd.DataFrame({\n",
    "        'i': np.arange(1,6),\n",
    "        'num1': np.array([5,6,3,4,8]),\n",
    "        'num2': np.array([1,2,5,8,3]),\n",
    "        'cat1': np.random.choice(['1', '0'], 5)\n",
    "    })\n",
    "\n",
    "    data_table = pd.DataFrame({\n",
    "        'A': [random.randint(100, 999) for _ in range(5)],\n",
    "        'B': [random.randint(100, 999) for _ in range(5)],\n",
    "        'C': [random.randint(100, 999) for _ in range(5)],\n",
    "        'D': np.random.choice(['0', '1'], 5),\n",
    "        'E': np.random.choice(['0', '1'], 5),\n",
    "    })\n",
    "\n",
    "    corr_matrix = data_table.corr()\n",
    "\n",
    "    data_geo = pd.DataFrame({\n",
    "        'country': [\n",
    "            'Albania', 'Andorra', 'Armenia', 'Austria', 'Azerbaijan', 'Belarus',\n",
    "            'Belgium', 'Bosnia and Herzegovina', 'Bulgaria', 'Croatia', 'Cyprus',\n",
    "            'Czech Republic', 'Denmark', 'Estonia', 'Finland', 'France', 'Georgia',\n",
    "            'Germany', 'Greece', 'Hungary', 'Iceland', 'Ireland', 'Italy', 'Kazakhstan',\n",
    "            'Kosovo', 'Latvia', 'Liechtenstein', 'Lithuania', 'Luxembourg', 'Malta',\n",
    "            'Moldova', 'Monaco', 'Montenegro', 'Netherlands', 'North Macedonia', 'Norway',\n",
    "            'Poland', 'Portugal', 'Romania', 'Russia', 'San Marino', 'Serbia', 'Slovakia',\n",
    "            'Slovenia', 'Spain', 'Sweden', 'Switzerland', 'Ukraine', 'United Kingdom',\n",
    "            'Vatican City'\n",
    "        ],\n",
    "        'code': [\n",
    "            'ALB', 'AND', 'ARM', 'AUT', 'AZE', 'BLR', 'BEL', 'BIH', 'BGR', 'HRV', 'CYP',\n",
    "            'CZE', 'DNK', 'EST', 'FIN', 'FRA', 'GEO', 'DEU', 'GRC', 'HUN', 'ISL', 'IRL',\n",
    "            'ITA', 'KAZ', 'XKX', 'LVA', 'LIE', 'LTU', 'LUX', 'MLT', 'MDA', 'MCO', 'MNE',\n",
    "            'NLD', 'MKD', 'NOR', 'POL', 'PRT', 'ROU', 'RUS', 'SMR', 'SRB', 'SVK', 'SVN',\n",
    "            'ESP', 'SWE', 'CHE', 'UKR', 'GBR', 'VAT'\n",
    "        ],\n",
    "        'value': [random.randint(1, 20) for _ in range(50)] \n",
    "    })\n",
    "\n",
    "    fig = make_subplots(\n",
    "        rows=3, cols=3,\n",
    "        subplot_titles=(\"Simple Text\", \"Table\", \"Heatmap\",\n",
    "                        \"Scatter Plot\", \"Line Plot\", \"Vertical Bar Plot\", \n",
    "                        \"Horizontal Bar Plot\", \"Stacked Bar Plot\", \"Map Plot\"),\n",
    "        specs=[[{\"type\": \"domain\"}, {\"type\": \"table\"}, {\"type\": \"heatmap\"}],\n",
    "               [{\"type\": \"scatter\"}, {\"type\": \"scatter\"}, {\"type\": \"bar\"}],\n",
    "               [{\"type\": \"bar\"}, {\"type\": \"bar\"}, {\"type\": \"choropleth\"}]]\n",
    "    )\n",
    "\n",
    "    # 1.1 Text\n",
    "    fig.add_trace(go.Indicator(\n",
    "        mode=\"number\",\n",
    "        value=42,\n",
    "        number={'suffix': '%', 'font': {'color': c_light}}\n",
    "        #title={\"text\": \"42%\"}\n",
    "    ), row=1, col=1)\n",
    "    \n",
    "    # 1.2 Table\n",
    "    fig.add_trace(go.Table(\n",
    "        header=dict(values=list(data_table.columns),\n",
    "                    #fill_color='paleturquoise',\n",
    "                    align='center'),\n",
    "        cells=dict(values=[data_table[col] for col in data_table.columns],\n",
    "                   #fill_color='lavender',\n",
    "                   align='center')\n",
    "    ), row=1, col=2)\n",
    "    \n",
    "    # 1.3 Heat Map\n",
    "    fig.add_trace(go.Heatmap(\n",
    "        z=corr_matrix.values,\n",
    "        x=corr_matrix.columns,\n",
    "        y=corr_matrix.index,\n",
    "        colorscale=custom_colorscale,\n",
    "        showscale=False\n",
    "    ), row=1, col=3)\n",
    "\n",
    "    \n",
    "    # 2.1 Scatter Plot\n",
    "    fig.add_trace(go.Scatter(\n",
    "        x=data.i,\n",
    "        y=data.num1,\n",
    "        mode='markers',\n",
    "        marker = dict(color=c_light)\n",
    "    ), row=2, col=1)\n",
    "\n",
    "    # 2.2 Line Plot\n",
    "    fig.add_trace(go.Scatter(\n",
    "        x=data.i,\n",
    "        y=data.num1,\n",
    "        mode='lines',\n",
    "        line = dict(color=c_light)\n",
    "    ), row=2, col=2)\n",
    "\n",
    "    # 2.3 Vertical Bar Plot\n",
    "    fig.add_trace(go.Bar(\n",
    "        x=data.i,\n",
    "        y=data.num1,\n",
    "        marker = dict(color=c_light)\n",
    "    ), row=2, col=3)\n",
    "\n",
    "    \n",
    "    # 3.1 Horizontal Bar Plot\n",
    "    fig.add_trace(go.Bar(\n",
    "        x=data.num1,\n",
    "        y=data.i,\n",
    "        orientation='h',\n",
    "        marker = dict(color=c_light)\n",
    "    ), row=3, col=1)\n",
    "\n",
    "    # 3.2 Stacked Vertical Bar Plot\n",
    "    fig.add_trace(go.Bar(\n",
    "        x=data.i,\n",
    "        y=data.num1+data.num2,\n",
    "        offsetgroup=0,\n",
    "        marker = dict(color=c_blue)\n",
    "    ), row=3, col=2)\n",
    "    fig.add_trace(go.Bar(\n",
    "        x=data.i,\n",
    "        y=data.num2,\n",
    "        offsetgroup=0,\n",
    "        marker = dict(color=c_light)\n",
    "    ), row=3, col=2)\n",
    "\n",
    "    # 3.3 Map Plot\n",
    "    fig.add_trace(go.Choropleth(\n",
    "        locations=data_geo['country'],  # Set the country codes\n",
    "        locationmode='country names',  # Use country names for locations\n",
    "        z=data_geo['value'],  # Set the values\n",
    "        text=data_geo['country'],  # Hover text\n",
    "        colorscale=custom_colorscale,\n",
    "        showscale=False\n",
    "    ), row=3, col=3)\n",
    "    fig.update_layout(\n",
    "        #title_text='European Countries with Different Values',\n",
    "        geo=dict(\n",
    "            scope='europe',  # Focus on Europe\n",
    "            projection_type='mercator', #'natural earth',  # Map projection\n",
    "            #showlakes=True,  # Show lakes\n",
    "            lakecolor='rgb(255, 255, 255)',  # Set lake color\n",
    "            lonaxis=dict(range=[-10.0, 50.0]),\n",
    "            lataxis=dict(range=[35.0, 60.0]) \n",
    "        )\n",
    "    )\n",
    "    \n",
    "    fig.update_layout(\n",
    "        height=figure_height,\n",
    "        width=figure_width, \n",
    "        showlegend=False,\n",
    "        #title_text=\"Various Subplots with Plotly\",\n",
    "        plot_bgcolor='rgba(0,0,0,0)'\n",
    "        )\n",
    "\n",
    "    for i in range(2, 4):\n",
    "        for j in range(1,4):\n",
    "            if i == 3 and j == 3:\n",
    "                pass\n",
    "            else:\n",
    "                fig.update_xaxes(showline=True, linecolor=c_grey, linewidth=2, showgrid=False, showticklabels=False, row=i, col=j)\n",
    "                fig.update_yaxes(showline=True, linecolor=c_grey, linewidth=2, showgrid=False, showticklabels=False, row=i, col=j)\n",
    "\n",
    "    #fig.show('notebook')\n",
    "    fig.write_image(\"../images/Intro_to_Viz_Charts_2/\" + name + \".png\")"
   ]
  },
  {
   "cell_type": "code",
   "execution_count": 5,
   "id": "9361f663",
   "metadata": {
    "slideshow": {
     "slide_type": "skip"
    },
    "tags": [
     "remove-cell"
    ]
   },
   "outputs": [],
   "source": [
    "basic_plots(name='basic_plots', figure_height=800, figure_width=900)"
   ]
  },
  {
   "cell_type": "markdown",
   "id": "954ae26e",
   "metadata": {
    "slideshow": {
     "slide_type": "slide"
    },
    "tags": [
     "remove-cell"
    ]
   },
   "source": [
    "<div class=\"slide-title\"> \n",
    "    \n",
    "# Introduction to Visualisation Charts\n",
    "    \n",
    "</div>"
   ]
  },
  {
   "cell_type": "markdown",
   "id": "59c38513",
   "metadata": {
    "slideshow": {
     "slide_type": "slide"
    }
   },
   "source": [
    "## Today's Topics\n",
    "\n",
    "- Viz Fundamentals\n",
    "- How to \n",
    "    - make fantastic charts\n",
    "    - produce better graphs\n",
    "    - give better visual explanations"
   ]
  },
  {
   "cell_type": "markdown",
   "id": "3442518b",
   "metadata": {
    "slideshow": {
     "slide_type": "notes"
    },
    "tags": [
     "remove-cell"
    ]
   },
   "source": [
    "Notes: What will you get out of attending? \n",
    "\n",
    "By the end of today, you’ll be able to produce better graphs. They’ll be clearer, of a more appropriate format and fit better with what we know about human perception. And you’ll be able to give better visual explanations of your analysis. \n",
    "\n",
    "I think that these are really good outcomes, and I hope that you think so too."
   ]
  },
  {
   "cell_type": "markdown",
   "id": "30f7ecb5",
   "metadata": {
    "slideshow": {
     "slide_type": "slide"
    }
   },
   "source": [
    "## Viz Fundamentals"
   ]
  },
  {
   "cell_type": "markdown",
   "id": "488868c2",
   "metadata": {
    "slideshow": {
     "slide_type": "notes"
    },
    "tags": [
     "remove-cell"
    ]
   },
   "source": [
    "To begin, let us ask a more fundamental question first (click). "
   ]
  },
  {
   "cell_type": "markdown",
   "id": "d5616e8d",
   "metadata": {
    "slideshow": {
     "slide_type": "slide"
    }
   },
   "source": [
    "## Why do we make data visualisation?"
   ]
  },
  {
   "cell_type": "markdown",
   "id": "db168e73",
   "metadata": {
    "slideshow": {
     "slide_type": "notes"
    },
    "tags": [
     "remove-cell"
    ]
   },
   "source": [
    "Why do we want to visualize data at all? For this, we could divide our answer into the following two main aspects (click)"
   ]
  },
  {
   "cell_type": "markdown",
   "id": "d4af835f",
   "metadata": {
    "slideshow": {
     "slide_type": "slide"
    }
   },
   "source": [
    "### Exploration:  \n",
    " - to learn something\n",
    "\n",
    "### Explanation:  \n",
    " - to show something\n",
    "\n"
   ]
  },
  {
   "cell_type": "markdown",
   "id": "cbc63a64",
   "metadata": {
    "slideshow": {
     "slide_type": "notes"
    },
    "tags": [
     "remove-cell"
    ]
   },
   "source": [
    "Notes: 1. To look for something 2. To make others notice something.\n",
    "\n",
    "Today we focus on the latter. But it can inform the former as well. E.g. we often show people our EDA and we need to consider what helps us notice things. But we as data scientists have a trained brain - not everyone who looks at data does. "
   ]
  },
  {
   "cell_type": "markdown",
   "id": "c45374e7",
   "metadata": {
    "slideshow": {
     "slide_type": "slide"
    }
   },
   "source": [
    "## What makes a good data visualisation?"
   ]
  },
  {
   "cell_type": "markdown",
   "id": "4e324188",
   "metadata": {
    "tags": [
     "remove-cell"
    ]
   },
   "source": [
    "<img src=\"../images/Intro_to_Viz_Charts_2/message_nemo.png\" width=\"75\" style=\"display: inline-block; vertical-align: middle; margin-right: 10px;\" alt=\"Description of the image\">\n",
    "<p style=\"display: inline; font-size: 32px; font-weight: bold;\">Message</p>"
   ]
  },
  {
   "cell_type": "markdown",
   "id": "5f4d977b",
   "metadata": {
    "tags": [
     "remove-cell"
    ]
   },
   "source": [
    "<img src=\"../images/Intro_to_Viz_Charts_2/accuracy_nemo.png\" width=\"75\" style=\"display: inline-block; vertical-align: middle; margin-right: 10px;\" alt=\"Description of the image\">\n",
    "<p style=\"display: inline; font-size: 32px; font-weight: bold;\">Accuracy</p>"
   ]
  },
  {
   "cell_type": "markdown",
   "id": "c639cb41",
   "metadata": {
    "tags": [
     "remove-cell"
    ]
   },
   "source": [
    "<img src=\"../images/Intro_to_Viz_Charts_2/efficiency_nemo.png\" width=\"75\" style=\"display: inline-block; vertical-align: middle; margin-right: 10px;\" alt=\"Description of the image\">\n",
    "<p style=\"display: inline; font-size: 32px; font-weight: bold;\">Efficieny</p>"
   ]
  },
  {
   "cell_type": "markdown",
   "id": "88740efb",
   "metadata": {
    "tags": [
     "remove-cell"
    ]
   },
   "source": [
    "<img src=\"../images/Intro_to_Viz_Charts_2/accessibility_nemo.png\" width=\"75\" style=\"display: inline-block; vertical-align: middle; margin-right: 10px;\" alt=\"Description of the image\">\n",
    "<p style=\"display: inline; font-size: 32px; font-weight: bold;\">Accessibility</p>"
   ]
  },
  {
   "cell_type": "markdown",
   "id": "e8300687",
   "metadata": {
    "slideshow": {
     "slide_type": "notes"
    },
    "tags": [
     "remove-cell"
    ]
   },
   "source": [
    "Notes: Today we will focus on viz for communication, not exploration. When you want to show data to other people in order to communicate what it is you found. Do not throw all the data to the reader. You need to guide them by providing (click):"
   ]
  },
  {
   "cell_type": "markdown",
   "id": "2ec67c42",
   "metadata": {
    "slideshow": {
     "slide_type": "skip"
    }
   },
   "source": [
    "* Message\n",
    "* Accuracy\n",
    "* Efficiency\n",
    "* Accessibility"
   ]
  },
  {
   "cell_type": "markdown",
   "id": "8b4d25e7",
   "metadata": {
    "slideshow": {
     "slide_type": "skip"
    }
   },
   "source": [
    "### Message"
   ]
  },
  {
   "cell_type": "markdown",
   "id": "7999d143",
   "metadata": {
    "slideshow": {
     "slide_type": "slide"
    },
    "tags": [
     "remove-cell"
    ]
   },
   "source": [
    "<div class=\"slide-chapter-split\">\n",
    "    <div class=\"title-chapter\"> Message</div>\n",
    "    <div class=\"image-container\">\n",
    "        <img src=\"../images/Intro_to_Viz_Charts_2/message_granite.png\">\n",
    "    </div>\n",
    "</div>"
   ]
  },
  {
   "cell_type": "markdown",
   "id": "8fac378c",
   "metadata": {
    "slideshow": {
     "slide_type": "slide"
    }
   },
   "source": [
    "<center>\n",
    "    <img src=\"../images/Intro_to_Viz_Charts_2/img_p8_1.png\" width=800>\n",
    "</center>    "
   ]
  },
  {
   "cell_type": "markdown",
   "id": "ba83f47d",
   "metadata": {
    "slideshow": {
     "slide_type": "notes"
    },
    "tags": [
     "remove-cell"
    ]
   },
   "source": [
    "Notes: What do you see here? Describe the plot and the message... (this is more a trick question) \n",
    "\n",
    "Now let's add the paper title (click)"
   ]
  },
  {
   "cell_type": "markdown",
   "id": "b1c06581",
   "metadata": {
    "slideshow": {
     "slide_type": "slide"
    }
   },
   "source": [
    "<center>\n",
    "    Extraneous factors in judicial decisions\n",
    "    <img src=\"../images/Intro_to_Viz_Charts_2/img_p8_1.png\" width=800>\n",
    "</center>    "
   ]
  },
  {
   "cell_type": "markdown",
   "id": "ac131752",
   "metadata": {
    "slideshow": {
     "slide_type": "notes"
    },
    "tags": [
     "remove-cell"
    ]
   },
   "source": [
    "Notes: \"Extraneous factors in judicial decisions\". What about now? \n",
    "\n",
    "Now, I'll also give you the figure caption (click). "
   ]
  },
  {
   "cell_type": "markdown",
   "id": "a5bb6441",
   "metadata": {
    "slideshow": {
     "slide_type": "slide"
    }
   },
   "source": [
    "<center>\n",
    "    Extraneous factors in judicial decisions\n",
    "    <img src=\"../images/Intro_to_Viz_Charts_2/img_p8_1.png\" width=800>\n",
    "    \n",
    "Proportion of rulings in favor of the prisoners by ordinal position. Circled points indicate the first decision in each of the three decision\n",
    "sessions; tick marks on x axis denote every third case; dotted line denotes food break. Because unequal session lengths resulted in a\n",
    "low number of cases for some of the later ordinal positions, the graph is based on the first 95% of the data from each session.\n",
    "</center>  "
   ]
  },
  {
   "cell_type": "markdown",
   "id": "bff62cf4",
   "metadata": {
    "slideshow": {
     "slide_type": "notes"
    },
    "tags": [
     "remove-cell"
    ]
   },
   "source": [
    "Notes: Take a minute to read the caption text and understand the plot even more. \n",
    "\n",
    "So, a plot can be anything or rather nothing without a proper message. We can provide it through additional info in the from of titles, captions, explanations, talking etc. "
   ]
  },
  {
   "cell_type": "markdown",
   "id": "f038d0a3",
   "metadata": {
    "slideshow": {
     "slide_type": "slide"
    }
   },
   "source": [
    "<center>\n",
    "    <img src=\"../images/Intro_to_Viz_Charts_2/img_p11_1.png\" width=800>\n",
    "</center>    "
   ]
  },
  {
   "cell_type": "markdown",
   "id": "c7abd26a",
   "metadata": {
    "slideshow": {
     "slide_type": "notes"
    },
    "tags": [
     "remove-cell"
    ]
   },
   "source": [
    "Notes: And this is now something I add to the graph (that was not part o+f the original paper). "
   ]
  },
  {
   "cell_type": "markdown",
   "id": "8913b204",
   "metadata": {
    "slideshow": {
     "slide_type": "slide"
    }
   },
   "source": [
    "<center>\n",
    "    <img src=\"../images/Intro_to_Viz_Charts_2/img_p12_1.png\" width=800>\n",
    "</center>"
   ]
  },
  {
   "cell_type": "markdown",
   "id": "236f0140",
   "metadata": {
    "slideshow": {
     "slide_type": "notes"
    },
    "tags": [
     "remove-cell"
    ]
   },
   "source": [
    "Notes: Another example, demonstrating to not throw all the data to the reader. You need to guide them. E.g. with a meaningful title/statement and by highlighting the important/relevant. "
   ]
  },
  {
   "cell_type": "markdown",
   "id": "c6a75c77",
   "metadata": {
    "slideshow": {
     "slide_type": "skip"
    }
   },
   "source": [
    "### Accuracy"
   ]
  },
  {
   "cell_type": "markdown",
   "id": "76664b50",
   "metadata": {
    "slideshow": {
     "slide_type": "slide"
    },
    "tags": [
     "remove-cell"
    ]
   },
   "source": [
    "<div class=\"slide-chapter-split\">\n",
    "    <div class=\"title-chapter\"> Accuracy</div>\n",
    "    <div class=\"image-container\">\n",
    "        <img src=\"../images/Intro_to_Viz_Charts_2/accuracy_granite.png\">\n",
    "    </div>\n",
    "</div>"
   ]
  },
  {
   "cell_type": "markdown",
   "id": "5bd792a0",
   "metadata": {
    "slideshow": {
     "slide_type": "slide"
    }
   },
   "source": [
    "<center>\n",
    "    <img src=\"../images/Intro_to_Viz_Charts_2/img_p14_1.png\" width=550>\n",
    "</center>"
   ]
  },
  {
   "cell_type": "markdown",
   "id": "c0894768",
   "metadata": {
    "slideshow": {
     "slide_type": "notes"
    },
    "tags": [
     "remove-cell"
    ]
   },
   "source": [
    "Notes: Paper \"Standards for Graphic Presentation\" from 1915. \n",
    "\n",
    "Abstract starts with: The committee made a study of the methods used in different fields of endeavor for presenting statistical and quantitative data in graphic form. \n",
    "\n",
    "Its intention in 1915 was described as: If simple and convenient standards can be found and made generally known, there will be possible a more universal use of graphic methods with a consequent gain to mankind because of the greater speed and accuracy with which complex information may be imparted and interpreted. \n",
    "\n",
    "I will send you the paper later. It’s still very much relevant."
   ]
  },
  {
   "cell_type": "markdown",
   "id": "5967f05c",
   "metadata": {
    "slideshow": {
     "slide_type": "slide"
    }
   },
   "source": [
    "#### The Golden Age of Statistical Graphics\n",
    "\n",
    "<center>\n",
    "    <img src=\"../images/Intro_to_Viz_Charts_2/img_p15_1.png\">\n",
    "</center>"
   ]
  },
  {
   "cell_type": "markdown",
   "id": "428d617e",
   "metadata": {
    "slideshow": {
     "slide_type": "notes"
    },
    "tags": [
     "remove-cell"
    ]
   },
   "source": [
    "Notes: Accuracy doesn’t mean you can’t be creative! Drawn in 1869 - Charles Joseph Minard’s map of Napoleon’s Russian Campaign of 1812, when Minard was 88 years old. \n",
    "\n",
    "When was the Golden Age of Statistical Graphics? 1850 and 1900 an explosive growth occurred in both the general use of graphic methods and the range of topics to which they were applied. Innovations were prodigious and some of the most exquisite graphics ever produced appeared. "
   ]
  },
  {
   "cell_type": "markdown",
   "id": "62767027",
   "metadata": {
    "slideshow": {
     "slide_type": "skip"
    },
    "tags": [
     "remove-cell"
    ]
   },
   "source": [
    "#### Lengths vs. Areas\n",
    "\n",
    "<center>\n",
    "    <img src=\"../images/Intro_to_Viz_Charts_2/img_p16_1.png\" width=800>\n",
    "</center>"
   ]
  },
  {
   "cell_type": "markdown",
   "id": "9950dd47",
   "metadata": {
    "slideshow": {
     "slide_type": "slide"
    },
    "tags": [
     "remove-cell"
    ]
   },
   "source": [
    "#### Lengths vs. Areas"
   ]
  },
  {
   "cell_type": "code",
   "execution_count": 6,
   "id": "4683f9ad",
   "metadata": {
    "hideCode": true,
    "hidePrompt": true,
    "tags": [
     "remove-cell"
    ]
   },
   "outputs": [
    {
     "data": {
      "image/png": "[encoded data removed]",
      "text/plain": [
       "<Figure size 1900x900 with 6 Axes>"
      ]
     },
     "metadata": {},
     "output_type": "display_data"
    }
   ],
   "source": [
    "length_vs_area(barplots=False)"
   ]
  },
  {
   "cell_type": "markdown",
   "id": "04c3def6",
   "metadata": {
    "slideshow": {
     "slide_type": "notes"
    },
    "tags": [
     "remove-cell"
    ]
   },
   "source": [
    "Q: which area is the largest?"
   ]
  },
  {
   "cell_type": "markdown",
   "id": "d6c9a8e3",
   "metadata": {
    "slideshow": {
     "slide_type": "slide"
    }
   },
   "source": [
    "#### Lengths vs. Areas"
   ]
  },
  {
   "cell_type": "code",
   "execution_count": 7,
   "id": "f65f0f4f",
   "metadata": {
    "hideCode": true,
    "hidePrompt": true
   },
   "outputs": [
    {
     "data": {
      "image/png": "[encoded data removed]",
      "text/plain": [
       "<Figure size 1900x900 with 6 Axes>"
      ]
     },
     "metadata": {},
     "output_type": "display_data"
    }
   ],
   "source": [
    "length_vs_area()"
   ]
  },
  {
   "cell_type": "markdown",
   "id": "2ace647a",
   "metadata": {
    "slideshow": {
     "slide_type": "notes"
    },
    "tags": [
     "remove-cell"
    ]
   },
   "source": [
    "Notes: Length vs. Surfaces"
   ]
  },
  {
   "cell_type": "markdown",
   "id": "e1fdcf37",
   "metadata": {
    "slideshow": {
     "slide_type": "slide"
    }
   },
   "source": [
    "#### Lengths vs. Areas\n",
    "\n",
    "Let’s check in with our 1915 standards\n",
    "\n",
    "<center>\n",
    "    <img src=\"../images/Intro_to_Viz_Charts_2/img_p17_1.png\">\n",
    "</center>\n"
   ]
  },
  {
   "cell_type": "markdown",
   "id": "c7b9e111",
   "metadata": {
    "slideshow": {
     "slide_type": "slide"
    }
   },
   "source": [
    "#### Lengths vs. Volumes\n",
    "\n",
    "<center>\n",
    "    <img src=\"../images/Intro_to_Viz_Charts_2/img_p18_1.png\">\n",
    "</center>"
   ]
  },
  {
   "cell_type": "markdown",
   "id": "2ef73782",
   "metadata": {
    "slideshow": {
     "slide_type": "notes"
    },
    "tags": [
     "remove-cell"
    ]
   },
   "source": [
    "Notes: Volume is even harder. By how much did the new iPad’s battery increase?"
   ]
  },
  {
   "cell_type": "markdown",
   "id": "79a39a39",
   "metadata": {
    "slideshow": {
     "slide_type": "slide"
    }
   },
   "source": [
    "<center>\n",
    "    <img src=\"../images/Intro_to_Viz_Charts_2/img_p19_1.png\">\n",
    "</center>"
   ]
  },
  {
   "cell_type": "markdown",
   "id": "f6a168ec",
   "metadata": {
    "slideshow": {
     "slide_type": "notes"
    },
    "tags": [
     "remove-cell"
    ]
   },
   "source": [
    "Notes: Two different ways to mess with \"accuracy\" when visualizing data. No zero-scaling + non-standardized figures (areas)"
   ]
  },
  {
   "cell_type": "markdown",
   "id": "e05e7e9f",
   "metadata": {
    "slideshow": {
     "slide_type": "slide"
    }
   },
   "source": [
    "<center>\n",
    "    <img src=\"../images/Intro_to_Viz_Charts_2/img_p20_1.png\" width=800>\n",
    "</center>\n"
   ]
  },
  {
   "cell_type": "markdown",
   "id": "8b34ca36",
   "metadata": {
    "slideshow": {
     "slide_type": "notes"
    },
    "tags": [
     "remove-cell"
    ]
   },
   "source": [
    "Notes: Cricinfo at it again. When will people learn that using non-standard figures in place of bars actually hides information? \n",
    "\n",
    "Minor points: 1. The scale on the left is useless 2. Not clear what the number in the red circle is. 3. Each batsman is playing a different shot. Again distracts from the graph \n",
    "\n",
    "Source: http://www.espncricinfo.com/story/_/id/26927142/how-india-beat-australia"
   ]
  },
  {
   "cell_type": "markdown",
   "id": "45d60579",
   "metadata": {
    "slideshow": {
     "slide_type": "slide"
    }
   },
   "source": [
    "Let’s check in with our 1915 standards\n",
    "<center>\n",
    "    <img src=\"../images/Intro_to_Viz_Charts_2/img_p21_2.png\">\n",
    "</center>\n"
   ]
  },
  {
   "cell_type": "markdown",
   "id": "d9462aec",
   "metadata": {
    "slideshow": {
     "slide_type": "notes"
    },
    "tags": [
     "remove-cell"
    ]
   },
   "source": [
    "Notes: 1915"
   ]
  },
  {
   "cell_type": "markdown",
   "id": "d4444e1e",
   "metadata": {
    "slideshow": {
     "slide_type": "skip"
    }
   },
   "source": [
    "### Efficiency\n"
   ]
  },
  {
   "cell_type": "markdown",
   "id": "4ea73bcb",
   "metadata": {
    "slideshow": {
     "slide_type": "slide"
    },
    "tags": [
     "remove-cell"
    ]
   },
   "source": [
    "<div class=\"slide-chapter-split\">\n",
    "    <div class=\"title-chapter\"> Efficiency</div>\n",
    "    <div class=\"image-container\">\n",
    "        <img src=\"../images/Intro_to_Viz_Charts_2/efficiency_granite.png\">\n",
    "    </div>\n",
    "</div>"
   ]
  },
  {
   "cell_type": "markdown",
   "id": "0efe32cd",
   "metadata": {
    "slideshow": {
     "slide_type": "slide"
    }
   },
   "source": [
    "#### \"Data-ink ratio\"\n",
    "\n",
    "<center>\n",
    "    <img src=\"../images/Intro_to_Viz_Charts_2/img_p23_1.png\">\n",
    "</center>\n"
   ]
  },
  {
   "cell_type": "markdown",
   "id": "938c2f35",
   "metadata": {
    "slideshow": {
     "slide_type": "notes"
    },
    "tags": [
     "remove-cell"
    ]
   },
   "source": [
    "Notes: Data-ink ratio. Source: http://xkcd.com/688/. \n",
    "\n",
    "Show the gifs from dark horse analytics: \n",
    "\n",
    "1. [Bar chart](https://drive.google.com/file/d/1s51r_m5CUVyoozPDxveV6jGWiJvXOJqS/edit)\n",
    "2. [Table](https://drive.google.com/file/d/1yviRXL3J_eW6wHdiJQKYw3uJlKwfWLtJ/edit)\n",
    "3. [Pie chart](https://drive.google.com/file/d/1hjXc3RyEbaB9IeWt253vGC1yFc9kyr6N/edit) ...more a joke ;)"
   ]
  },
  {
   "cell_type": "markdown",
   "id": "c914ad6e",
   "metadata": {
    "slideshow": {
     "slide_type": "skip"
    }
   },
   "source": [
    "### Accessibility\n"
   ]
  },
  {
   "cell_type": "markdown",
   "id": "aef25a68",
   "metadata": {
    "slideshow": {
     "slide_type": "slide"
    },
    "tags": [
     "remove-cell"
    ]
   },
   "source": [
    "<div class=\"slide-chapter-split\">\n",
    "    <div class=\"title-chapter\"> Accessibility</div>\n",
    "    <div class=\"image-container\">\n",
    "        <img src=\"../images/Intro_to_Viz_Charts_2/accessibility_granite.png\">\n",
    "    </div>\n",
    "</div>"
   ]
  },
  {
   "cell_type": "markdown",
   "id": "d5bb6451",
   "metadata": {
    "slideshow": {
     "slide_type": "slide"
    }
   },
   "source": [
    "#### Colors\n",
    "\n",
    "<center>\n",
    "    <img src=\"../images/Intro_to_Viz_Charts_2/img_p25_1.png\" width=1000>\n",
    "</center>"
   ]
  },
  {
   "cell_type": "markdown",
   "id": "75cb273d",
   "metadata": {
    "slideshow": {
     "slide_type": "notes"
    },
    "tags": [
     "remove-cell"
    ]
   },
   "source": [
    "Notes: Why could this be a bad example of accessibility? "
   ]
  },
  {
   "cell_type": "markdown",
   "id": "79f1cfce",
   "metadata": {
    "slideshow": {
     "slide_type": "slide"
    }
   },
   "source": [
    "#### Colors\n",
    "\n",
    "<center>\n",
    "    <img src=\"../images/Intro_to_Viz_Charts_2/img_p26_1.png\" width=1000>\n",
    "</center>\n",
    "\n",
    "[WCAG palettes](https://venngage.com/tools/accessible-color-palette-generator)"
   ]
  },
  {
   "cell_type": "markdown",
   "id": "4b222aba",
   "metadata": {
    "slideshow": {
     "slide_type": "notes"
    },
    "tags": [
     "remove-cell"
    ]
   },
   "source": [
    "Notes: The Web Content Accessibility Guidelines (WCAG). They are a set of recommendations to make Web content more accessible, mainly for people with visual/color disabilities — but also for other cases, including highly limited hardware, such as mobile phones, old monitors, etc. \n",
    "\n",
    "Democracy aspect. \n",
    "\n",
    "Links: https://venngage.com/tools/accessible-color-palette-generator http://colorsafe.co/"
   ]
  },
  {
   "cell_type": "markdown",
   "id": "07421913",
   "metadata": {
    "slideshow": {
     "slide_type": "slide"
    }
   },
   "source": [
    "#### Patterns \n",
    "\n",
    "<center>\n",
    "    <img src=\"../images/Intro_to_Viz_Charts_2/img_p27_1.png\" width=1000>\n",
    "</center>"
   ]
  },
  {
   "cell_type": "markdown",
   "id": "c152e656",
   "metadata": {
    "slideshow": {
     "slide_type": "notes"
    },
    "tags": [
     "remove-cell"
    ]
   },
   "source": [
    "Notes: What you could also do is... (click)"
   ]
  },
  {
   "cell_type": "markdown",
   "id": "d9dc4312",
   "metadata": {
    "slideshow": {
     "slide_type": "slide"
    }
   },
   "source": [
    "#### Patterns\n",
    "\n",
    "<center>\n",
    "    <img src=\"../images/Intro_to_Viz_Charts_2/img_p28_1.png\" width=1000>\n",
    "</center>"
   ]
  },
  {
   "cell_type": "markdown",
   "id": "b60bc727",
   "metadata": {
    "slideshow": {
     "slide_type": "notes"
    },
    "tags": [
     "remove-cell"
    ]
   },
   "source": [
    "Notes: Patterns also help"
   ]
  },
  {
   "cell_type": "markdown",
   "id": "f80bdac5",
   "metadata": {
    "slideshow": {
     "slide_type": "slide"
    }
   },
   "source": [
    "#### HSV Color Space\n",
    "\n",
    "<center>\n",
    "    <img src=\"../images/Intro_to_Viz_Charts_2/img_p29_1.png\" width=1000>\n",
    "</center>\n"
   ]
  },
  {
   "cell_type": "markdown",
   "id": "00255969",
   "metadata": {
    "slideshow": {
     "slide_type": "notes"
    },
    "tags": [
     "remove-cell"
    ]
   },
   "source": [
    "Notes: Talking about color, it might be useful to know about color spaces, e.g. HSV color space (a bit more intuitive than RBG color space). \n",
    "\n",
    "- Value: how light or dark? \n",
    "- Saturation: how strong or weak?\n",
    "- Hue: which color? "
   ]
  },
  {
   "cell_type": "markdown",
   "id": "a528b511",
   "metadata": {
    "slideshow": {
     "slide_type": "slide"
    }
   },
   "source": [
    "#### Color Schemes\n",
    "\n",
    "<center>\n",
    "    <img src=\"../images/Intro_to_Viz_Charts_2/img_p30_1.png\">\n",
    "</center>"
   ]
  },
  {
   "cell_type": "markdown",
   "id": "2a18cce4",
   "metadata": {
    "slideshow": {
     "slide_type": "notes"
    },
    "tags": [
     "remove-cell"
    ]
   },
   "source": [
    "Notes: Some theory on ways to pick color palettes depending on use case and intention. "
   ]
  },
  {
   "cell_type": "markdown",
   "id": "f34847e2",
   "metadata": {
    "slideshow": {
     "slide_type": "slide"
    }
   },
   "source": [
    "#### Color Palettes\n",
    "\n",
    "<center>\n",
    "    <img src=\"../images/Intro_to_Viz_Charts_2/img_p31_1.png\" width=1000>\n",
    "</center>"
   ]
  },
  {
   "cell_type": "markdown",
   "id": "167009fa",
   "metadata": {
    "slideshow": {
     "slide_type": "notes"
    },
    "tags": [
     "remove-cell"
    ]
   },
   "source": [
    "Notes: Default color palettes aren’t always AMAZEING. Make your own."
   ]
  },
  {
   "cell_type": "markdown",
   "id": "7cc1e5dd",
   "metadata": {
    "slideshow": {
     "slide_type": "slide"
    }
   },
   "source": [
    "#### Accessibility Guidelines\n",
    "\n",
    "1. Ensure sufficient **contrast and separation** between elements in the visualization.\n",
    "2. Do not rely on **color** alone to convey information, and ensure colors used can be distinguished between by people with various forms of color blindness.\n",
    "3. Provide a text **summary** of the visualization, making sure to **describe** trends or patterns in the visualization.\n",
    "4. Ensure text is **readable**.\n",
    "5. Prefer simple and **understandable** language.\n",
    "6. Prefer simple, **familiar** visualizations over complex novelties.\n",
    "7. If using animations or movement in the visualization that can be distracting, allow the user to turn this **off**, and respect the “prefers-reduced-motion” CSS media feature when relevant.\n",
    "8. Make the data **available** in an accessible table format.\n",
    "9. Make interactive visualizations **keyboard-accessible**.\n",
    "10. Ensure the visualization is **responsive** to different **screen** sizes and **zoom** levels.\n",
    "\n"
   ]
  },
  {
   "cell_type": "markdown",
   "id": "8b1441c3",
   "metadata": {
    "slideshow": {
     "slide_type": "notes"
    },
    "tags": [
     "remove-cell"
    ]
   },
   "source": [
    "Notes: Guidelines for Accessibility.  \n",
    "\n",
    "First six are very applicable for daily viz work - lots of folks in the org might need them. \n",
    "\n",
    "Last 3 are specifically for screen readers used by blind people and are important for viz in web/product"
   ]
  },
  {
   "cell_type": "markdown",
   "id": "c36c3787",
   "metadata": {
    "slideshow": {
     "slide_type": "slide"
    }
   },
   "source": [
    "### What makes a good data visualisation?"
   ]
  },
  {
   "cell_type": "markdown",
   "id": "b8e363c9",
   "metadata": {
    "tags": [
     "remove-cell"
    ]
   },
   "source": [
    "<img src=\"../images/Intro_to_Viz_Charts_2/message_nemo.png\" width=\"75\" style=\"display: inline-block; vertical-align: middle; margin-right: 10px;\" alt=\"Description of the image\">\n",
    "<p style=\"display: inline; font-size: 32px; font-weight: bold;\">Message</p>"
   ]
  },
  {
   "cell_type": "markdown",
   "id": "25eb8ef1",
   "metadata": {
    "tags": [
     "remove-cell"
    ]
   },
   "source": [
    "<img src=\"../images/Intro_to_Viz_Charts_2/accuracy_nemo.png\" width=\"75\" style=\"display: inline-block; vertical-align: middle; margin-right: 10px;\" alt=\"Description of the image\">\n",
    "<p style=\"display: inline; font-size: 32px; font-weight: bold;\">Accuracy</p>"
   ]
  },
  {
   "cell_type": "markdown",
   "id": "1a01a37d",
   "metadata": {
    "tags": [
     "remove-cell"
    ]
   },
   "source": [
    "<img src=\"../images/Intro_to_Viz_Charts_2/efficiency_nemo.png\" width=\"75\" style=\"display: inline-block; vertical-align: middle; margin-right: 10px;\" alt=\"Description of the image\">\n",
    "<p style=\"display: inline; font-size: 32px; font-weight: bold;\">Efficieny</p>"
   ]
  },
  {
   "cell_type": "markdown",
   "id": "12b6e026",
   "metadata": {
    "tags": [
     "remove-cell"
    ]
   },
   "source": [
    "<img src=\"../images/Intro_to_Viz_Charts_2/accessibility_nemo.png\" width=\"75\" style=\"display: inline-block; vertical-align: middle; margin-right: 10px;\" alt=\"Description of the image\">\n",
    "<p style=\"display: inline; font-size: 32px; font-weight: bold;\">Accessibility</p>"
   ]
  },
  {
   "cell_type": "markdown",
   "id": "d0b32f81",
   "metadata": {
    "slideshow": {
     "slide_type": "skip"
    }
   },
   "source": [
    "* Message\n",
    "* Accuracy\n",
    "* Efficiency\n",
    "* Accessibility"
   ]
  },
  {
   "cell_type": "markdown",
   "id": "6b32eeb7",
   "metadata": {
    "slideshow": {
     "slide_type": "slide"
    },
    "tags": [
     "remove-cell"
    ]
   },
   "source": [
    "## Break\n",
    "<center>\n",
    "    <img src=\"../images/Intro_to_Viz_Charts_2/img_p34_1.png\" width=1000>\n",
    "</center>"
   ]
  },
  {
   "cell_type": "markdown",
   "id": "48889a67",
   "metadata": {
    "slideshow": {
     "slide_type": "skip"
    }
   },
   "source": [
    "## Fantastic Charts and How to Make Them\n"
   ]
  },
  {
   "cell_type": "markdown",
   "id": "0e3bb9f3",
   "metadata": {
    "slideshow": {
     "slide_type": "slide"
    },
    "tags": [
     "remove-cell"
    ]
   },
   "source": [
    "## Fantastic Charts\n",
    "   ##### and\n",
    "## How to Make Them\n"
   ]
  },
  {
   "cell_type": "markdown",
   "id": "534db91d",
   "metadata": {
    "slideshow": {
     "slide_type": "slide"
    }
   },
   "source": [
    "<center>\n",
    "    <img src=\"../images/Intro_to_Viz_Charts_2/img_p36_1.png\">\n",
    "</center>\n"
   ]
  },
  {
   "cell_type": "markdown",
   "id": "0d5a2dd5",
   "metadata": {
    "slideshow": {
     "slide_type": "notes"
    },
    "tags": [
     "remove-cell"
    ]
   },
   "source": [
    "Notes: Which charts? These charts. These are the some of the charts from “Storytelling with Data”, and they’re a good set to use for communication. We will talk about each one of them in more detail by looking at many good and bad examples. More like a photo album that we talk about. Let's see if it works. \n",
    "\n",
    "See also: “A tour through the visualisation zoo” for all the charts. http://dl.acm.org/ft_gateway.cfm?id=1805128&ftid=398285&dwn=1"
   ]
  },
  {
   "cell_type": "markdown",
   "id": "877c7cea",
   "metadata": {
    "slideshow": {
     "slide_type": "skip"
    },
    "tags": [
     "remove-cell"
    ]
   },
   "source": [
    "<center>\n",
    "    <img src=\"../images/Intro_to_Viz_Charts_2/basic_plots.png\">\n",
    "</center>"
   ]
  },
  {
   "cell_type": "markdown",
   "id": "ddbf0d5e",
   "metadata": {
    "cell_style": "center",
    "slideshow": {
     "slide_type": "slide"
    }
   },
   "source": [
    "<center>\n",
    "    <img src=\"../images/Intro_to_Viz_Charts_2/img_p37_1.png\">\n",
    "</center>\n"
   ]
  },
  {
   "cell_type": "markdown",
   "id": "7eabefc5",
   "metadata": {
    "slideshow": {
     "slide_type": "notes"
    },
    "tags": [
     "remove-cell"
    ]
   },
   "source": [
    "Notes: Not included are box plots (click) and these “radar” charts"
   ]
  },
  {
   "cell_type": "markdown",
   "id": "7191e381",
   "metadata": {
    "slideshow": {
     "slide_type": "slide"
    }
   },
   "source": [
    "<center>\n",
    "    <img src=\"../images/Intro_to_Viz_Charts_2/img_p38_1.png\" width=1000>\n",
    "</center>"
   ]
  },
  {
   "cell_type": "markdown",
   "id": "6e85be9c",
   "metadata": {
    "slideshow": {
     "slide_type": "notes"
    },
    "tags": [
     "remove-cell"
    ]
   },
   "source": [
    "Notes: Not included are box plots (click) and these “radar” charts"
   ]
  },
  {
   "cell_type": "markdown",
   "id": "71ae6146",
   "metadata": {
    "slideshow": {
     "slide_type": "slide"
    }
   },
   "source": [
    "### Simple Text \n",
    "\n",
    "e.g. 91%"
   ]
  },
  {
   "cell_type": "markdown",
   "id": "9cfc2bf6",
   "metadata": {
    "slideshow": {
     "slide_type": "fragment"
    }
   },
   "source": [
    "If you’ve only got one or two numbers a chart might be a waste of time."
   ]
  },
  {
   "cell_type": "markdown",
   "id": "57c50d10",
   "metadata": {
    "slideshow": {
     "slide_type": "slide"
    }
   },
   "source": [
    "### Tables"
   ]
  },
  {
   "cell_type": "markdown",
   "id": "df3fde37",
   "metadata": {
    "slideshow": {
     "slide_type": "slide"
    }
   },
   "source": [
    "For visual presentation of numbers... just **don't**!\n",
    "\n"
   ]
  },
  {
   "cell_type": "markdown",
   "id": "e9391c30",
   "metadata": {
    "slideshow": {
     "slide_type": "fragment"
    }
   },
   "source": [
    "But people like tables."
   ]
  },
  {
   "cell_type": "markdown",
   "id": "3f802f2e",
   "metadata": {
    "slideshow": {
     "slide_type": "fragment"
    }
   },
   "source": [
    "A table works best...\n",
    "* when it is used to look up **individual values**\n",
    "* the values must be expressed **precisely**"
   ]
  },
  {
   "cell_type": "markdown",
   "id": "6ebe6548",
   "metadata": {
    "slideshow": {
     "slide_type": "notes"
    },
    "tags": [
     "remove-cell"
    ]
   },
   "source": [
    "Notes: Honestly, I don’t think anyone has said this, ever (click). \n",
    "\n",
    "But if you feel you have to include a table (perhaps people want to look up their own number precisely) put it in an appendix. And never, ever show it in a presentation except in response to a question. So those are two textual ways of showing data - they both rely on people reading and processing the numbers. When is this a good idea (click)?\n",
    "\n",
    "[Designing Effective Tables and Graphs by Stephen Few](https://www.perceptualedge.com/images/Effective_Chart_Design.pdf)"
   ]
  },
  {
   "cell_type": "markdown",
   "id": "ff1d656e",
   "metadata": {
    "slideshow": {
     "slide_type": "slide"
    }
   },
   "source": [
    "A graph works best when...\n",
    "\n",
    "* the message is contained in the **shape of the data** (patterns, trends, exceptions to the norm)\n",
    "* **entire sets** of values must be compared\n",
    "\n",
    "<center>\n",
    "    <img src=\"../images/Intro_to_Viz_Charts_2/img_p45_2.png\">\n",
    "</center>"
   ]
  },
  {
   "cell_type": "markdown",
   "id": "e5ac5c65",
   "metadata": {
    "slideshow": {
     "slide_type": "notes"
    },
    "tags": [
     "remove-cell"
    ]
   },
   "source": [
    "Notes: If you are up for more about tables and how to use them: [what is a table? SEPTEMBER 24, 2020 BY ALEX VELEZ](http://www.storytellingwithdata.com/blog/2020/9/24/what-is-a-table)"
   ]
  },
  {
   "cell_type": "markdown",
   "id": "f5d08616",
   "metadata": {
    "slideshow": {
     "slide_type": "slide"
    }
   },
   "source": [
    "### Heat map\n"
   ]
  },
  {
   "cell_type": "markdown",
   "id": "853c13b4",
   "metadata": {
    "slideshow": {
     "slide_type": "notes"
    },
    "tags": [
     "remove-cell"
    ]
   },
   "source": [
    "Notes: A lot like a table but more confusing. Prefer for exploration and not explanation. Once you find the pattern you can find a better visual."
   ]
  },
  {
   "cell_type": "markdown",
   "id": "dfe697a6",
   "metadata": {
    "slideshow": {
     "slide_type": "slide"
    }
   },
   "source": [
    "<center>\n",
    "    <img src=\"../images/Intro_to_Viz_Charts_2/img_p48_1.png\" width=1000>\n",
    "</center>   "
   ]
  },
  {
   "cell_type": "markdown",
   "id": "f87c6d31",
   "metadata": {
    "slideshow": {
     "slide_type": "notes"
    },
    "tags": [
     "remove-cell"
    ]
   },
   "source": [
    "Notes: Heat maps are useful for visualizing variance across multiple variables to display patterns in correlations or hot spots. Especially if it’s easy to see the patterns! Because it’s a bit of a puzzle for us to read. Right side is clearer than left side. https://theblog.okcupid.com/undressed-whats-the-deal-with-the-age-gap-in-relationships-3143a2ca5178?gi=a9e2bc330ee3"
   ]
  },
  {
   "cell_type": "markdown",
   "id": "22e07f1c",
   "metadata": {
    "slideshow": {
     "slide_type": "slide"
    }
   },
   "source": [
    "<center>\n",
    "    <img src=\"../images/Intro_to_Viz_Charts_2/img_p49_1.png\">\n",
    "</center>   \n",
    "\n"
   ]
  },
  {
   "cell_type": "markdown",
   "id": "5a40320c",
   "metadata": {
    "slideshow": {
     "slide_type": "notes"
    },
    "tags": [
     "remove-cell"
    ]
   },
   "source": [
    "Notes: Also good for visualizing hot spots. Better with less colours (and saturation instead), but maybe put the days on x? https://www.highcharts.com/demo/heatmap"
   ]
  },
  {
   "cell_type": "markdown",
   "id": "3225654c",
   "metadata": {
    "slideshow": {
     "slide_type": "slide"
    }
   },
   "source": [
    "<center>\n",
    "    <img src=\"../images/Intro_to_Viz_Charts_2/img_p49_2.png\">\n",
    "</center> "
   ]
  },
  {
   "cell_type": "markdown",
   "id": "1546920d",
   "metadata": {
    "slideshow": {
     "slide_type": "slide"
    }
   },
   "source": [
    "### Scatterplot"
   ]
  },
  {
   "cell_type": "markdown",
   "id": "fdd9cff7",
   "metadata": {
    "slideshow": {
     "slide_type": "notes"
    },
    "tags": [
     "remove-cell"
    ]
   },
   "source": [
    "Notes: So when do we use it (click)? "
   ]
  },
  {
   "cell_type": "markdown",
   "id": "3f7a6d0f",
   "metadata": {
    "slideshow": {
     "slide_type": "fragment"
    }
   },
   "source": [
    "Maps data to 2D position."
   ]
  },
  {
   "cell_type": "markdown",
   "id": "78346cde",
   "metadata": {
    "slideshow": {
     "slide_type": "notes"
    },
    "tags": [
     "remove-cell"
    ]
   },
   "source": [
    "Notes: When we want to show a relationship between two things. Anything else?"
   ]
  },
  {
   "cell_type": "markdown",
   "id": "05356c5c",
   "metadata": {
    "slideshow": {
     "slide_type": "slide"
    }
   },
   "source": [
    "<center>\n",
    "    <img src=\"../images/Intro_to_Viz_Charts_2/img_p53_1.png\">\n",
    "</center> "
   ]
  },
  {
   "cell_type": "markdown",
   "id": "577e7fbc",
   "metadata": {
    "slideshow": {
     "slide_type": "notes"
    },
    "tags": [
     "remove-cell"
    ]
   },
   "source": [
    "Notes: You can layer things on with surprising effect. So here this is a standard scatter plot of weekly earnings, and they’re using colour to denote occupation. Then, they add some lines to give context - that’s just x=y on there in bold. But suddenly it’s really easy to see how far off things are… These are probably under-used, I think - just the dots isn’t a lot of good, but they have a lot of explanatory power if used correctly. http://www.nytimes.com/interactive/2009/03/01/business/20090301_WageGap.html"
   ]
  },
  {
   "cell_type": "markdown",
   "id": "9d09d92f",
   "metadata": {
    "slideshow": {
     "slide_type": "slide"
    }
   },
   "source": [
    "<center>\n",
    "    <img src=\"../images/Intro_to_Viz_Charts_2/img_p54_1.png\" width=1000>\n",
    "</center> \n",
    "\n"
   ]
  },
  {
   "cell_type": "markdown",
   "id": "f7e18954",
   "metadata": {
    "slideshow": {
     "slide_type": "notes"
    },
    "tags": [
     "remove-cell"
    ]
   },
   "source": [
    "Notes: This one is by Jane Pong. Notice the use of small multiples to facilitate understanding: https://www.ft.com/jane-pong https://en.wikipedia.org/wiki/Small_multiple"
   ]
  },
  {
   "cell_type": "markdown",
   "id": "2f5edcf0",
   "metadata": {
    "slideshow": {
     "slide_type": "slide"
    }
   },
   "source": [
    "<center>\n",
    "    <img src=\"../images/Intro_to_Viz_Charts_2/img_p55_1.png\" width=1000>\n",
    "</center> \n",
    "\n"
   ]
  },
  {
   "cell_type": "markdown",
   "id": "98ecad4f",
   "metadata": {
    "slideshow": {
     "slide_type": "notes"
    },
    "tags": [
     "remove-cell"
    ]
   },
   "source": [
    "Notes: Then there’s these (connected scatterplots) again. http://www.thefunctionalart.com/2012/09/in-praise-of-connected-scatter-plots.html"
   ]
  },
  {
   "cell_type": "markdown",
   "id": "a5eab91e",
   "metadata": {
    "slideshow": {
     "slide_type": "slide"
    }
   },
   "source": [
    "<center>\n",
    "    <img src=\"../images/Intro_to_Viz_Charts_2/img_p56_1.png\">\n",
    "</center> "
   ]
  },
  {
   "cell_type": "markdown",
   "id": "492feea0",
   "metadata": {
    "slideshow": {
     "slide_type": "notes"
    },
    "tags": [
     "remove-cell"
    ]
   },
   "source": [
    "Notes: See also http://fivethirtyeight.com/datalab/the-death-spiral-of-m-night-shyamalans-career/ for the best footnotes. Best. Footnotes."
   ]
  },
  {
   "cell_type": "markdown",
   "id": "a2723c59",
   "metadata": {
    "slideshow": {
     "slide_type": "slide"
    }
   },
   "source": [
    "<center>\n",
    "    <img src=\"../images/Intro_to_Viz_Charts_2/img_p57_1.png\">\n",
    "</center> "
   ]
  },
  {
   "cell_type": "markdown",
   "id": "ba735946",
   "metadata": {
    "slideshow": {
     "slide_type": "notes"
    },
    "tags": [
     "remove-cell"
    ]
   },
   "source": [
    "Notes: If you have a lot of points in a scatterplot, you have problems. At least one of the problems you have is overplotting. http://flowingdata.com/2015/08/11/real-chart-rules-to-follow/"
   ]
  },
  {
   "cell_type": "markdown",
   "id": "074b34ba",
   "metadata": {
    "slideshow": {
     "slide_type": "slide"
    }
   },
   "source": [
    "<center>\n",
    "    <img src=\"../images/Intro_to_Viz_Charts_2/img_p58_1.png\">\n",
    "</center> "
   ]
  },
  {
   "cell_type": "markdown",
   "id": "0cc4cf27",
   "metadata": {
    "slideshow": {
     "slide_type": "notes"
    },
    "tags": [
     "remove-cell"
    ]
   },
   "source": [
    "Notes: if you have that problem, you can do a few things: \n",
    "1. adjust opacity of each point so that you can see through them, \n",
    "2. bin points and plot counts (histograms), \n",
    "3. or just plot it as a density contour anyway."
   ]
  },
  {
   "cell_type": "markdown",
   "id": "bfea0d5c",
   "metadata": {
    "slideshow": {
     "slide_type": "slide"
    }
   },
   "source": [
    "### Line Chart"
   ]
  },
  {
   "cell_type": "markdown",
   "id": "1365de6d",
   "metadata": {
    "slideshow": {
     "slide_type": "slide"
    }
   },
   "source": [
    "<center>\n",
    "    <img src=\"../images/Intro_to_Viz_Charts_2/img_p60_1.png\" width=1000>\n",
    "</center> "
   ]
  },
  {
   "cell_type": "markdown",
   "id": "be7ab989",
   "metadata": {
    "slideshow": {
     "slide_type": "notes"
    },
    "tags": [
     "remove-cell"
    ]
   },
   "source": [
    "Notes: A single series of data"
   ]
  },
  {
   "cell_type": "markdown",
   "id": "abdf7fd4",
   "metadata": {
    "slideshow": {
     "slide_type": "slide"
    }
   },
   "source": [
    "<center>\n",
    "    <img src=\"../images/Intro_to_Viz_Charts_2/img_p61_1.png\" width=1000>\n",
    "</center> \n"
   ]
  },
  {
   "cell_type": "markdown",
   "id": "ab011e7a",
   "metadata": {
    "slideshow": {
     "slide_type": "notes"
    },
    "tags": [
     "remove-cell"
    ]
   },
   "source": [
    "Notes: Multiple series of data, consistent intervals on the x axis You can add a line for the average Here Q4 is named complete for some reason"
   ]
  },
  {
   "cell_type": "markdown",
   "id": "28f1d36c",
   "metadata": {
    "slideshow": {
     "slide_type": "slide"
    }
   },
   "source": [
    "<center>\n",
    "    <img src=\"../images/Intro_to_Viz_Charts_2/img_p62_1.png\">\n",
    "</center> "
   ]
  },
  {
   "cell_type": "markdown",
   "id": "0e9e00e4",
   "metadata": {
    "slideshow": {
     "slide_type": "notes"
    },
    "tags": [
     "remove-cell"
    ]
   },
   "source": [
    "Notes: http://www.nytimes.com/interactive/2009/11/06/business/economy/unemployment-lines.html Worth noting, you can have a lot of series on a line chart - take this, for example. How many series are visible? 6x3x4x4=240. At once."
   ]
  },
  {
   "cell_type": "markdown",
   "id": "57321115",
   "metadata": {
    "slideshow": {
     "slide_type": "slide"
    }
   },
   "source": [
    "<center>\n",
    "    <img src=\"../images/Intro_to_Viz_Charts_2/img_p63_1.png\" width=500>\n",
    "</center> \n",
    "\n"
   ]
  },
  {
   "cell_type": "markdown",
   "id": "3ab4a62d",
   "metadata": {
    "slideshow": {
     "slide_type": "notes"
    },
    "tags": [
     "remove-cell"
    ]
   },
   "source": [
    "Notes: Having multiple lines in one plot can be fine, if e.g. one stands out and the others are just for context. Color coding certain subgroups also helps to visualize general trends/patterns. \n",
    "\n",
    "http://www.nytimes.com/interactive/2016/04/16/upshot/stephen-curry-golden-state-warriors-3-pointers.html?_r=0"
   ]
  },
  {
   "cell_type": "markdown",
   "id": "4ac16a14",
   "metadata": {
    "slideshow": {
     "slide_type": "slide"
    }
   },
   "source": [
    "<center>\n",
    "    <img src=\"../images/Intro_to_Viz_Charts_2/img_p64_1.png\">\n",
    "</center> "
   ]
  },
  {
   "cell_type": "markdown",
   "id": "b1ff7ca9",
   "metadata": {
    "slideshow": {
     "slide_type": "notes"
    },
    "tags": [
     "remove-cell"
    ]
   },
   "source": [
    "Notes: Similar to connected dot plot example from before, but, one variable (miles driven per capita) less. Line plot by definition can only have a unique definition area (same x axis value cannot have more than one y value). Still, enough information in a graph depending on your message. "
   ]
  },
  {
   "cell_type": "markdown",
   "id": "6ef3a9c4",
   "metadata": {
    "slideshow": {
     "slide_type": "slide"
    }
   },
   "source": [
    "<center>\n",
    "    <img src=\"../images/Intro_to_Viz_Charts_2/img_p65_1.png\">\n",
    "</center> "
   ]
  },
  {
   "cell_type": "markdown",
   "id": "6724f012",
   "metadata": {
    "slideshow": {
     "slide_type": "notes"
    },
    "tags": [
     "remove-cell"
    ]
   },
   "source": [
    "Notes: You can also draw lines as areas (area chart). This is usually a bad idea, and probably only makes sense if what you’re showing is a cumulative value of one series. In that case, it emphasises ‘weight’ visually. See also: http://blog.visual.ly/line-vs-area-charts/ http://www.fourstepsresearch.com/data-visualization/area-graphs-good/"
   ]
  },
  {
   "cell_type": "markdown",
   "id": "5cb0a485",
   "metadata": {
    "slideshow": {
     "slide_type": "slide"
    }
   },
   "source": [
    "<center>\n",
    "    <img src=\"../images/Intro_to_Viz_Charts_2/img_p66_1.png\">\n",
    "</center> "
   ]
  },
  {
   "cell_type": "markdown",
   "id": "17092baa",
   "metadata": {
    "slideshow": {
     "slide_type": "notes"
    },
    "tags": [
     "remove-cell"
    ]
   },
   "source": [
    "Notes: If you’ve got more than one series though, if you stack the areas (because you want to show the total and all the separate ones at the same time), you get something like this: http://www.everydayanalytics.ca/2014/08/stacked-area-graphs-are-not-your-friend.html"
   ]
  },
  {
   "cell_type": "markdown",
   "id": "decddcea",
   "metadata": {
    "slideshow": {
     "slide_type": "slide"
    }
   },
   "source": [
    "<center>\n",
    "    <img src=\"../images/Intro_to_Viz_Charts_2/img_p67_1.png\">\n",
    "</center> "
   ]
  },
  {
   "cell_type": "markdown",
   "id": "4d1e612c",
   "metadata": {
    "slideshow": {
     "slide_type": "notes"
    },
    "tags": [
     "remove-cell"
    ]
   },
   "source": [
    "Notes: What’s the difference between the data in these two charts?"
   ]
  },
  {
   "cell_type": "markdown",
   "id": "204d033b",
   "metadata": {
    "slideshow": {
     "slide_type": "slide"
    }
   },
   "source": [
    "<div class=\"group\">\n",
    "  <div class=\"images\">\n",
    "    <img src=\"../images/Intro_to_Viz_Charts_2/img_p68_1.png\" >\n",
    "  </div>\n",
    "  <div class=\"images\">\n",
    "    <img src=\"../images/Intro_to_Viz_Charts_2/img_p68_2.png\" >\n",
    "  </div>\n",
    "</div>"
   ]
  },
  {
   "cell_type": "markdown",
   "id": "b747d3d6",
   "metadata": {
    "slideshow": {
     "slide_type": "notes"
    },
    "tags": [
     "remove-cell"
    ]
   },
   "source": [
    "Notes: A better way to show them is as total and separate values in facets. Especially if there is no shared/simple trend between the separate lines. "
   ]
  },
  {
   "cell_type": "markdown",
   "id": "6d6f08d4",
   "metadata": {
    "slideshow": {
     "slide_type": "slide"
    }
   },
   "source": [
    "<center>\n",
    "    <img src=\"../images/Intro_to_Viz_Charts_2/img_p69_1.png\" width=500>\n",
    "</center> "
   ]
  },
  {
   "cell_type": "markdown",
   "id": "7dbfb58a",
   "metadata": {
    "slideshow": {
     "slide_type": "notes"
    },
    "tags": [
     "remove-cell"
    ]
   },
   "source": [
    "Notes: Another good example of plotting multiple line plots into the same graph. "
   ]
  },
  {
   "cell_type": "markdown",
   "id": "62276b48",
   "metadata": {
    "slideshow": {
     "slide_type": "slide"
    }
   },
   "source": [
    "### One more type...\n",
    "\n"
   ]
  },
  {
   "cell_type": "markdown",
   "id": "5b68bbf7",
   "metadata": {
    "slideshow": {
     "slide_type": "notes"
    },
    "tags": [
     "remove-cell"
    ]
   },
   "source": [
    "Notes: One more subtype of line charts. "
   ]
  },
  {
   "cell_type": "markdown",
   "id": "cda0dfeb",
   "metadata": {
    "slideshow": {
     "slide_type": "slide"
    }
   },
   "source": [
    "<div class=\"group\">\n",
    "  <div class=\"images\">   \n",
    "<img src=\"../images/Intro_to_Viz_Charts_2/img_p71_1.png\">\n",
    "    </div>\n",
    "    <div class=\"images\">\n",
    "    </div>\n",
    "</div>\n"
   ]
  },
  {
   "cell_type": "markdown",
   "id": "685ae941",
   "metadata": {
    "slideshow": {
     "slide_type": "notes"
    },
    "tags": [
     "remove-cell"
    ]
   },
   "source": [
    "Notes: So what are these? Well, they’re called sparklines - word-sized line charts without explicit axes that you can use inline with text. They don’t have to be line charts, but they usually are. Pretty easy in plotly - hide the axes, set limits accordingly."
   ]
  },
  {
   "cell_type": "markdown",
   "id": "cedbcb21",
   "metadata": {
    "slideshow": {
     "slide_type": "slide"
    }
   },
   "source": [
    "<div class=\"group\">\n",
    "  <div class=\"images\">   \n",
    "      <img src=\"../images/Intro_to_Viz_Charts_2/img_p71_1.png\">\n",
    "  </div>\n",
    "  <div class=\"images\">\n",
    "      <img src=\"../images/Intro_to_Viz_Charts_2/img_p72_1.png\">\n",
    "  </div>\n",
    "</div>\n",
    "\n",
    "\n"
   ]
  },
  {
   "cell_type": "markdown",
   "id": "8e0fe6e4",
   "metadata": {
    "slideshow": {
     "slide_type": "notes"
    },
    "tags": [
     "remove-cell"
    ]
   },
   "source": [
    "Notes: You can fit sparklines into your analysis as part of a paragraph - that makes them great for giving context around numbers without taking up space. I’ve not come across this at work often, but I’d love to see more of it."
   ]
  },
  {
   "cell_type": "markdown",
   "id": "05cb2cc5",
   "metadata": {
    "slideshow": {
     "slide_type": "slide"
    }
   },
   "source": [
    "<center>\n",
    "    <img src=\"../images/Intro_to_Viz_Charts_2/img_p73_1.png\">\n",
    "</center>"
   ]
  },
  {
   "cell_type": "markdown",
   "id": "2769be54",
   "metadata": {
    "slideshow": {
     "slide_type": "notes"
    },
    "tags": [
     "remove-cell"
    ]
   },
   "source": [
    "Notes: When drawing line graphs of any type, you should be careful about your aspect ratio. Is it misleading? Would people draw the same conclusions if you changed it? How does it fit with a longer time period? (don’t just let the software choose)\n",
    "\n",
    "From the eager eyes article, see also https://eagereyes.org/basics/banking-45-degrees "
   ]
  },
  {
   "cell_type": "markdown",
   "id": "44a66d28",
   "metadata": {
    "slideshow": {
     "slide_type": "slide"
    }
   },
   "source": [
    "<center>\n",
    "    <img src=\"../images/Intro_to_Viz_Charts_2/img_p74_1.png\" width=1000>\n",
    "</center>\n",
    "\n",
    " "
   ]
  },
  {
   "cell_type": "markdown",
   "id": "7f54f8a5",
   "metadata": {
    "slideshow": {
     "slide_type": "notes"
    },
    "tags": [
     "remove-cell"
    ]
   },
   "source": [
    "Notes: Related to aspect ratios and lastly, let’s talk about two axes with different scales. Here’s an example: the left axis is revenue in USD, the right axis is units sold. What do you notice on this graph? The crossing point. What’s the meaning of that point? via the excellent discussion at: http://www.perceptualedge.com/articles/visual_business_intelligence/dual-scaled_axes.pdf"
   ]
  },
  {
   "cell_type": "markdown",
   "id": "a5cdcad4",
   "metadata": {
    "slideshow": {
     "slide_type": "slide"
    }
   },
   "source": [
    "<center>\n",
    "    <img src=\"../images/Intro_to_Viz_Charts_2/img_p75_1.png\" width=1000>\n",
    "</center>\n",
    "\n"
   ]
  },
  {
   "cell_type": "markdown",
   "id": "ab73a88c",
   "metadata": {
    "slideshow": {
     "slide_type": "notes"
    },
    "tags": [
     "remove-cell"
    ]
   },
   "source": [
    "Notes: How about this? What’s different? Where’s the crossing point? If you really want to compare these two series, what could you do?"
   ]
  },
  {
   "cell_type": "markdown",
   "id": "2e17a756",
   "metadata": {
    "slideshow": {
     "slide_type": "slide"
    }
   },
   "source": [
    "<center>\n",
    "    <img src=\"../images/Intro_to_Viz_Charts_2/img_p76_1.png\" width=1000>\n",
    "</center>\n",
    "\n"
   ]
  },
  {
   "cell_type": "markdown",
   "id": "99ff83cb",
   "metadata": {
    "slideshow": {
     "slide_type": "notes"
    },
    "tags": [
     "remove-cell"
    ]
   },
   "source": [
    "Notes: You could scale them both to be percentages. So now we’re looking at growth in % for revenue and units sold. I’d argue that this is a much more revealing chart."
   ]
  },
  {
   "cell_type": "markdown",
   "id": "7bd0619c",
   "metadata": {
    "slideshow": {
     "slide_type": "slide"
    },
    "tags": [
     "remove-cell"
    ]
   },
   "source": [
    "## Break\n",
    "<center> \n",
    "    <img src=\"../images/Intro_to_Viz_Charts_2/img_p77_1.png\" width=600>\n",
    "</center>\n"
   ]
  },
  {
   "cell_type": "markdown",
   "id": "3c1d4d26",
   "metadata": {
    "slideshow": {
     "slide_type": "slide"
    }
   },
   "source": [
    "### Slopegraph"
   ]
  },
  {
   "cell_type": "markdown",
   "id": "daa1075b",
   "metadata": {
    "slideshow": {
     "slide_type": "fragment"
    }
   },
   "source": [
    "Two points of comparison"
   ]
  },
  {
   "cell_type": "markdown",
   "id": "ed585272",
   "metadata": {
    "slideshow": {
     "slide_type": "notes"
    },
    "tags": [
     "remove-cell"
    ]
   },
   "source": [
    "Notes: So these are a chart type you can use when you have exactly two points of comparison - they don’t work with more than two (in fact, they become parallel coordinates, which is a whole separate discussion). Your two points could be time points or they could be experiment categories or, well, anything categorical I guess."
   ]
  },
  {
   "cell_type": "markdown",
   "id": "7542d6d7",
   "metadata": {
    "slideshow": {
     "slide_type": "slide"
    }
   },
   "source": [
    "<center>\n",
    "    <img src=\"../images/Intro_to_Viz_Charts_2/img_p80_1.png\">\n",
    "</center>\n",
    "\n"
   ]
  },
  {
   "cell_type": "markdown",
   "id": "7b392853",
   "metadata": {
    "slideshow": {
     "slide_type": "notes"
    },
    "tags": [
     "remove-cell"
    ]
   },
   "source": [
    "Notes: So let’s take a look at this - we’ve got two vertical axes, measuring the same thing, which are aligned. What are our two points for comparison? What can we tell from this graph? Two things - the value of every line (if we want to look) and the rate of change between the two points. If you have too many data points it’s just a mess, but it can be pretty powerful. What other mappings are going on in this chart? from: http://www.visualisingdata.com/2013/12/in-praise-of-slopegraphs/"
   ]
  },
  {
   "cell_type": "markdown",
   "id": "0f7b398e",
   "metadata": {
    "slideshow": {
     "slide_type": "slide"
    }
   },
   "source": [
    "<center>\n",
    "    <img src=\"../images/Intro_to_Viz_Charts_2/img_p81_1.png\" width=600>\n",
    "</center>\n"
   ]
  },
  {
   "cell_type": "markdown",
   "id": "d3b93fef",
   "metadata": {
    "slideshow": {
     "slide_type": "notes"
    },
    "tags": [
     "remove-cell"
    ]
   },
   "source": [
    "Notes: Here’s one more example, via http://charliepark.org/slopegraphs/ The two axes here are health care spending per person and average life expectancy at birth. What do you think? Are there any issues with this?"
   ]
  },
  {
   "cell_type": "markdown",
   "id": "077f2688",
   "metadata": {
    "slideshow": {
     "slide_type": "slide"
    }
   },
   "source": [
    "<center>\n",
    "    <img src=\"../images/Intro_to_Viz_Charts_2/img_p82_1.png\">\n",
    "</center>"
   ]
  },
  {
   "cell_type": "markdown",
   "id": "0058bedd",
   "metadata": {
    "slideshow": {
     "slide_type": "notes"
    },
    "tags": [
     "remove-cell"
    ]
   },
   "source": [
    "Notes: Here’s the same data as a scatterplot (by the same designer, actually - in response to online critique…) What do you think? Better or worse? Is it more ‘truthful’?"
   ]
  },
  {
   "cell_type": "markdown",
   "id": "78e57fe0",
   "metadata": {
    "slideshow": {
     "slide_type": "slide"
    }
   },
   "source": [
    "### Bar Chart"
   ]
  },
  {
   "cell_type": "markdown",
   "id": "8d5da3a7",
   "metadata": {
    "slideshow": {
     "slide_type": "fragment"
    }
   },
   "source": [
    "Your go-to chart for → **categorical data**\n"
   ]
  },
  {
   "cell_type": "markdown",
   "id": "3bb5bafb",
   "metadata": {
    "slideshow": {
     "slide_type": "slide"
    }
   },
   "source": [
    "<center>\n",
    "    <img src=\"../images/Intro_to_Viz_Charts_2/img_p85_1.png\" width=1000>\n",
    "</center>\n",
    "\n",
    "\n"
   ]
  },
  {
   "cell_type": "markdown",
   "id": "7851f844",
   "metadata": {
    "slideshow": {
     "slide_type": "notes"
    },
    "tags": [
     "remove-cell"
    ]
   },
   "source": [
    "Notes: What happened here? ;) (zero-line)\n",
    "\n",
    "https://flowingdata.com/2014/04/04/fox-news-bar-chart-gets-it-wrong/"
   ]
  },
  {
   "cell_type": "markdown",
   "id": "344f3513",
   "metadata": {
    "slideshow": {
     "slide_type": "slide"
    }
   },
   "source": [
    "<center>\n",
    "    <img src=\"../images/Intro_to_Viz_Charts_2/img_p86_1.png\" width=1000>\n",
    "</center>\n"
   ]
  },
  {
   "cell_type": "markdown",
   "id": "23331c08",
   "metadata": {
    "slideshow": {
     "slide_type": "notes"
    },
    "tags": [
     "remove-cell"
    ]
   },
   "source": [
    "Notes: Another one (same problem as before)"
   ]
  },
  {
   "cell_type": "markdown",
   "id": "4256028c",
   "metadata": {
    "slideshow": {
     "slide_type": "slide"
    }
   },
   "source": [
    "<center>\n",
    "    <img src=\"../images/Intro_to_Viz_Charts_2/img_p87_1.png\" width=1000>\n",
    "</center>\n",
    "\n"
   ]
  },
  {
   "cell_type": "markdown",
   "id": "4d836385",
   "metadata": {
    "slideshow": {
     "slide_type": "notes"
    },
    "tags": [
     "remove-cell"
    ]
   },
   "source": [
    "Notes: And another one... (same problem as before)\n",
    "\n",
    "http://flowingdata.com/2012/08/06/fox-news-continues-charting-excellence/ What’s wrong with these? How do we read bar charts?"
   ]
  },
  {
   "cell_type": "markdown",
   "id": "981cc61f",
   "metadata": {
    "slideshow": {
     "slide_type": "slide"
    }
   },
   "source": [
    "<div class=\"grouped\">\n",
    "  <div class=\"images\">\n",
    "    <img src=\"../images/Intro_to_Viz_Charts_2/img_p88_1.png\" width=400>\n",
    "  </div>\n",
    "  <div class=\"images\">\n",
    "    <img src=\"../images/Intro_to_Viz_Charts_2/img_p88_2.png\">\n",
    "  </div>\n",
    "</div>\n"
   ]
  },
  {
   "cell_type": "markdown",
   "id": "ff9c3bc3",
   "metadata": {
    "slideshow": {
     "slide_type": "notes"
    },
    "tags": [
     "remove-cell"
    ]
   },
   "source": [
    "Notes: Here’s the same data from the last fox news picture and how it should be done. Again, remember 1915. "
   ]
  },
  {
   "cell_type": "markdown",
   "id": "d62e9b0f",
   "metadata": {
    "slideshow": {
     "slide_type": "slide"
    }
   },
   "source": [
    "### Bar charts must have a zero baseline"
   ]
  },
  {
   "cell_type": "markdown",
   "id": "6d4d42e0",
   "metadata": {
    "slideshow": {
     "slide_type": "notes"
    },
    "tags": [
     "remove-cell"
    ]
   },
   "source": [
    "Notes: When we look at bar charts, we’re comparing length of two aligned bars. For that to be a valid comparison, they have to have a 0 baseline. Is this true for line graphs?"
   ]
  },
  {
   "cell_type": "code",
   "execution_count": 8,
   "id": "f9539c14",
   "metadata": {
    "hideCode": true,
    "hidePrompt": true,
    "slideshow": {
     "slide_type": "slide"
    }
   },
   "outputs": [
    {
     "data": {
      "image/jpeg": "[encoded data removed]",
      "text/html": [
       "\n",
       "        <iframe\n",
       "            width=\"400\"\n",
       "            height=\"300\"\n",
       "            src=\"https://www.youtube.com/embed/14VYnFhBKcY\"\n",
       "            frameborder=\"0\"\n",
       "            allowfullscreen\n",
       "            \n",
       "        ></iframe>\n",
       "        "
      ],
      "text/plain": [
       "<IPython.lib.display.YouTubeVideo at 0x13bdcfc50>"
      ]
     },
     "execution_count": 8,
     "metadata": {},
     "output_type": "execute_result"
    }
   ],
   "source": [
    "from IPython.display import YouTubeVideo\n",
    "YouTubeVideo(\"14VYnFhBKcY\", width=400)"
   ]
  },
  {
   "cell_type": "markdown",
   "id": "c9c0c1f0",
   "metadata": {
    "slideshow": {
     "slide_type": "notes"
    },
    "tags": [
     "remove-cell"
    ]
   },
   "source": [
    "Notes: They make a lot of good points in this. But if you have a bar graph, you need to make sure it’s showing the right lengths."
   ]
  },
  {
   "cell_type": "markdown",
   "id": "aa1f7981",
   "metadata": {
    "slideshow": {
     "slide_type": "slide"
    }
   },
   "source": [
    "### But all my values are really close together!"
   ]
  },
  {
   "cell_type": "markdown",
   "id": "fcef6fc3",
   "metadata": {
    "slideshow": {
     "slide_type": "slide"
    }
   },
   "source": [
    "<center>\n",
    "    <img src=\"../images/Intro_to_Viz_Charts_2/img_p92_1.png\">\n",
    "</center>\n"
   ]
  },
  {
   "cell_type": "markdown",
   "id": "31a2af1e",
   "metadata": {
    "slideshow": {
     "slide_type": "notes"
    },
    "tags": [
     "remove-cell"
    ]
   },
   "source": [
    "Notes: How could we solve this? E.g. guidelines, color, difference in y, line plot, etc. "
   ]
  },
  {
   "cell_type": "markdown",
   "id": "8862c01b",
   "metadata": {
    "slideshow": {
     "slide_type": "slide"
    }
   },
   "source": [
    "<center>\n",
    "    <img src=\"../images/Intro_to_Viz_Charts_2/img_p93_1.png\" width=1000>\n",
    "</center>\n"
   ]
  },
  {
   "cell_type": "markdown",
   "id": "718f1503",
   "metadata": {
    "slideshow": {
     "slide_type": "notes"
    },
    "tags": [
     "remove-cell"
    ]
   },
   "source": [
    "Notes: here’s another bar chart (cat vs. cat)"
   ]
  },
  {
   "cell_type": "markdown",
   "id": "2d32c2c2",
   "metadata": {
    "slideshow": {
     "slide_type": "slide"
    }
   },
   "source": [
    "<center>\n",
    "    <img src=\"../images/Intro_to_Viz_Charts_2/img_p94_1.png\" width=1000>\n",
    "</center>"
   ]
  },
  {
   "cell_type": "markdown",
   "id": "be97853b",
   "metadata": {
    "slideshow": {
     "slide_type": "notes"
    },
    "tags": [
     "remove-cell"
    ]
   },
   "source": [
    "Notes: We could do this. What the advantage of this one? Data-ink ratio? How do I add a series? Multiple series as dots, and no requirement for zero scaling. http://www.infragistics.com/community/blogs/tim_brock/archive/2015/05/11/bar-charts-versus-dot-plots.aspx"
   ]
  },
  {
   "cell_type": "markdown",
   "id": "b437bea9",
   "metadata": {
    "slideshow": {
     "slide_type": "slide"
    }
   },
   "source": [
    "<center>\n",
    "    <img src=\"../images/Intro_to_Viz_Charts_2/img_p92_1.png\">\n",
    "</center>"
   ]
  },
  {
   "cell_type": "markdown",
   "id": "cb116cfc",
   "metadata": {
    "slideshow": {
     "slide_type": "notes"
    },
    "tags": [
     "remove-cell"
    ]
   },
   "source": [
    "Notes: Just to pull it back - one nice tip here, if you feel you really need grid lines then do it in white: it actually facilitates comparison while maintaining data-ink ratio."
   ]
  },
  {
   "cell_type": "markdown",
   "id": "7b97d3ac",
   "metadata": {
    "slideshow": {
     "slide_type": "slide"
    }
   },
   "source": [
    "<center>\n",
    "    <img src=\"../images/Intro_to_Viz_Charts_2/negative_graffiti.png\">\n",
    "</center>"
   ]
  },
  {
   "cell_type": "markdown",
   "id": "0d9d2d66",
   "metadata": {
    "slideshow": {
     "slide_type": "notes"
    },
    "tags": [
     "remove-cell"
    ]
   },
   "source": [
    "Notes: It kinda reminds me of reverse graffiti: you clean the pavement in the shape of your ad.\n",
    "\n",
    "https://en.wikipedia.org/wiki/Reverse_graffiti"
   ]
  },
  {
   "cell_type": "markdown",
   "id": "b6875012",
   "metadata": {
    "slideshow": {
     "slide_type": "slide"
    }
   },
   "source": [
    "### Vertical vs Horizontal Bar Chart"
   ]
  },
  {
   "cell_type": "markdown",
   "id": "3cd54e1a",
   "metadata": {
    "slideshow": {
     "slide_type": "notes"
    },
    "tags": [
     "remove-cell"
    ]
   },
   "source": [
    "Notes: But anyway, back on topic: I see a lot of bar charts that look like this."
   ]
  },
  {
   "cell_type": "markdown",
   "id": "18f7ad65",
   "metadata": {
    "slideshow": {
     "slide_type": "slide"
    }
   },
   "source": [
    "<center>\n",
    "    <img src=\"../images/Intro_to_Viz_Charts_2/img_p98_1.png\" width=800>\n",
    "</center>\n"
   ]
  },
  {
   "cell_type": "markdown",
   "id": "3060cbe7",
   "metadata": {
    "slideshow": {
     "slide_type": "notes"
    },
    "tags": [
     "remove-cell"
    ]
   },
   "source": [
    "Notes: Sorry for the resolution on this one. I couldn’t bring myself to redraw it… What’s bad about this chart (not ordered)? \n",
    "\n",
    "If you’ve got categories in no particular order, then maybe put them horizontally. If they’re ordered (think histogram or time), consider putting them vertically. I’ve pretty much never seen vertical charts at work, and that’s something I would like to change. They’re easier to read - we naturally read left to right, top to bottom (most people nowadays, but Arabic, ancient Chinese/Asian), so in a horizontal chart we’ll read the category name before we see the value. That’s the order we want. Pick what makes your data easiest to understand."
   ]
  },
  {
   "cell_type": "markdown",
   "id": "a79318d5",
   "metadata": {
    "slideshow": {
     "slide_type": "slide"
    }
   },
   "source": [
    "<center>\n",
    "    <img src=\"../images/Intro_to_Viz_Charts_2/img_p99_1.png\">\n",
    "</center>"
   ]
  },
  {
   "cell_type": "markdown",
   "id": "e6b67f3b",
   "metadata": {
    "slideshow": {
     "slide_type": "notes"
    },
    "tags": [
     "remove-cell"
    ]
   },
   "source": [
    "Notes: When I see this chart, I end up just thinking ‘ow, my neck hurts’."
   ]
  },
  {
   "cell_type": "markdown",
   "id": "1c47c8dc",
   "metadata": {
    "slideshow": {
     "slide_type": "slide"
    }
   },
   "source": [
    "<center>\n",
    "    <img src=\"../images/Intro_to_Viz_Charts_2/img_p100_1.png\" width=500>\n",
    "</center>"
   ]
  },
  {
   "cell_type": "markdown",
   "id": "bfff790d",
   "metadata": {
    "slideshow": {
     "slide_type": "notes"
    },
    "tags": [
     "remove-cell"
    ]
   },
   "source": [
    "Notes: This is better already. Still too many categories though."
   ]
  },
  {
   "cell_type": "markdown",
   "id": "a7a397e8",
   "metadata": {
    "slideshow": {
     "slide_type": "slide"
    }
   },
   "source": [
    "### Grouped Bar Charts\n",
    "\n"
   ]
  },
  {
   "cell_type": "markdown",
   "id": "b0ead026",
   "metadata": {
    "slideshow": {
     "slide_type": "notes"
    },
    "tags": [
     "remove-cell"
    ]
   },
   "source": [
    "Notes: So you might also have series within categories. You can plot groups of bars. If you’re unlucky, it comes out like this."
   ]
  },
  {
   "cell_type": "markdown",
   "id": "894087e7",
   "metadata": {
    "slideshow": {
     "slide_type": "slide"
    }
   },
   "source": [
    "<center>\n",
    "    <img src=\"../images/Intro_to_Viz_Charts_2/img_p102_1.png\">\n",
    "</center>    \n"
   ]
  },
  {
   "cell_type": "markdown",
   "id": "33b33e03",
   "metadata": {
    "slideshow": {
     "slide_type": "slide"
    }
   },
   "source": [
    "<center>\n",
    "    <img src=\"../images/Intro_to_Viz_Charts_2/img_p103_1.png\" width=600>\n",
    "</center>\n"
   ]
  },
  {
   "cell_type": "markdown",
   "id": "e8d6e25c",
   "metadata": {
    "slideshow": {
     "slide_type": "notes"
    },
    "tags": [
     "remove-cell"
    ]
   },
   "source": [
    "Notes: A dual series bar chart where the differences are important would be better represented as a connected dot plot. \n",
    "\n",
    "Source: http://pubs.aeaweb.org/doi/pdfplus/10.1257/jep.28.1.209"
   ]
  },
  {
   "cell_type": "markdown",
   "id": "dcc308a1",
   "metadata": {
    "slideshow": {
     "slide_type": "slide"
    }
   },
   "source": [
    "<center>\n",
    "    <img src=\"../images/Intro_to_Viz_Charts_2/img_p104_1.png\" width=1000>\n",
    "</center>    \n"
   ]
  },
  {
   "cell_type": "markdown",
   "id": "bedd9c5a",
   "metadata": {
    "slideshow": {
     "slide_type": "notes"
    },
    "tags": [
     "remove-cell"
    ]
   },
   "source": [
    "Notes: Common in economist newspaper."
   ]
  },
  {
   "cell_type": "markdown",
   "id": "8fe460e1",
   "metadata": {
    "slideshow": {
     "slide_type": "slide"
    }
   },
   "source": [
    "<center>\n",
    "    <img src=\"../images/Intro_to_Viz_Charts_2/img_p105_1.png\" width=1000>\n",
    "</center>"
   ]
  },
  {
   "cell_type": "markdown",
   "id": "8a4857d6",
   "metadata": {
    "slideshow": {
     "slide_type": "notes"
    },
    "tags": [
     "remove-cell"
    ]
   },
   "source": [
    "Notes: It can also allow you to show change over time"
   ]
  },
  {
   "cell_type": "markdown",
   "id": "e08a44e6",
   "metadata": {
    "slideshow": {
     "slide_type": "slide"
    }
   },
   "source": [
    "<center>\n",
    "    <img src=\"../images/Intro_to_Viz_Charts_2/img_p106_1.png\" width=1000>\n",
    "</center>    \n"
   ]
  },
  {
   "cell_type": "markdown",
   "id": "2a44d9a5",
   "metadata": {
    "slideshow": {
     "slide_type": "notes"
    },
    "tags": [
     "remove-cell"
    ]
   },
   "source": [
    "Notes: But it’s more commonly used for survey data"
   ]
  },
  {
   "cell_type": "markdown",
   "id": "e29e9101",
   "metadata": {
    "slideshow": {
     "slide_type": "slide"
    }
   },
   "source": [
    "### Stacked Bars\n"
   ]
  },
  {
   "cell_type": "markdown",
   "id": "d8da5f33",
   "metadata": {
    "slideshow": {
     "slide_type": "fragment"
    }
   },
   "source": [
    "Rarely a good idea."
   ]
  },
  {
   "cell_type": "markdown",
   "id": "a6684bcf",
   "metadata": {
    "slideshow": {
     "slide_type": "slide"
    }
   },
   "source": [
    "<center>\n",
    "    <img src=\"../images/Intro_to_Viz_Charts_2/img_p109_1.png\">\n",
    "</center>  "
   ]
  },
  {
   "cell_type": "markdown",
   "id": "7a8723ac",
   "metadata": {
    "slideshow": {
     "slide_type": "notes"
    },
    "tags": [
     "remove-cell"
    ]
   },
   "source": [
    "Notes: Works well when we’re just got two subcomponents\n",
    "\n",
    "via https://www.perceptualedge.com/blog/?p=2239"
   ]
  },
  {
   "cell_type": "markdown",
   "id": "0523a585",
   "metadata": {
    "slideshow": {
     "slide_type": "slide"
    }
   },
   "source": [
    "<center>\n",
    "    <img src=\"../images/Intro_to_Viz_Charts_2/img_p110_1.png\">\n",
    "</center>      \n"
   ]
  },
  {
   "cell_type": "markdown",
   "id": "05f0516f",
   "metadata": {
    "slideshow": {
     "slide_type": "notes"
    },
    "tags": [
     "remove-cell"
    ]
   },
   "source": [
    "Notes: Works less well. Easy to compare top and bottom sections, the middle is pretty useless. This is a general case with stacked charts - it’s easy to compare top and bottom and that’s it. What to use instead? (Please, nobody say pie charts)"
   ]
  },
  {
   "cell_type": "markdown",
   "id": "30c16991",
   "metadata": {
    "slideshow": {
     "slide_type": "slide"
    }
   },
   "source": [
    "<center>\n",
    "    <img src=\"../images/Intro_to_Viz_Charts_2/img_p111_1.png\">\n",
    "</center>      \n"
   ]
  },
  {
   "cell_type": "markdown",
   "id": "c8732ec7",
   "metadata": {
    "slideshow": {
     "slide_type": "slide"
    }
   },
   "source": [
    "<center>\n",
    "    <img src=\"../images/Intro_to_Viz_Charts_2/img_p112_1.png\">\n",
    "</center>      \n"
   ]
  },
  {
   "cell_type": "markdown",
   "id": "3d7f7ed3",
   "metadata": {
    "slideshow": {
     "slide_type": "notes"
    },
    "tags": [
     "remove-cell"
    ]
   },
   "source": [
    "Notes: 1. Why would you stack bars with quantities that have different units? 2. In the light of 1, this is minor but, why would you choose near-identical colours two quantities you’re stacking? Whose what goes in picking contrasting colours?"
   ]
  },
  {
   "cell_type": "markdown",
   "id": "907164b7",
   "metadata": {
    "slideshow": {
     "slide_type": "slide"
    }
   },
   "source": [
    "### Do vertical bars always go up?\n"
   ]
  },
  {
   "cell_type": "markdown",
   "id": "50756cef",
   "metadata": {
    "slideshow": {
     "slide_type": "notes"
    },
    "tags": [
     "remove-cell"
    ]
   },
   "source": [
    "Notes: Just one quick tangent here - bar charts can go both ways."
   ]
  },
  {
   "cell_type": "markdown",
   "id": "ad965149",
   "metadata": {
    "slideshow": {
     "slide_type": "slide"
    }
   },
   "source": [
    "<center>\n",
    "    <img src=\"../images/Intro_to_Viz_Charts_2/img_p114_1.png\">\n",
    "</center>      \n",
    "\n"
   ]
  },
  {
   "cell_type": "markdown",
   "id": "e8019e19",
   "metadata": {
    "slideshow": {
     "slide_type": "notes"
    },
    "tags": [
     "remove-cell"
    ]
   },
   "source": [
    "Notes: Has anyone seen this before? Big news in the viz community in 2010. It’s a great chart, and only slightly misleading in its graphical presentation. But for communication, wow. Can anyone see what it does ‘wrong’? I’ll give you a hint… via https://eagereyes.org/blog/2012/bikini-chart"
   ]
  },
  {
   "cell_type": "markdown",
   "id": "63b31a0a",
   "metadata": {
    "slideshow": {
     "slide_type": "slide"
    }
   },
   "source": [
    "<center>\n",
    "    <img src=\"../images/Intro_to_Viz_Charts_2/img_p115_1.png\">\n",
    "</center>      \n"
   ]
  },
  {
   "cell_type": "markdown",
   "id": "50b21603",
   "metadata": {
    "slideshow": {
     "slide_type": "notes"
    },
    "tags": [
     "remove-cell"
    ]
   },
   "source": [
    "Notes: Can you see it?"
   ]
  },
  {
   "cell_type": "markdown",
   "id": "629a62ad",
   "metadata": {
    "slideshow": {
     "slide_type": "slide"
    }
   },
   "source": [
    "<center>\n",
    "    <img src=\"../images/Intro_to_Viz_Charts_2/img_p116_1.png\">\n",
    "</center>      \n",
    "    "
   ]
  },
  {
   "cell_type": "markdown",
   "id": "9d1c9c13",
   "metadata": {
    "slideshow": {
     "slide_type": "notes"
    },
    "tags": [
     "remove-cell"
    ]
   },
   "source": [
    "Notes: Do you see it? Heavier colours at the bottom make the difference more apparent. Pretty subtle… it might just be a design decision, but it has an impact."
   ]
  },
  {
   "cell_type": "markdown",
   "id": "f1fdb908",
   "metadata": {
    "slideshow": {
     "slide_type": "slide"
    },
    "tags": [
     "remove-cell"
    ]
   },
   "source": [
    "## Break\n",
    "\n",
    "<center>\n",
    "    <img src=\"../images/Intro_to_Viz_Charts_2/img_p117_1.png\" width=600>\n",
    "</center>      \n",
    "\n"
   ]
  },
  {
   "cell_type": "markdown",
   "id": "9b6903ce",
   "metadata": {
    "slideshow": {
     "slide_type": "notes"
    },
    "tags": [
     "remove-cell"
    ]
   },
   "source": [
    "Notes: Some more exotics after the break ;)"
   ]
  },
  {
   "cell_type": "markdown",
   "id": "e2e19870",
   "metadata": {
    "slideshow": {
     "slide_type": "slide"
    }
   },
   "source": [
    "### What about geographical data?"
   ]
  },
  {
   "cell_type": "markdown",
   "id": "e695650f",
   "metadata": {
    "slideshow": {
     "slide_type": "notes"
    },
    "tags": [
     "remove-cell"
    ]
   },
   "source": [
    "Notes: Just one quick tangent here - bar charts can go both ways."
   ]
  },
  {
   "cell_type": "markdown",
   "id": "655ea7da",
   "metadata": {
    "slideshow": {
     "slide_type": "slide"
    }
   },
   "source": [
    "<center>\n",
    "    <img src=\"../images/Intro_to_Viz_Charts_2/img_p119_1.png\">\n",
    "</center>      \n",
    "    \n",
    "    \n",
    "[infoactive.co](https://infoactive.co/data-design/ch18.html)\n"
   ]
  },
  {
   "cell_type": "markdown",
   "id": "08a9555d",
   "metadata": {
    "slideshow": {
     "slide_type": "slide"
    }
   },
   "source": [
    "<center>\n",
    "    <img src=\"../images/Intro_to_Viz_Charts_2/img_p120_1.png\">\n",
    "</center>      \n"
   ]
  },
  {
   "cell_type": "markdown",
   "id": "2d31e478",
   "metadata": {
    "slideshow": {
     "slide_type": "notes"
    },
    "tags": [
     "remove-cell"
    ]
   },
   "source": [
    "Notes: Also works better as a bar chart"
   ]
  },
  {
   "cell_type": "markdown",
   "id": "f3372ecd",
   "metadata": {
    "slideshow": {
     "slide_type": "slide"
    }
   },
   "source": [
    "### Waterfall"
   ]
  },
  {
   "cell_type": "markdown",
   "id": "7c938dff",
   "metadata": {
    "slideshow": {
     "slide_type": "slide"
    }
   },
   "source": [
    "<center>\n",
    "    <img src=\"../images/Intro_to_Viz_Charts_2/img_p122_1.png\" width=1000>\n",
    "</center>      \n",
    "\n"
   ]
  },
  {
   "cell_type": "markdown",
   "id": "33db8a83",
   "metadata": {
    "slideshow": {
     "slide_type": "notes"
    },
    "tags": [
     "remove-cell"
    ]
   },
   "source": [
    "Notes: Often used in HR/People departments and in financial industry to show credit, debits, gains and losses. Comparing lengths floating in space is harder than comparing to the baseline, like the standard bar chart. Some bars need to be read going up and some down. And when there are large quantities and small differences there’S a temptation to cut the y-axis which would cost us accuracy. It’s somewhat uncommon and if it’s not a part of your domain you will likely never make one. only in specific domains due to these limitations."
   ]
  },
  {
   "cell_type": "markdown",
   "id": "8cca24a4",
   "metadata": {
    "slideshow": {
     "slide_type": "slide"
    }
   },
   "source": [
    "### Square Area Charts (Waffle or Unit Charts)\n",
    "\n"
   ]
  },
  {
   "cell_type": "markdown",
   "id": "4be22b79",
   "metadata": {
    "slideshow": {
     "slide_type": "slide"
    }
   },
   "source": [
    "<center>\n",
    "    <img src=\"../images/Intro_to_Viz_Charts_2/img_p124_1.png\">\n",
    "</center>      \n",
    "\n"
   ]
  },
  {
   "cell_type": "markdown",
   "id": "75c4727d",
   "metadata": {
    "slideshow": {
     "slide_type": "notes"
    },
    "tags": [
     "remove-cell"
    ]
   },
   "source": [
    "Notes: Seen these before? One dot or square or icon indicates a certain number of some other thing. That may be the vaguest sentence I’ve spoken today. http://helpmeviz.com/2015/09/01/waffle-charts/"
   ]
  },
  {
   "cell_type": "markdown",
   "id": "5a50414c",
   "metadata": {
    "slideshow": {
     "slide_type": "slide"
    }
   },
   "source": [
    "<center>\n",
    "    <img src=\"../images/Intro_to_Viz_Charts_2/img_p125_1.png\" width=600>\n",
    "</center>      \n"
   ]
  },
  {
   "cell_type": "markdown",
   "id": "d8df89ab",
   "metadata": {
    "slideshow": {
     "slide_type": "notes"
    },
    "tags": [
     "remove-cell"
    ]
   },
   "source": [
    "Notes: This is in the same general class. \n",
    "\n",
    "Nice to illustrate absolute quantities and folds of data with wide dynamic range. \n",
    "\n",
    "https://xkcd.com/radiation/"
   ]
  },
  {
   "cell_type": "markdown",
   "id": "507d1cd3",
   "metadata": {
    "slideshow": {
     "slide_type": "slide"
    }
   },
   "source": [
    "<center>\n",
    "    <img src=\"../images/Intro_to_Viz_Charts_2/img_p126_1.png\" width=400>\n",
    "</center>      \n",
    "\n"
   ]
  },
  {
   "cell_type": "markdown",
   "id": "729ea095",
   "metadata": {
    "slideshow": {
     "slide_type": "slide"
    }
   },
   "source": [
    "<a href=\"https://www.youtube.com/watch?v=kImBBI6L8MI&t=7s\"> Great when presenting live! </a>"
   ]
  },
  {
   "cell_type": "markdown",
   "id": "c89d4dfc",
   "metadata": {
    "slideshow": {
     "slide_type": "slide"
    }
   },
   "source": [
    "### That’s all the charts\n",
    "\n",
    "\n"
   ]
  },
  {
   "cell_type": "markdown",
   "id": "9c5636de",
   "metadata": {
    "slideshow": {
     "slide_type": "notes"
    },
    "tags": [
     "remove-cell"
    ]
   },
   "source": [
    "Notes: Now you have a few more ideas for how to make fantastic chats!"
   ]
  },
  {
   "cell_type": "markdown",
   "id": "085ea868",
   "metadata": {
    "slideshow": {
     "slide_type": "slide"
    }
   },
   "source": [
    "## Summary\n",
    "   - Why we make data visualisation.\n",
    "   - What makes a good Data visualisation.\n",
    "   - How to make all your charts fantastic.\n",
    "\n"
   ]
  },
  {
   "cell_type": "markdown",
   "id": "31d7dcff",
   "metadata": {
    "slideshow": {
     "slide_type": "notes"
    },
    "tags": [
     "remove-cell"
    ]
   },
   "source": [
    "Notes: exploration & communication message, accuracy, efficiency, accessibility Name a few insights/pitfalls you saw today."
   ]
  },
  {
   "cell_type": "markdown",
   "id": "473f6cb2",
   "metadata": {
    "slideshow": {
     "slide_type": "slide"
    }
   },
   "source": [
    "<center>\n",
    "    <img src=\"../images/Intro_to_Viz_Charts_2/img_p130_1.png\">\n",
    "</center>      \n"
   ]
  },
  {
   "cell_type": "markdown",
   "id": "072f58c7",
   "metadata": {
    "slideshow": {
     "slide_type": "notes"
    },
    "tags": [
     "remove-cell"
    ]
   },
   "source": [
    "Notes: There’re a lot of good books on data visualization. If there’s something here you’d like to read (the ones I’ve shown here are definitely worth the effort)."
   ]
  },
  {
   "cell_type": "markdown",
   "id": "6b49ec80",
   "metadata": {
    "slideshow": {
     "slide_type": "slide"
    }
   },
   "source": [
    "## Exercises\n"
   ]
  },
  {
   "cell_type": "markdown",
   "id": "66964d16",
   "metadata": {
    "slideshow": {
     "slide_type": "slide"
    }
   },
   "source": [
    "### Optional Exercises\n",
    "- Read [this blog post](https://www.learnui.design/blog/the-hsb-color-system-practicioners-primer.html) and use tools like [Data Color Picker](https://www.learnui.design/tools/data-color-picker.html#palette) and [Coolors](https://coolors.co/palettes/trending) to build and store color palettes for different use cases (a lot of categories, gradients, divergence)\n",
    "- Build a 10 colour colour palette that fits your brand, and follows good colour differentiation principles from the Fundamentals chapter.\n",
    "- Take a look at a slide you made with several charts. List all the Gestalt principles you can spot. Make note of which one is stronger. Consider giving it a makeover based on your findings.\n"
   ]
  },
  {
   "cell_type": "markdown",
   "id": "f2481b68",
   "metadata": {
    "slideshow": {
     "slide_type": "slide"
    }
   },
   "source": [
    "### Optional Exercises: Data Viz Review\n",
    "- Form a pair or a small group\n",
    "- Once a month, send your most important plot (.e.g the one regarding the most important business finding/decision, the one shown to most stakeholders) to your reviewer for feedback. If you form a group, it can be nice to meet and listen to the everyone’s reviews\n",
    "-  Each time, give feedback around a different theme:\n",
    "    - Fundamentals: message, accuracy, efficiency\n",
    "    - Gestalt Principles: proximity, similarity, enclosure, closure, continuity, connection\n",
    "    - Chart Types: offer improvements, or alternatives\n",
    "    - Storytelling Process: context, choosing a visual, remove clutter, focus audience attention, tell stories\n",
    "\n",
    "\n"
   ]
  }
 ],
 "metadata": {
  "celltoolbar": "Tags",
  "jupytext": {
   "cell_metadata_filter": "-all",
   "main_language": "python",
   "notebook_metadata_filter": "-all"
  },
  "kernelspec": {
   "display_name": "Python 3 (ipykernel)",
   "language": "python",
   "name": "python3"
  },
  "language_info": {
   "codemirror_mode": {
    "name": "ipython",
    "version": 3
   },
   "file_extension": ".py",
   "mimetype": "text/x-python",
   "name": "python",
   "nbconvert_exporter": "python",
   "pygments_lexer": "ipython3",
   "version": "3.11.3"
  },
  "rise": {
   "auto_select": "none",
   "transition": "fade"
  },
  "varInspector": {
   "cols": {
    "lenName": 16,
    "lenType": 16,
    "lenVar": 40
   },
   "kernels_config": {
    "python": {
     "delete_cmd_postfix": "",
     "delete_cmd_prefix": "del ",
     "library": "var_list.py",
     "varRefreshCmd": "print(var_dic_list())"
    },
    "r": {
     "delete_cmd_postfix": ") ",
     "delete_cmd_prefix": "rm(",
     "library": "var_list.r",
     "varRefreshCmd": "cat(var_dic_list()) "
    }
   },
   "types_to_exclude": [
    "module",
    "function",
    "builtin_function_or_method",
    "instance",
    "_Feature"
   ],
   "window_display": false
  }
 },
 "nbformat": 4,
 "nbformat_minor": 5
}
