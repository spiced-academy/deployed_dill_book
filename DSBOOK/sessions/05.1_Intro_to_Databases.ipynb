{
 "cells": [
  {
   "cell_type": "markdown",
   "id": "81e1b4a4",
   "metadata": {
    "slideshow": {
     "slide_type": "skip"
    }
   },
   "source": [
    "# Introduction to Databases"
   ]
  },
  {
   "cell_type": "markdown",
   "id": "d8523dcc",
   "metadata": {
    "slideshow": {
     "slide_type": "slide"
    },
    "tags": [
     "remove-cell"
    ]
   },
   "source": [
    "<div class=\"slide-title\"> \n",
    "        \n",
    "# Introduction to Databases\n",
    "    \n",
    "           \n",
    "</div> "
   ]
  },
  {
   "cell_type": "markdown",
   "id": "a92f9fd7",
   "metadata": {
    "slideshow": {
     "slide_type": "notes"
    },
    "tags": [
     "remove-cell"
    ]
   },
   "source": [
    "Notes: Who knows DB and SQL? Very confident? Then, you can alternatively do [DBT tutorial](https://www.startdataengineering.com/post/dbt-data-build-tool-tutorial/).  "
   ]
  },
  {
   "cell_type": "markdown",
   "id": "e02923ba",
   "metadata": {
    "slideshow": {
     "slide_type": "slide"
    }
   },
   "source": [
    "## What types of storage do you know?\n",
    "![Storage like Tetris](../images/intro_databases/storage_tetris.jpeg)"
   ]
  },
  {
   "cell_type": "markdown",
   "id": "45e36d8c",
   "metadata": {
    "hidePrompt": true,
    "slideshow": {
     "slide_type": "notes"
    },
    "tags": [
     "remove-cell"
    ]
   },
   "source": [
    "Notes: Today, we only talk about data storages. "
   ]
  },
  {
   "cell_type": "markdown",
   "id": "c7f2168e",
   "metadata": {
    "slideshow": {
     "slide_type": "slide"
    }
   },
   "source": [
    "## What types of storage do you know?\n",
    "![Data Storage Evolution](../images/intro_databases/data_storage_evolution.jpeg)"
   ]
  },
  {
   "cell_type": "markdown",
   "id": "63e1035d",
   "metadata": {
    "slideshow": {
     "slide_type": "notes"
    },
    "tags": [
     "remove-cell"
    ]
   },
   "source": [
    "Notes: \"Punch card\" (\"Lochkarte\"). "
   ]
  },
  {
   "cell_type": "markdown",
   "id": "b0e7a333",
   "metadata": {
    "slideshow": {
     "slide_type": "slide"
    }
   },
   "source": [
    "## Types of Data\n",
    "\n",
    "\n",
    "**Unstructured**\n",
    "* Data does not conform to a rigid structure.\n",
    "\n",
    "**Semi-structured**\n",
    "* Data conforms to a schema but deviations are possible\n",
    "\n",
    "**Structured**\n",
    "* Schema and types of data are known and encoded in the system."
   ]
  },
  {
   "cell_type": "markdown",
   "id": "76441ecd",
   "metadata": {
    "slideshow": {
     "slide_type": "notes"
    },
    "tags": [
     "remove-cell"
    ]
   },
   "source": [
    "Notes: \"Structured\" here can be mostly considered as pre-defined and organized, e.g. tabular. "
   ]
  },
  {
   "cell_type": "markdown",
   "id": "6fee3dd5",
   "metadata": {
    "slideshow": {
     "slide_type": "slide"
    }
   },
   "source": [
    "### Unstructured Data\n",
    "\n",
    "<div class=\"group\">\n",
    "  <div class=\"text\"> \n",
    "      \n",
    "* Free text - ‘lorem ipsum какой прекрасный сегодня день!’\n",
    "* Images\n",
    "* Audio files\n",
    "* Can be stored in “object store” - AWS S3\n",
    "\n",
    "    </div>\n",
    "    <div class=\"images\">\n",
    "        <img src=\"../images/intro_databases/img_p2_1.png\">\n",
    "        <img src=\"../images/intro_databases/img_p2_2.png\">\n",
    "    </div>\n",
    "</div>"
   ]
  },
  {
   "cell_type": "markdown",
   "id": "a2d727d0",
   "metadata": {
    "slideshow": {
     "slide_type": "notes"
    },
    "tags": [
     "remove-cell"
    ]
   },
   "source": [
    "Notes: \n",
    "\n",
    "Free text includes articles, social media posts, emails, and more. Unlike structured data found in databases, free text doesn't adhere to specific fields or formats.. The Russian says: \"What a wonderful day it is today\". \n",
    "\n",
    "Images are made up of pixels arranged in a grid. There's no inherent structure that says, \"This pixel is a person,\" or \"This pixel is a tree.\"\n",
    "\n",
    "Audio files are essentially waves of varying frequencies and amplitudes over time. While there might be metadata attached (like title, artist, etc.), the core audio itself is unstructured. "
   ]
  },
  {
   "cell_type": "markdown",
   "id": "00e6d4c3",
   "metadata": {
    "slideshow": {
     "slide_type": "slide"
    }
   },
   "source": [
    "### Semi-structured Data\n",
    "\n",
    "<div class=\"group\">\n",
    "  <div class=\"text\"> \n",
    "      \n",
    "* Stored in document databases, e.g. “MongoDB”, “Elastic Search”\n",
    "* JSON - JavaScript object notation\n",
    "* CSV - “comma separated values” \n",
    "\n",
    "    </div>\n",
    "    <div class=\"images\">\n",
    "        <img src=\"../images/intro_databases/img_p3_2.png\">\n",
    "        <br>\n",
    "        <img src=\"../images/intro_databases/img_p3_1.png\">\n",
    "    </div>\n",
    "</div>"
   ]
  },
  {
   "cell_type": "markdown",
   "id": "741252b3",
   "metadata": {
    "slideshow": {
     "slide_type": "notes"
    },
    "tags": [
     "remove-cell"
    ]
   },
   "source": [
    "Notes: \n",
    "\n",
    "**MongoDB**: Document database with documents similar to JSON. Flexible data types, fast, scalabe, used in management systems, e-commerce platforms, IoT (Internet of Things), mobile applications, real-time analytics, etc. \n",
    "[MongoDB in 100 Seconds](https://www.youtube.com/watch?v=-bt_y4Loofg)\n",
    "\n",
    "**Elasticsearch**: Search engine for non-SQL / non-schema data (JSON-like data). Flexible data types, reserve indexing, fast, scalabe, used e-commerce platforms, log analysis, enterprise search,  real-time monitoring, etc. \n",
    "[Elasticsearch in 1 minute : The Ultimate Crash Course](https://www.youtube.com/shorts/IE1QOLp8Hdk)"
   ]
  },
  {
   "cell_type": "markdown",
   "id": "44bcc36a",
   "metadata": {
    "slideshow": {
     "slide_type": "slide"
    }
   },
   "source": [
    "### Structured Data\n",
    "      \n",
    "* Standardized format with **encoded and enforced** structure which\n",
    "    * can be processed efficiently by software and humans alike\n",
    "    * can be stored and managed more easily\n",
    "    * lends itself easily to mathematical analysis\n",
    "* **Rows** usually represent data points/instances\n",
    "* **Columns** usually represent data attributes\n",
    "* Definable attributes - same attributes for all records\n",
    "* Relational attributes - common values that link different datasets together\n",
    "\n",
    "\n",
    "\n",
    "|classroom_id | classroom_capacity | classroom_number | bootcamp_id|\n",
    "|:------ | :------- | :------- | :------- |\n",
    "|1 | 10 | 100 | A  |\n",
    "|2 | 15 | 101 | B |\n",
    "|3 | 20 | 102 | C |\n",
    "\n"
   ]
  },
  {
   "cell_type": "markdown",
   "id": "a7aee164",
   "metadata": {
    "slideshow": {
     "slide_type": "notes"
    },
    "tags": [
     "remove-cell"
    ]
   },
   "source": [
    "Notes: \n",
    "\n",
    "\"attributes\" are the column names here. \n",
    "\n",
    "Q: What are the definable (classroom_capacity, classroom_number) and relational (classroom_id, bootcamp_id) attributes in given example? "
   ]
  },
  {
   "cell_type": "markdown",
   "id": "67e2f340",
   "metadata": {
    "slideshow": {
     "slide_type": "slide"
    }
   },
   "source": [
    "## Databases\n"
   ]
  },
  {
   "cell_type": "markdown",
   "id": "310cd942",
   "metadata": {
    "slideshow": {
     "slide_type": "notes"
    },
    "tags": [
     "remove-cell"
    ]
   },
   "source": [
    "Notes: So far, we talked about \"Data\", now let's talk about \"Databases\"..."
   ]
  },
  {
   "cell_type": "markdown",
   "id": "d5e75dac",
   "metadata": {
    "slideshow": {
     "slide_type": "slide"
    }
   },
   "source": [
    "## Why learn about Databases?\n",
    "\n",
    "**Why?**\n",
    "* Most of (large) data is stored in databases\n",
    "* An analyst needs to be able to connect to a database and access its data to unlock insights.\n",
    "\n",
    "**What?**\n",
    "* Understand the basics of databases\n",
    "* Be able to connect to a database\n",
    "\n",
    "**How?**\n",
    "* Learn about database types and how they are structured\n",
    "* Connect to a database and explore its content"
   ]
  },
  {
   "cell_type": "markdown",
   "id": "549c890d",
   "metadata": {
    "slideshow": {
     "slide_type": "slide"
    }
   },
   "source": [
    "### What are Databases?\n",
    "\n",
    "* A systematic collection of data\n",
    "* Data is either stored on disk or in-memory (faster)\n",
    "* Support electronic storage and manipulation of data"
   ]
  },
  {
   "cell_type": "markdown",
   "id": "2e575994",
   "metadata": {
    "slideshow": {
     "slide_type": "slide"
    }
   },
   "source": [
    "## Types of Databases\n",
    "\n",
    "**RDBMS: Relational Database Management Systems**\n",
    "* use SQL to query RDBMS\n",
    "* have a predefined schema\n",
    "* data is stored in tabular form of columns and rows\n",
    "* the relationship between data is relational\n",
    "* Examples: Postgres, MySql, Oracle, SQLite\n",
    "\n",
    "**NoSQL Databases**\n",
    "* don’t use SQL as the primary language\n",
    "* have no predefined schema\n",
    "* Examples: Neo4j, Elasticsearch, MongoDB\n"
   ]
  },
  {
   "cell_type": "markdown",
   "id": "23f0cdc5",
   "metadata": {
    "slideshow": {
     "slide_type": "notes"
    },
    "tags": [
     "remove-cell"
    ]
   },
   "source": [
    "Notes: There are two main types of databases\n",
    "\n",
    "RDBMS...\n",
    "\n",
    "NoSQL...\n",
    "\n",
    "Today, we are gonna learn about RDBMS. \n",
    "\n",
    "Neo4j: graph database management system, designed for storing and querying graph data. Commonly used for applications involving highly interconnected data."
   ]
  },
  {
   "cell_type": "markdown",
   "id": "a15d46f8",
   "metadata": {
    "slideshow": {
     "slide_type": "slide"
    }
   },
   "source": [
    "### RDBMS\n",
    "\n",
    "<div class=\"group\">\n",
    "  <div class=\"text_70\"> \n",
    "      \n",
    "* Many different types of databases exist and each uses a different flavour of SQL.\n",
    "* Their syntax can differ, but the core concepts are the same.\n",
    "* Some databases will implement a subset of the functionality.\n",
    "* Some DB will be optimized for speed of read, others for speed of write.\n",
    "\n",
    "    </div>\n",
    "    <div class=\"images_30\">\n",
    "        <img src=\"../images/intro_databases/sql_flavours.png\">\n",
    "    </div>\n",
    "</div>"
   ]
  },
  {
   "cell_type": "markdown",
   "id": "12ce96f7",
   "metadata": {
    "slideshow": {
     "slide_type": "notes"
    },
    "tags": [
     "remove-cell"
    ]
   },
   "source": [
    "Notes: Different DBs, different SQL flavours. We are gonna use PostgreSQL (post-gress-cue-ell). \n",
    "\n",
    "Use cases: \n",
    "\n",
    "PostgreSQL: wide range of applications, like web applications, enterprise software, data warehousing. Advanced features and support for complex queries.\n",
    "\n",
    "MySQL: Often for web applications, esp. for high-performance, scalable, and easy-to-manage databases. Commonly associated with the LAMP stack (Linux, Apache, MySQL, PHP/Python/Perl).\n",
    "\n",
    "Amazon Redshift: Fully managed data warehouse service on cloud, designed for analytics and BI. Optimized for high-performance, scalable, and cost-effectiveness.\n",
    "\n",
    "SQLite: Lightweight, often used for mobile applications or local database for desktop applications. Not suitable for high-concurrency or high-volume applications."
   ]
  },
  {
   "cell_type": "markdown",
   "id": "9fb387e9",
   "metadata": {
    "slideshow": {
     "slide_type": "slide"
    }
   },
   "source": [
    "### Database Structure\n",
    "\n",
    "<div class=\"group\">\n",
    "  <div class=\"text\"> \n",
    "      \n",
    "* A database consists of one/multiple schemas\n",
    "* Schemas consist of tables\n",
    "* Tables consist of columns and rows\n",
    "* A column is a variable and has a unique name\n",
    "* A row is an observation\n",
    "* Every cell is a single value\n",
    "\n",
    "    </div>\n",
    "    <div class=\"images\">\n",
    "        <img src=\"../images/intro_databases/img_p9_1.png\">\n",
    "    </div>\n",
    "</div>"
   ]
  },
  {
   "cell_type": "markdown",
   "id": "0958d05b",
   "metadata": {
    "slideshow": {
     "slide_type": "notes"
    },
    "tags": [
     "remove-cell"
    ]
   },
   "source": [
    "Notes: \"Schema\" is a structure or blueprint that defines organization, layout, and relationships among data elements within a database. It represents the logical view of the entire dataset. "
   ]
  },
  {
   "cell_type": "markdown",
   "id": "23afa82f",
   "metadata": {
    "slideshow": {
     "slide_type": "slide"
    }
   },
   "source": [
    "### Entity-Relationship model\n",
    "\n",
    "<div class=\"group\">\n",
    "  <div class=\"text\"> \n",
    "      \n",
    "* Data consists of entities of type object, class, person or place\n",
    "* The property of an entity is described through their attribute(s)\n",
    "* Relationships describe the relation between entities\n",
    "* Different types of relationship exist\n",
    "\n",
    "    </div>\n",
    "    <div class=\"images\">\n",
    "        <img src=\"../images/intro_databases/img_p9_1.png\">\n",
    "    </div>\n",
    "</div>\n"
   ]
  },
  {
   "cell_type": "markdown",
   "id": "246fbb71",
   "metadata": {
    "slideshow": {
     "slide_type": "notes"
    },
    "tags": [
     "remove-cell"
    ]
   },
   "source": [
    "Notes: Entities (like class in OOP) represent real-world items or concepts that have identifiable attributes and characteristics. Rows are the instances of an entity. "
   ]
  },
  {
   "cell_type": "markdown",
   "id": "13263465",
   "metadata": {
    "slideshow": {
     "slide_type": "slide"
    }
   },
   "source": [
    "### Entity-Relationship types\n",
    "\n",
    "* One-to-one (1:1)\n",
    "* One-to-many (1:n) / Many-to-one (n:1)\n",
    "* Many-to-many (n:n)\n"
   ]
  },
  {
   "cell_type": "markdown",
   "id": "57ca626d",
   "metadata": {
    "slideshow": {
     "slide_type": "slide"
    }
   },
   "source": [
    "### Entity-Relationship types\n",
    "\n",
    "<div class=\"group\">\n",
    "  <div class=\"text\"> \n",
    "      \n",
    "* One-to-one (1:1)\n",
    "* <font color='lightgrey'>One-to-many (1:n) / Many-to-one (n:1)</font>\n",
    "* <font color='lightgrey'>Many-to-many (n:n)</font>\n",
    "\n",
    "    </div>\n",
    "    <div class=\"images\">\n",
    "        <img src=\"../images/intro_databases/img_p12_1.png\">\n",
    "    </div>\n",
    "</div>\n"
   ]
  },
  {
   "cell_type": "markdown",
   "id": "12bca06f",
   "metadata": {
    "slideshow": {
     "slide_type": "slide"
    }
   },
   "source": [
    "### Entity-Relationship types\n",
    "\n",
    "<div class=\"group\">\n",
    "  <div class=\"text\"> \n",
    "\n",
    "* <font color='lightgrey'>One-to-one (1:1)</font>     \n",
    "* One-to-many (1:n) / Many-to-one (n:1)\n",
    "* <font color='lightgrey'>Many-to-many (n:n)</font>\n",
    "\n",
    "    </div>\n",
    "    <div class=\"images\">\n",
    "        <img src=\"../images/intro_databases/img_p13_1.png\">\n",
    "    </div>\n",
    "</div>"
   ]
  },
  {
   "cell_type": "markdown",
   "id": "174254cc",
   "metadata": {
    "slideshow": {
     "slide_type": "slide"
    }
   },
   "source": [
    "### Entity-Relationship types\n",
    "\n",
    "<div class=\"group\">\n",
    "  <div class=\"text\"> \n",
    "\n",
    "* <font color='lightgrey'>One-to-one (1:1)</font>   \n",
    "* <font color='lightgrey'>One-to-many (1:n) / Many-to-one (n:1)</font>\n",
    "* Many-to-many (n:n)\n",
    "\n",
    "    </div>\n",
    "    <div class=\"images\">\n",
    "        <img src=\"../images/intro_databases/img_p14_1.png\">\n",
    "    </div>\n",
    "</div>"
   ]
  },
  {
   "cell_type": "markdown",
   "id": "f28afe6d",
   "metadata": {
    "slideshow": {
     "slide_type": "notes"
    },
    "tags": [
     "remove-cell"
    ]
   },
   "source": [
    "Notes: Many-to-many relationships are different from one-to-many and one-to-one relationships in that they cannot be represented in a simple way using just a foreign key. Instead, an additional entity type is needed to \"join\" the two sides of the relationship. "
   ]
  },
  {
   "cell_type": "markdown",
   "id": "3acf59fb",
   "metadata": {
    "slideshow": {
     "slide_type": "slide"
    }
   },
   "source": [
    "### Relational Databases\n",
    "\n",
    "<div class=\"group\">\n",
    "  <div class=\"text\"> \n",
    "      \n",
    "* Tables are related via primary and foreign keys\n",
    "* Each table has one primary key that is unique for each record\n",
    "* A foreign key is a field (or collection of fields) in one table, that refers to the primary key in another table\n",
    "\n",
    "    </div>\n",
    "    <div class=\"images\">\n",
    "        <img src=\"../images/intro_databases/img_p9_1.png\">\n",
    "    </div>\n",
    "</div>\n"
   ]
  },
  {
   "cell_type": "markdown",
   "id": "c8919de1",
   "metadata": {
    "slideshow": {
     "slide_type": "notes"
    },
    "tags": [
     "remove-cell"
    ]
   },
   "source": [
    "Notes: Which is the primary key, which is the foreign key in this example?"
   ]
  },
  {
   "cell_type": "markdown",
   "id": "198b72a4",
   "metadata": {
    "slideshow": {
     "slide_type": "slide"
    }
   },
   "source": [
    "## ERM Exercise"
   ]
  },
  {
   "cell_type": "markdown",
   "id": "efababfc",
   "metadata": {
    "slideshow": {
     "slide_type": "slide"
    }
   },
   "source": [
    "### Group Work\n",
    "\n",
    "<div class=\"group\">\n",
    "  <div class=\"text\">  \n",
    "      \n",
    "<br>   \n",
    "      \n",
    "1. Split up in 4 groups\n",
    "2. Open the Miro Board we send in Slack\n",
    "3. Create between 4 and 8 entities\n",
    "4. Write down properties (columns) of entities\n",
    "5. Model dependencies (1:1, 1:m, m:n)\n",
    "6. Present your final diagram and explain decisions\n",
    "7. You have 30 Minutes\n",
    "    </div>\n",
    "    <div class=\"images\">\n",
    "<br>  \n",
    "        \n",
    "| Topic |\n",
    "|-------|\n",
    "| Airport |\n",
    "| Chocolat Factory | \n",
    "| Roller Coaster Park |\n",
    "| Restaurant |\n"
   ]
  },
  {
   "cell_type": "markdown",
   "id": "55faef88",
   "metadata": {
    "slideshow": {
     "slide_type": "slide"
    }
   },
   "source": [
    "## Connecting to a Database"
   ]
  },
  {
   "cell_type": "markdown",
   "id": "dce3fca9",
   "metadata": {
    "slideshow": {
     "slide_type": "slide"
    }
   },
   "source": [
    "### SQL Client / Database IDE\n",
    "* IDE = **I**ntegrated **D**evelopment **E**nvironment\n",
    "* Powerful software that can be used to connect to a database and retrieve and\n",
    "visualise data (and more!)\n",
    "* Local or in the cloud\n",
    "* Collection of open-source, free and paid software available\n"
   ]
  },
  {
   "cell_type": "markdown",
   "id": "e7de18c6",
   "metadata": {
    "slideshow": {
     "slide_type": "slide"
    }
   },
   "source": [
    "### Local SQL Clients vs. Cloud SQL Clients\n",
    "\n",
    "* Local: Installed and run locally on your machine\n",
    "* Cloud: Deployed in the cloud and accessed via a web-interface\n",
    "\n",
    "<br>\n",
    "<br>\n",
    "\n",
    "![local_vs_cloud](../images/intro_databases/local_cloud_clients.png)"
   ]
  },
  {
   "cell_type": "markdown",
   "id": "a7274bf9",
   "metadata": {
    "slideshow": {
     "slide_type": "slide"
    }
   },
   "source": [
    "### DBeaver\n",
    "\n",
    "<div class=\"group\">\n",
    "  <div class=\"text_70\"> \n",
    "\n",
    "In this course we will use DBeaver\n",
    "    </div>\n",
    "    <div class=\"images_30\">\n",
    "        <img src=\"../images/intro_databases/img_p20_3.png\">\n",
    "    </div>\n",
    "</div>\n",
    "\n",
    "\n",
    "**Why?**\n",
    "\n",
    "* Free\n",
    "* Easy to use\n",
    "* Works for many different types of databases\n",
    "* Cross platform (Windows, Linux, Mac OS, Solaris)"
   ]
  },
  {
   "cell_type": "markdown",
   "id": "e6d96c20",
   "metadata": {
    "slideshow": {
     "slide_type": "slide"
    }
   },
   "source": [
    "### Setting up DBeaver\n",
    "\n",
    "Open `DBeaver` > `Preferences` > `Editors`\n",
    "* Enable upper case: `SQL Editor` > `Formatting` > `Keyword Case` > Set to: **Upper**\n",
    "* Add line numbers: `Text Editors` > `Show line numbers` > **Tick box**\n"
   ]
  },
  {
   "cell_type": "markdown",
   "id": "c96e664d",
   "metadata": {
    "slideshow": {
     "slide_type": "notes"
    },
    "tags": [
     "remove-cell"
    ]
   },
   "source": [
    "Notes: Setting up DBeaver can be done in the morning before the lecture (when students are still fresh and fully focused). Later during lecture ask once more, if everyone is on board. "
   ]
  },
  {
   "cell_type": "markdown",
   "id": "11a4f667",
   "metadata": {
    "slideshow": {
     "slide_type": "slide"
    }
   },
   "source": [
    "### Connect to a PostgreSQL database\n",
    "\n",
    "\n",
    "1. Click on “New Database Connection”\n",
    "2. Search for and select PostgreSQL\n",
    "3. Enter the connection details below\n",
    "\n",
    "<div class=\"group\">\n",
    "  <div class=\"text\"> \n",
    "      \n",
    "**Host:** `ds-sql-playground.c8g8r1deus2v.eu-central-1.rds.amazonaws.com` \n",
    "<br>\n",
    "**Port:** `5432`\n",
    "<br>\n",
    "**Database:** `postgres`\n",
    "<br>\n",
    "**Username** `Will be posted in Slack/Zoom Chat`\n",
    "<br>\n",
    "**Password** `Will be posted in Slack/Zoom Chat`\n",
    "    </div>\n",
    "    <div class=\"images\">\n",
    "        <img src=\"../images/intro_databases/img_p24_3.png\">\n",
    "    </div>\n",
    "</div>"
   ]
  },
  {
   "cell_type": "markdown",
   "id": "58b25f43",
   "metadata": {
    "slideshow": {
     "slide_type": "notes"
    },
    "tags": [
     "remove-cell"
    ]
   },
   "source": [
    "Notes: Setting up DBeaver can be done in the morning before the lecture (when students are still fresh and fully focused). Later during lecture ask once more, if everyone is on board. "
   ]
  },
  {
   "cell_type": "markdown",
   "id": "2682fed7",
   "metadata": {
    "slideshow": {
     "slide_type": "slide"
    }
   },
   "source": [
    "### Exploring the database\n",
    "\n",
    "Find the database connection in your “Database Navigator” pane on the left\n",
    "\n",
    "Expand it to `postgres` > `postgres` > `Schemas` > `introduction` > `Tables`\n",
    "\n",
    "Check out the introduction’s tables and answer the following questions:\n",
    "\n",
    "1. What happens if you double click on a table?\n",
    "2. What is the first and last entry listed in the `records` table?\n",
    "3. What data type is the column `record_date` in the `records` table?"
   ]
  }
 ],
 "metadata": {
  "celltoolbar": "Tags",
  "jupytext": {
   "cell_metadata_filter": "-all",
   "main_language": "python",
   "notebook_metadata_filter": "-all"
  },
  "kernelspec": {
   "display_name": "Python 3 (ipykernel)",
   "language": "python",
   "name": "python3"
  },
  "language_info": {
   "codemirror_mode": {
    "name": "ipython",
    "version": 3
   },
   "file_extension": ".py",
   "mimetype": "text/x-python",
   "name": "python",
   "nbconvert_exporter": "python",
   "pygments_lexer": "ipython3",
   "version": "3.11.3"
  },
  "rise": {
   "auto_select": "none",
   "transition": "fade"
  }
 },
 "nbformat": 4,
 "nbformat_minor": 5
}
