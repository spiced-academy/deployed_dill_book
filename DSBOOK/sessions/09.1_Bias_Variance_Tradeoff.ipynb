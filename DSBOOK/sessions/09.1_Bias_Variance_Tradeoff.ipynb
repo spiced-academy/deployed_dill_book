{
 "cells": [
  {
   "cell_type": "markdown",
   "id": "ca46a10b",
   "metadata": {
    "slideshow": {
     "slide_type": "skip"
    }
   },
   "source": [
    "\n",
    "   # Bias Variance Tradeoff\n"
   ]
  },
  {
   "cell_type": "markdown",
   "id": "ec0d184d",
   "metadata": {
    "slideshow": {
     "slide_type": "skip"
    },
    "tags": [
     "remove-cell"
    ]
   },
   "source": [
    "## Part One - Necessary Code"
   ]
  },
  {
   "cell_type": "code",
   "execution_count": 1,
   "id": "931eb2d5",
   "metadata": {
    "slideshow": {
     "slide_type": "skip"
    },
    "tags": [
     "remove-cell"
    ]
   },
   "outputs": [],
   "source": [
    "import numpy as np\n",
    "import pandas as pd\n",
    "\n",
    "import seaborn as sns\n",
    "import matplotlib.pyplot as plt\n",
    "import matplotlib.patches as patches\n",
    "\n",
    "from sklearn.model_selection import train_test_split\n",
    "from sklearn.metrics import mean_squared_error\n",
    "from sklearn.linear_model import LinearRegression\n",
    "from sklearn.preprocessing import PolynomialFeatures\n",
    "\n",
    "from sklearn.pipeline import Pipeline"
   ]
  },
  {
   "cell_type": "code",
   "execution_count": 2,
   "id": "74df2b82",
   "metadata": {
    "slideshow": {
     "slide_type": "skip"
    },
    "tags": [
     "remove-cell"
    ]
   },
   "outputs": [],
   "source": [
    "# Colors\n",
    "nemo = \"#FF4A11\"\n",
    "granite = \"#252629\"\n",
    "blue = \"#33A5FF\"\n",
    "green = \"#03AC13\""
   ]
  },
  {
   "cell_type": "markdown",
   "id": "13761130",
   "metadata": {
    "slideshow": {
     "slide_type": "skip"
    },
    "tags": [
     "remove-cell"
    ]
   },
   "source": [
    "### Generate Data"
   ]
  },
  {
   "cell_type": "code",
   "execution_count": 3,
   "id": "ec3103d7",
   "metadata": {
    "slideshow": {
     "slide_type": "skip"
    },
    "tags": [
     "remove-cell"
    ]
   },
   "outputs": [],
   "source": [
    "def generate_data(num_points):\n",
    "    np.random.seed(42)\n",
    "    x = np.random.uniform(low=0, high=12, size=num_points)\n",
    "    noise = np.random.normal(loc=0, scale=1, size=num_points)\n",
    "    y = 0.3 + 0.5 * x + noise\n",
    "    X = np.column_stack((np.ones(num_points), x))\n",
    "    X_df = pd.DataFrame(X, columns=['intercept', 'Week of bootcamp'])\n",
    "    X_df['Coffee consumption in [l]'] = y\n",
    "    return X_df, X, y.reshape(-1, 1)\n",
    "\n",
    "num_points=50\n",
    "data, X, y = generate_data(num_points)"
   ]
  },
  {
   "cell_type": "code",
   "execution_count": 4,
   "id": "25dd2c58",
   "metadata": {
    "slideshow": {
     "slide_type": "skip"
    },
    "tags": [
     "remove-cell"
    ]
   },
   "outputs": [],
   "source": [
    "# Plot the data points\n",
    "def plot_data(data, color=blue, color_line=nemo, figsize=(10,6), regression=True, residuals=False):\n",
    "    data_plot = data.copy()\n",
    "    plt.figure(figsize=figsize)\n",
    "    sns.set_context(\"talk\", font_scale=0.8, rc={\"lines.linewidth\": 2.})\n",
    "    plt.scatter(data_plot['Week of bootcamp'], data_plot['Coffee consumption in [l]'], c=color, s=30, zorder=3)\n",
    "    \n",
    "    # Add regression line\n",
    "    if regression:\n",
    "        b1, b0 = np.polyfit(data_plot['Week of bootcamp'], data_plot['Coffee consumption in [l]'], 1)\n",
    "        data_plot['Regression line'] = b0 + b1*data_plot['Week of bootcamp']\n",
    "        plt.plot(data_plot['Week of bootcamp'],  data_plot['Regression line'], c=color_line, zorder=2)\n",
    "        if residuals:\n",
    "            for index, row in data_plot.iterrows():\n",
    "                plt.plot([row['Week of bootcamp'], row['Week of bootcamp']], [row['Coffee consumption in [l]'], row['Regression line']], color=granite, linewidth=1, zorder=1)\n",
    "        \n",
    "    plt.xlabel('Week of bootcamp')\n",
    "    plt.ylabel('Coffee consumption [l]')\n",
    "    sns.despine()"
   ]
  },
  {
   "cell_type": "markdown",
   "id": "f117cb0d",
   "metadata": {
    "slideshow": {
     "slide_type": "skip"
    },
    "tags": [
     "remove-cell"
    ]
   },
   "source": [
    "### Error Analysis\n",
    "\n",
    "This example is from [notebook 1 of the predictive regression repo](https://github.com/neuefische/ds-predictive-regression/blob/main/1_Bias_Variance_Tradeoff.ipynb). Therefore, it is different data than the coffee/bootcamp time dataset we created for the rest of the plots."
   ]
  },
  {
   "cell_type": "code",
   "execution_count": 5,
   "id": "09d51eb4",
   "metadata": {
    "slideshow": {
     "slide_type": "skip"
    },
    "tags": [
     "remove-cell"
    ]
   },
   "outputs": [],
   "source": [
    "def lin_reg_model_for_error_analysis():\n",
    "    \"\"\"creating data and linear regression model for error analysis plot. Data is created with x^3, the model is a simple linear regression, so that a pattern can be seen in the residual plot.\n",
    "\n",
    "    Returns:\n",
    "        y_test: test data that was created\n",
    "        y_pred_test : predictions of the simple linear regression model for the test data\n",
    "    \"\"\"\n",
    "    RSEED = 12\n",
    "    np.random.seed(4)\n",
    "    # generating 100 random x-values between -7 and 7\n",
    "    x = np.random.uniform(-7,7,size=100)\n",
    "    # adding some random noise with np.random.normal with mu = 0 and std = 20\n",
    "    y = 10 * x - 2 * (x ** 2) + 0.5 * (x ** 3) + np.random.normal(0, 20, 100)\n",
    "    # transforming the data to include another axis since this is expected for modelling with scikit-learn\n",
    "    x = x[:, np.newaxis]\n",
    "    y = y[:, np.newaxis]\n",
    "    X_train, X_test, y_train, y_test = train_test_split(x, y, test_size=0.8, random_state=RSEED) \n",
    "    lin_reg = LinearRegression()\n",
    "    lin_reg.fit(X_train, y_train)\n",
    "    y_pred_test = lin_reg.predict(X_test)\n",
    "    \n",
    "    return y_test, y_pred_test\n",
    "\n",
    "def error_analysis(y_test, y_pred_test):\n",
    "    \"\"\"Generated true vs. predicted values and residual scatter plot for models\n",
    "\n",
    "    Args:\n",
    "        y_test (array): true values for y_test\n",
    "        y_pred_test (array): predicted values of model for y_test\n",
    "    \"\"\"     \n",
    "    # Calculate residuals\n",
    "    residuals = y_test - y_pred_test\n",
    "    \n",
    "    # Plot real vs. predicted values \n",
    "    fig, ax = plt.subplots(1,2, figsize=(15, 5))\n",
    "    plt.subplots_adjust(right=1)\n",
    "    plt.suptitle('Error Analysis')\n",
    "    \n",
    "    ax[0].scatter(y_pred_test, y_test, color=nemo, alpha=0.7)\n",
    "    ax[0].plot([-400, 350], [-400, 350], color=granite)\n",
    "    ax[0].set_title(\"True vs. predicted values\", fontsize=16)\n",
    "    ax[0].set_xlabel(\"predicted values\")\n",
    "    ax[0].set_ylabel(\"true values\")\n",
    "    ax[0].set_xlim(-350, 150)\n",
    "    ax[0].set_ylim(-350, 150)\n",
    "    \n",
    "    ax[1].scatter(y_pred_test, residuals, color=nemo, alpha=0.7)\n",
    "    ax[1].plot([-400, 350], [0,0], color=granite)\n",
    "    ax[1].set_title(\"Residual Scatter Plot\", fontsize=16)\n",
    "    ax[1].set_xlabel(\"predicted values\")\n",
    "    ax[1].set_ylabel(\"residuals\")\n",
    "    ax[1].set_xlim((y_pred_test.min()-10), (y_pred_test.max()+10))\n",
    "    ax[1].set_ylim((residuals.min()-10), (residuals.max()+10));"
   ]
  },
  {
   "cell_type": "markdown",
   "id": "a20c1eb3",
   "metadata": {
    "slideshow": {
     "slide_type": "skip"
    },
    "tags": [
     "remove-cell"
    ]
   },
   "source": [
    "### Learning Curves"
   ]
  },
  {
   "cell_type": "code",
   "execution_count": 6,
   "id": "7d307ce5",
   "metadata": {
    "slideshow": {
     "slide_type": "skip"
    },
    "tags": [
     "remove-cell"
    ]
   },
   "outputs": [],
   "source": [
    "# Learning curves data\n",
    "np.random.seed(42)\n",
    "\n",
    "m = 100\n",
    "X_learning_curve = 6 * np.random.rand(m, 1) - 3\n",
    "y_learning_curve = 0.5 * X_learning_curve**2 + X_learning_curve + 2 + np.random.randn(m, 1)\n",
    "\n",
    "lin_reg = LinearRegression()\n",
    "polynomial_regression = Pipeline([\n",
    "        (\"poly_features\", PolynomialFeatures(degree=10, include_bias=False)),\n",
    "        (\"lin_reg\", LinearRegression()),\n",
    "    ])"
   ]
  },
  {
   "cell_type": "code",
   "execution_count": 7,
   "id": "c273b959",
   "metadata": {
    "slideshow": {
     "slide_type": "skip"
    },
    "tags": [
     "remove-cell"
    ]
   },
   "outputs": [],
   "source": [
    "def plot_learning_curves(model, X, y, title, figsize=(10,6), ax=None, y_label=None):\n",
    "    if ax==None:\n",
    "        plt.figure(figsize=figsize)\n",
    "    else:\n",
    "        plt.gca()\n",
    "    \n",
    "    sns.set_context(\"talk\", font_scale=1, rc={\"lines.linewidth\": 2.})\n",
    "    \n",
    "    X_train, X_test, y_train, y_test = train_test_split(X, y, test_size=0.2, random_state=10)\n",
    "    train_errors, test_errors = [], []\n",
    "    \n",
    "    for m in range(1, len(X_train)):\n",
    "        model.fit(X_train[:m], y_train[:m])\n",
    "        y_train_predict = model.predict(X_train[:m])\n",
    "        y_test_predict = model.predict(X_test)\n",
    "        train_errors.append(mean_squared_error(y_train[:m], y_train_predict))\n",
    "        test_errors.append(mean_squared_error(y_test, y_test_predict))\n",
    "\n",
    "    ax.plot(np.sqrt(train_errors), \"-\", c=nemo, linewidth=2, label=\"train\")\n",
    "    ax.plot(np.sqrt(test_errors), \"--\", c=granite, linewidth=3, label=\"test\")\n",
    "    ax.legend(loc=\"upper right\", fontsize=14)  \n",
    "    ax.set_ylim(0, 3)\n",
    "    ax.set_xlim(0, 80)\n",
    "    ax.set_xlabel(\"Training set size\", fontsize=14) \n",
    "    ax.set_title(title)\n",
    "    if y_label:\n",
    "        ax.set_ylabel(\"RMSE\")\n",
    "    sns.despine()"
   ]
  },
  {
   "cell_type": "markdown",
   "id": "f7299bd1",
   "metadata": {
    "slideshow": {
     "slide_type": "skip"
    },
    "tags": [
     "remove-cell"
    ]
   },
   "source": [
    "## Part two - Lecture"
   ]
  },
  {
   "cell_type": "markdown",
   "id": "8e8f17c4",
   "metadata": {
    "slideshow": {
     "slide_type": "slide"
    },
    "tags": [
     "remove-cell"
    ]
   },
   "source": [
    "<div class=\"slide-title\"> \n",
    "    \n",
    "# Bias Variance Tradeoff\n",
    " \n",
    "\n",
    "    \n",
    "</div>\n",
    "    \n",
    "###### ... and regularization"
   ]
  },
  {
   "cell_type": "markdown",
   "id": "b38a89c2",
   "metadata": {
    "slideshow": {
     "slide_type": "slide"
    }
   },
   "source": [
    "## Let's start with IceCream\n",
    "<br>\n",
    "<div class=\"images\">\n",
    " <img src=\"../images/bias_variance_tradeoff/bv_transparent.jpg\" width=1000 heigth=1000 align=\"middle\">\n",
    " \n",
    "</div>"
   ]
  },
  {
   "cell_type": "markdown",
   "id": "11f4bfba",
   "metadata": {
    "slideshow": {
     "slide_type": "notes"
    },
    "tags": [
     "remove-cell"
    ]
   },
   "source": [
    "Notes: Imagine we measure the sunshine hours and the Ice cream consumption of a bunch of spiced people and plotted on a graph\n",
    "\n",
    "People tend to eat less ice creams when there is less sunshine hours, more ice creams when there more sunshine ours, but upper a certain sunshine hours people don't eat even more icecream"
   ]
  },
  {
   "cell_type": "markdown",
   "id": "c6b706c0",
   "metadata": {
    "slideshow": {
     "slide_type": "slide"
    }
   },
   "source": [
    "## Let's start with IceCream\n",
    "<br>\n",
    "<div class=\"images\">\n",
    " <img src=\"../images/bias_variance_tradeoff/bv_transparent_x.jpg\" width=1000 heigth=1000 align=\"middle\">\n",
    " \n",
    "</div>"
   ]
  },
  {
   "cell_type": "markdown",
   "id": "a2d200c6",
   "metadata": {
    "slideshow": {
     "slide_type": "notes"
    },
    "tags": [
     "remove-cell"
    ]
   },
   "source": [
    "Notes: Given the data we would like to predict the icecream consumption given  the sunshine hours. \n",
    "\n",
    "if you told me that there are that many sunshine hours (x letter on x axis), then we might predict that the people will consume that amount (x letter on y axis) of icecream. "
   ]
  },
  {
   "cell_type": "markdown",
   "id": "6605a8ec",
   "metadata": {
    "slideshow": {
     "slide_type": "slide"
    }
   },
   "source": [
    "### Visual Approach\n",
    "<div class=\"group\">\n",
    "  <div class=\"text\">   \n",
    "<img src=\"../images/bias_variance_tradeoff/train_test_bv_1_transparent_bg.png\">\n",
    "    </div>\n",
    "      <div class=\"images\">\n",
    "    </div>\n",
    "</div>"
   ]
  },
  {
   "cell_type": "markdown",
   "id": "25f4aa13",
   "metadata": {
    "slideshow": {
     "slide_type": "notes"
    },
    "tags": [
     "remove-cell"
    ]
   },
   "source": [
    "Notes: Ideally we would know the exact mathematical formula that describes the relationship between sunshine hours and icecream consumption (gray line in theplot). \n",
    "\n",
    "But in this case we don't know the formula, so we are going to use two machine learning methods to approximate this relationship"
   ]
  },
  {
   "cell_type": "markdown",
   "id": "02559ec9",
   "metadata": {
    "slideshow": {
     "slide_type": "slide"
    }
   },
   "source": [
    "## Why is it necessary to split the data into train and test?\n",
    "\n",
    "<div class=\"group\">\n",
    "  <div class=\"text\">   \n",
    "\n",
    "\n",
    "Data is typically split into a train and a test set.\n",
    "* to **evaluate how the model performs** on unseen data <br> i.e. if the model ‘generalises’ well\n",
    "      <p>\n",
    "* typical splits are **70% train data** (or more)  and **30% test** data (or less)\n",
    "      <p>\n",
    "* sometimes an additional **validation set** is used\n",
    "    </div>\n",
    "    <div class=\"images\">\n",
    "        <img src=\"../images/bias_variance_tradeoff/train_test_bv_2_transparent_bg.png\">\n",
    "    </div>\n",
    "</div>\n",
    "\n",
    "[Read more on splitting](https://machinelearningmastery.com/train-test-split-for-evaluating-machine-learning-algorithms/#:~:text=The%20train%2Dtest%20split%20is,dividing%20it%20into%20two%20subsets)\n"
   ]
  },
  {
   "cell_type": "markdown",
   "id": "d219d948",
   "metadata": {
    "slideshow": {
     "slide_type": "notes"
    },
    "tags": [
     "remove-cell"
    ]
   },
   "source": [
    "Notes: The first thing we do is split the data in two sets, one for training the machine learning algorithms and one for testing them.\n",
    "\n",
    "simplest: split the dataset in train and test (randomly) and/or validation the split depends on the size of your dataset more train data -> better model use as much test and validation as you can afford from 30% to only 5% random splitting the data might not be random enough - one should check for i.i.d (checking distributions of train target var vs test target variables) if there are differences in distribution of features then you might need to do stratified sampling (for example for gender or age.. )"
   ]
  },
  {
   "cell_type": "markdown",
   "id": "58f72ff8",
   "metadata": {
    "slideshow": {
     "slide_type": "slide"
    }
   },
   "source": [
    "### Simple  Model\n",
    "<div class=\"group\">\n",
    "  <div class=\"text\">   \n",
    "<img src=\"../images/bias_variance_tradeoff/train_test_bv_3_transparent_bg.png\">\n",
    "    </div>"
   ]
  },
  {
   "cell_type": "markdown",
   "id": "3f2ad88b",
   "metadata": {
    "slideshow": {
     "slide_type": "notes"
    },
    "tags": [
     "remove-cell"
    ]
   },
   "source": [
    "Notes: The first ML model we use is LinearRegression. This model fits a Straight Line to the training set.\n",
    "\n",
    "The Straight line doesn't have the flexibility to accurately replicate the arc in the true Relationship. No Matter how we try to fit the line, it will never curve.\n",
    "\n",
    "Thus, the Straight line will never capture the true relationship between sunshine hours and ice cream consumption. (This inability is called bias). Because the Straight line cannot be curved like the true relationship it has a relatively large amount of bias."
   ]
  },
  {
   "cell_type": "markdown",
   "id": "ae174845",
   "metadata": {
    "slideshow": {
     "slide_type": "slide"
    }
   },
   "source": [
    "### Complex  Model\n",
    "<div class=\"images\">\n",
    "        <img src=\"../images/bias_variance_tradeoff/train_test_bv_4_transparent_bg.png\">\n",
    "    </div>"
   ]
  },
  {
   "cell_type": "markdown",
   "id": "5a5f0867",
   "metadata": {
    "slideshow": {
     "slide_type": "notes"
    },
    "tags": [
     "remove-cell"
    ]
   },
   "source": [
    "Notes: Another ML model might fit a Squiggly line to the training set \n",
    "\n",
    "The __Squiggly line__ is so __flexible__ that can embrace the training set. \n",
    "\n",
    "Because the Squiggle line can handle the arc in the true relationship, it has very little bias. \n",
    "\n",
    "__Which model would you prefer?__"
   ]
  },
  {
   "cell_type": "markdown",
   "id": "e82ff7b5",
   "metadata": {
    "slideshow": {
     "slide_type": "slide"
    }
   },
   "source": [
    "### Train Data Residuals\n",
    "<div class=\"group\">\n",
    "  <div class=\"text\">   \n",
    "<img src=\"../images/bias_variance_tradeoff/train_test_bv_5_transparent_bg.png\">\n",
    "    </div>\n",
    "      <div class=\"images\">\n",
    "        <img src=\"../images/bias_variance_tradeoff/train_test_bv_6_transparent_bg.png\">\n",
    "    </div>\n",
    "</div>"
   ]
  },
  {
   "cell_type": "markdown",
   "id": "41436a19",
   "metadata": {
    "slideshow": {
     "slide_type": "notes"
    },
    "tags": [
     "remove-cell"
    ]
   },
   "source": [
    "Notes: We can compare how well the __Straight line__ and the __Squiggle line__ fit the training set by calculating their sums \n",
    "\n",
    "We measure the distances from the fit lines to the data, square them (squared so that the negative distances do not cancel out the positive distances) and add them up.\n",
    "\n",
    "\n",
    "Notice how the __Squiggle line__ fits the data so well that the distances between the fitting line and the data are all __0__\n",
    "\n",
    "\n",
    "In the context to see  whether the __Straight line__ fits the training data better than the __Squiggle line__, the Squiggle line wins.\n",
    "\n",
    "\n",
    "But remember, so far we have only calculated the sum of squares for the training set"
   ]
  },
  {
   "cell_type": "markdown",
   "id": "45c5512a",
   "metadata": {
    "slideshow": {
     "slide_type": "slide"
    }
   },
   "source": [
    "### Test Data Residuals\n",
    "<div class=\"group\">\n",
    "  <div class=\"text\">   \n",
    "<img src=\"../images/bias_variance_tradeoff/train_test_bv_8_transparent_bg.png\">\n",
    "    </div>\n",
    "      <div class=\"images\">\n",
    "        <img src=\"../images/bias_variance_tradeoff/train_test_bv_7_transparent_bg.png\">\n",
    "    </div>\n",
    "</div>"
   ]
  },
  {
   "cell_type": "markdown",
   "id": "02b8ea51",
   "metadata": {
    "slideshow": {
     "slide_type": "notes"
    },
    "tags": [
     "remove-cell"
    ]
   },
   "source": [
    "Notes: We also have a testing set. Now let's calculate the sum of squares for the test set. \n",
    "\n",
    "The __Straight line__ wins.\n",
    "\n",
    "Even though the Squiggle line did a great job fitting the training set (low bias: it is flexible enough that can adapt to the curve in the relatiuonship), it did a terrible job on testing set. \n",
    "\n",
    "__The Squiggly Line has high variability because results in vastly different sums of squares for different dataset.__\n",
    "\n",
    "__In other words, it is hard to predict how well the Squiggly Line will perform  with future datasets. It might do well sometimes and other times it migght do terribly__"
   ]
  },
  {
   "cell_type": "markdown",
   "id": "11f6eece",
   "metadata": {
    "slideshow": {
     "slide_type": "slide"
    }
   },
   "source": [
    "## Machine Learning Terminology\n",
    "<div class=\"group\">\n",
    "  <div class=\"text\">   \n",
    "<img src=\"../images/bias_variance_tradeoff/train_test_bv_3_transparent_bg.png\">\n",
    "      \n",
    "Too simple model:\n",
    "* high bias\n",
    "* under-fits the data\n",
    "* <font color = \"lightgrey\">low variance</font>\n",
    "* <font color = \"lightgrey\">generalizes better on new data</font>\n",
    "</div>\n",
    "      <div class=\"images\">\n",
    "        <img src=\"../images/bias_variance_tradeoff/train_test_bv_4_transparent_bg.png\">\n",
    "          \n",
    "Too complex model:\n",
    "* low bias\n",
    "* over-fits the data\n",
    "* <font color = \"lightgrey\">high variance</font>\n",
    "* <font color = \"lightgrey\">generalizes bad on new data</font>         \n",
    "    </div>\n",
    "</div>\n"
   ]
  },
  {
   "cell_type": "markdown",
   "id": "7cbb1650",
   "metadata": {
    "slideshow": {
     "slide_type": "notes"
    },
    "tags": [
     "remove-cell"
    ]
   },
   "source": [
    "Notes:\n",
    "\n",
    "__High bias__ --> Straight line Cannot capture the underlying true relationship between sunshine hours and ice cream consumption. <-- __Underfit__\n",
    "\n",
    "\n",
    "__Low Bias__ --> Squiggle line fits the training data very well but not the testing set <-- __Overfitting__"
   ]
  },
  {
   "cell_type": "markdown",
   "id": "c8f4a8bd",
   "metadata": {
    "slideshow": {
     "slide_type": "slide"
    }
   },
   "source": [
    "### Machine Learning Terminology\n",
    "<div class=\"group\">\n",
    "  <div class=\"text\">   \n",
    "<img src=\"../images/bias_variance_tradeoff/train_test_bv_8_transparent_bg.png\">\n",
    "\n",
    "Too simple model:\n",
    "* <font color = \"lightgrey\">high bias</font>\n",
    "* <font color = \"lightgrey\">under-fits the data</font> \n",
    "* low variance\n",
    "* generalizes better on new data\n",
    "    </div>\n",
    "      <div class=\"images\">\n",
    "        <img src=\"../images/bias_variance_tradeoff/train_test_bv_7_transparent_bg.png\">\n",
    "\n",
    "Too complex model: \n",
    "* <font color = \"lightgrey\">low bias</font>\n",
    "* <font color = \"lightgrey\">over-fits the data</font> \n",
    "* high variance\n",
    "* generalizes bad on new data\n",
    "    </div>\n",
    "</div>"
   ]
  },
  {
   "cell_type": "markdown",
   "id": "f4adb0a8",
   "metadata": {
    "slideshow": {
     "slide_type": "notes"
    },
    "tags": [
     "remove-cell"
    ]
   },
   "source": [
    "Notes:\n",
    "\n",
    "__Low variance__ --> Straight line: the sums ofsquares are very similar. It might only give good predictions, and not great predictions but they will be consistently good predictions\n",
    "\n",
    "__high variance__ --> Squiggly line has high variability on different datasets. It might do well sometimes and other times very terribly\n",
    "\n",
    "\n",
    "Ideal algorithm has Low Bias and can accurately model the true relatioship and it has low variability by producing consistent prediction across different datasets."
   ]
  },
  {
   "cell_type": "markdown",
   "id": "8187815e",
   "metadata": {
    "slideshow": {
     "slide_type": "slide"
    }
   },
   "source": [
    "## Loss and Cost functions \n",
    "\n",
    "**Loss function**\n",
    "\n",
    "The loss function quantifies how much a model $f$‘s prediction   $\\hat{y}=f(x)$ deviates from the ground truth $y=y(x)$ for one particular object $\\mathbf{x}$.\n",
    " \n",
    "\n"
   ]
  },
  {
   "cell_type": "markdown",
   "id": "6b684b42",
   "metadata": {
    "slideshow": {
     "slide_type": "fragment"
    }
   },
   "source": [
    "So, when we calculate loss, we do it for a **single object** in the training or test sets. There are many different loss functions we can choose from, and each has its advantages and shortcomings. In general, any **distance metric** defined over the space of target values can act as a loss function. \n"
   ]
  },
  {
   "cell_type": "markdown",
   "id": "35fb9ec0",
   "metadata": {
    "slideshow": {
     "slide_type": "fragment"
    }
   },
   "source": [
    "\n",
    "**Cost function**\n",
    "\n",
    "The cost function measures the model’s **error on a group of objects**. So, if L is our loss function, then we calculate the cost function by aggregating the loss L over the training, validation, or test data. "
   ]
  },
  {
   "cell_type": "markdown",
   "id": "3c2cfff5",
   "metadata": {
    "slideshow": {
     "slide_type": "slide"
    }
   },
   "source": [
    "## Linear Regression\n",
    "\n",
    "<div class=\"group\">\n",
    "  <div class=\"text\">    \n",
    "      \n",
    "MSE (mean squared errors) here is an example of a **cost function** - we've aggregated the loss of individual predictions into a single value we can use to gauge the quality of our model.   \n",
    "    </div>\n",
    "      <div class=\"images\">\n",
    "      \n",
    "$$\\begin{align}\n",
    "\\hat{y} &= b_{0}+b_{1}x_{1}+\\text{...}+b_{m}x_{m}\\\\[8pt]\n",
    "e &= y-\\hat{y}\\\\[12pt]\n",
    "\\text{MSE} &= {\\frac{1}{n}}\\sum_{i=1}^{n}{(y_{i}-{\\hat{y}}_{i})}^{2}\n",
    "\\end{align}$$\n",
    "</div>\n",
    "</div>"
   ]
  },
  {
   "cell_type": "code",
   "execution_count": 8,
   "id": "f5f94bce",
   "metadata": {
    "hideCode": true,
    "hideOutput": false,
    "hidePrompt": true,
    "tags": [
     "remove-input"
    ]
   },
   "outputs": [
    {
     "data": {
      "image/png": "[encoded data removed]",
      "text/plain": [
       "<Figure size 1000x600 with 1 Axes>"
      ]
     },
     "metadata": {},
     "output_type": "display_data"
    }
   ],
   "source": [
    "plot_data(data, residuals=True)"
   ]
  },
  {
   "cell_type": "markdown",
   "id": "f08e6308",
   "metadata": {
    "slideshow": {
     "slide_type": "notes"
    },
    "tags": [
     "remove-cell"
    ]
   },
   "source": [
    "Notes: objective is to minimize residuals (e) via cost function MSE"
   ]
  },
  {
   "cell_type": "markdown",
   "id": "2d810a35",
   "metadata": {
    "slideshow": {
     "slide_type": "slide"
    }
   },
   "source": [
    "\n",
    "### Optimal model and prediction for linear regression\n",
    "\n",
    "\n",
    "$$\\begin{align} \n",
    "y&=f(x)=\\beta_{0}+\\beta_{1}x+\\epsilon \\\\[5pt]\n",
    "\\hat{y} &= b_{0}+b_{1}x_{1}+\\text{...}+b_{m}x_{m}\n",
    "\\end{align}$$\n",
    "\n",
    "In frequentist statistics, we make a point estimate of beta depending on the dataset D\n"
   ]
  },
  {
   "cell_type": "markdown",
   "id": "2c8eff94",
   "metadata": {
    "slideshow": {
     "slide_type": "slide"
    }
   },
   "source": [
    "## Estimators\n",
    "\n",
    "<div class=\"group\">\n",
    "  <div class=\"text\">   \n",
    "\n",
    "Different kinds of estimators\n",
    "* Point estimators (e.g. mean, regression parameters)\n",
    "* Interval estimators (e.g. confidence bands)\n",
    "\n",
    "An “estimator” or point estimate is a statistic (a function of the data) that is used to infer the value of an unknown parameter in a statistical model.\n",
    "    </div>\n",
    "    <div class=\"images\">\n",
    "        <img src=\"../images/bias_variance_tradeoff/point_interval_estimates_transparent_bg.png\">\n",
    "    </div>\n",
    "</div>"
   ]
  },
  {
   "cell_type": "markdown",
   "id": "c46b7c64",
   "metadata": {
    "slideshow": {
     "slide_type": "slide"
    }
   },
   "source": [
    "### Estimators\n",
    "Assumption for estimators\n",
    "<ul>\n",
    "<li> <b>Dependent</b> on the data:\n",
    "<br>Different datasets give different estimation values<br> \n",
    "    \n",
    "$$\\hat{y}(x,\\;{\\cal D})\\;\\;\\;\\;\\;{\\cal D}=\\{\\left(x_{1},\\;y_{1}\\right), \\text{...}, (x_{n},\\;y_{n})\\}$$\n",
    "    \n",
    "</li>\n",
    "\n",
    "<li> Data is considered to be <b>statistically random</b>\n",
    "<br>No recognizable patterns or regularities </li>\n",
    "\n",
    "<li> Parameters are <b>considered to be fixed</b><br> \n",
    "Data Generating Process (DGP):    \n",
    "\n",
    "$$y=f(x)=\\beta_{0}+\\beta_{1}x+\\epsilon$$\n",
    " \n",
    "</li>\n",
    "</ul>"
   ]
  },
  {
   "cell_type": "markdown",
   "id": "81d9bf31",
   "metadata": {
    "slideshow": {
     "slide_type": "notes"
    },
    "tags": [
     "remove-cell"
    ]
   },
   "source": [
    "Notes: DGP: Data generating process The DGP is the process that cause data to occur. The DGP is a Platonic ideal that we do not and cannot know. Only in simulations can we define a mathematical DGP, in the real world they are hidden from us. example dice throw in a ideal world easy to simulate in reality a lot of influences, temperature, how hard the dice is thrown, air pressure, form of the dice etc surveys or qPCR epsilon is error that we can't change e.g. pipetting error"
   ]
  },
  {
   "cell_type": "markdown",
   "id": "8f076731",
   "metadata": {
    "slideshow": {
     "slide_type": "slide"
    }
   },
   "source": [
    "## Estimates\n",
    "<div class=\"group\">\n",
    "  <div class=\"text\">   \n",
    "      \n",
    "* We rarely have money/resources to measure everything     \n",
    "* So we will have **samples of the population** which we hope to be representative of the whole population     \n",
    "* The **more data** we have the **more confident** we are in the estimates     \n",
    "* Ideally: the results drawn from our experiments are reproducible\n",
    "\n",
    "In Data Science most metrics omit the word “estimate”, nevertheless **most of the\n",
    "metrics we use are estimates**\n",
    "    </div>\n",
    "    <div class=\"images\">\n",
    "        <img src=\"../images/bias_variance_tradeoff/img_p13_2.png\">\n",
    "    </div>\n",
    "</div>"
   ]
  },
  {
   "cell_type": "markdown",
   "id": "353df735",
   "metadata": {
    "slideshow": {
     "slide_type": "slide"
    }
   },
   "source": [
    "## Mean Square Error\n",
    "\n",
    "$$\\text{MSE}(\\hat{y}) = E\\big[(\\hat{y}\\;(x,\\;{\\cal D})-f(x))^{2}\\big]$$\n",
    "\n",
    "Mean Square Error is defined as the **expected value of the squared errors**\n",
    "\n",
    "E - expected value of a random variable is a generalization of the weighted average\n"
   ]
  },
  {
   "cell_type": "markdown",
   "id": "4f426a75",
   "metadata": {
    "slideshow": {
     "slide_type": "notes"
    },
    "tags": [
     "remove-cell"
    ]
   },
   "source": [
    "Notes: Expected value example: Dice roll -> ⅙ * 1 + ⅙ * 2 + ⅙ * 3 + ⅙ * 4 + ⅙ * 5 + ⅙ * 6 = 3.5"
   ]
  },
  {
   "cell_type": "markdown",
   "id": "5b754e4d",
   "metadata": {
    "slideshow": {
     "slide_type": "slide"
    }
   },
   "source": [
    "## Error Decomposition\n",
    "\n",
    "$$\\begin{align}\n",
    "\\text{MSE}(\\hat{y})&=\\big(E(\\hat{y}-f(x))\\big)^2 + E\\big[(\\hat{y}-E[\\hat{y}])^2\\big] + \\sigma_{e}^2 \\\\[10pt]\n",
    "\\text{Bias}(\\hat{y})^2&=\\big(E(\\hat{y}-f(x))\\big)^2 \\\\[6pt]\n",
    "\\text{Variance}(\\hat{y})&=E\\big[(\\hat{y}-E[\\hat{y}])^2\\big] \\\\[6pt]\n",
    "\\text{Irreducible Error}&=\\sigma_{e}\n",
    "\\end{align}$$\n",
    "\n",
    "\n",
    "\n",
    "\n",
    "\n",
    "\n",
    "[Example](https://www.countbayesie.com/blog/2019/1/30/a-deeper-look-at-mean-squared-error)\n",
    "\n"
   ]
  },
  {
   "cell_type": "markdown",
   "id": "936b8b55",
   "metadata": {
    "slideshow": {
     "slide_type": "notes"
    },
    "tags": [
     "remove-cell"
    ]
   },
   "source": [
    "Notes: The variance of a random variable X is the expected value of the squared deviation from the mean bias: expected value of the difference between our estimator and the true value f(x) = y high variance, higher difference between the expected and the values. more detailed math: https://towardsdatascience.com/mse-and-bias-variance-decomposition-77449dd2ff55"
   ]
  },
  {
   "cell_type": "markdown",
   "id": "bc769096",
   "metadata": {
    "slideshow": {
     "slide_type": "slide"
    }
   },
   "source": [
    "### Error Decomposition\n",
    "\n",
    "$$Bias^2 + Variance + Noise$$"
   ]
  },
  {
   "cell_type": "markdown",
   "id": "1002d458",
   "metadata": {
    "slideshow": {
     "slide_type": "fragment"
    }
   },
   "source": [
    "$$\\underbrace{Bias^2}_{underfitting} + \\underbrace{Variance}_{overfitting} + \\underbrace{Noise}_{unpredictable}$$"
   ]
  },
  {
   "cell_type": "markdown",
   "id": "9f050197",
   "metadata": {
    "slideshow": {
     "slide_type": "slide"
    }
   },
   "source": [
    "### Bias\n",
    "\n",
    "**Bias**: simplifying assumptions made by a model to make the target function easier to learn. (\"How far away are the decisions from the data.\")\n",
    "* **Underfitting** the training data\n",
    "* **Making assumptions** without caring about the data\n",
    "* Model is **not complex** enough \n",
    "\n",
    "Linear algorithms tend to have high bias, this makes them fast to learn and easier to understand but less flexible.\n",
    "\n"
   ]
  },
  {
   "cell_type": "markdown",
   "id": "5e9bc468",
   "metadata": {
    "slideshow": {
     "slide_type": "notes"
    },
    "tags": [
     "remove-cell"
    ]
   },
   "source": [
    "Notes: Bias is the difference between the average prediction of our model and the correct value which we are trying to predict. Model with high bias pays very little attention to the training data and oversimplifies the model. It always leads to high error on training and test data."
   ]
  },
  {
   "cell_type": "markdown",
   "id": "a21cd3ee",
   "metadata": {
    "slideshow": {
     "slide_type": "slide"
    }
   },
   "source": [
    "### Variance\n",
    "Variance is the amount that the estimate of the target will change if different training data was used. \n",
    "\n",
    "How sensitive is the algorithm to the specific training data used.\n",
    "* **Overfitting** the training data\n",
    "* Being **extremely perceptive** of the training data\n",
    "* Model is **too complex**\n"
   ]
  },
  {
   "cell_type": "markdown",
   "id": "2bd51c79",
   "metadata": {
    "slideshow": {
     "slide_type": "slide"
    }
   },
   "source": [
    "## The Bias-Variance-Tradeoff\n",
    "\n",
    "<div class=\"group\">\n",
    "  <div class=\"text\">   \n",
    "\n",
    "<img src=\"../images/bias_variance_tradeoff/model_complexity_transparent_bg.png\">\n",
    "    </div>\n",
    "    <div class=\"images\">\n",
    "<br>\n",
    "<br>       \n",
    "     \n",
    "$$\\frac{d\\,Bias^{2}}{d\\,Complexity}=-\\frac{d\\,Variance}{d\\,Complexity}$$\n",
    "        \n",
    "</div>\n",
    "</div>"
   ]
  },
  {
   "cell_type": "markdown",
   "id": "c5b1aa5b",
   "metadata": {
    "slideshow": {
     "slide_type": "notes"
    },
    "tags": [
     "remove-cell"
    ]
   },
   "source": [
    "Notes: If our model is too simple and has very few parameters then it may have high bias and low variance. On the other hand if our model has large number of parameters then it’s going to have high variance and low bias. So we need to find the right/good balance without overfitting and underfitting the data. This tradeoff in complexity is why there is a tradeoff between bias and variance. An algorithm can’t be more complex and less complex at the same time."
   ]
  },
  {
   "cell_type": "markdown",
   "id": "21007b4d",
   "metadata": {
    "slideshow": {
     "slide_type": "slide"
    }
   },
   "source": [
    "### Bulls-eye - a model that predicts perfectly\n",
    "\n",
    "<div class=\"group\">\n",
    "  <div class=\"text\">   \n",
    "\n",
    "<img src=\"../images/bias_variance_tradeoff/img_p21_1.png\">\n",
    "    </div>\n",
    "    <div class=\"images\">\n",
    "Do you want a clock that is sometimes 10 mins late or a clock that is always 10 mins late?\n",
    "    </div>\n",
    "</div>\n"
   ]
  },
  {
   "cell_type": "markdown",
   "id": "6f567374",
   "metadata": {
    "slideshow": {
     "slide_type": "notes"
    },
    "tags": [
     "remove-cell"
    ]
   },
   "source": [
    "Notes: Each dot is the evaluation result of a whole experiment.. and not the residual of one observation; Variance indicates how far the collection of estimates are from the expected values of the estimates .. on average Bias of an estimator is the distance between the average of the collection of estimates and the parameter being estimated. In the above diagram, center of the target is a model that perfectly predicts correct values. As we move away from the bulls-eye our predictions get worse and worse. We can repeat our process of model building to get separate hits on the target. high bias low variance = underfitting (low left) low bias high variance = overfitting (upper right)"
   ]
  },
  {
   "cell_type": "markdown",
   "id": "9c79a9cc",
   "metadata": {
    "slideshow": {
     "slide_type": "slide"
    }
   },
   "source": [
    "### Desirable properties of estimators\n",
    "\n",
    "<div class=\"group\">\n",
    "  <div class=\"text\">   \n",
    "      \n",
    "Minimum variance estimators\n",
    "* Prevent overfitting \n",
    "      \n",
    "Unbiased estimators\n",
    "* Prevent underfitting\n",
    "\n",
    "A model as simple as possible\n",
    "\n",
    "“A simple model is the best model” - Occam’s Razor\n",
    "    </div>\n",
    "    <div class=\"images\">\n",
    "<img src=\"../images/bias_variance_tradeoff/img_p23_1.png\">\n",
    "    </div>\n",
    "</div>\n"
   ]
  },
  {
   "cell_type": "markdown",
   "id": "83ecf30b",
   "metadata": {
    "slideshow": {
     "slide_type": "slide"
    }
   },
   "source": [
    "## Error Analysis\n",
    "\n",
    "The EDA for the errors your model makes\n",
    "* comparing the errors on test / train / validation\n",
    "    * expecting them to be close\n",
    "    * low error on train but high on validation is a clear sign of overfitting\n",
    "* plotting residuals\n",
    "    * expecting no pattern\n",
    "    * pattern in residual plots are a sign for underfitting => your model is not complex enough\n",
    "    \n",
    "[Analyzing residuals](https://www.qualtrics.com/support/stats-iq/analyses/regression-guides/interpreting-residual-plots-improve-regression/)"
   ]
  },
  {
   "cell_type": "code",
   "execution_count": 9,
   "id": "8e151ea9",
   "metadata": {
    "hideCode": true,
    "hidePrompt": true
   },
   "outputs": [
    {
     "data": {
      "image/png": "[encoded data removed]",
      "text/plain": [
       "<Figure size 1500x500 with 2 Axes>"
      ]
     },
     "metadata": {},
     "output_type": "display_data"
    }
   ],
   "source": [
    "error_analysis(*lin_reg_model_for_error_analysis())"
   ]
  },
  {
   "cell_type": "markdown",
   "id": "40d7f446",
   "metadata": {
    "slideshow": {
     "slide_type": "slide"
    }
   },
   "source": [
    "## Learning Curves - underfitting\n",
    "Model Performance (training and validation) against an increasing set of training data\n",
    "* Start: Training loss is low, generalization is very bad\n",
    "* Adding more data: Both are very close and at a high level"
   ]
  },
  {
   "cell_type": "code",
   "execution_count": 10,
   "id": "c1772df8",
   "metadata": {
    "hideCode": true,
    "hidePrompt": true,
    "tags": [
     "remove-input"
    ]
   },
   "outputs": [
    {
     "data": {
      "image/png": "[encoded data removed]",
      "text/plain": [
       "<Figure size 1500x600 with 2 Axes>"
      ]
     },
     "metadata": {},
     "output_type": "display_data"
    }
   ],
   "source": [
    "fig, ax = plt.subplots(1,2, figsize=(15,6), sharey=True)\n",
    "plot_learning_curves(lin_reg, X_learning_curve, y_learning_curve, title=\"Underfitting\", ax=ax[0], y_label=True)\n",
    "ax[1].axis('off')\n",
    "plt.subplots_adjust(wspace=0.1);"
   ]
  },
  {
   "cell_type": "markdown",
   "id": "f294fa29",
   "metadata": {
    "slideshow": {
     "slide_type": "notes"
    },
    "tags": [
     "remove-cell"
    ]
   },
   "source": [
    "Notes: RMSE higher, distance lower"
   ]
  },
  {
   "cell_type": "markdown",
   "id": "0caa8f3d",
   "metadata": {
    "slideshow": {
     "slide_type": "slide"
    }
   },
   "source": [
    "### Learning Curves - overfitting\n",
    "\n",
    "Model Performance (training and validation) against an increasing set of training data\n",
    "* Training error is much lower\n",
    "* There is a gap: validation error is way higher than training error"
   ]
  },
  {
   "cell_type": "code",
   "execution_count": 11,
   "id": "89a5c812",
   "metadata": {
    "hideCode": true,
    "hidePrompt": true,
    "tags": [
     "remove-input"
    ]
   },
   "outputs": [
    {
     "data": {
      "image/png": "[encoded data removed]",
      "text/plain": [
       "<Figure size 1500x600 with 2 Axes>"
      ]
     },
     "metadata": {},
     "output_type": "display_data"
    }
   ],
   "source": [
    "fig, ax = plt.subplots(1,2, figsize=(15,6), sharey=True)\n",
    "plot_learning_curves(lin_reg, X_learning_curve, y_learning_curve, title=\"Underfitting\", ax=ax[0], y_label=True)\n",
    "plot_learning_curves(polynomial_regression, X_learning_curve, y_learning_curve,  title=\"Overfitting\", ax=ax[1])\n",
    "plt.subplots_adjust(wspace=0.1);"
   ]
  },
  {
   "cell_type": "markdown",
   "id": "1506c7cc",
   "metadata": {
    "slideshow": {
     "slide_type": "notes"
    },
    "tags": [
     "remove-cell"
    ]
   },
   "source": [
    "Notes: RMSE lower, distance higher"
   ]
  },
  {
   "cell_type": "markdown",
   "id": "2ef4ed83",
   "metadata": {
    "slideshow": {
     "slide_type": "slide"
    }
   },
   "source": [
    "## Bias vs. Variance\n",
    "\n",
    "<div class=\"group\">\n",
    "  <div class=\"text\">   \n",
    "      \n",
    "**High Bias**: \n",
    "\n",
    "more assumptions of the target function\n",
    "* Linear Regression, Linear Discriminant Analysis, Logistic Regression\n",
    "\n",
    "**High Variance**: \n",
    "      \n",
    "large changes to the estimate when train data changed\n",
    "* Decision Trees, K-Nearest Neighbors, SVM\n",
    "\n",
    "</div>\n",
    "<div class=\"images\">\n",
    "       \n",
    "**Low Bias**: \n",
    "\n",
    "fewer assumptions about the target function\n",
    "* Decision Trees, K-Nearest Neighbors, SVM\n",
    "      \n",
    "**Low Variance**: \n",
    "    \n",
    "small changes to the estimate when the train data changes\n",
    "* Linear Regression, Linear Discriminant Analysis, Logistic Regression\n",
    "  </div>\n",
    "</div>"
   ]
  },
  {
   "cell_type": "markdown",
   "id": "d2a1a16b",
   "metadata": {
    "slideshow": {
     "slide_type": "slide"
    }
   },
   "source": [
    "## Overfitting vs. Underfitting\n",
    "\n",
    "<div class=\"group\">\n",
    "  <div class=\"text\">   \n",
    "      \n",
    "**Overfitting**: \n",
    "* Reduce the complexity of the model\n",
    "* Get more data\n",
    "* Regularize the model\n",
    "</div>\n",
    "<div class=\"images\">\n",
    "       \n",
    "**Underfitting**:\n",
    "* Bring in a better model\n",
    "* Feature engineering\n",
    "* Ease regularization parameters\n",
    "  </div>\n",
    "</div>"
   ]
  },
  {
   "cell_type": "markdown",
   "id": "7ee407d8",
   "metadata": {
    "slideshow": {
     "slide_type": "slide"
    }
   },
   "source": [
    "## Can you solve this little riddle?\n",
    "\n",
    "$$\\begin{align}\n",
    "f(1)&=1 \\\\\n",
    "f(2)&=3 \\\\\n",
    "f(3)&=5 \\\\\n",
    "f(4)&=7 \\\\\n",
    "f(5)&=??? \\\\\n",
    "\\end{align}$$\n",
    "\n"
   ]
  },
  {
   "cell_type": "markdown",
   "id": "cae6687e",
   "metadata": {
    "slideshow": {
     "slide_type": "notes"
    },
    "tags": [
     "remove-cell"
    ]
   },
   "source": [
    "Notes: most guess 2x-1"
   ]
  },
  {
   "cell_type": "markdown",
   "id": "36b4c296",
   "metadata": {
    "slideshow": {
     "slide_type": "slide"
    }
   },
   "source": [
    "### It’s obvious, isn’t it?\n",
    "\n",
    "$$f(5)=217341$$\n"
   ]
  },
  {
   "cell_type": "markdown",
   "id": "e6846f50",
   "metadata": {
    "slideshow": {
     "slide_type": "notes"
    },
    "tags": [
     "remove-cell"
    ]
   },
   "source": [
    "Notes: is this under or over fitting"
   ]
  },
  {
   "cell_type": "markdown",
   "id": "cc6fa6cf",
   "metadata": {
    "slideshow": {
     "slide_type": "slide"
    }
   },
   "source": [
    "### At least if you apply this function\n",
    "\n",
    "$$ f(x)=\\frac{1811}{2}x^{4}-90555x^{3}+\\frac{633885}{2}x^{2}-452773x+217331$$\n",
    "\n",
    "This is a nice example taken from University of Berkeley to showcase how you can under do it when it comes to fitting a model.\n",
    "\n",
    "What kind of error have you done with your personal model?"
   ]
  },
  {
   "cell_type": "markdown",
   "id": "594a5c4c",
   "metadata": {
    "slideshow": {
     "slide_type": "slide"
    }
   },
   "source": [
    "## Resources\n",
    "[Hands-on ML with scikit-learn and TensorFlow, Geron](https://www.amazon.com/Hands-Machine-Learning-Scikit-Learn-TensorFlow/dp/1491962291), Geron\n",
    "\n",
    "http://scott.fortmann-roe.com/docs/BiasVariance.html\n",
    "\n",
    "https://medium.com/analytics-vidhya/bias-variance-tradeoff-for-dummies-9f13147ab7d0\n",
    "\n",
    "Machine Learning - A probabilistic Perspective - Kevin P. Murphy\n",
    "\n",
    "https://explained.ai/regularization/constraints.html\n",
    "\n",
    "https://explained.ai/statspeak/index.html\n",
    "\n",
    "\n",
    "\n"
   ]
  }
 ],
 "metadata": {
  "celltoolbar": "Tags",
  "jupytext": {
   "cell_metadata_filter": "-all",
   "main_language": "python",
   "notebook_metadata_filter": "-all"
  },
  "kernelspec": {
   "display_name": "Python 3 (ipykernel)",
   "language": "python",
   "name": "python3"
  },
  "language_info": {
   "codemirror_mode": {
    "name": "ipython",
    "version": 3
   },
   "file_extension": ".py",
   "mimetype": "text/x-python",
   "name": "python",
   "nbconvert_exporter": "python",
   "pygments_lexer": "ipython3",
   "version": "3.11.6"
  }
 },
 "nbformat": 4,
 "nbformat_minor": 5
}
