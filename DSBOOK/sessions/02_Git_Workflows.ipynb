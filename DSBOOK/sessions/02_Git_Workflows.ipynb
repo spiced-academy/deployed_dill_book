{
 "cells": [
  {
   "cell_type": "markdown",
   "id": "d184eb36",
   "metadata": {
    "slideshow": {
     "slide_type": "skip"
    }
   },
   "source": [
    "# Let’s talk about git.."
   ]
  },
  {
   "cell_type": "markdown",
   "id": "23d98d2b",
   "metadata": {
    "slideshow": {
     "slide_type": "skip"
    },
    "tags": [
     "remove-cell"
    ]
   },
   "source": [
    "Some pictures in the presentations were self drawn with affinity designer. You can find the vector file (.afdesign) in the DSBOOK/images folder, where all images of this lecture are stored."
   ]
  },
  {
   "cell_type": "markdown",
   "id": "881681ca",
   "metadata": {
    "slideshow": {
     "slide_type": "slide"
    },
    "tags": [
     "remove-cell"
    ]
   },
   "source": [
    "\n",
    "<div class=\"slide-title\"> \n",
    "    \n",
    "# Let’s talk about git..\n",
    "    \n",
    "</div>\n"
   ]
  },
  {
   "cell_type": "markdown",
   "id": "0a96ce54",
   "metadata": {
    "slideshow": {
     "slide_type": "slide"
    }
   },
   "source": [
    "\n",
    "## What is git?\n",
    "\n",
    "<div class=\"group\">\n",
    "  <div class=\"text\"> \n",
    "      \n",
    "* Open-source project\n",
    "* Distributed Version Control System\n",
    "* can be used completely offline\n",
    "\n",
    "    </div>\n",
    "    <div class=\"images\">\n",
    "        <img src=\"../images/git/img_p1_1.png\">\n",
    "    </div>\n",
    "</div>"
   ]
  },
  {
   "cell_type": "markdown",
   "id": "05dc866e",
   "metadata": {
    "slideshow": {
     "slide_type": "slide"
    }
   },
   "source": [
    "## Who of you has done that?\n",
    "\n",
    "![http://thedoghousediaries.com/5964](http://thedoghousediaries.com/dhdcomics/2015-02-09B.png)\n"
   ]
  },
  {
   "cell_type": "markdown",
   "id": "65c22798",
   "metadata": {
    "slideshow": {
     "slide_type": "notes"
    },
    "tags": [
     "remove-cell"
    ]
   },
   "source": [
    "Notes: building your own version control, by having copies of original file. At one point the order/history of files get complicated.\n",
    "(Especially if you give your file to someone to review, and you continue at the same time to work on that file further... how to bring those two versions together afterwards?)"
   ]
  },
  {
   "cell_type": "markdown",
   "id": "a569cde9",
   "metadata": {
    "slideshow": {
     "slide_type": "slide"
    }
   },
   "source": [
    "## Who of you has used built in version control of a tool already?\n",
    "\n",
    "![](../images/git/version-control-google-slides.png)"
   ]
  },
  {
   "cell_type": "markdown",
   "id": "876aa56a",
   "metadata": {
    "slideshow": {
     "slide_type": "notes"
    },
    "tags": [
     "remove-cell"
    ]
   },
   "source": [
    "Notes: Online Tools like google slides (to work collaboratively on files) have a version history. You have now more information on who did changes, and when... also a bit where. It is not totally clear WHAT has changed on that page, you would have to have a look at an older version to figure it out by yourself."
   ]
  },
  {
   "cell_type": "markdown",
   "id": "0acb6935",
   "metadata": {
    "slideshow": {
     "slide_type": "slide"
    }
   },
   "source": [
    "## Version Control with git\n",
    "\n",
    "![scikit-learn repo](../images/git/commit-history.png)"
   ]
  },
  {
   "cell_type": "markdown",
   "id": "ebed3bd9",
   "metadata": {
    "slideshow": {
     "slide_type": "notes"
    },
    "tags": [
     "remove-cell"
    ]
   },
   "source": [
    "Notes: you see the history of changes, you see who did the changes and when. and you have descriptions on the tasks people have been working on. And you can go back to any of those commits. "
   ]
  },
  {
   "cell_type": "markdown",
   "id": "0a7452d8",
   "metadata": {
    "slideshow": {
     "slide_type": "slide"
    }
   },
   "source": [
    "## Version Control with git\n",
    "\n",
    "![scikit-learn commit change](../images/git/commit-changes.png)"
   ]
  },
  {
   "cell_type": "markdown",
   "id": "e25adbee",
   "metadata": {
    "slideshow": {
     "slide_type": "notes"
    },
    "tags": [
     "remove-cell"
    ]
   },
   "source": [
    "Notes: git is also providing you a detailed overview of what exactly has been changed in each file."
   ]
  },
  {
   "cell_type": "markdown",
   "id": "ab450efb",
   "metadata": {
    "slideshow": {
     "slide_type": "slide"
    }
   },
   "source": [
    "## The Three Stages\n",
    "\n",
    "<div class=\"group\">\n",
    "  <div class=\"text\">  \n",
    "      \n",
    "\n",
    "* modified:\n",
    "file was changed but not committed yet\n",
    "* staged:\n",
    "file was marked in its current version to go into the next commit\n",
    "* committed:\n",
    "file/data is stored in local database (.git directory)\n",
    "\n",
    "    </div>\n",
    "    <div class=\"images\">\n",
    "        <img src=\"../images/git/img_p2_1.png\">\n",
    "    </div>\n",
    "</div>"
   ]
  },
  {
   "cell_type": "markdown",
   "id": "76fac1cd",
   "metadata": {
    "slideshow": {
     "slide_type": "notes"
    },
    "tags": [
     "remove-cell"
    ]
   },
   "source": [
    "Notes: staging area: file in .git repo that stores information about what will go into the next commit \n",
    "\n",
    "git directory: stores the metadata and object database for the project"
   ]
  },
  {
   "cell_type": "markdown",
   "id": "bbb72330",
   "metadata": {
    "slideshow": {
     "slide_type": "slide"
    }
   },
   "source": [
    "## The Workflow\n",
    "\n",
    "<div class=\"group\">\n",
    "  <div class=\"text\">  \n",
    "\n",
    "1. Modify files in working tree/directory\n",
    "2. Selectively stage those changes that should be part of the next commit\n",
    "3. Commit the files as they are in the staging area and store that snapshot to your git repository\n",
    "\n",
    "    </div>\n",
    "    <div class=\"images\">\n",
    "        <img src=\"../images/git/img_p4_1.png\">\n",
    "    </div>\n",
    "</div>\n"
   ]
  },
  {
   "cell_type": "markdown",
   "id": "4e0a4804",
   "metadata": {
    "slideshow": {
     "slide_type": "notes"
    },
    "tags": [
     "remove-cell"
    ]
   },
   "source": [
    "Notes: staging area: file in .git repo that stores information about what will go into the next commit \n",
    "\n",
    "git directory: stores the metadata and object database for the project \n",
    "\n",
    "show git log to see what happens with commits and messages"
   ]
  },
  {
   "cell_type": "markdown",
   "id": "c93e7e7a",
   "metadata": {
    "slideshow": {
     "slide_type": "slide"
    }
   },
   "source": [
    "## The Status of your Files\n",
    "\n",
    "<div class=\"group\">\n",
    "  <div class=\"text\">   \n",
    "<img src=\"../images/git/git_stages.png\">\n",
    "    </div>\n",
    "      <div class=\"images\">\n",
    "    </div>\n",
    "</div>\n",
    "      \n",
    "<!-- if you want the old picture back, use git_stages_v2.png --> "
   ]
  },
  {
   "cell_type": "markdown",
   "id": "55c029b2",
   "metadata": {
    "slideshow": {
     "slide_type": "notes"
    },
    "tags": [
     "remove-cell"
    ]
   },
   "source": [
    "Notes: git rm -cached <file> → file not tracked by git anymore git rm <file> → remove file completely"
   ]
  },
  {
   "cell_type": "markdown",
   "id": "f7d181d5",
   "metadata": {
    "slideshow": {
     "slide_type": "slide"
    }
   },
   "source": [
    "## Using Git Locally\n",
    "1. In your terminal: create a new folder and navigate into it\n",
    "2. Turn it into a git repository with `git init` and create a file (can be any file type)\n",
    "3. Explore the different stages and commands:\n",
    "    * Track a file\n",
    "    * Stage and commit a file\n",
    "    * Modify a commited file and commit it again\n",
    "    * Stage a file and unstage it again\n",
    "    * Create a new file, track it and untrack it again\n",
    "\n",
    "    Between every command run `git status`. It will not only show you the effects of your command but also suggest all the commands you will need to unstage or untrack a file.\n",
    "\n"
   ]
  },
  {
   "cell_type": "markdown",
   "id": "215e7eb7",
   "metadata": {
    "slideshow": {
     "slide_type": "slide"
    }
   },
   "source": [
    "## What is GitHub?\n",
    "<div class=\"group\">\n",
    "  <div class=\"text_70\"> \n",
    "\n",
    "* Collaborate effectively online based on git (see below)\n",
    "* Open-source community and contribution\n",
    "* Follow others, find and star interesting repositories\n",
    "* Show others what you did, invite to collaborate and collaborate yourself\n",
    "* Demonstrate that you are actively working on projects\n",
    "* Learn from code\n",
    "If you want to learn more about git & GitHub, you can watch this [video](https://www.youtube.com/watch?v=EVe3UBGEc_s).\n",
    "    </div>\n",
    "    <div class=\"images_30\">\n",
    "        <img src=\"../images/git/img_p7_7.png\">\n",
    "    </div>\n",
    "</div>\n",
    "                   "
   ]
  },
  {
   "cell_type": "markdown",
   "id": "83102545",
   "metadata": {
    "slideshow": {
     "slide_type": "notes"
    },
    "tags": [
     "remove-cell"
    ]
   },
   "source": [
    "Notes: online hosting service"
   ]
  },
  {
   "cell_type": "markdown",
   "id": "c7dec4ff",
   "metadata": {
    "slideshow": {
     "slide_type": "slide"
    }
   },
   "source": [
    "## Git Workflows with Larissa\n"
   ]
  },
  {
   "cell_type": "code",
   "execution_count": null,
   "id": "40577a7d",
   "metadata": {
    "hideCode": true,
    "hideOutput": false,
    "hidePrompt": true,
    "slideshow": {
     "slide_metadata": {
      "hide_code": true
     },
     "slide_type": "-"
    }
   },
   "outputs": [],
   "source": [
    "from IPython.display import YouTubeVideo\n",
    "\n",
    "video = YouTubeVideo(\"EVe3UBGEc_s\")\n",
    "display(video)\n",
    "\n",
    "\n"
   ]
  },
  {
   "cell_type": "markdown",
   "id": "bb441d20",
   "metadata": {
    "slideshow": {
     "slide_type": "slide"
    }
   },
   "source": [
    "## Using Git with Remote Repository\n",
    "<div class=\"group\">\n",
    "  <div class=\"text\">   \n",
    "<img src=\"../images/git/img_p9_1.png\">\n",
    "    </div>\n",
    "      <div class=\"images\">\n",
    "    </div>\n",
    "</div>\n"
   ]
  },
  {
   "cell_type": "markdown",
   "id": "842fab29",
   "metadata": {
    "slideshow": {
     "slide_type": "slide"
    }
   },
   "source": [
    "## Using Git with Remote Repository\n",
    "<div class=\"group\">\n",
    "  <div class=\"text\">   \n",
    "<img src=\"../images/git/img_p10_1.png\">\n",
    "    </div>\n",
    "      <div class=\"images\">\n",
    "    </div>\n",
    "</div>"
   ]
  },
  {
   "cell_type": "markdown",
   "id": "66a8abc6",
   "metadata": {
    "slideshow": {
     "slide_type": "slide"
    }
   },
   "source": [
    "## Using Git with Remote Repository\n",
    "<div class=\"group\">\n",
    "  <div class=\"text\">   \n",
    "<img src=\"../images/git/img_p11_1.png\">\n",
    "    </div>\n",
    "      <div class=\"images\">\n",
    "    </div>\n",
    "</div>\n"
   ]
  },
  {
   "cell_type": "markdown",
   "id": "1ef01f7a",
   "metadata": {
    "slideshow": {
     "slide_type": "slide"
    }
   },
   "source": [
    "## Using Git with Remote Repository\n",
    "<div class=\"group\">\n",
    "  <div class=\"text\">   \n",
    "<img src=\"../images/git/img_p12_1.png\">\n",
    "    </div>\n",
    "      <div class=\"images\">\n",
    "    </div>\n",
    "</div>\n"
   ]
  },
  {
   "cell_type": "markdown",
   "id": "f9e1ef18",
   "metadata": {
    "slideshow": {
     "slide_type": "slide"
    }
   },
   "source": [
    "## Setting up Git\n",
    "* Setting the user name globally:\n",
    "    \n",
    "    `git config --global user.name “your name”`\n",
    "    \n",
    "* Setting the email address globally:\n",
    "    \n",
    "    `git config --global user.email “your email”`\n",
    "    \n",
    "* Setting the pull behaviour:\n",
    "    \n",
    "    `git config --global pull.ff only`\n",
    "    \n",
    "* Change default branch name:\n",
    "\n",
    "    `git config --global init.defaultBranch main`\n",
    "    \n",
    "* Show configuration settings:\n",
    "\n",
    "    `git config --list`\n",
    "    \n",
    "\n"
   ]
  },
  {
   "cell_type": "markdown",
   "id": "f71ba9d6",
   "metadata": {
    "slideshow": {
     "slide_type": "notes"
    },
    "tags": [
     "remove-cell"
    ]
   },
   "source": [
    "Notes: for the beginning you will have most control when you set the pull behaviour to be “fast-forward”, that mean git pull will only pull if it can be done fast-forward, and no merge will be needed"
   ]
  },
  {
   "cell_type": "markdown",
   "id": "30f7545b",
   "metadata": {
    "slideshow": {
     "slide_type": "slide"
    }
   },
   "source": [
    "## Using Git with Remote Repository\n",
    "1. Create and clone new repo on Github\n",
    "2. Create new branch\n",
    "3. Commit and push changes to new branch\n",
    "4. Open a pull request (pr)\n",
    "5. Review code and approve pull request\n",
    "6. Merge branch into main / Deal with merge conflicts (if one occurs)\n",
    "7. Synchronize branches\n",
    "8. Open a pull request, approve and merge\n",
    "\n"
   ]
  },
  {
   "cell_type": "markdown",
   "id": "a345a6c5",
   "metadata": {
    "slideshow": {
     "slide_type": "notes"
    },
    "tags": [
     "remove-cell"
    ]
   },
   "source": [
    "Notes: someone shares screen, we create repo together time for ex 2: 60 min"
   ]
  },
  {
   "cell_type": "markdown",
   "id": "52485da0",
   "metadata": {
    "slideshow": {
     "slide_type": "slide"
    }
   },
   "source": [
    "### Let’s work in pairs.\n",
    "1. New Repo\n",
    "    * ONE: creates new public repo on github with README.md, .gitignore, and Licence (MIT)\n",
    "    * Invites partner as collaborator\n",
    "    * BOTH: Clone it to your machine\n",
    "2. New Branches\n",
    "    * BOTH: create and switch to a new branch locally: `git switch -c <new_branch>`\n"
   ]
  },
  {
   "cell_type": "markdown",
   "id": "c6c3af28",
   "metadata": {
    "slideshow": {
     "slide_type": "slide"
    }
   },
   "source": [
    "3. Commit Changes (BOTH)\n",
    "    * Create a new file and add, commit and push your change\n",
    "    * To push a local branch to a new remote branch use:\n",
    "        `git push --set-upstream origin <branch_name>`\n",
    "4. Open Pull Request\n",
    "    * ONE: opens pull request and adds partner as reviewer\n",
    "5. Code Review\n",
    "    * TWO: reviews changes and approves pull request\n",
    "\n"
   ]
  },
  {
   "cell_type": "markdown",
   "id": "1465d1b9",
   "metadata": {
    "slideshow": {
     "slide_type": "notes"
    },
    "tags": [
     "remove-cell"
    ]
   },
   "source": [
    "Notes: git push -u origin <branch_name>"
   ]
  },
  {
   "cell_type": "markdown",
   "id": "3720aefb",
   "metadata": {
    "slideshow": {
     "slide_type": "slide"
    }
   },
   "source": [
    "\n",
    "6. Merge Branch\n",
    "    * ONE: merges approved pull request into main branch and deletes remote branch\n",
    "7. Syncing Branches Locally\n",
    "    * Now branch of TWO will be behind main branch\n",
    "        * switch to main branch: `git switch main`\n",
    "        * pull changes: `git pull`\n",
    "        * switch to your branch: `git switch <branch_name>`\n",
    "        * merge new changes from main branch in your branch: `git merge main`\n",
    "        * add commit message (vim will open automatically) if necessary and push again\n",
    "\n",
    "<div class=\"alert alert-block alert-info\">\n",
    "<b>Note: </b> \n",
    "    Merging should be done by the person who did the pull request!\n",
    "</div>     \n"
   ]
  },
  {
   "cell_type": "markdown",
   "id": "01918c78",
   "metadata": {
    "slideshow": {
     "slide_type": "slide"
    }
   },
   "source": [
    "8. Second pull request\n",
    "    * TWO: opens pull request for his branch\n",
    "    * ONE: reviews changes and approves pull request\n",
    "    * TWO: merges approved pull request into main branch and deletes remote branch\n",
    "\n",
    "Last but not least..\n",
    "\n",
    "   * BOTH: switch to main branch locally and pull changes\n",
    "    \n",
    "<div class=\"alert alert-block alert-info\">\n",
    "<b>Note: </b> \n",
    "    Merging should be done by the person who did the pull request!\n",
    "</div>  "
   ]
  },
  {
   "cell_type": "markdown",
   "id": "c038b70c",
   "metadata": {
    "slideshow": {
     "slide_type": "slide"
    }
   },
   "source": [
    "<div class=\"group\">\n",
    "  <div class=\"text\">   \n",
    "<img src=\"../images/git/img_p19_1.png\">\n",
    "    </div>\n",
    "      <div class=\"images\">\n",
    "    </div>\n",
    "</div>"
   ]
  },
  {
   "cell_type": "markdown",
   "id": "f38faae6",
   "metadata": {
    "slideshow": {
     "slide_type": "slide"
    }
   },
   "source": [
    "## Resources\n",
    "\n",
    "Git Basics - https://www.youtube.com/watch?v=_OZVJpLHUaI\n",
    "\n",
    "Reference Manual - https://www.git-scm.com/docs\n",
    "\n",
    "Pro Git Book - https://www.git-scm.com/book/en/v2\n",
    "\n",
    "\n"
   ]
  }
 ],
 "metadata": {
  "celltoolbar": "Tags",
  "jupytext": {
   "cell_metadata_filter": "-all",
   "main_language": "python",
   "notebook_metadata_filter": "-all"
  },
  "kernelspec": {
   "display_name": "Python 3 (ipykernel)",
   "language": "python",
   "name": "python3"
  },
  "language_info": {
   "codemirror_mode": {
    "name": "ipython",
    "version": 3
   },
   "file_extension": ".py",
   "mimetype": "text/x-python",
   "name": "python",
   "nbconvert_exporter": "python",
   "pygments_lexer": "ipython3",
   "version": "3.11.3"
  },
  "rise": {
   "auto_select": "none",
   "transition": "fade"
  }
 },
 "nbformat": 4,
 "nbformat_minor": 5
}
