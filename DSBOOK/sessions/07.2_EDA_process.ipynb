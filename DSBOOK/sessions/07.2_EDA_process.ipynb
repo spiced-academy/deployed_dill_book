{
 "cells": [
  {
   "cell_type": "markdown",
   "id": "8198d7ff",
   "metadata": {
    "slideshow": {
     "slide_type": "skip"
    }
   },
   "source": [
    "# EDA & Presenting your Results"
   ]
  },
  {
   "cell_type": "markdown",
   "id": "0dc766d6",
   "metadata": {
    "slideshow": {
     "slide_type": "slide"
    },
    "tags": [
     "remove-cell"
    ]
   },
   "source": [
    "<div class=\"slide-title\">\n",
    "    \n",
    "# EDA & Presenting your Results\n",
    "    \n",
    "</div>"
   ]
  },
  {
   "cell_type": "markdown",
   "id": "955c1e09",
   "metadata": {
    "slideshow": {
     "slide_type": "slide"
    }
   },
   "source": [
    "## The EDA Process - Recap\n"
   ]
  },
  {
   "cell_type": "markdown",
   "id": "5b2bec38",
   "metadata": {
    "slideshow": {
     "slide_type": "slide"
    }
   },
   "source": [
    "## EDA\n",
    "\n",
    "<div class=\"group\">\n",
    "    <div class=\"text\">\n",
    "        \n",
    "Jupyter notebook\n",
    "\n",
    "* overview and goals at the beginning\n",
    "* description of data\n",
    "* general stats about the data\n",
    "* hypothesis about the data\n",
    "* data cleaning\n",
    "* analysis\n",
    "* findings\n",
    "    \n",
    "[EDA checklist](https://github.com/neuefische/datascience-infographics/blob/main/EDA_Checklist.md)   \n",
    "    </div>\n",
    "    <div class=\"images\">\n",
    "        <img src=\"../images/eda_process/img_p3_3.png\" width=500>\n",
    "    </div>    \n",
    "</div>   "
   ]
  },
  {
   "cell_type": "markdown",
   "id": "503f7638",
   "metadata": {
    "slideshow": {
     "slide_type": "slide"
    }
   },
   "source": [
    "## EDA Proof of Concept - Workflow\n",
    "\n",
    "Timeboxed work! so use an iterative process\n",
    "* make a draft of plan\n",
    "* do simple plots\n",
    "* answer main questions (from hypothesis generation)\n",
    "* iterate: go deeper, go prettier, go better\n",
    "* clean up and document \n",
    "\n",
    "Start early with the slides!"
   ]
  },
  {
   "cell_type": "markdown",
   "id": "ed843639",
   "metadata": {
    "slideshow": {
     "slide_type": "slide"
    }
   },
   "source": [
    "## Dos and Don’ts of EDA"
   ]
  },
  {
   "cell_type": "markdown",
   "id": "5fb0b16b",
   "metadata": {
    "slideshow": {
     "slide_type": "slide"
    }
   },
   "source": [
    "### EDA Should Enable\n",
    "* Exploration\n",
    "* Analysis\n",
    "* Discovery\n",
    "* Communication"
   ]
  },
  {
   "cell_type": "markdown",
   "id": "234fa0d3",
   "metadata": {
    "slideshow": {
     "slide_type": "slide"
    }
   },
   "source": [
    "### Dos\n",
    "\n",
    "* **Be truthful, based on real data** - you might be lying without knowing\n",
    "* **Be accurate and avoid ambiguity**\n",
    "* **Easy interpretation for your audience** - don’t make them work at trying to decipher a chart or computation\n",
    "* **Elegant and aesthetically pleasing for better understanding** - it’s not about doing pretty charts, but about better understanding"
   ]
  },
  {
   "cell_type": "markdown",
   "id": "f5d3a48a",
   "metadata": {
    "slideshow": {
     "slide_type": "slide"
    }
   },
   "source": [
    "### Common mistakes\n",
    "* **Not cleaning the data**\n",
    "* **Cherry picking** - focusing on a metric that proves your assumptions\n",
    "* **Focusing on (or ignoring) outliers** - outliers should be considered as a factor and not as an indicator\n",
    "* **Chart junk** - sometimes less is more\n",
    "* **Missing or ignoring data patterns** - seasonality, holiday, weekends ...\n",
    "* **Lacking action** - recommendations, conclusion, hypothesis"
   ]
  },
  {
   "cell_type": "markdown",
   "id": "a8401adf",
   "metadata": {
    "slideshow": {
     "slide_type": "slide"
    }
   },
   "source": [
    "### How not to lie... don’t truncate\n",
    "\n",
    "<center>\n",
    "    <img src=\"../images/eda_process/img_p9_2.png\" width=1000>\n",
    "</center>"
   ]
  },
  {
   "cell_type": "markdown",
   "id": "8590b6e3",
   "metadata": {
    "slideshow": {
     "slide_type": "slide"
    }
   },
   "source": [
    "### How not to lie... use an appropriate scale\n",
    "\n",
    "<center>\n",
    "    <img src=\"../images/eda_process/img_p10_2.png\" width=1000>\n",
    "</center>"
   ]
  },
  {
   "cell_type": "markdown",
   "id": "068e949f",
   "metadata": {
    "slideshow": {
     "slide_type": "slide"
    }
   },
   "source": [
    "### If you use colors be intentional\n",
    "\n",
    "<center>\n",
    "    <img src=\"../images/eda_process/img_p11_2.png\" width=1000>\n",
    "</center>"
   ]
  },
  {
   "cell_type": "markdown",
   "id": "78b6f2a0",
   "metadata": {
    "slideshow": {
     "slide_type": "slide"
    }
   },
   "source": [
    "### Color blindness - avoid mixing green and red at least\n",
    "\n",
    "<center>\n",
    "    <img src=\"../images/eda_process/img_p12_2.png\" width=1000>\n",
    "</center>"
   ]
  },
  {
   "cell_type": "markdown",
   "id": "e092d2cf",
   "metadata": {
    "slideshow": {
     "slide_type": "slide"
    }
   },
   "source": [
    "## Presenting your results"
   ]
  },
  {
   "cell_type": "markdown",
   "id": "1d358449",
   "metadata": {
    "slideshow": {
     "slide_type": "slide"
    }
   },
   "source": [
    "### Presentation of EDA\n",
    "\n",
    "Use Slides!\n",
    "\n",
    "* setting the scene\n",
    "     * intro to the dataset\n",
    "     * intro about client\n",
    "     * intro about the quality of the data\n",
    "* focus on hypothesis: whys\n",
    "* methodology: hows\n",
    "* describing the findings and changes in approach... in context\n",
    "* generated knowledge: insights\n",
    "* future work\n",
    "* if possible: show impact and applications how to make your ds presentation great "
   ]
  },
  {
   "cell_type": "markdown",
   "id": "ee310f03",
   "metadata": {
    "slideshow": {
     "slide_type": "slide"
    }
   },
   "source": [
    "### Think of your audience - usually a mix\n",
    "\n",
    "* **Technical people** - how it is made, why did you decide this or that\n",
    "* **Business people** - how is it good for business, how much impact, enable decision-making\n",
    "* **Sales people** - how is it useful or attractive for customers"
   ]
  },
  {
   "cell_type": "markdown",
   "id": "05a48de0",
   "metadata": {
    "slideshow": {
     "slide_type": "slide"
    }
   },
   "source": [
    "### Don’t lose your audience...\n",
    "\n",
    "* Keep it simple and stupid (KISS principle)\n",
    "* Be concise and accurate, no extra information if not needed\n",
    "* Join explanation blocks with “whys” and “hows”\n",
    "* Be clear, don’t be ambiguous - clarity inspires trust in your results"
   ]
  }
 ],
 "metadata": {
  "celltoolbar": "Slideshow",
  "jupytext": {
   "cell_metadata_filter": "-all",
   "main_language": "python",
   "notebook_metadata_filter": "-all"
  },
  "kernelspec": {
   "display_name": "Python 3 (ipykernel)",
   "language": "python",
   "name": "python3"
  },
  "language_info": {
   "codemirror_mode": {
    "name": "ipython",
    "version": 3
   },
   "file_extension": ".py",
   "mimetype": "text/x-python",
   "name": "python",
   "nbconvert_exporter": "python",
   "pygments_lexer": "ipython3",
   "version": "3.11.3"
  }
 },
 "nbformat": 4,
 "nbformat_minor": 5
}
