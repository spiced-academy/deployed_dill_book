{
 "cells": [
  {
   "cell_type": "markdown",
   "id": "30e63077",
   "metadata": {
    "slideshow": {
     "slide_type": "slide"
    },
    "tags": [
     "welcome"
    ]
   },
   "source": [
    "<div class=\"slide-title\"> \n",
    "        \n",
    "# Welcome to the Data Science Bootcamp deployed-dill!\n",
    "           \n",
    "</div> "
   ]
  },
  {
   "cell_type": "markdown",
   "id": "ebfdad6f",
   "metadata": {
    "slideshow": {
     "slide_type": "slide"
    }
   },
   "source": [
    "## AGENDA\n",
    "1. Welcome\n",
    "2. Set Up\n",
    "3. Break\n",
    "4. Connect"
   ]
  },
  {
   "cell_type": "markdown",
   "id": "77d5230b",
   "metadata": {
    "slideshow": {
     "slide_type": "slide"
    }
   },
   "source": [
    "## Instructional team"
   ]
  },
  {
   "cell_type": "markdown",
   "id": "58d70045",
   "metadata": {
    "slideshow": {
     "slide_type": "slide"
    }
   },
   "source": [
    "## The DS Team"
   ]
  },
  {
   "cell_type": "markdown",
   "id": "38026196",
   "metadata": {
    "slideshow": {
     "slide_type": "-"
    }
   },
   "source": [
    "<center><img src=\"../images/team_pictures/team_slide.png\" width=\"1600\"></center>"
   ]
  },
  {
   "cell_type": "markdown",
   "id": "c2cb6c6d",
   "metadata": {
    "slideshow": {
     "slide_type": "slide"
    },
    "tags": [
     "lead"
    ]
   },
   "source": [
    "\n",
    "## About me\n",
    "\n",
    "<div class=\"group\">\n",
    "  <div class=\"text\">\n",
    "      \n",
    "### Nouri Shehab\n",
    "#### Coach DS\n",
    "\n",
    "#### My background:\n",
    "\n",
    "- Automation Control Systems\n",
    "- Attended Spiced DS Bootcamp in 2023\n",
    "\n",
    "#### Why I joined the team:\n",
    "\n",
    "- Great colleagues and atmosphere\n",
    "- Curiosity and foster a love for learning\n",
    "- Enjoy sharing knowledge with others\n",
    "\n",
    "#### Ask me about:\n",
    "\n",
    "- Embedded system & microcontroller\n",
    "- Crossfit\n",
    "- Cooking\n",
    "\n",
    "  </div>\n",
    "  <div class=\"images\">\n",
    "    <img src=\"../images/team_pictures/Nouri.png\">\n",
    "  </div>\n",
    "</div>"
   ]
  },
  {
   "cell_type": "markdown",
   "id": "a56304b5",
   "metadata": {
    "slideshow": {
     "slide_type": "slide"
    },
    "tags": [
     "manager"
    ]
   },
   "source": [
    "\n",
    "## About me\n",
    "\n",
    "<div class=\"group\">\n",
    "  <div class=\"text\">\n",
    "      \n",
    "### Carmine Somma\n",
    "#### Senior Coach DS\n",
    "\n",
    "#### My background:\n",
    "\n",
    "- Msc and Phd in Matter Physics\n",
    "- Attended Spiced Bootcamp in 2020\n",
    "\n",
    "#### Why I joined the team:\n",
    "\n",
    "- Nice colleague and vibe\n",
    "- Like learning by teaching and find code bugs\n",
    "\n",
    "#### Ask me about:\n",
    "\n",
    "- Basketball\n",
    "- Laser light\n",
    "- Bike\n",
    "- Cooking\n",
    "  </div>\n",
    "    <div class=\"images\">\n",
    "        <img src=\"../images/team_pictures/Carmine.png\">\n",
    "    </div>\n",
    "</div>\n"
   ]
  },
  {
   "cell_type": "markdown",
   "id": "58c8018a",
   "metadata": {
    "slideshow": {
     "slide_type": "slide"
    }
   },
   "source": [
    "## Learning Journey"
   ]
  },
  {
   "cell_type": "markdown",
   "id": "ce8ac509",
   "metadata": {
    "slideshow": {
     "slide_type": "notes"
    },
    "tags": [
     "remove-cell"
    ]
   },
   "source": [
    "Notes: who here has already worked with data and who has some idea what data science is?"
   ]
  },
  {
   "cell_type": "markdown",
   "id": "db12c6d6",
   "metadata": {
    "slideshow": {
     "slide_type": "slide"
    }
   },
   "source": [
    "\n",
    "## What is Data Science?\n",
    "\n",
    "<img src=\"../images/orientation/img_p8_2.png\">\n",
    "\n",
    "[Source](https://towardsdatascience.com/introduction-to-statistics-e9d72d818745)"
   ]
  },
  {
   "cell_type": "markdown",
   "id": "c64e6f2b",
   "metadata": {
    "slideshow": {
     "slide_type": "slide"
    }
   },
   "source": [
    "## Learning Journey\n",
    "\n",
    "\n",
    "<img src=\"../images/orientation/img_p9_1.png\">"
   ]
  },
  {
   "cell_type": "markdown",
   "id": "c2f4fc3c",
   "metadata": {
    "slideshow": {
     "slide_type": "slide"
    }
   },
   "source": [
    "## Key Milestones\n",
    "\n",
    "**Chapter 0:**\n",
    "Python, Unix, Git\n",
    "\n",
    "**Chapter 1:**\n",
    "Exploratory Data Analysis (EDA) and Descriptive Statistics with Python\n",
    "\n",
    "**Chapter 2:**\n",
    "The Machine Learning Framework\n",
    "\n",
    "**Chapter 3:**\n",
    "More Machine Learning (NN/NLP/TS)\n",
    "\n",
    "**Chapter 4:**\n",
    "Capstone Project\n"
   ]
  },
  {
   "cell_type": "markdown",
   "id": "2207a6a0",
   "metadata": {
    "slideshow": {
     "slide_type": "slide"
    }
   },
   "source": [
    "## Timeline\n",
    "\n",
    "**Tools and getting started (Week 1-4):**\n",
    "* Work space, Python Programming, Pandas, Visualisation, Exploratory Data Analysis\n",
    "    \n",
    "    → 1st individual project\n",
    "\n",
    "**Machine learning (Week 4-9):**\n",
    "\n",
    "* Supervised and Unsupervised Algorithms, Deep Learning\n",
    "    \n",
    "    → 2nd Project\n",
    "\n",
    "**Working in teams on your own (Week 9-12):**\n",
    "\n",
    "* The Whole Data Science Life Cycle \n",
    "    \n",
    "    → Capstone Project\n"
   ]
  },
  {
   "cell_type": "markdown",
   "id": "64808684",
   "metadata": {
    "slideshow": {
     "slide_type": "slide"
    }
   },
   "source": [
    "## Learning Experience\n",
    "\n",
    "<img src=\"../images/orientation/img_p12_2.png\">\n",
    "\n",
    "[Source](https://personalexcellence.co/blog/emotional-journey-creating-infographic/)"
   ]
  },
  {
   "cell_type": "markdown",
   "id": "db2f6a0f",
   "metadata": {
    "slideshow": {
     "slide_type": "notes"
    },
    "tags": [
     "remove-cell"
    ]
   },
   "source": [
    "Notes: Let them take that in for 3 min then explain how this relates to the bootcamp"
   ]
  },
  {
   "cell_type": "markdown",
   "id": "d80bdeb9",
   "metadata": {
    "slideshow": {
     "slide_type": "slide"
    }
   },
   "source": [
    "\n",
    "## What you can achieve\n",
    "I. [Översetter](https://www.xn--versetter-z7a.de/) by Marcel\n",
    "\n",
    "<img src=\"../images/orientation/oeversetter.gif\">"
   ]
  },
  {
   "cell_type": "markdown",
   "id": "bfb501d2",
   "metadata": {
    "slideshow": {
     "slide_type": "slide"
    }
   },
   "source": [
    "## What you can achieve\n",
    "II. [Apply or not to apply](https://share.streamlit.io/sipa91/streamlit_dashboard/main/Main.py) by Sina & Petra\n",
    "\n",
    "<img src=\"../images/orientation/apply.gif\">"
   ]
  },
  {
   "cell_type": "markdown",
   "id": "de2b7449",
   "metadata": {
    "slideshow": {
     "slide_type": "slide"
    }
   },
   "source": [
    "## What are you really learning?\n",
    "\n",
    "→ **To be resourceful and figure things out!**\n",
    "\n",
    "* Reading error messages\n",
    "* Web search skills\n",
    "* Finding outside resources\n",
    "* Having a process when you’re stuck\n"
   ]
  },
  {
   "cell_type": "markdown",
   "id": "79245145",
   "metadata": {
    "slideshow": {
     "slide_type": "slide"
    }
   },
   "source": [
    "## Expectations"
   ]
  },
  {
   "cell_type": "markdown",
   "id": "aba4ccfc",
   "metadata": {
    "slideshow": {
     "slide_type": "slide"
    }
   },
   "source": [
    "## What you can expect\n",
    "\n",
    "→ **We will give you all it takes to start working as a data scientist.**\n",
    "\n",
    "* How to solve problems - becoming resourceful\n",
    "* 3 reference projects\n",
    "* nf-network"
   ]
  },
  {
   "cell_type": "markdown",
   "id": "97cb02f7",
   "metadata": {
    "slideshow": {
     "slide_type": "slide"
    }
   },
   "source": [
    "## What you can expect\n",
    "\n",
    "the more you know... the less you know\n",
    "\n",
    "\n",
    "<img src=\"../images/orientation/img_p18_1.png\">"
   ]
  },
  {
   "cell_type": "markdown",
   "id": "e495a4bb",
   "metadata": {
    "slideshow": {
     "slide_type": "slide"
    }
   },
   "source": [
    "## What you can expect\n",
    "\n",
    "You will learn a lot ... also how to handle panic.\n",
    "\n",
    "\n",
    "<img src=\"../images/orientation/comfort_zone.png\">"
   ]
  },
  {
   "cell_type": "markdown",
   "id": "699a7254",
   "metadata": {
    "slideshow": {
     "slide_type": "notes"
    },
    "tags": [
     "remove-cell"
    ]
   },
   "source": [
    "Notes:  \n",
    "There is no learning without leaving the comfort zone.  \n",
    "We will try to avoid panic, but there is always a risk of falling into this zone, especially if you are a perfectionist, uncomfortable with uncertainty or have a high need for control.  \n",
    "Remedy: Don't be afraid to make mistakes. Computers don't mind, and neither do we teachers!  "
   ]
  },
  {
   "cell_type": "markdown",
   "id": "2165f3a9",
   "metadata": {
    "slideshow": {
     "slide_type": "slide"
    }
   },
   "source": [
    "## What we expect of you\n",
    "\n",
    "→ **Don’t give up :D**\n",
    "\n",
    "The Hows...\n",
    "* Daily Reviews, Daily Standup\n",
    "* Portfolio Projects, Pair Programming\n",
    "* Rapid Assessment Tests (RAT)\n",
    "* Formalities (Attendance Video, Sick Leaves, Active Participation)\n",
    "\n",
    "Please always include two of the coaches in your absence notifications!\n"
   ]
  },
  {
   "cell_type": "markdown",
   "id": "0519ce83",
   "metadata": {
    "slideshow": {
     "slide_type": "slide"
    }
   },
   "source": [
    "## Code of conduct\n",
    "\n",
    "\n",
    "\n",
    "<div class=\"group\">\n",
    "  <div class=\"text\">\n",
    "\n",
    "→ **Imagine you are already in your next job environment!**\n",
    "\n",
    "- Be respectful\n",
    "- No assumptions\n",
    "- Help each other\n",
    "- Share resources (helpful blog posts, job-information, fun stuff)\n",
    "- Be patient - not everyone learns as fast as you\n",
    "- We are a team - You are only finished when everyone else is finished\n",
    "      \n",
    "  </div>\n",
    "  <div class=\"images\">\n",
    "    <img src=\"../images/orientation/img_p20_1.png\">\n",
    "  </div>\n",
    "</div>\n",
    "\n",
    "\n",
    "[Sources](https://www.flaticon.com/free-icon/network_648287)"
   ]
  },
  {
   "cell_type": "markdown",
   "id": "018c4b81",
   "metadata": {
    "slideshow": {
     "slide_type": "slide"
    }
   },
   "source": [
    "## Code of conduct - some more thoughts\n",
    "\n",
    "* We are in a safe environment, where all of us want to learn\n",
    "* There are so many jobs outside; we won’t be competing at all\n",
    "* Built relationships here, they might be helpful for you any time in the future\n",
    "* You’ll never know who will help you find your next job"
   ]
  },
  {
   "cell_type": "markdown",
   "id": "57997a4b",
   "metadata": {
    "slideshow": {
     "slide_type": "slide"
    }
   },
   "source": [
    "## Daily review\n",
    "\n",
    "\n",
    "<div class=\"group\">\n",
    "  <div class=\"text\">\n",
    "\n",
    "Each day one of you is responsible presenting:\n",
    "* What did you learn the day before\n",
    "* Discuss results and questions about the topic from the day before\n",
    "* Loading your notes of the daily review on Github\n",
    "\n",
    "Each morning from 9-10am before class.\n",
    "      \n",
    "  </div>\n",
    "  <div class=\"images\">\n",
    "    <img src=\"../images/orientation/img_p22_1.png\">\n",
    "  </div>\n",
    "</div>\n",
    "\n",
    "\n",
    "[Source](https://www.flaticon.com/authors/eucalyp)"
   ]
  },
  {
   "cell_type": "markdown",
   "id": "4cc4f351",
   "metadata": {
    "slideshow": {
     "slide_type": "notes"
    },
    "tags": [
     "remove-cell"
    ]
   },
   "source": [
    "Notes: your time to discuss and do peer-learning, no coaches (unless you invite them to join)"
   ]
  },
  {
   "cell_type": "markdown",
   "id": "8996e0fe",
   "metadata": {
    "slideshow": {
     "slide_type": "slide"
    }
   },
   "source": [
    "## Pair programming\n",
    "\n",
    "<div class=\"group\">\n",
    "  <div class=\"text\">\n",
    "      \n",
    "**Driver:** writes code\n",
    "\n",
    "**Navigator:** reviews code and gives “strategic” directions\n",
    "\n",
    "Dos:\n",
    "* Be respectful\n",
    "* Talk to each other\n",
    "* Explain what you are doing\n",
    "* Think ahead and make suggestions\n",
    "\n",
    "Don’ts:\n",
    "* Don’t be a bossy navigator\n",
    "* Don’t grab the drivers mouse/keypad\n",
    "\n",
    "Switch Roles!\n",
    "      \n",
    "  </div>\n",
    "  <div class=\"images\">\n",
    "    <img src=\"../images/orientation/img_p23_1.png\">\n",
    "  </div>\n",
    "</div>\n",
    "\n",
    "[Sources](https://www.flaticon.com/authors/eucalyp)\n",
    "\n"
   ]
  },
  {
   "cell_type": "markdown",
   "id": "b5a18155",
   "metadata": {
    "slideshow": {
     "slide_type": "notes"
    },
    "tags": [
     "remove-cell"
    ]
   },
   "source": [
    "Notes: We will change partners every one to two days as well as seats, so that you can all work with each of your classmates together and learn how to best work with different characters. Pair programming is an agile software development technique in which two programmers work together at one workstation. One, the driver, writes code while the other, the observer or navigator,[1] reviews each line of code as it is typed in. The two programmers switch roles frequently. While reviewing, the observer also considers the \"strategic\" direction of the work, coming up with ideas for improvements and likely future problems to address. This is intended to free the driver to focus all of their attention on the \"tactical\" aspects of completing the current task, using the observer as a safety net and guide. Wikipedia; a more complete source is https://martinfowler.com/articles/on-pair-programming.html"
   ]
  },
  {
   "cell_type": "markdown",
   "id": "75f664fe",
   "metadata": {
    "slideshow": {
     "slide_type": "slide"
    }
   },
   "source": [
    "## Support system\n",
    "\n",
    "We succeed together!\n",
    "\n",
    "**Slack:** Our “virtual class room”\n",
    "\n",
    "**Need help? Just ask.**\n",
    "StackOverflow (be resourceful)\n",
    "Your partner\n",
    "\n",
    "**1:1**\n",
    "Get additional coaching as needed."
   ]
  },
  {
   "cell_type": "markdown",
   "id": "233ecb09",
   "metadata": {
    "slideshow": {
     "slide_type": "notes"
    },
    "tags": [
     "remove-cell"
    ]
   },
   "source": [
    "Notes: 1:1s Identify Individual Success and align with Group Success"
   ]
  }
 ],
 "metadata": {
  "celltoolbar": "Slideshow",
  "jupytext": {
   "cell_metadata_filter": "-all",
   "main_language": "python",
   "notebook_metadata_filter": "-all"
  },
  "kernelspec": {
   "display_name": "Python 3 (ipykernel)",
   "language": "python",
   "name": "python3"
  },
  "language_info": {
   "codemirror_mode": {
    "name": "ipython",
    "version": 3
   },
   "file_extension": ".py",
   "mimetype": "text/x-python",
   "name": "python",
   "nbconvert_exporter": "python",
   "pygments_lexer": "ipython3",
   "version": "3.11.3"
  },
  "rise": {
   "auto_select": "none",
   "transition": "fade"
  },
  "varInspector": {
   "cols": {
    "lenName": 16,
    "lenType": 16,
    "lenVar": 40
   },
   "kernels_config": {
    "python": {
     "delete_cmd_postfix": "",
     "delete_cmd_prefix": "del ",
     "library": "var_list.py",
     "varRefreshCmd": "print(var_dic_list())"
    },
    "r": {
     "delete_cmd_postfix": ") ",
     "delete_cmd_prefix": "rm(",
     "library": "var_list.r",
     "varRefreshCmd": "cat(var_dic_list()) "
    }
   },
   "types_to_exclude": [
    "module",
    "function",
    "builtin_function_or_method",
    "instance",
    "_Feature"
   ],
   "window_display": false
  }
 },
 "nbformat": 4,
 "nbformat_minor": 5
}
