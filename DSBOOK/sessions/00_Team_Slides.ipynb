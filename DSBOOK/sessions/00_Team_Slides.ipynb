{
 "cells": [
  {
   "cell_type": "markdown",
   "id": "3850076a",
   "metadata": {
    "tags": [
     "Evgeny"
    ]
   },
   "source": [
    "\n",
    "## About me\n",
    "\n",
    "<div class=\"group\">\n",
    "  <div class=\"text\">\n",
    "      \n",
    "### Evgeny Savin\n",
    "#### Head Coach DS & DA\n",
    "\n",
    "#### My background:\n",
    "\n",
    "\n",
    "- Sr. data scientist in Smava, HERE and Paypal\n",
    "- BEng in engineering, MsC in economics and numerical methods\n",
    "\n",
    "\n",
    "\n",
    "#### Why I joined the team:\n",
    "\n",
    "- I like helping people and data science is a\n",
    "fascinating field to be in\n",
    "\n",
    "\n",
    "#### Ask me about:\n",
    "\n",
    "- Tennis\n",
    "- Jazz\n",
    "- Literature\n",
    "- Lakes around Berlin\n",
    "\n",
    "  </div>\n",
    "  <div class=\"images\">\n",
    "    <img src=\"../images/team_pictures/Evgeny.png\">\n",
    "  </div>\n",
    "</div>\n"
   ]
  },
  {
   "cell_type": "markdown",
   "id": "8f04af07",
   "metadata": {
    "tags": [
     "Mia"
    ]
   },
   "source": [
    "\n",
    "## About me\n",
    "\n",
    "<div class=\"group\">\n",
    "  <div class=\"text\">\n",
    "      \n",
    "### Mia Reimer\n",
    "#### Senior Coach DS\n",
    "\n",
    "#### My background:\n",
    "\n",
    "- Marine Geologist\n",
    "- Attended neuefische DS Bootcamp in 2020\n",
    "\n",
    "#### Why I joined the team:\n",
    "\n",
    "- Great colleagues and atmosphere\n",
    "- Always well stocked refrigerator\n",
    "\n",
    "#### Ask me about:\n",
    "\n",
    "- Tablesoccer\n",
    "- Knitting or paper cutting\n",
    "\n",
    "  </div>\n",
    "  <div class=\"images\">\n",
    "    <img src=\"../images/team_pictures/Mia.png\">\n",
    "  </div>\n",
    "</div>"
   ]
  },
  {
   "cell_type": "markdown",
   "id": "67fd2a35",
   "metadata": {
    "tags": [
     "Lina"
    ]
   },
   "source": [
    "\n",
    "## About me\n",
    "\n",
    "<div class=\"group\">\n",
    "  <div class=\"text\">\n",
    "      \n",
    "### Lina Willing\n",
    "#### Coach DS/DP\n",
    "\n",
    "#### My background:\n",
    "\n",
    "- Naval architect & Ocean engineer\n",
    "- Attended neuefische DS Bootcamp in 2021\n",
    "\n",
    "#### Why I joined the team:\n",
    "\n",
    "- Great working atmosphere\n",
    "- Wide range of topics and always new areas of application\n",
    "- It never gets boring\n",
    "\n",
    "#### Ask me about:\n",
    "\n",
    "- Ships & Wind turbines\n",
    "- Hiking & Traveling\n",
    "- WoW\n",
    "- Life, Universe and Everything\n",
    "\n",
    "  </div>\n",
    "  <div class=\"images\">\n",
    "    <img src=\"../images/team_pictures/Lina.png\">\n",
    "  </div>\n",
    "</div>\n"
   ]
  },
  {
   "cell_type": "markdown",
   "id": "40629dee",
   "metadata": {
    "tags": [
     "Alexandra"
    ]
   },
   "source": [
    "\n",
    "## About me\n",
    "\n",
    "<div class=\"group\">\n",
    "  <div class=\"text\">\n",
    "      \n",
    "### Alexandra Zimmermann-Rösner\n",
    "#### Coach DS/DP/MLE\n",
    "\n",
    "#### My background:\n",
    "\n",
    "- Biologist\n",
    "- Attended neuefische DS Bootcamp in 2021\n",
    "\n",
    "#### Why I joined the team:\n",
    "\n",
    "- Great atmosphere\n",
    "- Like to help people\n",
    "\n",
    "#### Ask me about:\n",
    "\n",
    "- Movies\n",
    "- Board games\n",
    "- My kids\n",
    "\n",
    "  </div>\n",
    "  <div class=\"images\">\n",
    "    <img src=\"../images/team_pictures/Alexandra.png\">\n",
    "  </div>\n",
    "</div>\n"
   ]
  },
  {
   "cell_type": "markdown",
   "id": "7c49ec1f",
   "metadata": {
    "tags": [
     "Kavish"
    ]
   },
   "source": [
    "\n",
    "## About me\n",
    "\n",
    "<div class=\"group\">\n",
    "  <div class=\"text\">\n",
    "      \n",
    "### Kavish Bhatia\n",
    "#### Coach DS/DP/MLE\n",
    "\n",
    "#### My background:\n",
    "\n",
    "- Computer Scientist & Machine learning enthusiast\n",
    "- Love solving daily problems with python & automation\n",
    "\n",
    "#### Why I joined the team:\n",
    "\n",
    "- Amazing team\n",
    "- Great way to learn and help people\n",
    "\n",
    "#### Ask me about:\n",
    "\n",
    "- Football\n",
    "- Cricket\n",
    "- Indian food\n",
    "\n",
    "  </div>\n",
    "  <div class=\"images\">\n",
    "    <img src=\"../images/team_pictures/Kavish.png\">\n",
    "  </div>\n",
    "</div>\n"
   ]
  },
  {
   "cell_type": "markdown",
   "id": "47e5f565",
   "metadata": {
    "tags": [
     "Matthias"
    ]
   },
   "source": [
    "\n",
    "## About me\n",
    "\n",
    "<div class=\"group\">\n",
    "  <div class=\"text\">\n",
    "      \n",
    "### Matthias Motl\n",
    "#### Coach DA\n",
    "\n",
    "#### My background:\n",
    "\n",
    "- Studied Engineering\n",
    "- Worked in market research for two decades\n",
    "- neuefische alumnus, Data Science\n",
    "\n",
    "\n",
    "#### Why I joined the team:\n",
    "\n",
    "- I liked and wanted to support this unique supportive culture\n",
    "\n",
    "#### Ask me about:\n",
    "\n",
    "- rc flying, cycling\n",
    "- and how not to ride your motorcycle\n",
    "  </div>\n",
    "  <div class=\"images\">\n",
    "    <img src=\"../images/team_pictures/Matthias.png\">\n",
    "  </div>\n",
    "</div>\n"
   ]
  },
  {
   "cell_type": "markdown",
   "id": "0a37f370",
   "metadata": {
    "tags": [
     "Arjun"
    ]
   },
   "source": [
    "\n",
    "## About me\n",
    "\n",
    "<div class=\"group\">\n",
    "  <div class=\"text\">\n",
    "      \n",
    "### Arjun Haridas\n",
    "#### Coach DS\n",
    "\n",
    "#### My background:\n",
    "\n",
    "- BEng and MSc in Electrical Engineering\n",
    "- Attended Spiced DS Bootcamp 2021\n",
    "\n",
    "#### Why I joined the team:\n",
    "\n",
    "- Nice colleagues and atmosphere\n",
    "- I like helping people troubleshoot their code\n",
    "\n",
    "#### Ask me about:\n",
    "\n",
    "- Anime\n",
    "- Fiction Novels\n",
    "- Karate\n",
    "  </div>\n",
    "    <div class=\"images\">\n",
    "        <img src=\"../images/team_pictures/Arjun.png\">\n",
    "    </div>\n",
    "</div>\n"
   ]
  },
  {
   "cell_type": "markdown",
   "id": "f3213ad2",
   "metadata": {
    "tags": [
     "Carmine"
    ]
   },
   "source": [
    "\n",
    "## About me\n",
    "\n",
    "<div class=\"group\">\n",
    "  <div class=\"text\">\n",
    "      \n",
    "### Carmine Somma\n",
    "#### Senior Coach DS\n",
    "\n",
    "#### My background:\n",
    "\n",
    "- Msc and Phd in Matter Physics\n",
    "- Attended Spiced Bootcamp in 2020\n",
    "\n",
    "#### Why I joined the team:\n",
    "\n",
    "- Nice colleague and vibe\n",
    "- Like learning by teaching and find code bugs\n",
    "\n",
    "#### Ask me about:\n",
    "\n",
    "- Basketball\n",
    "- Laser light\n",
    "- Bike\n",
    "- Cooking\n",
    "  </div>\n",
    "    <div class=\"images\">\n",
    "        <img src=\"../images/team_pictures/Carmine.png\">\n",
    "    </div>\n",
    "</div>\n"
   ]
  },
  {
   "cell_type": "markdown",
   "id": "16a0c30b",
   "metadata": {
    "tags": [
     "Parvin"
    ]
   },
   "source": [
    "\n",
    "## About me\n",
    "\n",
    "<div class=\"group\">\n",
    "  <div class=\"text\">\n",
    "      \n",
    "### Parvin Sharifi\n",
    "#### Senior Coach DS\n",
    "\n",
    "#### My background:\n",
    "\n",
    "- Phd in Physics\n",
    "- Worked as Researcher and Data Scientist\n",
    "\n",
    "#### Why I joined the team:\n",
    "\n",
    "- Nice colleagues and atmosphere\n",
    "- I love teaching\n",
    "\n",
    "#### Ask me about:\n",
    "\n",
    "- Literature\n",
    "- Jogging\n",
    "- Theater\n",
    "  </div>\n",
    "    <div class=\"images\">\n",
    "        <img src=\"../images/team_pictures/Parvin.png\">\n",
    "    </div>\n",
    "</div>\n"
   ]
  },
  {
   "cell_type": "markdown",
   "id": "08af2e77",
   "metadata": {
    "tags": [
     "Thomas"
    ]
   },
   "source": [
    "\n",
    "## About me\n",
    "\n",
    "<div class=\"group\">\n",
    "  <div class=\"text\">\n",
    "      \n",
    "### Thomas Zander\n",
    "#### Coach DS\n",
    "\n",
    "#### My background:\n",
    "\n",
    "- PhD in Mechanical Engineering\n",
    "- Data Scientist for human motion capture\n",
    "\n",
    "#### Why I joined the team:\n",
    "\n",
    "- Helping and inspiring others with what I enjoy most is awesome\n",
    "- I like to mine valuable information from idle data\n",
    "\n",
    "#### Ask me about:\n",
    "\n",
    "- Cycling\n",
    "- Running\n",
    "- Book binding\n",
    "- Reading\n",
    "  </div>\n",
    "    <div class=\"images\">\n",
    "        <img src=\"../images/team_pictures/Thomas.png\">\n",
    "    </div>\n",
    "</div>\n"
   ]
  },
  {
   "cell_type": "markdown",
   "id": "3d9540f8",
   "metadata": {
    "tags": [
     "Joseph"
    ]
   },
   "source": [
    "\n",
    "## About me\n",
    "\n",
    "<div class=\"group\">\n",
    "  <div class=\"text\">\n",
    "      \n",
    "### Joseph Karianjahi Njeri\n",
    "#### Coach DS/DP\n",
    "\n",
    "#### My background:\n",
    "\n",
    "- Doctor of Natural Sciences (Karlsruhe Institute of Technology)\n",
    "- Bootcamp on Data Science (Spiced Academy 2021)\n",
    "\n",
    "#### Why I joined the team:\n",
    "\n",
    "- Passion for Data Science and interest in teaching and learning\n",
    "\n",
    "#### Ask me about:\n",
    "\n",
    "- Premier League and Arsenal\n",
    "\n",
    "  </div>\n",
    "    <div class=\"images\">\n",
    "        <img src=\"../images/team_pictures/Joseph.png\">\n",
    "    </div>\n",
    "</div>\n"
   ]
  },
  {
   "cell_type": "markdown",
   "id": "12d06a12",
   "metadata": {
    "tags": [
     "Marta"
    ]
   },
   "source": [
    "\n",
    "## About me\n",
    "\n",
    "<div class=\"group\">\n",
    "  <div class=\"text\">\n",
    "      \n",
    "### Marta Pallotto\n",
    "#### Coach DS\n",
    "\n",
    "#### My background:\n",
    "\n",
    "- PhD in Neuroscience\n",
    "- Attended spiced DS Bootcamp in 2022\n",
    "\n",
    "#### Why I joined the team:\n",
    "\n",
    "- friendly and inclusive atmosphere\n",
    "- passing my enthusiasm for data to student\n",
    "\n",
    "#### Ask me about:\n",
    "\n",
    "- Olive trees and Olive oil\n",
    "- Hiking up the mountains\n",
    "\n",
    "  </div>\n",
    "    <div class=\"images\">\n",
    "        <img src=\"../images/team_pictures/Marta.png\">\n",
    "    </div>\n",
    "</div>\n"
   ]
  },
  {
   "cell_type": "markdown",
   "id": "03a30696",
   "metadata": {
    "tags": [
     "Tanjina"
    ]
   },
   "source": [
    "## About me\n",
    "\n",
    "<div class=\"group\">\n",
    "  <div class=\"text\">\n",
    "      \n",
    "### Tanjina Afroj\n",
    "#### Junior Coach DA\n",
    "\n",
    "#### My background:\n",
    "\n",
    "* I have a bachelors degree in Computer Science & Engineering.\n",
    "\n",
    "#### Why I joined the team:\n",
    "\n",
    "* Passion for Data Science and heard the great working atmosphere.\n",
    "* I also believe that the best way to learn is to teach.\n",
    "\n",
    "#### Ask me about:\n",
    "\n",
    "* Gardening\n",
    "* Cooking \n",
    "* Travelling\n",
    "\n",
    "  </div>\n",
    "  <div class=\"images\">\n",
    "    <img src=\"../images/team_pictures/Tanjina.png\">\n",
    "  </div>\n",
    "</div>"
   ]
  },
  {
   "cell_type": "markdown",
   "id": "e73d5d1f",
   "metadata": {
    "tags": [
     "Anastasia"
    ]
   },
   "source": [
    "\n",
    "## About me\n",
    "\n",
    "<div class=\"group\">\n",
    "  <div class=\"text\">\n",
    "      \n",
    "### Anastasia Mikheeva\n",
    "#### Team Lead DS\n",
    "\n",
    "#### My background:\n",
    "\n",
    "* MSci in Mathematics\n",
    "* Worked as a Social Worker in Berlin for a few years\n",
    "* Attended Spiced DS Bootcamp in 2020\n",
    "\n",
    "#### Why I joined the team:\n",
    "\n",
    "* Perfect combination of the quantitative topics that made me love mathematics and working with people that drew me to social work\n",
    "* Really fun and respectful learning environment, fantastic colleagues\n",
    "\n",
    "#### Ask me about:\n",
    "\n",
    "* My pressure cooker\n",
    "* Why there are so many wasps at the end of Summer\n",
    "* Weird things I like to buy at the flea market\n",
    "\n",
    "  </div>\n",
    "  <div class=\"images\">\n",
    "    <img src=\"../images/team_pictures/Anastasia.png\">\n",
    "  </div>\n",
    "</div>"
   ]
  },
  {
   "cell_type": "markdown",
   "id": "15a5feab",
   "metadata": {
    "tags": [
     "Rakib"
    ]
   },
   "source": [
    "\n",
    "## About me\n",
    "\n",
    "<div class=\"group\">\n",
    "  <div class=\"text\">\n",
    "      \n",
    "### Rakib Rahman\n",
    "#### Senior Coach DS\n",
    "\n",
    "#### My background:\n",
    "\n",
    "- Scientific Research and Teaching\n",
    "- PhD in Theoretical Physics\n",
    "- Attended Spiced DS Bootcamp in 2022\n",
    "\n",
    "#### Why I joined the team:\n",
    "\n",
    "- Passion for teaching and learning\n",
    "- Keen interest in Machine Learning and Data Science\n",
    "- Tremendous diversity in workplace\n",
    "\n",
    "#### Ask me about:\n",
    "\n",
    "- Chess\n",
    "- Heavy Metal music\n",
    "\n",
    "  </div>\n",
    "  <div class=\"images\">\n",
    "    <img src=\"../images/team_pictures/Rakib.png\">\n",
    "  </div>\n",
    "</div>"
   ]
  },
  {
   "cell_type": "markdown",
   "id": "68c060b0",
   "metadata": {
    "tags": [
     "Nouri"
    ]
   },
   "source": [
    "\n",
    "## About me\n",
    "\n",
    "<div class=\"group\">\n",
    "  <div class=\"text\">\n",
    "      \n",
    "### Nouri Shehab\n",
    "#### Coach DS\n",
    "\n",
    "#### My background:\n",
    "\n",
    "- Automation Control Systems\n",
    "- Attended Spiced DS Bootcamp in 2023\n",
    "\n",
    "#### Why I joined the team:\n",
    "\n",
    "- Great colleagues and atmosphere\n",
    "- Curiosity and foster a love for learning\n",
    "- Enjoy sharing knowledge with others\n",
    "\n",
    "#### Ask me about:\n",
    "\n",
    "- Embedded system & microcontroller\n",
    "- Crossfit\n",
    "- Cooking\n",
    "\n",
    "  </div>\n",
    "  <div class=\"images\">\n",
    "    <img src=\"../images/team_pictures/Nouri.png\">\n",
    "  </div>\n",
    "</div>"
   ]
  },
  {
   "cell_type": "markdown",
   "id": "865d42df",
   "metadata": {},
   "source": [
    "\n",
    "## About me\n",
    "\n",
    "<div class=\"group\">\n",
    "  <div class=\"text\">\n",
    "      \n",
    "### Omar Hammad\n",
    "#### Coach DS\n",
    "\n",
    "#### My background:\n",
    "\n",
    "- BSc in Computer Engineering\n",
    "- Industry Experience in Data Science\n",
    "- Specialized in NLP\n",
    "\n",
    "#### Why I joined the team:\n",
    "\n",
    "- Fulfill my passion for teaching & sharing knowledge\n",
    "- Awesome and friendly team\n",
    "- Learn new things by teaching\n",
    "\n",
    "#### Ask me about:\n",
    "\n",
    "- Music (Violin!)\n",
    "- Anime\n",
    "- Greek Mythology\n",
    "- Video games\n",
    "\n",
    "  </div>\n",
    "  <div class=\"images\">\n",
    "    <img src=\"../images/team_pictures/Omar.png\">\n",
    "  </div>\n",
    "</div>"
   ]
  },
  {
   "cell_type": "markdown",
   "id": "a7f972ac",
   "metadata": {
    "tags": [
     "Moses"
    ]
   },
   "source": [
    "## About me\n",
    "\n",
    "<div class=\"group\">\n",
    "  <div class=\"text\">\n",
    "      \n",
    "### Moses Birk\n",
    "#### Teaching Assistant DS\n",
    "\n",
    "#### My background:\n",
    "\n",
    "- Physics and Chemistry Education\n",
    "- Attended Neuefische DS Bootcamp in 2024\n",
    "\n",
    "#### Why I joined the team:\n",
    "\n",
    "- Great colleagues and atmosphere\n",
    "- Enthusiasm for teaching\n",
    "- Passion for Data and Analytics\n",
    "\n",
    "#### Ask me about:\n",
    "\n",
    "- Sailing\n",
    "- Videogames (Puzzles, Adventures, etc.)\n",
    "- Pen & Paper RPGs\n",
    "- Weird physics phenomena\n",
    "\n",
    "  </div>\n",
    "  <div class=\"images\">\n",
    "    <img src=\"../images/team_pictures/Moses.png\">\n",
    "  </div>\n",
    "</div>"
   ]
  },
  {
   "cell_type": "markdown",
   "id": "2acacca0",
   "metadata": {
    "tags": [
     "Josefa"
    ]
   },
   "source": [
    "\n",
    "## About me\n",
    "\n",
    "<div class=\"group\">\n",
    "  <div class=\"text\">\n",
    "      \n",
    "### Josefa Francke\n",
    "#### Teaching Assistant DS\n",
    "\n",
    "#### My background:\n",
    "\n",
    "* Human rights law & policy research\n",
    "* Entrepreneurship\n",
    "* Attended Spiced DS Bootcamp in 2024\n",
    "\n",
    "#### Why I joined the team:\n",
    "\n",
    "* Mathematics and Coding are very enjoyable for me\n",
    "* I love sharing and exchanging knowledge\n",
    "* The team is awesome <3\n",
    "\n",
    "#### Ask me about:\n",
    "\n",
    "* Jugger\n",
    "* The latest book I am reading\n",
    "* Meditation\n",
    "\n",
    "  </div>\n",
    "  <div class=\"images\">\n",
    "    <img src=\"../images/team_pictures/Josefa.png\">\n",
    "  </div>\n",
    "</div>"
   ]
  },
  {
   "cell_type": "markdown",
   "id": "028e52c8",
   "metadata": {
    "tags": [
     "Saied"
    ]},
   "source": [
    "## About me\n",
    "\n",
    "<div class=\"group\">\n",
    "  <div class=\"text\">\n",
    "      \n",
    "### Saied Basha\n",
    "#### Teaching Assistant DS\n",
    "\n",
    "#### My background:\n",
    "\n",
    "- Law and people training and coaching\n",
    "- Attended Neuefische DS Bootcamp in 2023\n",
    "\n",
    "#### Why I joined the team:\n",
    "\n",
    "- Love to help people solving problems\n",
    "- help people learning\n",
    "- Learn new things\n",
    "\n",
    "#### Ask me about:\n",
    "\n",
    "- Good food\n",
    "- Medicine \n",
    "- Travelling\n",
    "- \n",
    "\n",
    "  </div>\n",
    "  <div class=\"images\">\n",
    "    <img src=\"../images/team_pictures/Saied.png\">\n",
    "  </div>\n",
    "</div>"
   ]
  }
 ],
 "metadata": {
  "celltoolbar": "Tags",
  "jupytext": {
   "cell_metadata_filter": "-all",
   "main_language": "python",
   "notebook_metadata_filter": "-all"
  },
  "kernelspec": {
   "display_name": "3.11.3",
   "language": "python",
   "name": "python3"
  },
  "language_info": {
   "codemirror_mode": {
    "name": "ipython",
    "version": 3
   },
   "file_extension": ".py",
   "mimetype": "text/x-python",
   "name": "python",
   "nbconvert_exporter": "python",
   "pygments_lexer": "ipython3",
   "version": "3.11.3"
  }
 },
 "nbformat": 4,
 "nbformat_minor": 5
}
