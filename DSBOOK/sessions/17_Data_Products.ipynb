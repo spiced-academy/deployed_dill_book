{
 "cells": [
  {
   "cell_type": "markdown",
   "id": "5eae09ac",
   "metadata": {
    "slideshow": {
     "slide_type": "skip"
    }
   },
   "source": [
    "# Designing Data Products\n"
   ]
  },
  {
   "cell_type": "markdown",
   "id": "7ea9fb0b",
   "metadata": {
    "slideshow": {
     "slide_type": "slide"
    },
    "tags": [
     "remove-cell"
    ]
   },
   "source": [
    "<div class=\"slide-title\"> \n",
    "    \n",
    "# Designing Data Products\n",
    "    \n",
    "</div>"
   ]
  },
  {
   "cell_type": "markdown",
   "id": "1b5dfb6d",
   "metadata": {
    "slideshow": {
     "slide_type": "slide"
    }
   },
   "source": [
    "## Why would we build a model?\n",
    "      \n",
    "* Exploratory analysis - understand what happened in the past\n",
    "* Predictive analyis - predict what will happen\n",
    "* **Predict what, for whom and for what purpose?**\n",
    "\n",
    "<div class=\"alert alert-block alert-info\">\n",
    "<b>Note: </b> \n",
    "    You do not always need a ML model.\n",
    "</div> "
   ]
  },
  {
   "cell_type": "markdown",
   "id": "0fe9b0d7",
   "metadata": {
    "slideshow": {
     "slide_type": "notes"
    },
    "tags": [
     "remove-cell"
    ]
   },
   "source": [
    "In some cases you can find a deterministic solution and also sometimes simple relations can already lead to a good prediction."
   ]
  },
  {
   "cell_type": "markdown",
   "id": "0c394f13",
   "metadata": {
    "slideshow": {
     "slide_type": "slide"
    }
   },
   "source": [
    "### Product = Customer x Business x Technology\n",
    "\n",
    "* Usability\n",
    "* Business viability\n",
    "* Feasibility\n",
    "      \n",
    "Value = product of the three (If one is zero then the value is zero too.)  \n",
    "\n",
    "\n"
   ]
  },
  {
   "cell_type": "markdown",
   "id": "24b43c6c",
   "metadata": {
    "slideshow": {
     "slide_type": "notes"
    },
    "tags": [
     "remove-cell"
    ]
   },
   "source": [
    "Notes: You're not only building a model for the sake of the model . <br>\n",
    "The value of your product is defined by three characteristics."
   ]
  },
  {
   "cell_type": "markdown",
   "id": "214ed9f0",
   "metadata": {
    "slideshow": {
     "slide_type": "slide"
    }
   },
   "source": [
    "## Measuring success\n",
    "\n",
    "The first model you build should be the simplest model that could address the product needs.\n",
    "\n",
    "**Business performance:** measured usually by one KPI (key performance indicator)\n",
    "<br><br>\n",
    "\n",
    "**Model performance:** an offline metric that captures how well the model will fit the business need\n",
    "<br><br>\n",
    "\n",
    "<div class=\"alert alert-block alert-info\">\n",
    "<b>Note: </b> \n",
    "    The business metric is independent from the model metric... It is a measure of the product success.\n",
    "</div> \n"
   ]
  },
  {
   "cell_type": "markdown",
   "id": "1894c109",
   "metadata": {
    "slideshow": {
     "slide_type": "notes"
    },
    "tags": [
     "remove-cell"
    ]
   },
   "source": [
    "In most cases there is a solution which is not using ML (e.g. Titanic: all female survived), I need to justify why a ML-model is necessary since this is involving more complexity and additional expenses. <br>\n",
    "KPIs can be defined for anything."
   ]
  },
  {
   "cell_type": "markdown",
   "id": "16918444",
   "metadata": {
    "slideshow": {
     "slide_type": "slide"
    }
   },
   "source": [
    "\n",
    "### Business performance vs. model performance\n",
    "\n",
    "<center>  \n",
    "<img src=\"../images/ml_project_data_products/Business_vs_Model_Performance_1.png\" >\n",
    "</center> \n"
   ]
  },
  {
   "cell_type": "markdown",
   "id": "aef97bfe",
   "metadata": {
    "slideshow": {
     "slide_type": "notes"
    },
    "tags": [
     "remove-cell"
    ]
   },
   "source": [
    "Example: Cab app, navigation system"
   ]
  },
  {
   "cell_type": "markdown",
   "id": "af17f15a",
   "metadata": {
    "slideshow": {
     "slide_type": "slide"
    }
   },
   "source": [
    "### Business performance vs. model performance\n",
    "\n",
    "<center>  \n",
    "<img src=\"../images/ml_project_data_products/Business_vs_Model_Performance_2.png\">\n",
    "</center> "
   ]
  },
  {
   "cell_type": "markdown",
   "id": "6ce5ec65",
   "metadata": {
    "slideshow": {
     "slide_type": "slide"
    }
   },
   "source": [
    "### Business performance vs. model performance\n",
    "\n",
    "<center>  \n",
    "<img src=\"../images/ml_project_data_products/Business_vs_Model_Performance_3.png\">\n",
    "</center> "
   ]
  },
  {
   "cell_type": "markdown",
   "id": "e4132e1d",
   "metadata": {
    "slideshow": {
     "slide_type": "slide"
    }
   },
   "source": [
    "### Business performance vs. model performance\n",
    "\n",
    "<center>  \n",
    "<img src=\"../images/ml_project_data_products/Business_vs_Model_Performance_4.png\">\n",
    "</center> "
   ]
  },
  {
   "cell_type": "markdown",
   "id": "32b7e22d",
   "metadata": {
    "slideshow": {
     "slide_type": "slide"
    }
   },
   "source": [
    "### Examples of measuring business performance\n",
    "\n",
    "Business metrics:\n",
    "\n",
    "* Click through rate (CTR) - for recommenders\n",
    "* Usage - model that generates html from hand drawn diagrams\n",
    "* Adoption by finance team - internal revenue forecasting\n",
    "\n",
    "<div class=\"alert alert-block alert-info\">\n",
    "<b>Note: </b> \n",
    "    The business metrics for your model might be impossible to measure before the model goes live!\n",
    "</div> \n"
   ]
  },
  {
   "cell_type": "markdown",
   "id": "be09868b",
   "metadata": {
    "slideshow": {
     "slide_type": "notes"
    },
    "tags": [
     "remove-cell"
    ]
   },
   "source": [
    "Q: What is the kpi of zoom-backgrounds? (people turn on their cameras, in public meeting this is often not the case)"
   ]
  },
  {
   "cell_type": "markdown",
   "id": "f1c6a212",
   "metadata": {
    "slideshow": {
     "slide_type": "slide"
    }
   },
   "source": [
    "### Examples of measuring model performance\n",
    " \n",
    "<b>Regression: </b>  \n",
    "* RMSE, RMSLE\n",
    "* MAPE ( mean absolute percentage error) - accuracy as a ratio\n",
    "\n",
    "<b>Classification: </b>  \n",
    "* Accuracy\n",
    "* Precision\n",
    "* Recall\n",
    "\n",
    "<b>Custom metric: </b> based on the worst case scenarios of your product. \n",
    "\n",
    "<div class=\"alert alert-block alert-info\">\n",
    "<b>Note: </b> \n",
    "    If you need to present to stakeholders you need a simple metric!\n",
    "</div> \n",
    "<!--\n",
    "<div class=\"alert alert-block alert-info\">\n",
    "<b>Note: </b> \n",
    "    If you need to present to stakeholders you need a simple metric... RMSE , precision, recall etc. are too complex to explain!\n",
    "</div> \n",
    "-->"
   ]
  },
  {
   "cell_type": "markdown",
   "id": "0e612965",
   "metadata": {
    "slideshow": {
     "slide_type": "notes"
    },
    "tags": [
     "remove-cell"
    ]
   },
   "source": [
    "Notes: What could the “L” possibly stand for in RMSLE? (logarithmic) RMSLE: best to use when targets having exponential growth (population counts, average sales of a commodity over a span of years etc.) Note: that this metric penalizes an under-predicted estimate greater than an over-predicted estimate."
   ]
  },
  {
   "cell_type": "markdown",
   "id": "5d5e100c",
   "metadata": {
    "slideshow": {
     "slide_type": "slide"
    }
   },
   "source": [
    "### Relationship between business performance & model performance\n",
    "\n",
    "Thinking of the business value of your model and the cost of being\n",
    "wrong can help you choose the right model metric.\n",
    "\n",
    "**Always start from the value!**"
   ]
  },
  {
   "cell_type": "markdown",
   "id": "4edcc45f",
   "metadata": {
    "slideshow": {
     "slide_type": "slide"
    }
   },
   "source": [
    "\n",
    "## Error Analysis"
   ]
  },
  {
   "cell_type": "markdown",
   "id": "23549ee0",
   "metadata": {
    "slideshow": {
     "slide_type": "slide"
    }
   },
   "source": [
    "### Remember the Summary vs details?\n",
    "\n",
    "<center>  \n",
    "    <img src=\"../images/ml_project_data_products/img_p13.gif\" width=800>\n",
    "</center> "
   ]
  },
  {
   "cell_type": "markdown",
   "id": "17eb79d6",
   "metadata": {
    "slideshow": {
     "slide_type": "slide"
    }
   },
   "source": [
    "\n",
    "### Going beyond aggregated metrics\n",
    "\n",
    "* Most model performance metrics we’ve seen are aggregated metrics\n",
    "\n",
    "* They help determine whether a model has learned well from a dataset or needs improvement\n",
    "\n",
    "* Next step: examine results and errors to understand why and how is the model failing or succeeding \n",
    "      \n",
    "**Why: validation and iteration**\n",
    "\n",
    "\n",
    "<div class=\"alert alert-block alert-info\">\n",
    "<b>Note: </b> \n",
    "    Performance metrics can be deceptive, on highly imbalanced datasets a classifier can reach very high accuracy without any predictive power\n",
    "</div> \n"
   ]
  },
  {
   "cell_type": "markdown",
   "id": "0622c64c",
   "metadata": {
    "slideshow": {
     "slide_type": "notes"
    },
    "tags": [
     "remove-cell"
    ]
   },
   "source": [
    "you have to validate and then you can catch mistakes or/and make improvements"
   ]
  },
  {
   "cell_type": "markdown",
   "id": "ebb814e1",
   "metadata": {
    "slideshow": {
     "slide_type": "slide"
    }
   },
   "source": [
    "\n",
    "### Types of supervised learning\n",
    "\n",
    "\n",
    "<center>  \n",
    "<img src=\"../images/ml_project_data_products/img_p15.png\" width=800>\n",
    "</center>\n",
    "\n",
    "[source](https://towardsdatascience.com/regression-or-classification-linear-or-logistic-f093e8757b9c)\n"
   ]
  },
  {
   "cell_type": "markdown",
   "id": "d618b40f",
   "metadata": {
    "slideshow": {
     "slide_type": "slide"
    }
   },
   "source": [
    "### Validate your model - inspect how it is performing\n",
    "\n",
    "There are lot of ways to do this. You want to contrast data (target and/or features) and predictions.\n",
    "\n",
    "**Regression:** looking at residuals, for example doing EDA on residuals and inspecting the outliers\n",
    "\n",
    "**Classification:** one can start with a confusion matrix, breaking results in true class and predictions\n"
   ]
  },
  {
   "cell_type": "markdown",
   "id": "930d2cf1",
   "metadata": {
    "slideshow": {
     "slide_type": "slide"
    }
   },
   "source": [
    "### Confusion Matrix for classification\n",
    "\n",
    "<div class=\"group\">\n",
    "    <div class=\"text\">\n",
    "\n",
    "Counts how often the model predicted correctly and how often it got confused.\n",
    "        \n",
    "* False Positive: false alarm / type I error\n",
    "* False Negative: missed detection / type II error \n",
    "\n",
    "    </div>\n",
    "    <div class=\"text\">\n",
    "        \n",
    "<table class=\"confusion_matrix\">\n",
    "    <thead>\n",
    "        <tr>\n",
    "            <th>&nbsp;</th>\n",
    "            <th>&nbsp;</th>\n",
    "            <th colspan=2>Predicted</th>\n",
    "        </tr>\n",
    "    </thead>\n",
    "    <tbody>\n",
    "        <tr>\n",
    "            <th>&nbsp;</th>\n",
    "            <td class=\"cell-class\">&nbsp;</td>\n",
    "            <td class=\"cell-class\">Negatives</td>\n",
    "            <td class=\"cell-class\">Positives</td>\n",
    "        </tr>\n",
    "        <tr>\n",
    "            <th rowspan=2>Actual</th>\n",
    "            <td class=\"cell-class\">Negatives</td>\n",
    "            <td><span style=\"color:#40B0A6\">TN</span></td>\n",
    "            <td><span style=\"color:#E1BE6A\">FP</span></td>\n",
    "        </tr>\n",
    "        <tr>\n",
    "            <td class=\"cell-class\">Positives</td>  \n",
    "            <td><span style=\"color:#E1BE6A\">FN</span></td>\n",
    "            <td><span style=\"color:#40B0A6\">TP</span></td>\n",
    "        </tr> \n",
    "    </tbody>   \n",
    "</table>\n",
    "    \n",
    "   </div>\n",
    "</div>  \n",
    "\n",
    "**What do the misclassified examples have in common?**"
   ]
  },
  {
   "cell_type": "markdown",
   "id": "19656108",
   "metadata": {
    "slideshow": {
     "slide_type": "notes"
    },
    "tags": [
     "remove-cell"
    ]
   },
   "source": [
    "Notes: Here, positives are not necessarily positive but are simply what the model should predict"
   ]
  },
  {
   "cell_type": "markdown",
   "id": "d5d61045",
   "metadata": {
    "slideshow": {
     "slide_type": "slide"
    }
   },
   "source": [
    "### Residual analysis for regression\n",
    "<div class=\"group\">\n",
    "  <div class=\"text\"> \n",
    "      \n",
    "* This is like EDA again but on residuals (predicted - observed)\n",
    "* Plot residuals /and standardized residuals vs predicted\n",
    "* We want our residuals to have no patterns, to be symmetrically distributed, centered in the middle of the plot\n",
    "* **IF NOT...**      \n",
    "      \n",
    "    </div>\n",
    "    <div class=\"images\">\n",
    "        <img src=\"../images/ml_project_data_products/img_p18_1.png\" width=600>\n",
    "        \n",
    "    </div>\n",
    "</div>\n",
    "\n"
   ]
  },
  {
   "cell_type": "markdown",
   "id": "bccc9d9f",
   "metadata": {
    "slideshow": {
     "slide_type": "slide"
    }
   },
   "source": [
    "### Residual analysis for regression\n",
    "<div class=\"group\">\n",
    "  <div class=\"text\"> \n",
    "      \n",
    "* **IF NOT..** then there is room for improvement in the model.\n",
    "      \n",
    "What if my residuals look like this? Check out [this walkthrough](https://www.qualtrics.com/support/stats-iq/analyses/regression-guides/interpreting-residual-plots-improve-regression/)     \n",
    "    </div>\n",
    "    <div class=\"images\">\n",
    "        <img src=\"../images/ml_project_data_products/img_p18_2.png\" width=600>   \n",
    "    </div>\n",
    "</div>\n",
    "\n",
    "\n",
    "\n"
   ]
  },
  {
   "cell_type": "markdown",
   "id": "8bac7558",
   "metadata": {
    "slideshow": {
     "slide_type": "slide"
    }
   },
   "source": [
    "## Resources\n",
    "\n",
    "https://svpg.com/what-is-a-product/  \n",
    "https://medium.com/analytics-vidhya/root-mean-square-log-error \n",
    "\n",
    "Building Machine Learning Powered Applications(https://medium.com/analytics-vidhya/root-mean-square-log-error-rmse-vs-rmlse-935c6cc1802a) - EmmanuelAmeisen  \n",
    "https://www.qualtrics.com/support/stats-iq/analyses/regression-guides/interpreting-residual-plots-improve-regression/  \n",
    "https://www.scikit-yb.org/en/latest/api/regressor/residuals.html  \n",
    "\n",
    "Example of EDA with error analysis  \n",
    "https://www.kaggle.com/elitcohen/forest-cover-type-eda-modeling-error-analysis#Error-Analysis  \n",
    "https://www.kaggle.com/pestipeti/error-analysis  \n",
    "https://www.kaggle.com/pmarcelino/comprehensive-data-exploration-with-python\n",
    "\n"
   ]
  },
  {
   "cell_type": "markdown",
   "id": "5f9ea7c5",
   "metadata": {
    "slideshow": {
     "slide_type": "slide"
    }
   },
   "source": [
    "## ML Project Topics"
   ]
  },
  {
   "cell_type": "markdown",
   "id": "29e1e997",
   "metadata": {
    "slideshow": {
     "slide_type": "slide"
    }
   },
   "source": [
    "### Kickstarter Project Success\n",
    "<div class=\"group\">\n",
    "  <div class=\"text\"> \n",
    "      \n",
    "Analyse and model success factors of kickstarter campaigns. Give\n",
    "new projects an idea what is needed for a successful funding and\n",
    "potentially even predict campaign success upfront.\n",
    "\n",
    "* 221811 rows of data on campaigns\n",
    "* (medium)\n",
    "\n",
    "      \n",
    "    </div>\n",
    "    <div class=\"images: position: absolute; top: 0; right: 0;\">\n",
    "        <center><img src=\"../images/ml_project_data_products/img_p22.png\" alt=\"Example Image\" style=\"width: 200px; height: 200px;\"></center>\n",
    "        \n",
    "    </div>\n",
    "</div>\n"
   ]
  },
  {
   "cell_type": "markdown",
   "id": "1adf6d23",
   "metadata": {
    "slideshow": {
     "slide_type": "notes"
    },
    "tags": [
     "remove-cell"
    ]
   },
   "source": [
    "Notes: 3 people (medium/hard)"
   ]
  },
  {
   "cell_type": "markdown",
   "id": "cbd876c1",
   "metadata": {
    "slideshow": {
     "slide_type": "slide"
    }
   },
   "source": [
    "### Tanzania Tourism Prediction\n",
    "\n",
    "Can you use tourism survey data and ML to predict how much money a tourist will spend when visiting Tanzania?\n",
    "\n",
    "* Survey Data from 6476 participants\n",
    "* (easy/medium)\n",
    "\n",
    "<a href=\"https://zindi.africa/competitions/tanzania-tourism-prediction/data\">Zindi-Tansania-Tourism</a>\n"
   ]
  },
  {
   "cell_type": "markdown",
   "id": "a0d2e483",
   "metadata": {
    "slideshow": {
     "slide_type": "notes"
    },
    "tags": [
     "remove-cell"
    ]
   },
   "source": [
    "Notes: Suitable for 2 people (easy/medium)<br>\n",
    "a lot of EDA"
   ]
  },
  {
   "cell_type": "markdown",
   "id": "25b2d243",
   "metadata": {
    "slideshow": {
     "slide_type": "slide"
    }
   },
   "source": [
    "### Fraud Detection Challenge in Electricity and Gas Consumption\n",
    "\n",
    "* Based on client’s billing history detect clients involved in fraudulent activities\n",
    "* (medium/advanced)  \n",
    "\n",
    "<a href=\"https://zindi.africa/competitions/fraud-detection-in-electricity-and-gas-consumption-challenge\">Fraud Detection Challenge</a>\n"
   ]
  },
  {
   "cell_type": "markdown",
   "id": "34c1d8b6",
   "metadata": {
    "slideshow": {
     "slide_type": "notes"
    },
    "tags": [
     "remove-cell"
    ]
   },
   "source": [
    "Notes: 2-3 people (medium)<br>\n",
    "highly imbalanced <br>\n",
    "lots of data, you need to delete something"
   ]
  },
  {
   "cell_type": "markdown",
   "id": "5f0edc68",
   "metadata": {
    "slideshow": {
     "slide_type": "slide"
    }
   },
   "source": [
    "### Urban Air Pollution Challenge\n",
    "\n",
    "Predict air quality levels and empower communities to plan and protect their health\n",
    "\n",
    "* weather data and daily observations collected from Sentinel 5P satellite tracking various pollutants in the atmosphere\n",
    "* (medium/advanced -> domain knowledge helpful)\n",
    "\n",
    "<a href=\"https://zindi.africa/competitions/zindiweekendz-learning-urban-air-pollution-challenge\">Air Pollution Challenge</a>"
   ]
  },
  {
   "cell_type": "markdown",
   "id": "ebb7f3e9",
   "metadata": {
    "slideshow": {
     "slide_type": "notes"
    },
    "tags": [
     "remove-cell"
    ]
   },
   "source": [
    "Notes: 3 people"
   ]
  },
  {
   "cell_type": "markdown",
   "id": "3357a13d",
   "metadata": {
    "slideshow": {
     "slide_type": "slide"
    }
   },
   "source": [
    "### Flight Delay Prediction Challenge\n",
    "\n",
    "Predict airline delays for Tunisian aviation company, Tunisair\n",
    "\n",
    "* Data on flight delays. Can be combined with airport locations\n",
    "* (medium)\n",
    "\n",
    "<a href=\"https://zindi.africa/competitions/flight-delay-prediction-challenge\">Flight Delay Prediction Challenge</a>\n"
   ]
  },
  {
   "cell_type": "markdown",
   "id": "b48fd266",
   "metadata": {
    "slideshow": {
     "slide_type": "notes"
    },
    "tags": [
     "remove-cell"
    ]
   },
   "source": [
    "Notes: 3 people <br>\n",
    "compine datasets"
   ]
  },
  {
   "cell_type": "markdown",
   "id": "c81ab107",
   "metadata": {
    "slideshow": {
     "slide_type": "slide"
    }
   },
   "source": [
    "### Financial Inclusion in East Africa\n",
    "\n",
    "Can you predict who in East Africa is most likely to have a bank account?\n",
    "\n",
    "* Survey data on financial inclusion of ~33,600 participants\n",
    "* (easy/medium)\n",
    "\n",
    "<a href=\"https://zindi.africa/competitions/financial-inclusion-in-africa/data\">Financial Inclusion in East Africa</a>\n"
   ]
  },
  {
   "cell_type": "markdown",
   "id": "54eb2a4a",
   "metadata": {
    "slideshow": {
     "slide_type": "notes"
    },
    "tags": [
     "remove-cell"
    ]
   },
   "source": [
    "Notes: 2 people <br>\n",
    "imbalanced data\n",
    "\n"
   ]
  },
  {
   "cell_type": "markdown",
   "id": "88f5b5f0",
   "metadata": {
    "slideshow": {
     "slide_type": "skip"
    },
    "tags": [
     "remove-cell"
    ]
   },
   "source": [
    "### Turtle Rescue Forecast Challenge\n",
    "\n",
    "Anticipate the number of turtles to rescue\n",
    "\n",
    "* Lots of data cleaning\n",
    "* (easy/medium)\n",
    "\n",
    "<a href=\"https://zindi.africa/competitions/turtle-rescue-forecast-challenge\">Turtle Rescue Forecast Challenge</a>\n"
   ]
  }
 ],
 "metadata": {
  "celltoolbar": "Tags",
  "jupytext": {
   "cell_metadata_filter": "-all",
   "main_language": "python",
   "notebook_metadata_filter": "-all"
  },
  "kernelspec": {
   "display_name": "Python 3 (ipykernel)",
   "language": "python",
   "name": "python3"
  },
  "language_info": {
   "codemirror_mode": {
    "name": "ipython",
    "version": 3
   },
   "file_extension": ".py",
   "mimetype": "text/x-python",
   "name": "python",
   "nbconvert_exporter": "python",
   "pygments_lexer": "ipython3",
   "version": "3.11.3"
  },
  "rise": {
   "auto_select": "none",
   "transition": "fade"
  }
 },
 "nbformat": 4,
 "nbformat_minor": 5
}
