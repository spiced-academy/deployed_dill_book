{
 "cells": [
  {
   "cell_type": "markdown",
   "id": "afab250d",
   "metadata": {
    "slideshow": {
     "slide_type": "slide"
    }
   },
   "source": [
    "# Ethics in Data Science"
   ]
  },
  {
   "cell_type": "markdown",
   "id": "45675cae",
   "metadata": {
    "slideshow": {
     "slide_type": "skip"
    },
    "tags": [
     "remove-cell"
    ]
   },
   "source": [
    "### Reminder about some organizational matters before the lecture\n",
    "\n",
    "\n",
    "\n",
    "- Run the notebook ;)\n",
    "- Please create a  [direct poll](https://www.directpoll.com/). Question: \"What is your privilege score?\" and add all possible answers from -8 to 8. (This will make it easier for you to share the survey during the first exercise.)\n",
    "- at the end of the notebook, there is also an example for summaries of the 3 subchapters. You can add to group summaries, if you think they have missed important parts."
   ]
  },
  {
   "cell_type": "markdown",
   "id": "784e8dcb",
   "metadata": {
    "slideshow": {
     "slide_type": "slide"
    },
    "tags": [
     "remove-cell"
    ]
   },
   "source": [
    "<div class=\"slide-title\">\n",
    "\n",
    "# What's Data Ethics?\n",
    "    \n",
    "</div>"
   ]
  },
  {
   "cell_type": "markdown",
   "id": "26e218c5",
   "metadata": {
    "slideshow": {
     "slide_type": "slide"
    }
   },
   "source": [
    "## Exercise\n",
    "\n",
    "### Understand Data Ethics"
   ]
  },
  {
   "cell_type": "markdown",
   "id": "6cad15de",
   "metadata": {
    "slideshow": {
     "slide_type": "slide"
    }
   },
   "source": [
    "### Exercise\n",
    "\n",
    "<div class=\"group\">\n",
    "  <div class=\"text_70\">  \n",
    "      \n",
    "Split in **3 groups** and open **chapter 1** from the book.\n",
    "      \n",
    "**Group 1:** Data Science by Whom? \n",
    "      \n",
    "**Group 2:** Data Science for Whom?\n",
    "      \n",
    "**Group 3:** Data Science with Whose Interests and Goals?\n",
    "      \n",
    "  </div>\n",
    "      <div class=\"images_30\">\n",
    "        <img src=\"../images/ethics/data_feminism.jpg\"><div id='image_caption'>https://data-feminism.mitpress.mit.edu/pub/vi8obxh7/release/4</div>\n",
    "    </div>\n",
    "</div>"
   ]
  },
  {
   "cell_type": "markdown",
   "id": "d482fdec",
   "metadata": {
    "slideshow": {
     "slide_type": "slide"
    }
   },
   "source": [
    "Summarise the text as answers to these 3 questions:\n",
    "          \n",
    "**1. The problem &emsp;&emsp;&emsp; 2. One example &emsp;&emsp;&emsp; 3. A possible solution**"
   ]
  },
  {
   "cell_type": "markdown",
   "id": "d244464e",
   "metadata": {
    "slideshow": {
     "slide_type": "notes"
    },
    "tags": [
     "remove-cell"
    ]
   },
   "source": [
    "Give students 40-50 min and let them share their summary in slack. Afterwards, they can shortly present their subchapter, and having open discussions at the end."
   ]
  },
  {
   "cell_type": "markdown",
   "id": "4615d33c",
   "metadata": {
    "slideshow": {
     "slide_type": "slide"
    }
   },
   "source": [
    "<center>\n",
    "    <img src=\"../images/ethics/data_feminism_qr_code.png\"> \n",
    "</center>\n",
    "\n",
    "[https://data-feminism.mitpress.mit.edu/pub/vi8obxh7/release/4](https://data-feminism.mitpress.mit.edu/pub/vi8obxh7/release/4)"
   ]
  },
  {
   "cell_type": "markdown",
   "id": "679cd091",
   "metadata": {
    "slideshow": {
     "slide_type": "notes"
    },
    "tags": [
     "remove-cell"
    ]
   },
   "source": [
    "Give students 40-50 min and let them share their summary in slack. Afterwards, they can shortly present their subchapter, and having open discussions at the end."
   ]
  },
  {
   "cell_type": "markdown",
   "id": "38a003f7",
   "metadata": {
    "slideshow": {
     "slide_type": "skip"
    },
    "tags": [
     "remove-cell"
    ]
   },
   "source": [
    "![Solutions for Exercise 2](../images/ethics/solution_exercise_2.jpg)"
   ]
  },
  {
   "cell_type": "markdown",
   "id": "5ac200de",
   "metadata": {
    "slideshow": {
     "slide_type": "slide"
    }
   },
   "source": [
    "<div class=\"group\">\n",
    "  <div class=\"text\">   \n",
    "      \n",
    "**Definition**\n",
    "\n",
    "Data ethics refers to the moral and responsible use of data. It involves considering the implications and consequences of collecting, storing, analyzing, and disseminating data, especially in the context of technology, data science, and artificial intelligence. The goal of data ethics is to ensure that data practices are aligned with principles such as fairness, transparency, accountability, and privacy.\n",
    "__Form: https://atlan.com/data-ethics-101/\n",
    "      \n",
    "  </div>\n",
    "  <div class=\"text\">\n",
    "      \n",
    "**Key aspects**\n",
    "- Fairness\n",
    "- Transparency\n",
    "- Privacy\n",
    "- Security\n",
    "- Accountability\n",
    "- Consent\n",
    "- Data Governance\n",
    "- Societal Impact\n",
    "      \n",
    "  </div>\n",
    "</div>\n"
   ]
  },
  {
   "cell_type": "markdown",
   "id": "a9781587",
   "metadata": {
    "slideshow": {
     "slide_type": "slide"
    }
   },
   "source": [
    "<center>\n",
    "\n",
    "> »Big Data processes codify the past. They do not invent the future. Doing that requires moral imagination, and that's something only humans can provide. We have to explicitly embed better values into our algorithms, creating Big Data models that follow our ethical lead. Sometimes that will mean putting fairness ahead of profit.«\n",
    "\n",
    "</center>\n",
    "\n",
    "Cathy O'Neil, _Weapon of Math Destruction_"
   ]
  },
  {
   "cell_type": "markdown",
   "id": "e0435707",
   "metadata": {
    "slideshow": {
     "slide_type": "slide"
    }
   },
   "source": [
    "### Examples of ethical concerns"
   ]
  },
  {
   "cell_type": "markdown",
   "id": "543560a1",
   "metadata": {
    "slideshow": {
     "slide_type": "-"
    }
   },
   "source": [
    "<center> \n",
    "\n",
    "\n",
    "**Fairness:**\n",
    "    \n",
    "<u>Issue:</u> Ensuring that data and algorithms are not biased and do not discriminate against individuals or groups.\n",
    "\n",
    "    \n",
    "<u>Example:</u> A loan application system uses a black-box machine learning model that denies loans, but customers are not told how decisions were made.\n",
    "\n",
    "**Transparency:**\n",
    "    \n",
    "<u>Issue:</u> Making data processes and decisions understandable and visible to stakeholders, reducing opacity in algorithms and data usage.\n",
    "    \n",
    "<u>Example:</u> A loan application system uses a black-box machine learning model that denies loans, but customers are not told how decisions were made.\n",
    "    \n",
    "**Privacy:**\n",
    "\n",
    "<u>Issue:</u> Respecting individuals' rights to control their personal information and ensuring that data is handled securely.\n",
    "    \n",
    "<u>Example:</u> A fitness app collects users' location and health data without clearly informing them of the extent of data collection.\n",
    "    \n",
    "**Security:**\n",
    "\n",
    "<u>Issue:</u> Protecting data from unauthorized access, ensuring data integrity, and implementing measures to prevent breaches.\n",
    "    \n",
    "<u>Example:</u> A healthcare provider experiences a data breach, exposing patients' personal and medical records.\n",
    "    \n",
    "**Accountability:**\n",
    "\n",
    "<u>Issue:</u> Holding individuals and organizations responsible for the ethical use of data, including being able to explain and justify decisions made using data.\n",
    "\n",
    "\n",
    "<u>Example:</u> An AI-powered resume screening tool unfairly rejects qualified candidates, and no team or individual takes responsibility for the error.\n",
    "    \n",
    "    \n",
    "**Consent:**\n",
    "\n",
    "<u>Issue:</u> Obtaining informed consent from individuals before collecting, processing, or sharing their data.\n",
    "    \n",
    "<u>Example:</u> A smart home device records conversations without users' explicit permission.\n",
    "    \n",
    "    \n",
    "**Data Governance:**\n",
    "\n",
    "<u>Issue:</u> Establishing frameworks and policies for how data is managed, including defining roles, responsibilities, and processes.\n",
    "    \n",
    "<u>Example:</u> A company shares customer data with third-party vendors without proper tracking, leading to unauthorized access.\n",
    "    \n",
    "**Societal impact:**\n",
    "\n",
    "<u>Issue:</u> Considering the broader social implications of data use and ensuring that it contributes positively to society, considering unintended consequences.\n",
    "\n",
    "<u>Example:</u> A predictive policing algorithm disproportionately targets certain neighborhoods, leading to over-policing and reinforcing negative stereotypes.\n",
    "\n",
    "</center>"
   ]
  },
  {
   "cell_type": "markdown",
   "id": "f85ba62d",
   "metadata": {
    "slideshow": {
     "slide_type": "slide"
    }
   },
   "source": [
    "## What can we do?"
   ]
  },
  {
   "cell_type": "markdown",
   "id": "9f862371",
   "metadata": {
    "slideshow": {
     "slide_type": "slide"
    }
   },
   "source": [
    "## What can we do?"
   ]
  },
  {
   "cell_type": "markdown",
   "id": "7500a7c9",
   "metadata": {
    "slideshow": {
     "slide_type": "-"
    }
   },
   "source": [
    "<center> \n",
    "\n",
    "**Build better model:** Fairness over accuracy.\n",
    "\n",
    "**Collect better data:** Garbage in, Garbage out.\n",
    "    \n",
    "**Accountability and revision of the algorithm**\n",
    "    \n",
    "**Challenge institution that misuse the data**\n",
    "    \n",
    "**Demand for more regulation**\n",
    "\n",
    "... and more\n",
    "</center>"
   ]
  },
  {
   "cell_type": "markdown",
   "id": "3c2dcbf8",
   "metadata": {
    "slideshow": {
     "slide_type": "slide"
    }
   },
   "source": [
    "\n",
    "\n",
    "> »How do we start to regulate the mathematical models that run more and more of our lives? I would suggest that the process begin with the modelers themselves. Like doctors, data scientists should pledge a Hippocratic Oath, one that focuses on the possible misuses and misinterpretations of their models. Following the market crash of 2008, two financial engineers, Emanuel Derman and Paul Wilmott, drew up such an oath. It reads: \n",
    "\n",
    ">- I will remember that I didn’t make the world, and it doesn’t satisfy my equations.\n",
    ">- Though I will use models boldly to estimate value, I will not be overly impressed by mathematics.\n",
    ">- I will never sacrifice reality for elegance without explaining why I have done so.\n",
    ">- Nor will I give the people who use my model false comfort about its accuracy. Instead, I will make explicit its assumptions and oversights.\n",
    ">- I understand that my work may have enormous effects on society and the economy, many of them beyond my comprehension.\n",
    "\n",
    "\n",
    "\n",
    "Cathy O'Neil, _Weapon of Math Destruction_"
   ]
  },
  {
   "cell_type": "markdown",
   "id": "b5651be4",
   "metadata": {
    "slideshow": {
     "slide_type": "slide"
    }
   },
   "source": [
    "### Practical examples of possible solutions to some ethical concern."
   ]
  },
  {
   "cell_type": "markdown",
   "id": "0ec65219",
   "metadata": {},
   "source": [
    "<left> \n",
    "\n",
    "\n",
    "**Fairness:**\n",
    "   \n",
    "- Perform bias audits on the dataset and algorithm to identify biases.\n",
    "- Use re-sampling or re-weighting techniques to correct for imbalanced data.    \n",
    "- Introduce fairness constraints into the algorithm, such as equal opportunity or demographic parity.\n",
    "- Use bilanced data.\n",
    "- Regularly monitor the model’s performance to detect any unfair patterns after deployment.\n",
    "\n",
    "\n",
    "**Transparency:**\n",
    "    \n",
    "- Use explainable AI techniques, such as SHAP (SHapley Additive exPlanations) or LIME (Local Interpretable Model-agnostic Explanations), to provide users with insights into why a particular decision was made.\n",
    "- Create clear documentation for stakeholders and end-users about how the model works and what data it relies on.\n",
    "- Provide appeal mechanisms for customers to challenge decisions.\n",
    "    \n",
    "**Privacy:**\n",
    "    \n",
    "- Implement data minimization principles—only collect data necessary for the service provided.\n",
    "- Use encryption to secure sensitive data in storage and during transmission.\n",
    "- Provide privacy policies in plain language and let users easily access, manage, and delete their data.\n",
    "    \n",
    "**Security:**\n",
    "\n",
    "- Apply multi-factor authentication and encryption to protect sensitive data.\n",
    "- Conduct regular penetration testing and security audits to identify vulnerabilities.\n",
    "- Ensure incident response plans are in place to address and mitigate breaches quickly.\n",
    "    \n",
    "**Accountability:**\n",
    "\n",
    "- Establish clear accountability frameworks, assigning roles and responsibilities to specific teams or individuals for the design, deployment, and monitoring of models.\n",
    "- Require model documentation and audits to track who made what changes and why.\n",
    "- Implement audit logs and make performance reports available to both internal and external stakeholders.\n",
    "    \n",
    "    \n",
    "**Consent:**\n",
    "    \n",
    "- Ensure informed and explicit consent by giving users clear information about what data will be collected, how it will be used, and with whom it will be shared.\n",
    "- Use opt-in mechanisms rather than opt-out for data collection.\n",
    "- Provide easy-to-use dashboards where users can manage their data preferences.\n",
    "    \n",
    "    \n",
    "**Data Governance:**\n",
    "    \n",
    "- Implement a data governance framework that defines how data is collected, stored, accessed, and shared.\n",
    "- Use data catalogs and metadata management tools to track data flows and ensure compliance with policies.\n",
    "- Assign data stewards or data owners to oversee data usage and enforce governance rules.\n",
    "\n",
    "  \n",
    "**Societal impact:**\n",
    " \n",
    "- Assess the societal impact of the model using impact assessments that involve diverse stakeholders, including community representatives.\n",
    "- Regularly evaluate the system’s outcomes and unintended consequences and adjust the algorithm as necessary.\n",
    "\n",
    "</left>"
   ]
  },
  {
   "cell_type": "markdown",
   "id": "c448846d",
   "metadata": {
    "slideshow": {
     "slide_type": "skip"
    },
    "tags": [
     "remove-cell"
    ]
   },
   "source": [
    "<div class=\"slide-title\">\n",
    "\n",
    "# Privilege and Data Ethics Workshop\n",
    "    \n",
    "</div>"
   ]
  },
  {
   "cell_type": "markdown",
   "id": "24458853",
   "metadata": {
    "slideshow": {
     "slide_type": "skip"
    },
    "tags": [
     "remove-cell"
    ]
   },
   "source": [
    "Notes: Make sure to say the lecture/workshop in the morning is **not** mandatory.\n",
    "\n",
    "At the beginning of the Ethics lecture you might want to ask people to verbally agree to the following: How we show up: \n",
    "- it's optional \n",
    "- Own your intent and impact\n",
    "- Experience and embrace discomfort \n",
    "- Use “I” Statements\n",
    "- Speak through the lens of your identity \n",
    "- Listen for understanding"
   ]
  },
  {
   "cell_type": "code",
   "execution_count": 1,
   "id": "50b544d4",
   "metadata": {
    "slideshow": {
     "slide_type": "skip"
    },
    "tags": [
     "remove-cell"
    ]
   },
   "outputs": [],
   "source": [
    "import json\n",
    "import matplotlib.pyplot as plt\n",
    "\n",
    "# Import company colors\n",
    "with open('plot_colors.json', 'r') as pc:\n",
    "    color_dict = json.load(pc)\n",
    "\n",
    "c_light, c_dark, c_blue = color_dict['color_light'], color_dict['color_dark'], color_dict['color_blue']"
   ]
  },
  {
   "cell_type": "code",
   "execution_count": 2,
   "id": "454fce98",
   "metadata": {
    "hideCode": true,
    "hidePrompt": true,
    "slideshow": {
     "slide_type": "skip"
    },
    "tags": [
     "remove-cell"
    ]
   },
   "outputs": [
    {
     "data": {
      "image/png": "[encoded data removed]",
      "text/plain": [
       "<Figure size 2000x1000 with 1 Axes>"
      ]
     },
     "metadata": {},
     "output_type": "display_data"
    }
   ],
   "source": [
    "# Plot slide with arrows\n",
    "fontsize = 26\n",
    "\n",
    "fig, ax = plt.subplots(figsize=(20, 10))\n",
    "\n",
    "ax.text(s=\"Avoid oppression when using the power of Data Science\", horizontalalignment='center',\n",
    "        x=0.5, y=0.8, fontsize=fontsize)\n",
    "\n",
    "ax.text(s=\"Data Scientists are human\", horizontalalignment='center',\n",
    "        x=0.4, y=0.6, fontsize=fontsize)\n",
    "\n",
    "ax.text(s=\"Humans are biased\", horizontalalignment='center',\n",
    "        x=0.5, y=0.4, fontsize=fontsize)\n",
    "\n",
    "ax.text(s=\"Bias aids power imbalance\", horizontalalignment='center',\n",
    "        x=0.7, y=0.2, fontsize=fontsize)\n",
    "\n",
    "# Arrow between line 1 and 2\n",
    "ax.annotate(\"\",\n",
    "            xy=(0.85, 0.82),\n",
    "            xycoords='data',\n",
    "            xytext=(0.5, 0.72),\n",
    "            textcoords='data',\n",
    "            arrowprops=dict(arrowstyle=\"-\", color=c_light, lw=4, \n",
    "                            connectionstyle=\"bar, angle=270, fraction=1.2\",\n",
    "                            )\n",
    "           )\n",
    "ax.annotate(\"\",\n",
    "            xy=(0.52, 0.72),\n",
    "            xycoords='data',\n",
    "            xytext=(0.23, 0.62),\n",
    "            textcoords='data',\n",
    "            arrowprops=dict(arrowstyle=\"<-, head_width=1.5, head_length=2\", \n",
    "                            color=c_light, lw=4, \n",
    "                            connectionstyle=\"bar, angle=270, fraction=-0.5\",\n",
    "                            )\n",
    "           )\n",
    "\n",
    "# Arrow between line 2 and 3\n",
    "ax.annotate(\"\",\n",
    "            xy=(0.58, 0.62),\n",
    "            xycoords='data',\n",
    "            xytext=(0.5, 0.52),\n",
    "            textcoords='data',\n",
    "            arrowprops=dict(arrowstyle=\"-\", color=c_light, lw=4, \n",
    "                            connectionstyle=\"bar, angle=270, fraction=1.2\",\n",
    "                            )\n",
    "           )\n",
    "ax.annotate(\"\",\n",
    "            xy=(0.52, 0.52),\n",
    "            xycoords='data',\n",
    "            xytext=(0.38, 0.42),\n",
    "            textcoords='data',\n",
    "            arrowprops=dict(arrowstyle=\"<-, head_width=1.5, head_length=2\", \n",
    "                            color=c_light, lw=4, \n",
    "                            connectionstyle=\"bar, angle=270, fraction=-0.5\",\n",
    "                            )\n",
    "           )\n",
    "\n",
    "# Arrow between line 3 and 4\n",
    "ax.annotate(\"\",\n",
    "            xy=(0.63, 0.42),\n",
    "            xycoords='data',\n",
    "            xytext=(0.6, 0.32),\n",
    "            textcoords='data',\n",
    "            arrowprops=dict(arrowstyle=\"-\", color=c_light, lw=4, \n",
    "                            connectionstyle=\"bar, angle=270, fraction=1.2\",\n",
    "                            )\n",
    "           )\n",
    "ax.annotate(\"\",\n",
    "            xy=(0.62, 0.32),\n",
    "            xycoords='data',\n",
    "            xytext=(0.53, 0.22),\n",
    "            textcoords='data',\n",
    "            arrowprops=dict(arrowstyle=\"<-, head_width=1.5, head_length=2\", \n",
    "                            color=c_light, lw=4, \n",
    "                            connectionstyle=\"bar, angle=270, fraction=-0.5\",\n",
    "                            )\n",
    "           )\n",
    "\n",
    "plt.axis('off');"
   ]
  },
  {
   "cell_type": "markdown",
   "id": "22b27fcc",
   "metadata": {
    "slideshow": {
     "slide_type": "skip"
    }
   },
   "source": [
    "## Terminology"
   ]
  },
  {
   "cell_type": "markdown",
   "id": "9100f3bb",
   "metadata": {
    "slideshow": {
     "slide_type": "skip"
    },
    "tags": [
     "remove-cell"
    ]
   },
   "source": [
    "### Terminology"
   ]
  },
  {
   "cell_type": "markdown",
   "id": "9588e13e",
   "metadata": {
    "slideshow": {
     "slide_type": "-"
    }
   },
   "source": [
    "<div class=\"group\">\n",
    "  <div class=\"text\">   \n",
    "      \n",
    "**Cultural Agility**\n",
    "\n",
    "Cultural agility is the ability to understand multiple local contexts and work within them to obtain consistent organizational results.\n",
    "      \n",
    "  </div>\n",
    "  <div class=\"text\">\n",
    "      \n",
    "**Diversity**\n",
    "      \n",
    "The presence of different and multiple characteristics that make up individual and collective identities, including race, gender, age, religion, sexual orientation, ethnicity, national origin, socioeconomic status, language, and physical ability.\n",
    "      \n",
    "  </div>\n",
    "</div>\n"
   ]
  },
  {
   "cell_type": "markdown",
   "id": "0464cc09",
   "metadata": {
    "slideshow": {
     "slide_type": "skip"
    },
    "tags": [
     "remove-cell"
    ]
   },
   "source": [
    "### Terminology"
   ]
  },
  {
   "cell_type": "markdown",
   "id": "82858626",
   "metadata": {
    "slideshow": {
     "slide_type": "-"
    }
   },
   "source": [
    "<div class=\"group\">\n",
    "  <div class=\"text\">   \n",
    "      \n",
    "**Inclusion**\n",
    "\n",
    "Is creating environments in which any individual or group can be and feel welcomed, respected, supported and valued to participate fully.\n",
    "      \n",
    "  </div>\n",
    "  <div class=\"text\">\n",
    "      \n",
    "**Equity**\n",
    "      \n",
    "The process of identifying and removing the barriers that create disparities in the access to resources and means, and the achievement of fair treatment and equal opportunities to thrive.\n",
    "      \n",
    "  </div>\n",
    "</div>\n"
   ]
  },
  {
   "cell_type": "markdown",
   "id": "855f01ec",
   "metadata": {
    "slideshow": {
     "slide_type": "skip"
    },
    "tags": [
     "remove-cell"
    ]
   },
   "source": [
    "### Terminology"
   ]
  },
  {
   "cell_type": "markdown",
   "id": "3f2ee6f4",
   "metadata": {
    "slideshow": {
     "slide_type": "-"
    }
   },
   "source": [
    "<div class=\"group\">\n",
    "  <div class=\"text\">   \n",
    "      \n",
    "**Intersectionality**\n",
    "\n",
    "The intertwining of social identities such as gender, race, ethnicity, social class, religion, sexual orientation or gender identity, which result in unique experiences, opportunities, barriers or social inequality. \n",
    "      \n",
    "  </div>\n",
    "  <div class=\"text\">\n",
    "\n",
    "  </div>\n",
    "</div>"
   ]
  },
  {
   "cell_type": "markdown",
   "id": "bfa9d043",
   "metadata": {
    "slideshow": {
     "slide_type": "skip"
    }
   },
   "source": [
    "<center>\n",
    "    <img src=\"../images/ethics/circle.png\"><div id='image_caption'>Be Inspired, J. K. Nelson: Building a Foundation of Shared Language, Cultural Awareness, & Belonging</div>\n",
    "</center>"
   ]
  },
  {
   "cell_type": "markdown",
   "id": "d00c4c89",
   "metadata": {
    "slideshow": {
     "slide_type": "skip"
    }
   },
   "source": [
    "<center>\n",
    "\n",
    "> »Intersectionality is a lens, a prism, for seeing the way in which various forms of inequality often operate together and exacerbate each other. We tend to talk about race inequality as separate from inequality based on gender, class, sexuality or immigrant status. What’s often missing is how some people are subject to all of these, and the experience is not just the sum of its parts.«\n",
    "\n",
    "</center>\n",
    "\n",
    "Kimberlé Williams Crenshaw\n"
   ]
  },
  {
   "cell_type": "markdown",
   "id": "60fddd24",
   "metadata": {
    "slideshow": {
     "slide_type": "notes"
    },
    "tags": [
     "remove-cell"
    ]
   },
   "source": [
    "Notes: law professor at Columbia and UCLA who coined the term intersectionality"
   ]
  },
  {
   "cell_type": "markdown",
   "id": "aef6380b",
   "metadata": {
    "slideshow": {
     "slide_type": "skip"
    }
   },
   "source": [
    "### Terminology\n",
    "\n",
    "<div class=\"group\">\n",
    "  <div class=\"text\">   \n",
    "      \n",
    "**Oppression/Subjugation**\n",
    "\n",
    "A system of supremacy and discrimination for the benefit of a limited dominant group perpetuated through differential or unjust treatment, ideology and institutional control. \n",
    "      \n",
    "  </div>\n",
    "  <div class=\"text\">\n",
    "\n",
    "**Privilege**\n",
    "\n",
    "Unearned access to resources (social power) only readily available to some people as a result of their advantaged social group membership.\n",
    "\n",
    "  </div>\n",
    "</div>"
   ]
  },
  {
   "cell_type": "markdown",
   "id": "92dbb767",
   "metadata": {
    "slideshow": {
     "slide_type": "skip"
    }
   },
   "source": [
    "<div class=\"group\">\n",
    "  <div class=\"text\">   \n",
    "      <img src=\"../images/ethics/circle.png\"><div id='image_caption'>Be Inspired, J. K. Nelson: Building a Foundation of Shared Language, Cultural Awareness, & Belonging</div>\n",
    "  </div>\n",
    "  <div class=\"images\">\n",
    "      \n",
    "**Privilege**\n",
    "* Advantage\n",
    "* Opportunity\n",
    "* Inclusion\n",
    "     \n",
    "<br>\n",
    "<br>   \n",
    "<br>\n",
    "      \n",
    "**Subjugation**\n",
    "* Disadvantage\n",
    "* Humiliation\n",
    "* Exclusion\n",
    "      \n",
    "  </div>\n",
    "</div>"
   ]
  },
  {
   "cell_type": "markdown",
   "id": "a64b2a9d",
   "metadata": {
    "slideshow": {
     "slide_type": "skip"
    }
   },
   "source": [
    "### Oppression vs. Privilege\n",
    "\n",
    "<div class=\"group\">\n",
    "  <div class=\"text\">   \n",
    "\n",
    "**Oppression**\n",
    "\n",
    "→ Identity that has historically experienced more barriers/stigma\n",
    "      \n",
    "→ Identity is a source of exclusion\n",
    "      \n",
    "→ Identity is very present\n",
    "\n",
    "  </div>\n",
    "  <div class=\"text\">\n",
    "      \n",
    "**Privilege**\n",
    "\n",
    "→ Identity that has historically experienced more power     \n",
    "\n",
    "→ Identity is a source of strength  \n",
    "\n",
    "→ Identity seems unimportant\n",
    "\n",
    "  </div>\n",
    "</div>"
   ]
  },
  {
   "cell_type": "markdown",
   "id": "0da5a689",
   "metadata": {
    "slideshow": {
     "slide_type": "skip"
    }
   },
   "source": [
    "### Some of the privileges out there\n",
    "\n",
    "<div class=\"column\">\n",
    "<span style=\"font-size: 0.7em;\">\n",
    "    \n",
    "→ Identity that has historically experienced more barriers/stigma      \n",
    "\n",
    "→ Identity is a source of exclusion\n",
    "    \n",
    "→ Identity is very present\n",
    "\n",
    "</span>\n",
    "</div>    \n",
    "\n",
    "<div class=\"column\">\n",
    "    \n",
    "| |  | |\n",
    "|-|:----------:|-|\n",
    "| |← Education →| |\n",
    "| |← Gender →| |\n",
    "| |← Ethnicity & race →| |\n",
    "| |← Socioeconomic status →| |\n",
    "| |← Disability status →| |\n",
    "| |← Sexual orientation →| |\n",
    "| |← Age →| |\n",
    "| |← National origin →| |\n",
    "</div>    \n",
    "\n",
    "<div class=\"column\">\n",
    "<span style=\"font-size: 0.7em;\">\n",
    "    \n",
    "→ Identity that has historically experienced more power \n",
    "\n",
    "→  Identity is a source of strength  \n",
    "\n",
    "→ Identity seems unimportant\n",
    "\n",
    "</span>     \n",
    "</div>  "
   ]
  },
  {
   "cell_type": "markdown",
   "id": "8f36c96d",
   "metadata": {
    "slideshow": {
     "slide_type": "skip"
    }
   },
   "source": [
    "### Axes of privilege\n",
    "\n",
    "| |  | |\n",
    "|:-|:----------:|-:|\n",
    "| low |← Education →| high |\n",
    "| Non-binary |← Gender →| Male |\n",
    "| Non white passing|← Ethnicity & race →| White or white passing |\n",
    "| Low|← Socioeconomic status →| High|\n",
    "| Disabled |← Disability status →| Not disabled |\n",
    "| LGBTQI |← Sexual orientation →| Hetero |\n",
    "| Old |← Age →| Young |\n",
    "| Stigmatised foreign country |← National origin →| Same as current country |"
   ]
  },
  {
   "cell_type": "markdown",
   "id": "0c99ddf9",
   "metadata": {
    "slideshow": {
     "slide_type": "skip"
    }
   },
   "source": [
    "## Exercise\n",
    "\n",
    "### Identify your privilege"
   ]
  },
  {
   "cell_type": "markdown",
   "id": "cb3934b1",
   "metadata": {
    "slideshow": {
     "slide_type": "skip"
    }
   },
   "source": [
    "### Axes of privilege\n",
    "\n",
    "| -1  | 0 | 1 |\n",
    "|:-|:----------:|-:|\n",
    "| low |← Education →| high |\n",
    "| Non-binary |← Gender →| Male |\n",
    "| Non white passing|← Ethnicity & race →| White or white passing |\n",
    "| Low|← Socioeconomic status →| High|\n",
    "| Disabled |← Disability status →| Not disabled |\n",
    "| LGBTQI |← Sexual orientation →| Hetero |\n",
    "| Old |← Age →| Young |\n",
    "| Stigmatised foreign country |← National origin →| Same as current country |"
   ]
  },
  {
   "cell_type": "markdown",
   "id": "ebbefcac",
   "metadata": {
    "slideshow": {
     "slide_type": "notes"
    },
    "tags": [
     "remove-cell"
    ]
   },
   "source": [
    "Create a [direct poll](https://www.directpoll.com/) and add all possible answers from -8 to 8. Discuss with course, that the distribution in the course of high privilege is a good reflection on how the distribution is for the population of people working in Data Teams. And that being aware of your own privalege is already helping in reducing bias in your decisions."
   ]
  },
  {
   "cell_type": "markdown",
   "id": "9934f94c",
   "metadata": {
    "slideshow": {
     "slide_type": "slide"
    }
   },
   "source": [
    "<center>\n",
    "\n",
    "> »Data is not going away. Nor are computers - much less mathematics. Predictive models are, increasingly, the tools we will be relying on to run our institutions, deploy our resources, and manage our lives. But as I've tried to show throughout this book, these models are constructed not just data but from the choises we make about the type of data to pay attention to - and which to leave out. Those choices are not just about logistics, profits, and efficiency. They are fundamentally moral. «\n",
    "\n",
    "</center>\n",
    "\n",
    "Cathy O'Neil, _Weapon of Math Destruction_"
   ]
  },
  {
   "cell_type": "markdown",
   "id": "ad39d4c4",
   "metadata": {
    "slideshow": {
     "slide_type": "slide"
    }
   },
   "source": [
    "## References & Follow up\n",
    "\n",
    "* [Ally Skills Workshops](https://frameshiftconsulting.com/ally-skills-workshop)\n",
    "* [Does Diversity-Valuing Behavior Result in Diminished Performance Ratings for Non-White and Female Leaders?](https://journals.aom.org/doi/abs/10.5465/amj.2014.0538)\n",
    "* [Data Feminism](https://data-feminism.mitpress.mit.edu/pub/vi8obxh7/release/4)\n",
    "* [Be Inspired, J. K. Nelson](https://www.beinspiredteam.com)\n",
    "* [Queer Data](https://kevinguyan.com/queer-data)\n",
    "* [Invisible Women](https://carolinecriadoperez.com/book/invisible-women/)\n",
    "* [Skin, Tooth, and Bone: The Basis of Movement is Our People](https://www.sinsinvalid.org/disability-justice-primer)\n",
    "* [The Transgender Issue](https://www.penguin.co.uk/authors/141689/shon-faye)\n",
    "* [Timnit Gebru’s DAIR Institute](https://www.dair-institute.org)\n"
   ]
  },
  {
   "cell_type": "code",
   "execution_count": null,
   "id": "87059d03",
   "metadata": {},
   "outputs": [],
   "source": []
  }
 ],
 "metadata": {
  "celltoolbar": "Slideshow",
  "jupytext": {
   "cell_metadata_filter": "-all",
   "main_language": "python",
   "notebook_metadata_filter": "-all"
  },
  "kernelspec": {
   "display_name": "Python 3 (ipykernel)",
   "language": "python",
   "name": "python3"
  },
  "language_info": {
   "codemirror_mode": {
    "name": "ipython",
    "version": 3
   },
   "file_extension": ".py",
   "mimetype": "text/x-python",
   "name": "python",
   "nbconvert_exporter": "python",
   "pygments_lexer": "ipython3",
   "version": "3.11.3"
  },
  "rise": {
   "auto_select": "none",
   "transition": "fade"
  }
 },
 "nbformat": 4,
 "nbformat_minor": 5
}
