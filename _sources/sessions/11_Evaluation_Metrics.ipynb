{
 "cells": [
  {
   "cell_type": "markdown",
   "id": "69cee64f",
   "metadata": {
    "slideshow": {
     "slide_type": "slide"
    }
   },
   "source": [
    "<div class=\"slide-title\"> \n",
    "        \n",
    "# Evaluation Metrics\n",
    "           \n",
    "</div> "
   ]
  },
  {
   "cell_type": "markdown",
   "id": "8f381cb1",
   "metadata": {
    "slideshow": {
     "slide_type": "slide"
    }
   },
   "source": [
    "## Orientation\n",
    "\n",
    "<div class=\"group\">\n",
    "  <div class=\"text\"> \n",
    "      \n",
    "**Where are we now?**\n",
    "      \n",
    "**06 PREDICTIVE MODELING:**\n",
    "      \n",
    "- select a ML algorithm\n",
    "- train the ML model\n",
    "<i><li><span class=\"color-brand\">evaluate the performance</span></li></i>\n",
    "- make predictions  \n",
    "  </div>\n",
    "    \n",
    "  <div class=\"images\">\n",
    "    <img src=\"../images/evaluation_metrics/img_p0_6.png\" width=\"650\">\n",
    "  </div>\n",
    "</div>\n"
   ]
  },
  {
   "cell_type": "markdown",
   "id": "4d5be72d",
   "metadata": {
    "slideshow": {
     "slide_type": "slide"
    }
   },
   "source": [
    "### Evaluate model performance\n",
    "* Regression Metrics (R-squared, RMSE...)\n",
    "* Classification Metrics (accuracy, precision, recall...)\n",
    "* Custom Metrics \\\n",
    "→ e.g. based on the worst case scenarios of your product\n",
    "\n",
    "\n",
    "<div class=\"alert alert-block alert-info\">\n",
    "<b>Note:</b> \n",
    "If you need to present to stakeholders you need a simple metric!\n",
    "MSE, precision, recall... are too complex to explain\n",
    "</div>"
   ]
  },
  {
   "cell_type": "markdown",
   "id": "f53dbdd6",
   "metadata": {
    "slideshow": {
     "slide_type": "notes"
    },
    "tags": [
     "remove-cell"
    ]
   },
   "source": [
    "Notes: evaluate the performance of a model with a single value measure"
   ]
  },
  {
   "cell_type": "markdown",
   "id": "da26fc6c",
   "metadata": {
    "slideshow": {
     "slide_type": "skip"
    }
   },
   "source": [
    "## Short recap on regression metrics"
   ]
  },
  {
   "cell_type": "markdown",
   "id": "945fd48b",
   "metadata": {
    "slideshow": {
     "slide_type": "slide"
    },
    "tags": [
     "remove-cell"
    ]
   },
   "source": [
    "<div class=\"slide-chapter\">\n",
    "\n",
    "## Short recap on regression metrics\n",
    "    \n",
    "</div>"
   ]
  },
  {
   "cell_type": "markdown",
   "id": "6e692cee",
   "metadata": {
    "slideshow": {
     "slide_type": "notes"
    },
    "tags": [
     "remove-cell"
    ]
   },
   "source": [
    "Q.: Which metric do you know already?"
   ]
  },
  {
   "cell_type": "markdown",
   "id": "ff966498",
   "metadata": {
    "slideshow": {
     "slide_type": "slide"
    }
   },
   "source": [
    "### What Metrics do we have to evaluate model performance?\n",
    "        \n",
    "R2 (R-squared)\n",
    "\n",
    "\n",
    "$${R}^{2}=1-\\frac{R S S}{T S S}=1-\\frac{\\sum_{i=1}^{n}(y_{i}-{\\hat{y}}_{i})^{2}}{\\sum_{i=1}^{n}(y_{i}-{\\bar{y}})^{2}}=1-\\frac{\\sum_{i=1}^{n}e_{i}^{2}}{\\sum_{i=1}^{n}(y_{i}-{\\bar{y}})^{2}}$$    \n",
    "\n",
    "MSE (**M**ean **S**quare **E**rror)\n",
    "\n",
    "\n",
    "$$MSE={\\frac{1}{n}}\\sum_{i=1}^{n}\\left(y_{i}-{\\hat{y}}_{i}\\right)^{2}$$\n",
    "\n",
    "RMSE (**R**oot **M**ean **S**quare **E**rror)\n",
    "\n",
    "\n",
    "$$RMSE = \\sqrt{MSE}$$\n",
    "\n",
    "MAPE (**M**ean **A**bsolute **P**ercentage **E**rror) \n",
    "\n",
    "\n",
    "$${MAPE}=\\frac{1}{n}\\sum_{i=1}^{n}\\frac{|y_{i}-\\hat{y}_{i}|}{\\mathrm{max}(\\epsilon,\\left|y_{i}\\right|)}$$"
   ]
  },
  {
   "cell_type": "markdown",
   "id": "174d6027",
   "metadata": {
    "slideshow": {
     "slide_type": "notes"
    },
    "tags": [
     "remove-cell"
    ]
   },
   "source": [
    "Notes: The idea of  MAPE  is to be sensitive to relative errors. It is for example not changed by a global scaling of the target variable. \n",
    " is an arbitrary small yet strictly positive number to avoid undefined results when y is zero. Mean_absolute_error would have ignored the small magnitude values and only reflected the error in prediction of highest magnitude value. But that problem is resolved in case of MAPE because it calculates relative percentage error with respect to actual output. (https://scikit-learn.org/stable/modules/model_evaluation.html#mean-absolute-percentage-error)"
   ]
  },
  {
   "cell_type": "markdown",
   "id": "e553694a",
   "metadata": {
    "slideshow": {
     "slide_type": "skip"
    }
   },
   "source": [
    "## Let's talk about classification"
   ]
  },
  {
   "cell_type": "markdown",
   "id": "62473307",
   "metadata": {
    "slideshow": {
     "slide_type": "slide"
    },
    "tags": [
     "remove-cell"
    ]
   },
   "source": [
    "<div class=\"slide-chapter\">\n",
    "\n",
    "## Let's talk about classification\n",
    "\n",
    "</div>"
   ]
  },
  {
   "cell_type": "markdown",
   "id": "1b3e5e80",
   "metadata": {
    "slideshow": {
     "slide_type": "slide"
    }
   },
   "source": [
    "<center>\n",
    "    <img src=\"../images/evaluation_metrics/img_p5_2.png\" width=800>\n",
    "</center>\n",
    "\n",
    "[source](https://towardsdatascience.com/regression-or-classification-linear-or-logistic-f093e8757b9c)"
   ]
  },
  {
   "cell_type": "markdown",
   "id": "16cedd87",
   "metadata": {
    "slideshow": {
     "slide_type": "slide"
    }
   },
   "source": [
    "## Confusion Matrix\n",
    "\n",
    "\n",
    "Counts how often the model predicted correctly and how often it got confused.\n",
    "\n",
    "<div class=\"group\">\n",
    "    <div class=\"text\">\n",
    "        \n",
    "* False Positive: false alarm / type I error\n",
    "* False Negative: missed detection / type II error \n",
    "\n",
    "    </div>\n",
    "    <div class=\"text\">\n",
    "\n",
    "<table class=\"confusion_matrix\">\n",
    "    <thead>\n",
    "        <tr>\n",
    "            <th>&nbsp;</th>\n",
    "            <th>&nbsp;</th>\n",
    "            <th colspan=2>Predicted</th>\n",
    "        </tr>\n",
    "    </thead>\n",
    "    <tbody>\n",
    "        <tr>\n",
    "            <th>&nbsp;</th>\n",
    "            <td class=\"cell-class\">&nbsp;</td>\n",
    "            <td class=\"cell-class\">Negatives</td>\n",
    "            <td class=\"cell-class\">Positives</td>\n",
    "        </tr>\n",
    "        <tr>\n",
    "            <th rowspan=2>Actual</th>\n",
    "            <td class=\"cell-class\">Negatives</td>\n",
    "            <td><span style=\"color:#40B0A6\">TN</span></td>\n",
    "            <td><span style=\"color:#E1BE6A\">FP</span></td>\n",
    "        </tr>\n",
    "        <tr>\n",
    "            <td class=\"cell-class\">Positives</td>  \n",
    "            <td><span style=\"color:#E1BE6A\">FN</span></td>\n",
    "            <td><span style=\"color:#40B0A6\">TP</span></td>\n",
    "        </tr> \n",
    "    </tbody>   \n",
    "</table>\n",
    "    \n",
    "   </div>\n",
    "</div>    \n"
   ]
  },
  {
   "cell_type": "markdown",
   "id": "210a82d5",
   "metadata": {
    "slideshow": {
     "slide_type": "notes"
    },
    "tags": [
     "remove-cell"
    ]
   },
   "source": [
    "Notes: Here, positives are not necessarily positive but are simply what the model should predict.\n",
    "When it comes to coding the positive class is usually denoted as 1 and the negative as 0"
   ]
  },
  {
   "cell_type": "markdown",
   "id": "25b1d757",
   "metadata": {
    "slideshow": {
     "slide_type": "slide"
    }
   },
   "source": [
    "## Accuracy\n",
    "\n",
    "How often the model has been right.\n",
    "\n",
    "<div class=\"group\">\n",
    "  <div class=\"text\">\n",
    "\n",
    "$$\\frac{Correct}{All}=\\frac{TP+TN}{TP+FP+TN+FN}$$ \n",
    "  </div>\n",
    "    \n",
    "  <div class=\"text\">\n",
    "<table class=\"confusion_matrix\">\n",
    "    <thead>\n",
    "        <tr>\n",
    "            <th>&nbsp;</th>\n",
    "            <th>&nbsp;</th>\n",
    "            <th colspan=2>Predicted</th>\n",
    "        </tr>\n",
    "    </thead>\n",
    "    <tbody>\n",
    "        <tr>\n",
    "            <th>&nbsp;</th>\n",
    "            <td class=\"cell-class\">&nbsp;</td>\n",
    "            <td class=\"cell-class\">Negatives</td>\n",
    "            <td class=\"cell-class\">Positives</td>\n",
    "        </tr>\n",
    "        <tr>\n",
    "            <th rowspan=2>Actual</th>\n",
    "            <td class=\"cell-class\">Negatives</td>\n",
    "            <td><span style=\"color:#40B0A6\">TN</span></td>\n",
    "            <td><span style=\"color:#E1BE6A\">FP</span></td>\n",
    "        </tr>\n",
    "        <tr>\n",
    "            <td class=\"cell-class\">Positives</td>  \n",
    "            <td><span style=\"color:#E1BE6A\">FN</span></td>\n",
    "            <td><span style=\"color:#40B0A6\">TP</span></td>\n",
    "        </tr> \n",
    "    </tbody>   \n",
    "</table>\n",
    "    \n",
    "   </div>\n",
    "</div>  "
   ]
  },
  {
   "cell_type": "markdown",
   "id": "45ad2ac6",
   "metadata": {
    "slideshow": {
     "slide_type": "slide"
    }
   },
   "source": [
    "### Drawbacks\n",
    "\n",
    "* When one class is very rare it leads to false conclusions\n",
    "* Here, Accuracy is 94 %\n",
    "* But 5 out of 6 positives have been predicted incorrectly \n",
    "\n",
    "<div class=\"group\">\n",
    "  <div class=\"text\">\n",
    "\n",
    "$$ \\frac{C o r r e c t}{A l l}=\\frac{1+93}{1+5+93+1}$$\n",
    "  </div>\n",
    "    \n",
    "  <div class=\"text\">\n",
    "<table class=\"confusion_matrix\">\n",
    "    <thead>\n",
    "        <tr>\n",
    "            <th>&nbsp;</th>\n",
    "            <th>&nbsp;</th>\n",
    "            <th colspan=2>Predicted</th>\n",
    "        </tr>\n",
    "    </thead>\n",
    "    <tbody>\n",
    "        <tr>\n",
    "            <th>&nbsp;</th>\n",
    "            <td class=\"cell-class\">&nbsp;</td>\n",
    "            <td class=\"cell-class\">Negatives</td>\n",
    "            <td class=\"cell-class\">Positives</td>\n",
    "        </tr>\n",
    "        <tr>\n",
    "            <th rowspan=2>Actual</th>\n",
    "            <td class=\"cell-class\">Negatives</td>\n",
    "            <td><span style=\"color:#40B0A6\">93</span></td>\n",
    "            <td><span style=\"color:#E1BE6A\">1</span></td>\n",
    "        </tr>\n",
    "        <tr>\n",
    "            <td class=\"cell-class\">Positives</td>  \n",
    "            <td><span style=\"color:#E1BE6A\">5</span></td>\n",
    "            <td><span style=\"color:#40B0A6\">1</span></td>\n",
    "        </tr> \n",
    "    </tbody>   \n",
    "</table>\n",
    "    \n",
    "   </div>\n",
    "</div>  "
   ]
  },
  {
   "cell_type": "markdown",
   "id": "deeec9f7",
   "metadata": {
    "slideshow": {
     "slide_type": "slide"
    }
   },
   "source": [
    "### Accuracy might not be good enough\n",
    "\n",
    "\n",
    "<center>\n",
    "    <img src=\"../images/evaluation_metrics/img_p9_2.png\" width=800>\n",
    "</center>\n",
    "\n",
    "[source](https://web.stanford.edu/~kalouche/cs229.html)"
   ]
  },
  {
   "cell_type": "markdown",
   "id": "fe2c2ec8",
   "metadata": {
    "slideshow": {
     "slide_type": "slide"
    }
   },
   "source": [
    "## Precision and Recall\n",
    "* Focus on positive class\n",
    "* Number of True Negatives are not taken into account\n",
    "* When trying to detect a rare event\n",
    "* The number of negatives is very large\n"
   ]
  },
  {
   "cell_type": "markdown",
   "id": "525b356f",
   "metadata": {
    "slideshow": {
     "slide_type": "slide"
    }
   },
   "source": [
    "### What proportion of actual positives was predicted correctly?\n",
    "* The TPR is also called sensitivity or recall.\n",
    "* Here, the True Positive Rate is ⅙ (~16.67%).\n",
    "\n",
    "\n",
    "\n",
    "<div class=\"group\">\n",
    "  <div class=\"text\"> \n",
    "      \n",
    "$$Recall=\\frac{T P}{T P+F N}$$ \n",
    "  </div>\n",
    "    \n",
    "  <div class=\"text\">\n",
    "<table class=\"confusion_matrix\">\n",
    "    <thead>\n",
    "        <tr>\n",
    "            <th>&nbsp;</th>\n",
    "            <th>&nbsp;</th>\n",
    "            <th colspan=2>Predicted</th>\n",
    "        </tr>\n",
    "    </thead>\n",
    "    <tbody>\n",
    "        <tr>\n",
    "            <th>&nbsp;</th>\n",
    "            <td class=\"cell-class\">&nbsp;</td>\n",
    "            <td class=\"cell-class\">Negatives</td>\n",
    "            <td class=\"cell-class\">Positives</td>\n",
    "        </tr>\n",
    "        <tr>\n",
    "            <th rowspan=2>Actual</th>\n",
    "            <td class=\"cell-class\">Negatives</td>\n",
    "            <td><span style=\"color:#40B0A6\">93</span></td>\n",
    "            <td><span style=\"color:#E1BE6A\">1</span></td>\n",
    "        </tr>\n",
    "        <tr>\n",
    "            <td class=\"cell-class\">Positives</td>  \n",
    "            <td><span style=\"color:#E1BE6A\"><b>5</b></span></td>\n",
    "            <td><span style=\"color:#40B0A6\"><b>1</b></span></td>\n",
    "        </tr> \n",
    "    </tbody>   \n",
    "</table>\n",
    "  </div>\n",
    "</div>"
   ]
  },
  {
   "cell_type": "markdown",
   "id": "ce40c55a",
   "metadata": {
    "slideshow": {
     "slide_type": "slide"
    }
   },
   "source": [
    "### Tweaking the model\n",
    "      \n",
    "* Every model has a threshold that discerns positive from negative predictions.\n",
    "* Typically, instances will get predicted positive if the probability for that is $\\geq$ 0.5.\n",
    "\n",
    "<br>\n",
    "<br>\n",
    "      \n",
    "<div class=\"group\">\n",
    "  <div class=\"images\"> \n",
    "          <span class=\"color-brand\">Before tweaking</span>    \n",
    "  <img src=\"../images/evaluation_metrics/img_p12_2.png\" width=\"500\">\n",
    "  </div>\n",
    "    \n",
    "  <div class=\"text\">\n",
    "<table class=\"confusion_matrix\">\n",
    "    <thead>\n",
    "        <tr>\n",
    "            <th>&nbsp;</th>\n",
    "            <th>&nbsp;</th>\n",
    "            <th colspan=2>Predicted</th>\n",
    "        </tr>\n",
    "    </thead>\n",
    "    <tbody>\n",
    "        <tr>\n",
    "            <th>&nbsp;</th>\n",
    "            <td class=\"cell-class\">&nbsp;</td>\n",
    "            <td class=\"cell-class\">Negatives</td>\n",
    "            <td class=\"cell-class\">Positives</td>\n",
    "        </tr>\n",
    "        <tr>\n",
    "            <th rowspan=2>Actual</th>\n",
    "            <td class=\"cell-class\">Negatives</td>\n",
    "            <td><span style=\"color:#40B0A6\">93</span></td>\n",
    "            <td><span style=\"color:#E1BE6A\">1</span></td>\n",
    "        </tr>\n",
    "        <tr>\n",
    "            <td class=\"cell-class\">Positives</td>  \n",
    "            <td><span style=\"color:#E1BE6A\"><b>5</b></span></td>\n",
    "            <td><span style=\"color:#40B0A6\"><b>1</b></span></td>\n",
    "        </tr> \n",
    "    </tbody>   \n",
    "</table>\n",
    "  </div>\n",
    "</div>\n",
    "\n",
    "\n",
    "\n"
   ]
  },
  {
   "cell_type": "markdown",
   "id": "db4982a8",
   "metadata": {
    "slideshow": {
     "slide_type": "notes"
    },
    "tags": [
     "remove-cell"
    ]
   },
   "source": [
    "Notes: In which direction should we move the threshold to improve our model?"
   ]
  },
  {
   "cell_type": "markdown",
   "id": "5b3cc659",
   "metadata": {
    "slideshow": {
     "slide_type": "slide"
    }
   },
   "source": [
    "### Tweaking the model\n",
    "* The lower the threshold the more instances get predicted positive.\n",
    "* This will automatically raise the True Positive Rate (TPR) / Recall.\n",
    "\n",
    "<br>\n",
    "<br>\n",
    "\n",
    "<div class=\"group\">\n",
    "  <div class=\"images\"> \n",
    "              <span class=\"color-brand\">After tweaking</span>\n",
    "  <img src=\"../images/evaluation_metrics/img_p13_1.png\" width=\"500\">\n",
    "  </div>\n",
    "    \n",
    "  <div class=\"text\">\n",
    "<table class=\"confusion_matrix\">\n",
    "    <thead>\n",
    "        <tr>\n",
    "            <th>&nbsp;</th>\n",
    "            <th>&nbsp;</th>\n",
    "            <th colspan=2>Predicted</th>\n",
    "        </tr>\n",
    "    </thead>\n",
    "    <tbody>\n",
    "        <tr>\n",
    "            <th>&nbsp;</th>\n",
    "            <td class=\"cell-class\">&nbsp;</td>\n",
    "            <td class=\"cell-class\">Negatives</td>\n",
    "            <td class=\"cell-class\">Positives</td>\n",
    "        </tr>\n",
    "        <tr>\n",
    "            <th rowspan=2>Actual</th>\n",
    "            <td class=\"cell-class\">Negatives</td>\n",
    "            <td><span style=\"color:#40B0A6\">93</span></td>\n",
    "            <td><span style=\"color:#E1BE6A\">1</span></td>\n",
    "        </tr>\n",
    "        <tr>\n",
    "            <td class=\"cell-class\">Positives</td>  \n",
    "            <td><span style=\"color:#E1BE6A\"><b>5</b></span></td>\n",
    "            <td><span style=\"color:#40B0A6\"><b>1</b></span></td>\n",
    "        </tr> \n",
    "    </tbody>   \n",
    "</table>\n",
    "  </div>\n",
    "</div>\n",
    "\n",
    "\n",
    "\n"
   ]
  },
  {
   "cell_type": "markdown",
   "id": "207a6307",
   "metadata": {
    "slideshow": {
     "slide_type": "slide"
    }
   },
   "source": [
    "### Now let’s tweak the model\n",
    "\n",
    "* After tweaking the True Positive Rate (TPR) is at 100%.\n",
    "* But are we entirely happy?\n",
    "\n",
    "<br>\n",
    "<br>\n",
    "\n",
    "<div class=\"group\">\n",
    "    <div class=\"text\">\n",
    "        <span class=\"color-brand\">Before tweaking</span>\n",
    "        \n",
    "<table class=\"confusion_matrix\">\n",
    "    <thead>\n",
    "        <tr>\n",
    "            <th>&nbsp;</th>\n",
    "            <th>&nbsp;</th>\n",
    "            <th colspan=2>Predicted</th>\n",
    "        </tr>\n",
    "    </thead>\n",
    "    <tbody>\n",
    "        <tr>\n",
    "            <th>&nbsp;</th>\n",
    "            <td class=\"cell-class\">&nbsp;</td>\n",
    "            <td class=\"cell-class\">Negatives</td>\n",
    "            <td class=\"cell-class\">Positives</td>\n",
    "        </tr>\n",
    "        <tr>\n",
    "            <th rowspan=2>Actual</th>\n",
    "            <td class=\"cell-class\">Negatives</td>\n",
    "            <td><span style=\"color:#40B0A6\">93</span></td>\n",
    "            <td><span style=\"color:#E1BE6A\">1</span></td>\n",
    "        </tr>\n",
    "        <tr>\n",
    "            <td class=\"cell-class\">Positives</td>  \n",
    "            <td><span style=\"color:#E1BE6A\"><b>5</b></span></td>\n",
    "            <td><span style=\"color:#40B0A6\"><b>1</b></span></td>\n",
    "        </tr> \n",
    "    </tbody>   \n",
    "</table> \n",
    "    </div>\n",
    "    <div class=\"text\">\n",
    "        <span class=\"color-brand\">After tweaking</span>\n",
    "\n",
    "<table class=\"confusion_matrix\">\n",
    "    <thead>\n",
    "        <tr>\n",
    "            <th>&nbsp;</th>\n",
    "            <th>&nbsp;</th>\n",
    "            <th colspan=2>Predicted</th>\n",
    "        </tr>\n",
    "    </thead>\n",
    "    <tbody>\n",
    "        <tr>\n",
    "            <th>&nbsp;</th>\n",
    "            <td class=\"cell-class\">&nbsp;</td>\n",
    "            <td class=\"cell-class\">Negatives</td>\n",
    "            <td class=\"cell-class\">Positives</td>\n",
    "        </tr>\n",
    "        <tr>\n",
    "            <th rowspan=2>Actual</th>\n",
    "            <td class=\"cell-class\">Negatives</td>\n",
    "            <td><span style=\"color:#40B0A6\">14</span></td>\n",
    "            <td><span style=\"color:#E1BE6A\">80</span></td>\n",
    "        </tr>\n",
    "        <tr>\n",
    "            <td class=\"cell-class\">Positives</td>  \n",
    "            <td><span style=\"color:#E1BE6A\"><b>0</b></span></td>\n",
    "            <td><span style=\"color:#40B0A6\"><b>6</b></span></td>\n",
    "        </tr> \n",
    "    </tbody>   \n",
    "</table>\n",
    "    </div>\n",
    "</div>\n",
    "\n"
   ]
  },
  {
   "cell_type": "markdown",
   "id": "5dbd19dc",
   "metadata": {
    "slideshow": {
     "slide_type": "slide"
    }
   },
   "source": [
    "### What proportion of positive predictions are actually correct?\n",
    "* Precision is 6/86 (~6.97 %), even lower as recall before tweaking!\n",
    "* But: if it’s too low or acceptable depends on the business case.\n",
    "* For detecting cancer it might be okay for the stakeholders. \\\n",
    "→ Still, costs for screening millions of people might be very high.\n",
    "\n",
    "<br>\n",
    "<br>\n",
    "\n",
    "<div class=\"group\">\n",
    "  <div class=\"text\">\n",
    "\n",
    "$$Precision=\\frac{T P}{T P+F P}$$\n",
    "  </div>\n",
    "    \n",
    "  <div class=\"text\">\n",
    "<table class=\"confusion_matrix\">\n",
    "    <thead>\n",
    "        <tr>\n",
    "            <th>&nbsp;</th>\n",
    "            <th>&nbsp;</th>\n",
    "            <th colspan=2>Predicted</th>\n",
    "        </tr>\n",
    "    </thead>\n",
    "    <tbody>\n",
    "        <tr>\n",
    "            <th>&nbsp;</th>\n",
    "            <td class=\"cell-class\">&nbsp;</td>\n",
    "            <td class=\"cell-class\">Negatives</td>\n",
    "            <td class=\"cell-class\">Positives</td>\n",
    "        </tr>\n",
    "        <tr>\n",
    "            <th rowspan=2>Actual</th>\n",
    "            <td class=\"cell-class\">Negatives</td>\n",
    "            <td><span style=\"color:#40B0A6\">14</span></td>\n",
    "            <td><span style=\"color:#E1BE6A\"><b>80</b></span></td>\n",
    "        </tr>\n",
    "        <tr>\n",
    "            <td class=\"cell-class\">Positives</td>  \n",
    "            <td><span style=\"color:#E1BE6A\">0</span></td>\n",
    "            <td><span style=\"color:#40B0A6\"><b>6</b></span></td>\n",
    "        </tr> \n",
    "    </tbody>   \n",
    "</table>\n",
    "    </div>\n",
    "</div>\n"
   ]
  },
  {
   "cell_type": "markdown",
   "id": "bcf5ba2a",
   "metadata": {
    "slideshow": {
     "slide_type": "slide"
    }
   },
   "source": [
    "### Summary\n",
    "$N_+ $ : the number of positives \\\n",
    "$N_- $ : the number of negatives \\\n",
    "n = # observations\n",
    "\n",
    "<table class=\"confusion_matrix\">\n",
    "    <thead>\n",
    "        <tr>\n",
    "            <th>&nbsp;</th>\n",
    "            <th>&nbsp;</th>\n",
    "            <th colspan=3>Predicted</th>\n",
    "        </tr>\n",
    "    </thead>\n",
    "    <tbody>\n",
    "        <tr>\n",
    "            <th>&nbsp;</th>\n",
    "            <td class=\"cell-class\">&nbsp;</td>\n",
    "            <td class=\"cell-class\">Negatives / 0</td>\n",
    "            <td class=\"cell-class\">Positives / 1</td>\n",
    "            <td class=\"cell-class\">&sum;</td>\n",
    "        </tr>\n",
    "        <tr>\n",
    "            <th rowspan=2>Actual</th>\n",
    "            <td class=\"cell-class\">Negatives / 0</td>\n",
    "            <td>TN</td>\n",
    "            <td>FP</td>\n",
    "            <td>N<sub>-</sub> = FP + TN</td>\n",
    "        </tr>\n",
    "        <tr>\n",
    "            <td class=\"cell-class\">Positives / 1</td>  \n",
    "            <td>FN</td>\n",
    "            <td>TP</td>\n",
    "            <td>N<sub>+</sub> = TP + FN</td>\n",
    "        </tr>\n",
    "        <tr>\n",
    "            <th>&nbsp;</th>          \n",
    "            <td class=\"cell-class\">&sum;</td>  \n",
    "            <td>N-hat<sub>-</sub> = FN + TN</td>\n",
    "            <td>N-hat<sub>+</sub> = TP + FP</td>\n",
    "            <td>n = TP + FP + FN + TN</td>\n",
    "        </tr>\n",
    "    </tbody>   \n",
    "</table>\n",
    "\n"
   ]
  },
  {
   "cell_type": "markdown",
   "id": "55ba3880",
   "metadata": {
    "slideshow": {
     "slide_type": "notes"
    },
    "tags": [
     "remove-cell"
    ]
   },
   "source": [
    "Notes: Again, positives are not necessarily positive but are simply what the model should predict"
   ]
  },
  {
   "cell_type": "markdown",
   "id": "6691223e",
   "metadata": {
    "slideshow": {
     "slide_type": "slide"
    }
   },
   "source": [
    "### Precision-Recall Curve\n",
    "\n",
    "\n",
    "\n",
    "<div class=\"group\">\n",
    "  <div class=\"text\"> \n",
    "\n",
    "* Plots Precision vs. Recall depending on the **threshold**.\n",
    "* If threshold is **high**: \\\n",
    "→ Precision is close to 1. \\\n",
    "→ Recall will be very low. \n",
    "\n",
    "  </div>\n",
    "    \n",
    "  <div class=\"images\">\n",
    "    <img src=\"../images/evaluation_metrics/precision_recall.png\" width=\"500\">\n",
    "  </div>\n",
    "</div>\n",
    "\n"
   ]
  },
  {
   "cell_type": "markdown",
   "id": "8a2a687b",
   "metadata": {
    "slideshow": {
     "slide_type": "slide"
    }
   },
   "source": [
    "\n",
    "\n",
    "\n",
    "\n",
    "### Precision-Recall Curve\n",
    "\n",
    "\n",
    "\n",
    "<div class=\"group\">\n",
    "  <div class=\"text\"> \n",
    "\n",
    "* If threshold is **effectively zero**: \\\n",
    "→ Predicting all instances as positives. \\\n",
    "→ Recall will be 1. \\\n",
    "→ Precision is equal to the share of positives. \n",
    "* Goal: Get a threshold the stakeholder agrees on.\n",
    "* Starting point might be estimation of economic benefit and cost.\n",
    "\n",
    "  </div>\n",
    "    \n",
    "  <div class=\"images\">\n",
    "    <img src=\"../images/evaluation_metrics/precision_recall.png\" width=\"500\">\n",
    "  </div>\n",
    "</div>\n",
    "\n",
    "\n"
   ]
  },
  {
   "cell_type": "markdown",
   "id": "79d5dd53",
   "metadata": {
    "slideshow": {
     "slide_type": "slide"
    }
   },
   "source": [
    "## F1-Score\n",
    "\n",
    "<div class=\"group\">\n",
    "    <div class=\"text\">\n",
    "        \n",
    "* Harmonic mean of precision and recall\n",
    "* Here the F1-Score is 13.08%      \n",
    "    </div>\n",
    "    <div class=\"text\">\n",
    "\n",
    "$F_1 = 2\\cdot\\frac{Precision\\;\\cdot\\;Recall}{Precision\\;+\\;Recall}$\n",
    "        \n",
    "$F_1 = 2\\cdot\\frac{7\\cdot100}{7+100}=13.08\\%$\n",
    "    </div>\n",
    "</div>  \n",
    "\n",
    "<br>\n",
    "\n",
    "<table class=\"confusion_matrix\">\n",
    "    <thead>\n",
    "        <tr>\n",
    "            <th>&nbsp;</th>\n",
    "            <th>&nbsp;</th>\n",
    "            <th colspan=2>Predicted</th>\n",
    "        </tr>\n",
    "    </thead>\n",
    "    <tbody>\n",
    "        <tr>\n",
    "            <th>&nbsp;</th>\n",
    "            <td class=\"cell-class\">&nbsp;</td>\n",
    "            <td class=\"cell-class\">Negatives</td>\n",
    "            <td class=\"cell-class\">Positives</td>\n",
    "        </tr>\n",
    "        <tr>\n",
    "            <th rowspan=2>Actual</th>\n",
    "            <td class=\"cell-class\">Negatives</td>\n",
    "            <td><span style=\"color:#40B0A6\">14</span></td>\n",
    "            <td><span style=\"color:#E1BE6A\"><b>80</b></span></td>\n",
    "        </tr>\n",
    "        <tr>\n",
    "            <td class=\"cell-class\">Positives</td>  \n",
    "            <td><span style=\"color:#E1BE6A\"><b>0</b></span></td>\n",
    "            <td><span style=\"color:#40B0A6\"><b>6</b></span></td>\n",
    "        </tr> \n",
    "    </tbody>   \n",
    "</table>"
   ]
  },
  {
   "cell_type": "markdown",
   "id": "c5ba1c53",
   "metadata": {
    "slideshow": {
     "slide_type": "slide"
    }
   },
   "source": [
    "### F1-Score\n",
    "\n",
    "<div class=\"group\">\n",
    "    <div class=\"text\">\n",
    "        \n",
    "* The harmonic mean punishes low rates.    \n",
    "    </div>\n",
    "    <div class=\"text\">\n",
    "\n",
    "$F_1 = 2\\cdot\\frac{Precision\\;\\cdot\\;Recall}{Precision\\;+\\;Recall}$    \n",
    "    </div>\n",
    "</div> \n",
    "\n",
    "<br>\n",
    "<table class=\"confusion_matrix\">\n",
    "  <thead>\n",
    "    <tr>\n",
    "      <th><b>Precision</b></th>\n",
    "      <th><b>Recall</b></th>\n",
    "      <th><b>F1-Score</b></th>\n",
    "    </tr>\n",
    "  </thead>\n",
    "  <tbody>\n",
    "    <tr>\n",
    "      <td>5%</td>\n",
    "      <td>50%</td>\n",
    "      <td>9%</td>\n",
    "    </tr>\n",
    "    <tr>\n",
    "      <td>90%</td>\n",
    "      <td>90%</td>\n",
    "      <td>90%</td>\n",
    "    </tr>\n",
    "    <tr>\n",
    "      <td>30%</td>\n",
    "      <td>60%</td>\n",
    "      <td>40%</td>\n",
    "    </tr>\n",
    "    </tbody>\n",
    "</table>"
   ]
  },
  {
   "cell_type": "markdown",
   "id": "c8e11e9f",
   "metadata": {
    "slideshow": {
     "slide_type": "slide"
    }
   },
   "source": [
    "## Let’s take negatives into the equation\n",
    "\n",
    "<div class=\"group\">\n",
    "    <div class=\"text_70\">\n",
    "        \n",
    "* The amount of correct negative predictions is sometimes just as important\n",
    "* Spam vs. ham is just one example (email spam detection)    \n",
    "    </div>\n",
    "    <div class=\"images_30\">\n",
    "\n",
    "<img src=\"../images/evaluation_metrics/img_p21_2.png\">\n",
    "        \n",
    "[Image source](https://www.slideshare.net/func_i/introduction-to-machine-learning-classifiers)\n",
    "    </div>\n",
    "</div> \n"
   ]
  },
  {
   "cell_type": "markdown",
   "id": "415176fa",
   "metadata": {
    "slideshow": {
     "slide_type": "notes"
    },
    "tags": [
     "remove-cell"
    ]
   },
   "source": [
    "Notes: You don’t want your boss’s email in the spam folder..."
   ]
  },
  {
   "cell_type": "markdown",
   "id": "8cebaf34",
   "metadata": {
    "slideshow": {
     "slide_type": "slide"
    }
   },
   "source": [
    "### What proportion of actual negatives was predicted as positives?\n",
    "\n",
    "* False Positive Rate\n",
    "* Here the FPR is: $\\frac{80}{80+14} = 85.11\\%$\n",
    "\n",
    "<br>\n",
    "<br>\n",
    "\n",
    "<div class=\"group\">\n",
    "  <div class=\"text\">\n",
    "        \n",
    "$$FPR=\\frac{FP}{TN+FP}$$  \n",
    "  </div>\n",
    "    \n",
    "  <div class=\"text\">\n",
    "<table class=\"confusion_matrix\">\n",
    "    <thead>\n",
    "        <tr>\n",
    "            <th>&nbsp;</th>\n",
    "            <th>&nbsp;</th>\n",
    "            <th colspan=2>Predicted</th>\n",
    "        </tr>\n",
    "    </thead>\n",
    "    <tbody>\n",
    "        <tr>\n",
    "            <th>&nbsp;</th>\n",
    "            <td class=\"cell-class\">&nbsp;</td>\n",
    "            <td class=\"cell-class\">Negatives</td>\n",
    "            <td class=\"cell-class\">Positives</td>\n",
    "        </tr>\n",
    "        <tr>\n",
    "            <th rowspan=2>Actual</th>\n",
    "            <td class=\"cell-class\">Negatives</td>\n",
    "            <td><span style=\"color:#40B0A6\"><b>14</b></span></td>\n",
    "            <td><span style=\"color:#E1BE6A\"><b>80</b></span></td>\n",
    "        </tr>\n",
    "        <tr>\n",
    "            <td class=\"cell-class\">Positives</td>  \n",
    "            <td><span style=\"color:#E1BE6A\">0</span></td>\n",
    "            <td><span style=\"color:#40B0A6\">6</span></td>\n",
    "        </tr> \n",
    "    </tbody>   \n",
    "</table>\n",
    "    </div>\n",
    "</div> \n"
   ]
  },
  {
   "cell_type": "markdown",
   "id": "4dd987a1",
   "metadata": {
    "heading_collapsed": true,
    "slideshow": {
     "slide_type": "slide"
    }
   },
   "source": [
    "\n",
    "### What proportion of actual negatives was predicted correctly?\n",
    "\n",
    "* True Negative Rate also called specificity\n",
    "* Here the TNR is: $\\frac{14}{80+14} = 14.89\\%$\n",
    "* FPR = 1 - specificity \n",
    "\n",
    "<br>\n",
    "<br>\n",
    "\n",
    "<div class=\"group\">\n",
    "  <div class=\"text\">\n",
    "        \n",
    "$$TNR=\\frac{TN}{T N+F P}$$\n",
    "  </div>\n",
    "    \n",
    "  <div class=\"text\">\n",
    "<table class=\"confusion_matrix\">\n",
    "    <thead>\n",
    "        <tr>\n",
    "            <th>&nbsp;</th>\n",
    "            <th>&nbsp;</th>\n",
    "            <th colspan=2>Predicted</th>\n",
    "        </tr>\n",
    "    </thead>\n",
    "    <tbody>\n",
    "        <tr>\n",
    "            <th>&nbsp;</th>\n",
    "            <td class=\"cell-class\">&nbsp;</td>\n",
    "            <td class=\"cell-class\">Negatives</td>\n",
    "            <td class=\"cell-class\">Positives</td>\n",
    "        </tr>\n",
    "        <tr>\n",
    "            <th rowspan=2>Actual</th>\n",
    "            <td class=\"cell-class\">Negatives</td>\n",
    "            <td><span style=\"color:#40B0A6\"><b>14</b></span></td>\n",
    "            <td><span style=\"color:#E1BE6A\"><b>80</b></span></td>\n",
    "        </tr>\n",
    "        <tr>\n",
    "            <td class=\"cell-class\">Positives</td>  \n",
    "            <td><span style=\"color:#E1BE6A\">0</span></td>\n",
    "            <td><span style=\"color:#40B0A6\">6</span></td>\n",
    "        </tr> \n",
    "    </tbody>   \n",
    "</table>\n",
    "    </div>\n",
    "</div> \n"
   ]
  },
  {
   "cell_type": "markdown",
   "id": "5e931f2f",
   "metadata": {
    "slideshow": {
     "slide_type": "slide"
    }
   },
   "source": [
    "## Receiver Operating Characteristic Curve (ROC Curve)\n",
    "\n",
    "TPR vs. FPR plotted for different **thresholds**\n",
    "\n",
    "<div class=\"group\">\n",
    "  <div class=\"text\"> \n",
    "\n",
    "* The 45° line is equivalent to throwing a coin\n",
    "* If all positives are correctly predicted and no negative is incorrectly predicted ROC curve would be the green curve\n",
    "* Aim: ROC curve as closely as possible to (0,1) \n",
    "  </div>\n",
    "    \n",
    "  <div class=\"images\">\n",
    "    <img src=\"../images/evaluation_metrics/img_p24_1.png\" width=450>\n",
    "  </div>\n",
    "</div>\n"
   ]
  },
  {
   "cell_type": "markdown",
   "id": "f8b2cb81",
   "metadata": {
    "slideshow": {
     "slide_type": "notes"
    },
    "tags": [
     "remove-cell"
    ]
   },
   "source": [
    "Notes: Top right corner: Threshold 0 \n",
    "Bottom left corner: Threshold 1\n",
    "\n",
    "It tells how much the model is capable of distinguishing between classes. Higher the AUC, the better the model is at predicting 0 classes as 0 and 1 classes as 1 "
   ]
  },
  {
   "cell_type": "markdown",
   "id": "2ecfc7fa",
   "metadata": {
    "slideshow": {
     "slide_type": "slide"
    }
   },
   "source": [
    "### ROC and the Area Under the Curve (ROC AUC)\n",
    "\n",
    "Metric to compare different classifiers\n",
    "\n",
    "<div class=\"group\">\n",
    "  <div class=\"text\"> \n",
    "      \n",
    "* Random classifier: \\\n",
    "→ ROC AUC is 0.5 \\\n",
    "→ ROC curve is on the 45° line\n",
    "* Perfect classifier: \\\n",
    "→ ROC AUC is 1\n",
    "  </div>\n",
    "    \n",
    "  <div class=\"images\">\n",
    "    <img src=\"../images/evaluation_metrics/img_p25_1.png\" width=\"450\">\n",
    "  </div>\n",
    "</div>\n",
    "\n",
    "\n"
   ]
  },
  {
   "cell_type": "markdown",
   "id": "67f71836",
   "metadata": {
    "slideshow": {
     "slide_type": "notes"
    },
    "tags": [
     "remove-cell"
    ]
   },
   "source": [
    "Notes: It tells how much the model is capable of distinguishing between classes. Higher the AUC, the better the model is at predicting 0 classes as 0 and 1 classes as 1"
   ]
  },
  {
   "cell_type": "markdown",
   "id": "7ef89d62",
   "metadata": {
    "slideshow": {
     "slide_type": "slide"
    }
   },
   "source": [
    "### Explanation of ROC curve\n",
    "<div class=\"group\">\n",
    "  <div class=\"images\"> \n",
    "<img src=\"https://github.com/dariyasydykova/open_projects/raw/master/ROC_animation/animations/cutoff.gif\" alt=\"cutoff.gif\" scale=\"0\">\n",
    "  </div>\n",
    "    \n",
    "  <div class=\"images\">\n",
    "    <img src=\"../images/evaluation_metrics/img_p26_3.png\" width=\"500\">\n",
    "    <img src=\"../images/evaluation_metrics/img_p26_4.png\" width=\"500\">\n",
    "  </div>\n",
    "</div>"
   ]
  },
  {
   "cell_type": "markdown",
   "id": "a5e379e0",
   "metadata": {
    "slideshow": {
     "slide_type": "notes"
    },
    "tags": [
     "remove-cell"
    ]
   },
   "source": [
    "Notes: Threshold 1: - all negative → no true positive (dark blue) and no false positive (light yellow)\n",
    "Threshold 0: - all positive → no true negative (dark yellow) and no false negative (light blue)\n",
    "\n",
    "Linear predictor: weighted sum of coefficients and feature values "
   ]
  },
  {
   "cell_type": "markdown",
   "id": "7f8273c6",
   "metadata": {
    "slideshow": {
     "slide_type": "slide"
    }
   },
   "source": [
    "### Explanation of ROC curve\n",
    "<center>\n",
    "<img src=\"https://github.com/dariyasydykova/open_projects/raw/master/ROC_animation/animations/ROC.gif\" alt=\"\" scale=\"0\">\n",
    "</center>    \n",
    "\n",
    "[Image source](https://paulvanderlaken.com/2019/08/16/roc-auc-precision-and-recall-visually-explained/)\n"
   ]
  },
  {
   "cell_type": "markdown",
   "id": "0d32ce2a",
   "metadata": {
    "slideshow": {
     "slide_type": "slide"
    }
   },
   "source": [
    "### Imbalanced classes\n",
    "\n",
    "<center>\n",
    "<img src=\"https://github.com/dariyasydykova/open_projects/raw/master/ROC_animation/animations/imbalance.gif\" alt=\"\" scale=\"0\">\n",
    "</center>\n",
    "\n",
    "[Image source](https://paulvanderlaken.com/2019/08/16/roc-auc-precision-and-recall-visually-explained/)\n",
    "\n"
   ]
  },
  {
   "cell_type": "markdown",
   "id": "30f68467",
   "metadata": {
    "slideshow": {
     "slide_type": "notes"
    },
    "tags": [
     "remove-cell"
    ]
   },
   "source": [
    "Notes: To explain why the ROC and PR curves tell a different story, recall that the PR curve focuses on the minority class, whereas the ROC curve covers both classes.In cases where the positive class is more interesting than the negative the PR curve is a good tool."
   ]
  },
  {
   "cell_type": "markdown",
   "id": "650c10a4",
   "metadata": {
    "slideshow": {
     "slide_type": "slide"
    }
   },
   "source": [
    "## Going beyond aggregated metrics\n",
    "All the performance metrics we’ve seen today are aggregated metrics.\n",
    "\n",
    "They help determine whether a model has learned well from a dataset or needs\n",
    "improvement.\n",
    "\n",
    "**Next step**: \\\n",
    "Examine the results and errors to understand why and how the model is failing or succeeding.\n",
    "\n",
    "<span class=\"color-brand\">Why: validation and iteration</span>\n",
    "\n",
    "<div class=\"alert alert-block alert-info\">\n",
    "Performance metrics can be deceptive, on highly imbalanced datasets a classifier can reach very high accuracy without any predictive power\n",
    "</div>\n",
    "\n"
   ]
  },
  {
   "cell_type": "markdown",
   "id": "8c871e6f",
   "metadata": {
    "heading_collapsed": true,
    "slideshow": {
     "slide_type": "slide"
    }
   },
   "source": [
    "### Validate your model → inspect how it is performing\n",
    "There are a lot of way to do this. You want to contrast data (target and/or features) and predictions.\n",
    "\n",
    "**Regression**: \\\n",
    "Looking at residuals, for example doing EDA on residuals and inspecting the outliers.\n",
    "\n",
    "**Classification**: \\\n",
    "One can start with a confusion matrix, breaking results in true class and predictions.\n"
   ]
  },
  {
   "cell_type": "markdown",
   "id": "8f16f0b3",
   "metadata": {
    "slideshow": {
     "slide_type": "slide"
    }
   },
   "source": [
    "### Resources\n",
    "\n",
    "[roc-auc-precision-and-recall-visually-explained](https://paulvanderlaken.com/2019/08/16/roc-auc-precision-and-recall-visually-explained/)\n",
    "\n",
    "[Building Machine Learning Powered Applications](https://www.amazon.com/Building-Machine-Learning-Powered-Applications/dp/149204511X) - Emmanuel Ameisen\n",
    "\n",
    "\n"
   ]
  }
 ],
 "metadata": {
  "celltoolbar": "Tags",
  "jupytext": {
   "cell_metadata_filter": "-all",
   "main_language": "python",
   "notebook_metadata_filter": "-all"
  },
  "kernelspec": {
   "display_name": "Python 3 (ipykernel)",
   "language": "python",
   "name": "python3"
  },
  "language_info": {
   "codemirror_mode": {
    "name": "ipython",
    "version": 3
   },
   "file_extension": ".py",
   "mimetype": "text/x-python",
   "name": "python",
   "nbconvert_exporter": "python",
   "pygments_lexer": "ipython3",
   "version": "3.11.3"
  },
  "rise": {
   "auto_select": "none",
   "transition": "fade"
  }
 },
 "nbformat": 4,
 "nbformat_minor": 5
}
