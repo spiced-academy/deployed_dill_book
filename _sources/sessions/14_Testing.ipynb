{
 "cells": [
  {
   "cell_type": "markdown",
   "id": "352eb25d",
   "metadata": {
    "slideshow": {
     "slide_type": "skip"
    }
   },
   "source": [
    "\n",
    "# Testing\n"
   ]
  },
  {
   "cell_type": "markdown",
   "id": "b9466333",
   "metadata": {
    "slideshow": {
     "slide_type": "slide"
    },
    "tags": [
     "remove-cell"
    ]
   },
   "source": [
    "<div class=\"slide-title\">\n",
    "    \n",
    "# Testing\n",
    "\n",
    "</div>"
   ]
  },
  {
   "cell_type": "markdown",
   "id": "99d6419e",
   "metadata": {
    "slideshow": {
     "slide_type": "slide"
    }
   },
   "source": [
    "## Testing your code\n",
    "\n",
    "<div class=\"group\">\n",
    "    <div class=\"text_70\">\n",
    "        \n",
    "\n",
    "Testing production grade code is hard. And you can never cover all outcomes.\n",
    "        \n",
    "There are multiple types of tests, some rough definitions:\n",
    "        \n",
    "→ **Unit Tests**: Testing \"small\" and encapsulated parts of the\n",
    "application. Most of the time this refers to explicitly testing a\n",
    "function written as part of the package\n",
    "        \n",
    "→ **Integration Tests / Service Tests**: Testing dependencies\n",
    "between parts of the Software. For example the interaction\n",
    "with databases, APIs etc.\n",
    "        \n",
    "→ **End2End / UI Test**: Testing the working application starting\n",
    "from the end. For example checking that an interaction in the UI\n",
    "will lead to the expected results\n",
    "    </div>\n",
    "    <div class=\"images_30\">\n",
    "        <img src=\"../images/testing/img_p1_1.png\">\n",
    "    </div>\n",
    "</div>"
   ]
  },
  {
   "cell_type": "markdown",
   "id": "0547eb48",
   "metadata": {
    "slideshow": {
     "slide_type": "notes"
    },
    "tags": [
     "remove-cell"
    ]
   },
   "source": [
    "Notes: the difference between unit tests and integration tests is very fluid"
   ]
  },
  {
   "cell_type": "markdown",
   "id": "546b7935",
   "metadata": {
    "hideCode": true,
    "slideshow": {
     "slide_type": "slide"
    }
   },
   "source": [
    "## Why should we test?\n",
    "\n",
    "<div class=\"group\">\n",
    "    <div class=\"text\">\n",
    "        \n",
    "**→ Time spend with debugging**\n",
    "        \n",
    "**→ Reduce technical debt**\n",
    "\n",
    "**→ Enable refactoring** \n",
    "</div>\n",
    "    \n",
    "<div class=\"text\">\n",
    "    \n",
    "**→ Writing better code**\n",
    "        \n",
    "**→ Document what code really does**\n",
    "\n",
    "**→ Improve the deployment workflow**\n",
    "    </div>\n",
    "</div>"
   ]
  },
  {
   "cell_type": "markdown",
   "id": "19106d6a",
   "metadata": {
    "slideshow": {
     "slide_type": "notes"
    }
   },
   "source": [
    "**Time:** \n",
    "\n",
    "Debugging: Finding errors in your code is very time consuming for you and for other developers in your team that look over your pull request.\n",
    "\n",
    "**Better code:**\n",
    "\n",
    "Test let you think about your code before you write it. What is the functionality? What parameters should you expect? Why are you writing the code in a specific way? How do you think the code could break?\n",
    "\n",
    "**Documentation:**\n",
    "\n",
    "Tests must necessarily be kept up-to-date with code modifications. Else they cannot pass.\n",
    "\n",
    "**Refactor:**\n",
    "\n",
    "Tests are a safety net for refactoring. If somebody at some point want to refactor code without breaking it you need tests to be sure that it kept the intended purpose.\n",
    "\n",
    "**Deployment:**\n",
    "\n",
    "When you start to track how the new and refactored code is actually tested, you relieve yourself from a lot of stress and frictions once the code is deployed.\n",
    "\n"
   ]
  },
  {
   "cell_type": "markdown",
   "id": "34cfab77",
   "metadata": {
    "slideshow": {
     "slide_type": "slide"
    }
   },
   "source": [
    "### Finding test cases\n",
    "\n",
    "<div class=\"group\">\n",
    "    <div class=\"text_70\">\n",
    "                \n",
    "How to come up with tests:\n",
    "        \n",
    "→ Think about how your function will be **used**\n",
    "\n",
    "→ Think about how it could be **misused (edge cases)**\n",
    "\n",
    "→ And don’t forget to test the **“happy”** cases as well (**“perfect” inputs**)\n",
    "    </div>\n",
    "    <div class=\"images_30\">\n",
    "        <img src=\"../images/testing/img_p3_2.png\">\n",
    "    </div>\n",
    "</div>\n",
    "\n",
    "<div class=\"alert alert-block alert-info\">\n",
    "<b>Note:</b> \n",
    "\n",
    "You should write your tests with all outcomes in mind: Good and bad. You will probably never cover\n",
    "all edge cases!\n",
    "\n",
    "</div>"
   ]
  },
  {
   "cell_type": "markdown",
   "id": "710f6073",
   "metadata": {
    "slideshow": {
     "slide_type": "slide"
    }
   },
   "source": [
    "## TDD\n",
    "\n"
   ]
  },
  {
   "cell_type": "markdown",
   "id": "b98dc7b9",
   "metadata": {
    "slideshow": {
     "slide_type": "notes"
    },
    "tags": [
     "remove-cell"
    ]
   },
   "source": [
    "Notes: test driven development, most of the time functions"
   ]
  },
  {
   "cell_type": "markdown",
   "id": "de03d166",
   "metadata": {
    "slideshow": {
     "slide_type": "fragment"
    }
   },
   "source": [
    "### Writing tests that would check the functionality of your code prior to writing the actual code"
   ]
  },
  {
   "cell_type": "markdown",
   "id": "186d8dfa",
   "metadata": {
    "slideshow": {
     "slide_type": "slide"
    }
   },
   "source": [
    "### Test Driven Development\n",
    "\n",
    "<div class=\"group\">\n",
    "    <div class=\"text\">\n",
    "        \n",
    "It helps you plan out the work ahead\n",
    "\n",
    "You can divide it into 3 Phases:\n",
    "\n",
    "→ **Red Phase** - write the test or tests to validate the functionality\n",
    "\n",
    "→ **Green Phase** - implement the simplest code that will make the failed test pass\n",
    "\n",
    "→ **Refactor Phase** - improve the code without changing the functionality\n",
    "    </div>\n",
    "    <div class=\"images\">\n",
    "        <img src=\"../images/testing/img_p6_2.png\">\n",
    "    </div>\n",
    "</div>\n",
    "\n",
    "<div class=\"alert alert-block alert-info\">\n",
    "<b>Note:</b> \n",
    "    \n",
    "When you start writing code follow the KISS principle: Keep it Simple, Stupid.\n",
    "\n",
    "</div>"
   ]
  },
  {
   "cell_type": "markdown",
   "id": "fc3687f1",
   "metadata": {
    "slideshow": {
     "slide_type": "slide"
    }
   },
   "source": [
    "## Unit Tests\n"
   ]
  },
  {
   "cell_type": "markdown",
   "id": "487220b6",
   "metadata": {
    "slideshow": {
     "slide_type": "fragment"
    }
   },
   "source": [
    "### Testing \"small\" and encapsulated parts of the application.\n",
    "\n"
   ]
  },
  {
   "cell_type": "markdown",
   "id": "f47cb38d",
   "metadata": {
    "slideshow": {
     "slide_type": "notes"
    },
    "tags": [
     "remove-cell"
    ]
   },
   "source": [
    "Notes: most of the times functions"
   ]
  },
  {
   "cell_type": "markdown",
   "id": "abff2a6c",
   "metadata": {
    "slideshow": {
     "slide_type": "slide"
    }
   },
   "source": [
    "### Unit Testing\n",
    "\n",
    "Tests should tell you the expected behavior of the unit. Keep them short and to the point.\n",
    "\n",
    "The GIVEN, WHEN, THEN structure can help with this:\n",
    "\n",
    "→ **GIVEN** - what are the initial conditions for the test?\n",
    "\n",
    "→ **WHEN** - what is occurring that needs to be tested?\n",
    "\n",
    "→ **THEN** - what is the expected response?\n",
    "\n",
    "\n",
    "<div class=\"alert alert-block alert-info\">\n",
    "<b>Note:</b> \n",
    "\n",
    "You should prepare your environment for testing, execute the behavior, and check that output meets\n",
    "expectations.\n",
    "\n",
    "</div>"
   ]
  },
  {
   "cell_type": "markdown",
   "id": "2db25c8d",
   "metadata": {
    "slideshow": {
     "slide_type": "slide"
    }
   },
   "source": [
    "### Unit Testing\n",
    "\n",
    "<div class=\"group\">\n",
    "    <div class=\"text_70\">\n",
    "        \n",
    "Each piece of behavior should be tested once -- and only once.\n",
    "        \n",
    "Why is that?\n",
    "        \n",
    "→ If you make a small change to your code base and then twenty tests break, how do you know which functionality is broken?\n",
    "        \n",
    "→ When only a single test fails, it's much easier to find the bug.\n",
    "    </div>\n",
    "    <div class=\"images_30\">\n",
    "        <img src=\"../images/testing/img_p10_1.png\">\n",
    "    </div>\n",
    "</div>\n",
    "\n",
    "<div class=\"alert alert-block alert-info\">\n",
    "<b>Note:</b> \n",
    "\n",
    "Write tests for each piece of code, to check if it gives back the expected results and to make it easier\n",
    "to find mistakes.\n",
    "\n",
    "</div>\n"
   ]
  },
  {
   "cell_type": "markdown",
   "id": "1a13a91d",
   "metadata": {
    "slideshow": {
     "slide_type": "slide"
    }
   },
   "source": [
    "### Unit Testing\n",
    "\n",
    "Each test must be independent from other tests.\n",
    "\n",
    "Rules for creating tests:\n",
    "\n",
    "→ Must be able to run alone\n",
    "\n",
    "→ The order of the tests should not matter\n",
    "\n",
    "→ Use descriptive names for testing functions.\n",
    "\n",
    "<div class=\"alert alert-block alert-info\">\n",
    "<b>Note:</b> \n",
    "\n",
    "These imply that each test must be loaded with a fresh dataset and may have to do some cleanup\n",
    "afterwards\n",
    "\n",
    "</div>"
   ]
  },
  {
   "cell_type": "markdown",
   "id": "95f62a15",
   "metadata": {
    "slideshow": {
     "slide_type": "slide"
    }
   },
   "source": [
    "### Why is it important that tests are independent from each other?"
   ]
  },
  {
   "cell_type": "markdown",
   "id": "009ee1e3",
   "metadata": {
    "slideshow": {
     "slide_type": "slide"
    }
   },
   "source": [
    "### Unit Test Example\n",
    "Let's look at an example:\n",
    "\n",
    "\n",
    "<center>\n",
    "    <img src=\"../images/testing/img_p13_1.png\" width=800>\n",
    "</center>\n",
    "\n",
    "<div class=\"alert alert-block alert-info\">\n",
    "<b>Note:</b> \n",
    "\n",
    "Assertions let you write sanity checks in your code. You can use these to test if certain assumptions\n",
    "are true or false.\n",
    "\n",
    "</div>\n"
   ]
  },
  {
   "cell_type": "markdown",
   "id": "3ed718ed",
   "metadata": {
    "slideshow": {
     "slide_type": "notes"
    },
    "tags": [
     "remove-cell"
    ]
   },
   "source": [
    "Notes: What do you think the name of the function is that we want to test? What do you think is the purpose of the function?"
   ]
  },
  {
   "cell_type": "markdown",
   "id": "dec12e9f",
   "metadata": {
    "slideshow": {
     "slide_type": "slide"
    }
   },
   "source": [
    "### Unit Test Example\n",
    "\n",
    "Let's look at an example:\n",
    "\n",
    "<center>\n",
    "    <img src=\"../images/testing/example_unit_test.png\" width=1000>\n",
    "</center>\n",
    "\n",
    "\n",
    "\n",
    "<div class=\"alert alert-block alert-info\">\n",
    "<b>Note:</b> \n",
    "\n",
    "Based on the test we could assume how the code looked like or we could write a function based on\n",
    "the test that solves the same problem.\n",
    "\n",
    "</div>\n"
   ]
  },
  {
   "cell_type": "markdown",
   "id": "aebc9f97",
   "metadata": {
    "slideshow": {
     "slide_type": "notes"
    },
    "tags": [
     "remove-cell"
    ]
   },
   "source": [
    "Notes: What do you think the name of the function is that we want to test? What do you think is the purpose of the function?"
   ]
  },
  {
   "cell_type": "markdown",
   "id": "bdcc6842",
   "metadata": {
    "slideshow": {
     "slide_type": "slide"
    }
   },
   "source": [
    "### Libraries for testing\n",
    "\n",
    "<div class=\"group\">\n",
    "    <div class=\"text_70\">\n",
    "        \n",
    "Libraries that we can use\n",
    "        \n",
    "There are a few:\n",
    "        \n",
    "→ **unittest**: Comes as standard library with python\n",
    "        \n",
    "→ **doctest**: Comes as standard library with python\n",
    "        \n",
    "→ **pytest**: The most used testing library\n",
    "    </div>\n",
    "    <div class=\"images_30\">\n",
    "        <img src=\"../images/testing/img_p15_2.png\">\n",
    "        <img src=\"../images/testing/img_p15_1.png\">\n",
    "    </div>\n",
    "</div>\n",
    "\n",
    "<div class=\"alert alert-block alert-info\">\n",
    "<b>Note:</b> \n",
    "\n",
    "In the repo we will show you examples for pytest!\n",
    "\n",
    "</div>"
   ]
  },
  {
   "cell_type": "markdown",
   "id": "d132ea5f",
   "metadata": {
    "slideshow": {
     "slide_type": "slide"
    }
   },
   "source": [
    "### Naming your tests\n",
    "\n",
    "<div class=\"group\">\n",
    "    <div class=\"text\">\n",
    "        \n",
    "Pytest is looking for tests by subfolder name, file name and function name\n",
    "        \n",
    "→ **Subfolder name**: tests\n",
    "        \n",
    "→ **File name**: test_something.py\n",
    "        \n",
    "→ **Function name**: test_your_function_name()\n",
    "    </div>\n",
    "    <div class=\"images\">\n",
    "        <img src=\"../images/testing/img_p14_2.png\">\n",
    "        <img src=\"../images/testing/img_p16_1.png\">\n",
    "    </div>\n",
    "</div>\n",
    "\n",
    "<div class=\"alert alert-block alert-info\">\n",
    "<b>Note:</b> \n",
    "\n",
    "You have to import the functions you want to test into your test python file!\n",
    "\n",
    "</div>"
   ]
  },
  {
   "cell_type": "markdown",
   "id": "284e7aaa",
   "metadata": {
    "slideshow": {
     "slide_type": "slide"
    }
   },
   "source": [
    "### Running pytest \n",
    "\n",
    "<div class=\"group\">\n",
    "    <div class=\"text_70\">      \n",
    "How passed and failed tests look like:\n",
    "        \n",
    "`python -m pytest -q tests/test_something.py`\n",
    "    </div>\n",
    "    <div class=\"images_30\">\n",
    "        <img src=\"../images/testing/img_p17_3.png\" width=250>\n",
    "    </div>\n",
    "</div>\n",
    "\n",
    "<center>\n",
    "    <img src=\"../images/testing/passed_failed_test.png\">\n",
    "</center>"
   ]
  },
  {
   "cell_type": "markdown",
   "id": "9861e681",
   "metadata": {
    "slideshow": {
     "slide_type": "notes"
    },
    "tags": [
     "remove-cell"
    ]
   },
   "source": [
    "Notes: -q -> -s for more output"
   ]
  },
  {
   "cell_type": "markdown",
   "id": "27e445c4",
   "metadata": {
    "slideshow": {
     "slide_type": "slide"
    }
   },
   "source": [
    "## Integration Test\n"
   ]
  },
  {
   "cell_type": "markdown",
   "id": "451818f6",
   "metadata": {
    "slideshow": {
     "slide_type": "fragment"
    }
   },
   "source": [
    "### Testing dependencies and interactions between parts of the Software\n"
   ]
  },
  {
   "cell_type": "markdown",
   "id": "5eff0b86",
   "metadata": {
    "slideshow": {
     "slide_type": "slide"
    }
   },
   "source": [
    "### Integration Test\n",
    "\n",
    "<div class=\"group\">\n",
    "    <div class=\"text_70\">\n",
    "        \n",
    "What does integration testing involve?\n",
    "\n",
    "Characteristics of creating integration tests:\n",
    "\n",
    "→ integrating the various modules of an application\n",
    "\n",
    "→ testing their behaviour as a combined, or integrated, unit\n",
    "\n",
    "→ Verifying if the individual units are communicating with each other properly\n",
    "    </div>\n",
    "    <div class=\"images_30\">\n",
    "        <img src=\"../images/testing/img_p20_1.png\" width=300>\n",
    "    </div>\n",
    "</div>\n",
    "\n",
    "\n",
    "\n",
    "<div class=\"alert alert-block alert-info\">\n",
    "<b>Note:</b> \n",
    "\n",
    "To perform integration testing, testers use dummy programs that act as substitutes for any missing\n",
    "modules and simulate data communications between modules for testing purposes.\n",
    "\n",
    "</div>"
   ]
  },
  {
   "cell_type": "markdown",
   "id": "b1a96d67",
   "metadata": {
    "slideshow": {
     "slide_type": "slide"
    }
   },
   "source": [
    "<center>\n",
    "    <img src=\"../images/testing/integration_tests.png\" width=1000>\n",
    "</center>\n",
    "\n",
    "<div class=\"group\">\n",
    "    <div class=\"text\">\n",
    "        \n",
    "**Unit tests**\n",
    "        \n",
    "* Smallest piece of code, or unit, is tested\n",
    "* Each unit can be logically isolated\n",
    "* **Individual modules are tested**\n",
    "    </div>\n",
    "    <div class=\"text\">\n",
    "        \n",
    "**Integration tests**\n",
    "        \n",
    "* check the functionality of the overall application\n",
    "* combined, or integrated, unit        \n",
    "* **Modules are tested as a combined unit**\n",
    "    </div>\n",
    "</div>"
   ]
  },
  {
   "cell_type": "markdown",
   "id": "433cfa86",
   "metadata": {
    "slideshow": {
     "slide_type": "slide"
    }
   },
   "source": [
    "### Reasons for Integration Testing\n",
    "\n",
    "<div class=\"group\">\n",
    "    <div class=\"text_70\">\n",
    "        \n",
    "\n",
    "Why integration testing is essential:\n",
    "\n",
    "→ Integrating different modules into a working application\n",
    "\n",
    "→ Ensuring that changing requirements are incorporated into the application\n",
    "\n",
    "→ Eliminating common issues missed during unit testing\n",
    "    </div>\n",
    "    <div class=\"images_30\">\n",
    "        <img src=\"../images/testing/img_p22_1.png\">\n",
    "    </div>\n",
    "</div>\n",
    "\n",
    "<div class=\"alert alert-block alert-info\">\n",
    "<b>Note:</b> \n",
    "\n",
    "Even when each module of the application is unit-tested, some errors may still exist. To identify these\n",
    "errors and ensure that the modules work well together after integration, integration testing is crucial.\n",
    "\n",
    "</div>"
   ]
  },
  {
   "cell_type": "markdown",
   "id": "3612aae3",
   "metadata": {
    "slideshow": {
     "slide_type": "notes"
    },
    "tags": [
     "remove-cell"
    ]
   },
   "source": [
    "Notes: 1. When different developers work on different modules, individuals bring their own understanding and logic to the development effort 2.In many real-time application scenarios, requirements can and do change often. These new requirements may not be unit-tested every time, which may lead to missed defects or missing product features. 3.Some modules that interact with third-party application program interfaces (APIs) need to be tested to ensure they function properly."
   ]
  },
  {
   "cell_type": "markdown",
   "id": "5f258c47",
   "metadata": {
    "slideshow": {
     "slide_type": "slide"
    }
   },
   "source": [
    "## Testing Data\n"
   ]
  },
  {
   "cell_type": "markdown",
   "id": "e0bb95c5",
   "metadata": {
    "slideshow": {
     "slide_type": "fragment"
    }
   },
   "source": [
    "### Why should Data Scientists write tests?"
   ]
  },
  {
   "cell_type": "markdown",
   "id": "7e4138d0",
   "metadata": {
    "slideshow": {
     "slide_type": "slide"
    }
   },
   "source": [
    "### Testing in Data Science\n",
    "\n",
    "Is it unit testing or integration testing?\n",
    "\n",
    "What can we write tests for in Data Science?\n",
    "\n",
    "→ Code that we turn from notebook cells into python files \n",
    "\n",
    "→ Data integrity tests: Do our data transformations introduce any errors in the data?\n",
    "\n",
    "→ Data quality tests: Does the data in our system meet our needs?\n",
    "\n",
    "<div class=\"alert alert-block alert-info\">\n",
    "<b>Note:</b> \n",
    "\n",
    "Data tests can be unit tests where we test the functions that we use to transform our data but\n",
    "quickly become integration tests when we look at the outcome of a collection of transformations.\n",
    "\n",
    "</div>"
   ]
  },
  {
   "cell_type": "markdown",
   "id": "0c587e89",
   "metadata": {
    "slideshow": {
     "slide_type": "slide"
    }
   },
   "source": [
    "<center>\n",
    "    <img src=\"../images/testing/testing_data.png\" width=1000>\n",
    "</center>\n",
    "\n",
    "<div class=\"group\">\n",
    "    <div class=\"text\">\n",
    "        \n",
    "**Code tests**\n",
    "        \n",
    "Test whether your functions, classes, modules, or services do what you want them to.\n",
    "    </div>\n",
    "    <div class=\"text\">\n",
    "**Data tests**\n",
    "        \n",
    "Test whether your data is in the right format and your data values are correct.\n",
    "    </div>\n",
    "</div>    \n",
    "         "
   ]
  },
  {
   "cell_type": "markdown",
   "id": "f4a12dff",
   "metadata": {
    "slideshow": {
     "slide_type": "slide"
    }
   },
   "source": [
    "### Testing in Data Science Example\n",
    "\n",
    "<div class=\"group\">\n",
    "    <div class=\"text\">\n",
    "        \n",
    "Let's say you want to impute NaN values with the mean:\n",
    "        \n",
    "We are calculating the mean of a pandas series and fill the NaN values with it using fillna().\n",
    "    </div>\n",
    "    <div class=\"images\">\n",
    "        <img src=\"../images/testing/img_p28_1.png\">\n",
    "    </div>\n",
    "</div>\n"
   ]
  },
  {
   "cell_type": "markdown",
   "id": "0270f65b",
   "metadata": {
    "slideshow": {
     "slide_type": "slide"
    }
   },
   "source": [
    "### Testing in Data Science Example\n",
    "\n",
    "<div class=\"group\">\n",
    "    <div class=\"text\">\n",
    "        \n",
    "We can now (or before) write a test that checks if the returned series looks as expected:\n",
    "        \n",
    "pandas has a build in module called testing, which we can use to compare two pandas data frames or two\n",
    "pandas series.\n",
    "    </div>\n",
    "    <div class=\"images\">\n",
    "        <img src=\"../images/testing/img_p29_1.png\">\n",
    "    </div>\n",
    "</div>"
   ]
  },
  {
   "cell_type": "markdown",
   "id": "a41b7baf",
   "metadata": {
    "slideshow": {
     "slide_type": "slide"
    }
   },
   "source": [
    "### Typical Edge Cases in Data Science\n",
    "\n",
    "What are typical edge cases?\n",
    "\n",
    "→ NaN and None as input values\n",
    "\n",
    "→ 0 values and empty strings\n",
    "\n",
    "→ Minimum and maximum values\n",
    "\n",
    "→ numbers that have special meaning in the function (e.g. constants)\n",
    "\n",
    "→ Invalid inputs (e.g. int vs float)\n",
    "\n",
    "→ Negative numbers\n",
    "\n",
    "... and all sorts of random combinations of edge cases together\n",
    "\n"
   ]
  },
  {
   "cell_type": "markdown",
   "id": "4cb5b405",
   "metadata": {
    "slideshow": {
     "slide_type": "notes"
    },
    "tags": [
     "remove-cell"
    ]
   },
   "source": [
    "Notes: keep it simple: Every function should only do one thing: Can you describe what it does in one sentence without using “AND” or “OR”? Use only a few input parameters (0 - 2) and simple inputs (no 1000 rows, 20 columns dataframe!) Keep the function code short: 1-10 lines is ideal. If your function ends up being longer, break it down into subfunctions and test them separately"
   ]
  },
  {
   "cell_type": "markdown",
   "id": "ee5b2bdf",
   "metadata": {
    "slideshow": {
     "slide_type": "slide"
    }
   },
   "source": [
    "### Why and when would you use tests in your workflow?\n",
    "\n",
    "<center>\n",
    "    <img src=\"../images/testing/img_p31_1.png\" width=800>\n",
    "</center>"
   ]
  }
 ],
 "metadata": {
  "celltoolbar": "Slideshow",
  "jupytext": {
   "cell_metadata_filter": "-all",
   "main_language": "python",
   "notebook_metadata_filter": "-all"
  },
  "kernelspec": {
   "display_name": "Python 3 (ipykernel)",
   "language": "python",
   "name": "python3"
  },
  "language_info": {
   "codemirror_mode": {
    "name": "ipython",
    "version": 3
   },
   "file_extension": ".py",
   "mimetype": "text/x-python",
   "name": "python",
   "nbconvert_exporter": "python",
   "pygments_lexer": "ipython3",
   "version": "3.11.3"
  }
 },
 "nbformat": 4,
 "nbformat_minor": 5
}
