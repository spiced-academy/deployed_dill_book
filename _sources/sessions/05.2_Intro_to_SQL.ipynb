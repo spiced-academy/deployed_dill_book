{
 "cells": [
  {
   "cell_type": "markdown",
   "id": "552e3ed1",
   "metadata": {
    "slideshow": {
     "slide_type": "slide"
    },
    "tags": [
     "remove-cell"
    ]
   },
   "source": [
    "<div class=\"slide-title\"> \n",
    "        \n",
    "# Introduction to SQL\n",
    "           \n",
    "</div> \n"
   ]
  },
  {
   "cell_type": "markdown",
   "id": "122e2606",
   "metadata": {
    "slideshow": {
     "slide_type": "skip"
    }
   },
   "source": [
    "# Introduction to SQL"
   ]
  },
  {
   "cell_type": "markdown",
   "id": "50d63497",
   "metadata": {
    "slideshow": {
     "slide_type": "slide"
    }
   },
   "source": [
    "## DDL, DML & DCL\n",
    "* **Data Definition Language (DDL)** consists of the\n",
    "commands used to define the database schema by creating,\n",
    "altering or deleting objects\n",
    "\n",
    "* **Data Manipulation Language (DML)** consists of the\n",
    "commands used to manipulate the data present in the\n",
    "database such as selecting, inserting, updating or deleting\n",
    "records in a database\n",
    "\n",
    "* **Data Control Language (DCL)** deals with the rights,\n",
    "permissions and other controls of the database system\n"
   ]
  },
  {
   "cell_type": "markdown",
   "metadata": {
    "slideshow": {
     "slide_type": "notes"
    },
    "tags": [
     "remove-cell"
    ]
   },
   "source": [
    "Notes: As Data Scientist we will mostly encounter DDL and DML. Especially DML (SELECT statements)"
   ]
  },
  {
   "cell_type": "markdown",
   "id": "abc4fb99",
   "metadata": {
    "slideshow": {
     "slide_type": "slide"
    }
   },
   "source": [
    "## What can SQL do?\n",
    "* SQL can execute queries against a database\n",
    "* SQL can retrieve data from a database\n",
    "* SQL can insert records in a database\n",
    "* SQL can update records in a database\n",
    "* SQL can delete records from a database\n",
    "* SQL can create new databases\n",
    "* SQL can create new tables in a database\n",
    "* SQL can create stored procedures in a database\n",
    "* SQL can create views in a database\n",
    "* SQL can set permissions on tables, procedures, and views\n",
    "\n",
    "[source](https://www.w3schools.com/sql/sql_intro.asp)\n"
   ]
  },
  {
   "cell_type": "markdown",
   "id": "47fc7d4d",
   "metadata": {
    "slideshow": {
     "slide_type": "notes"
    },
    "tags": [
     "remove-cell"
    ]
   },
   "source": [
    "Notes: Which of the bullet points belong to DDL, DML or DCL? (Solution on next slide)"
   ]
  },
  {
   "cell_type": "markdown",
   "id": "e38f1d9c",
   "metadata": {
    "slideshow": {
     "slide_type": "slide"
    }
   },
   "source": [
    "### What can SQL do?\n",
    "\n",
    "\n",
    "<div class=\"group\">\n",
    "  <div class=\"text\">\n",
    "<h4>Data Definition Language (DDL)</h4>\n",
    "      \n",
    "* create new databases\n",
    "      \n",
    "* create new tables in a database\n",
    "      \n",
    "* create stored procedures in a database\n",
    "      \n",
    "* create views in a database\n",
    "      \n",
    "  </div>\n",
    "  <div class=\"text\">\n",
    "<h4>Data Manipulation Language (DML)</h4>\n",
    "\n",
    "* execute queries against a database\n",
    "* retrieve data from a database\n",
    "* insert records in a database\n",
    "* update records in a database\n",
    "* delete records from a database\n",
    "  </div>\n",
    "\n",
    "</div>\n",
    "\n",
    "#### Data Control Language (DCL)\n",
    "* set permissions on tables, procedures, and views\n",
    "\n",
    "[source](https://www.w3schools.com/sql/sql_intro.asp)\n",
    "\n",
    "\n"
   ]
  },
  {
   "cell_type": "markdown",
   "id": "e7381e43",
   "metadata": {
    "slideshow": {
     "slide_type": "slide"
    }
   },
   "source": [
    "## Syntax\n",
    "\n",
    "* SQL is structured similar to the English language\n",
    "\n",
    "```SQL\n",
    "SELECT range\n",
    "FROM age_bucket;\n",
    "     \n",
    "```\n",
    "\n",
    "* Each table is identified by name\n",
    "\n",
    "* SQL keywords are NOT case sensitive: select = SELECT\n",
    "\n",
    "<div class=\"alert alert-block alert-info\">\n",
    "Important: Some databases allow more than one SQL\n",
    "statement to be executed, therefore it’s the standard way to\n",
    "separate each SQL statement with a semicolon\n",
    "</div>\n",
    "\n",
    "[source](https://www.w3schools.com/sql/sql_syntax.asp)\n",
    "\n"
   ]
  },
  {
   "cell_type": "markdown",
   "id": "37312a5a",
   "metadata": {
    "slideshow": {
     "slide_type": "notes"
    },
    "tags": [
     "remove-cell"
    ]
   },
   "source": [
    "Notes: An **SQL statement**, e.g. SELECT statement (including all following possible clauses until the semicolon), is a fundamental building block of SQL. It is a command to be understood by the interpreter and executed by the SQL engine. "
   ]
  },
  {
   "cell_type": "markdown",
   "id": "724213dc",
   "metadata": {
    "slideshow": {
     "slide_type": "slide"
    }
   },
   "source": [
    "### SQL Syntax Overview\n",
    "\n",
    "|KEYWORD | FUNCTION|\n",
    "|:------ | :------- |\n",
    "|SELECT |Returns the final data|\n",
    "|FROM |Choose tables to get base data|\n",
    "|WHERE |Filters the base data|\n",
    "|GROUP BY | Aggregates the base data|\n",
    "|HAVING| Filters the aggregated data|\n",
    "|ORDER BY| Sorts the final data|\n",
    "|LIMIT| Limits the returned data to a row count|\n"
   ]
  },
  {
   "cell_type": "markdown",
   "id": "9e81fade",
   "metadata": {
    "slideshow": {
     "slide_type": "notes"
    },
    "tags": [
     "remove-cell"
    ]
   },
   "source": [
    "Notes: \"**Keywords**\" are individual elements of statements (\"Clauses\" consist of one keyword and corresponding identifiers/expressions, usually represented as a row). "
   ]
  },
  {
   "cell_type": "markdown",
   "id": "c431673c",
   "metadata": {
    "slideshow": {
     "slide_type": "slide"
    }
   },
   "source": [
    "## Selecting Data\n"
   ]
  },
  {
   "cell_type": "markdown",
   "id": "9f8df547",
   "metadata": {
    "slideshow": {
     "slide_type": "slide"
    }
   },
   "source": [
    "### SELECT FROM\n",
    "\n",
    "\n",
    "      \n",
    "Select multiple columns\n",
    "      \n",
    "      \n",
    "```SQL\n",
    "SELECT column1, column2, ...\n",
    "FROM table_name;\n",
    "````\n",
    "\n",
    "\n",
    "Select all columns\n",
    "      \n",
    "\n",
    "```SQL\n",
    "SELECT * \n",
    "FROM table_name;\n",
    "```\n",
    "\n",
    "\n",
    "\n"
   ]
  },
  {
   "cell_type": "markdown",
   "id": "fa4da058",
   "metadata": {
    "slideshow": {
     "slide_type": "slide"
    }
   },
   "source": [
    "### Your first SQL query\n",
    "\n",
    "Look in the introduction schema\n",
    "\n",
    "In the new window on the right click on the query under ‘Your first\\\n",
    "SQL query’:\n",
    "\n",
    "```SQL\n",
    "SELECT range\n",
    "FROM age_bucket;\n",
    "```\n",
    "\n",
    "Now press ^ CTRL ⮐ RETURN and check out the output that was\\\n",
    "generated below.\n",
    "\n",
    "Congratulations you just ran your first SQL query!\n"
   ]
  },
  {
   "cell_type": "markdown",
   "id": "69ef7943",
   "metadata": {},
   "source": []
  },
  {
   "cell_type": "markdown",
   "id": "d231312e",
   "metadata": {
    "slideshow": {
     "slide_type": "notes"
    },
    "tags": [
     "remove-cell"
    ]
   },
   "source": [
    "Notes: A **query** is a statement that specifically retrieves and returns data. "
   ]
  },
  {
   "cell_type": "markdown",
   "id": "9a2caf65",
   "metadata": {
    "slideshow": {
     "slide_type": "slide"
    }
   },
   "source": [
    "### SELECT DISTINCT\n",
    "\n",
    "```SQL\n",
    "SELECT DISTINCT column_names(s)\n",
    "FROM table_name;\n",
    "```\n",
    "\n",
    "* Columns often contain duplicate values\n",
    "* DISTINCT returns only distinct (=different) values\n"
   ]
  },
  {
   "cell_type": "markdown",
   "id": "43bb602c",
   "metadata": {
    "slideshow": {
     "slide_type": "notes"
    },
    "tags": [
     "remove-cell"
    ]
   },
   "source": [
    "Notes: Like Python pandas or numpy `unique()`. "
   ]
  },
  {
   "cell_type": "markdown",
   "id": "73018493",
   "metadata": {
    "slideshow": {
     "slide_type": "slide"
    }
   },
   "source": [
    "### LIMIT\n",
    "\n",
    "```SQL\n",
    "SELECT column_names(s)\n",
    "FROM table_name\n",
    "LIMIT number;\n",
    "```\n",
    "    \n",
    "* Databases often contain tables with huge amounts of\\\n",
    "columns and rows\n",
    "\n",
    "* By default SQL tries to retrieve all the rows it can find in a table\n",
    "\n",
    "* The bigger the table, the longer it takes to retrieve its data,\\\n",
    "therefore always LIMIT your data to only a few rows\n",
    "\n",
    "<div class=\"alert alert-block alert-info\">\n",
    "DBeaver limits the result to 200 rows by default\n",
    "</div>\n"
   ]
  },
  {
   "cell_type": "markdown",
   "id": "3f514615",
   "metadata": {
    "slideshow": {
     "slide_type": "slide"
    }
   },
   "source": [
    "## Filtering Data\n"
   ]
  },
  {
   "cell_type": "markdown",
   "id": "9f0e0906",
   "metadata": {
    "slideshow": {
     "slide_type": "slide"
    }
   },
   "source": [
    "### WHERE\n",
    "\n",
    "```SQL\n",
    "SELECT column_name(s)\n",
    "FROM table_name\n",
    "WHERE condition;\n",
    "```\n",
    "\n",
    "* The where clause is used to filter records\n",
    "\n",
    "* ‘condition’ represents how we want the data to be filtered\n",
    "\n",
    "* Use quotation marks when filtering string values\\\n",
    "eg. name =’female’ for gender table\n",
    "\n",
    "* Example: Retrieve all days with more than 100 cases\n"
   ]
  },
  {
   "cell_type": "markdown",
   "id": "040bff8c",
   "metadata": {
    "slideshow": {
     "slide_type": "slide"
    }
   },
   "source": [
    "### WHERE Operators\n",
    "\n",
    "|Operator | Description|\n",
    "|:------- |:---------- |\n",
    "|= |Equal\n",
    "|> |Greater than\n",
    "|< |Less than\n",
    "|>= |Greater than or equal\n",
    "|<= |Less than or equal\n",
    "|<> or != |Not equal\n",
    "|BETWEEN |Between a certain range\n",
    "|LIKE |Search for a pattern\n",
    "|IN |To specify multiple possible values for a column"
   ]
  },
  {
   "cell_type": "markdown",
   "metadata": {
    "slideshow": {
     "slide_type": "notes"
    },
    "tags": [
     "remove-cell"
    ]
   },
   "source": [
    "Notes: \n",
    "\n",
    "SELECT * FROM employees\n",
    "WHERE name LIKE 'J%';\n",
    "\n",
    "SELECT * FROM products\n",
    "WHERE price BETWEEN 50 AND 100;"
   ]
  },
  {
   "cell_type": "markdown",
   "id": "e3fd6c69",
   "metadata": {
    "slideshow": {
     "slide_type": "slide"
    }
   },
   "source": [
    "### WHERE with AND, OR, NOT\n",
    "```SQL\n",
    "SELECT column_name(s)\n",
    "FROM table_name\n",
    "1. WHERE condition1 AND condition2 AND condition3 ...;\n",
    "2. WHERE condition1 OR condition2 OR condition3 ...;\n",
    "3. WHERE NOT condition1;\n",
    "```\n",
    "\n",
    "\n",
    "* **AND** displays data if all the conditions separated by **AND** are **TRUE**\n",
    "\n",
    "* **OR** displays data if any of the conditions separated by **OR** are **TRUE**\n",
    "\n",
    "* **NOT** displays data if the condition(s) is **NOT TRUE**\n"
   ]
  },
  {
   "cell_type": "markdown",
   "id": "1499856e",
   "metadata": {
    "slideshow": {
     "slide_type": "slide"
    }
   },
   "source": [
    "### WHERE with NULL values\n",
    "\n",
    "```SQL\n",
    "SELECT column_name(s)\n",
    "FROM table_name\n",
    "WHERE column_name IS NULL | IS NOT NULL\n",
    "```\n",
    "\n",
    "* A field that contains a NULL value is a field with no value\\\n",
    "-> it was left blank during record creation\n",
    "\n",
    "* Therefore, it’s different from a zero value or a value that contains spaces\n",
    "\n",
    "* It is not possible to check for NULL values using the WHERE\\\n",
    "operators (=, <>, >, <) → **Always** use IS NULL to filter for\\\n",
    "NULL values\n"
   ]
  },
  {
   "cell_type": "markdown",
   "id": "0bb17292",
   "metadata": {
    "slideshow": {
     "slide_type": "slide"
    }
   },
   "source": [
    "## Sorting Data\n"
   ]
  },
  {
   "cell_type": "markdown",
   "id": "e7b9da1a",
   "metadata": {
    "slideshow": {
     "slide_type": "slide"
    }
   },
   "source": [
    "### ORDER BY\n",
    "```SQL\n",
    "SELECT column_name(s)\n",
    "FROM table_name\n",
    "WHERE condition\n",
    "ORDER BY column1 ASC | DESC, column2 ASC | DESC, ...;\n",
    "```\n",
    "\n",
    "* **ORDER BY** sorts the results either in ascending or descending order\n",
    "\n",
    "* By default, results are sorted in ascending order\n",
    "\n",
    "* When sorting by multiple columns, you can set the sorting\\\n",
    "order for each column separately\n",
    "\n",
    "* Columns in the **ORDER BY** can not only be referenced name but also\\\n",
    "by their index in the **SELECT** statement\n"
   ]
  },
  {
   "cell_type": "markdown",
   "metadata": {
    "slideshow": {
     "slide_type": "notes"
    },
    "tags": [
     "remove-cell"
    ]
   },
   "source": [
    "Notes: \n",
    "\n",
    "SELECT name, age, department\n",
    "FROM employees\n",
    "ORDER BY 2, 3;"
   ]
  },
  {
   "cell_type": "markdown",
   "id": "52a20943",
   "metadata": {
    "slideshow": {
     "slide_type": "slide"
    }
   },
   "source": [
    "## Aliasing\n"
   ]
  },
  {
   "cell_type": "markdown",
   "id": "28f666a6",
   "metadata": {
    "slideshow": {
     "slide_type": "slide"
    }
   },
   "source": [
    "### Aliases for columns and tables\n",
    "\n",
    "```SQL\n",
    "SELECT column1 AS alias_name, ...\n",
    "FROM table_name;\n",
    "\n",
    "SELECT column_name(s)\n",
    "FROM table_name AS alias_name;\n",
    "```\n",
    "\n",
    "* An alias is created with the AS keyword\n",
    "* It allows you to give a column or a table a new temporary name within the query\n",
    "* Use snake case = writing spaces as underscores when creating aliases\\\n",
    "(arrivaltime -> arrival_time)\n",
    "\n",
    "<div class=\"alert alert-block alert-info\">\n",
    "When? Whenever possible! Use cases:\n",
    "<br>\n",
    "    \n",
    "* Column names are long or not very readable\n",
    "    \n",
    "* Aggregate functions are used\n",
    "    \n",
    "* More than one table is involved\n",
    "    \n",
    "* Multiple columns are combined\n",
    "</div>\n"
   ]
  },
  {
   "cell_type": "markdown",
   "id": "71a28adb",
   "metadata": {
    "slideshow": {
     "slide_type": "slide"
    }
   },
   "source": [
    "## Selecting from multiple tables\n"
   ]
  },
  {
   "cell_type": "markdown",
   "id": "373823fe",
   "metadata": {
    "slideshow": {
     "slide_type": "slide"
    }
   },
   "source": [
    "### Joining tables\n",
    "\n",
    "![img_p28_1](../images/intro_to_sql/img_p28_1.png)"
   ]
  },
  {
   "cell_type": "markdown",
   "id": "843934cf",
   "metadata": {
    "slideshow": {
     "slide_type": "slide"
    }
   },
   "source": [
    "### JOIN\n",
    "\n",
    "```SQL\n",
    "SELECT t1.name, t2.something\n",
    "FROM table1 t1\n",
    "INNER JOIN table2 t2\n",
    "ON t1.key1 = t2.key2;\n",
    "```\n",
    "\n",
    "inner join is default\n",
    "\n",
    "now with nice names:\n",
    "\n",
    "get all cases for women\\\n",
    "get all cases for men between 20 and 50\n"
   ]
  },
  {
   "cell_type": "markdown",
   "id": "dec68031",
   "metadata": {
    "slideshow": {
     "slide_type": "slide"
    }
   },
   "source": [
    "<img src=\"../images/intro_to_sql/img_p30_1.png\" width=\"950\">"
   ]
  },
  {
   "cell_type": "markdown",
   "id": "269d307a",
   "metadata": {
    "slideshow": {
     "slide_type": "slide"
    }
   },
   "source": [
    "## Aggregating Data\n"
   ]
  },
  {
   "cell_type": "markdown",
   "id": "8a02a993",
   "metadata": {
    "slideshow": {
     "slide_type": "slide"
    }
   },
   "source": [
    "### MIN() and MAX()\n",
    "\n",
    "```SQL\n",
    "SELECT MIN(column1),\n",
    "       MAX(column2), ...\n",
    "FROM table_name;\n",
    "```\n",
    "\n",
    "* The MIN() function returns the smallest value of the selected column\n",
    "\n",
    "* The MAX() function returns the largest value of the selected column\n"
   ]
  },
  {
   "cell_type": "markdown",
   "id": "da3ed37b",
   "metadata": {
    "slideshow": {
     "slide_type": "slide"
    }
   },
   "source": [
    "### AVG(), COUNT() and SUM()\n",
    "\n",
    "```SQL\n",
    "SELECT AVG(column1),\n",
    "       COUNT(column2),\n",
    "       SUM(column3), ...\n",
    "FROM table_name;\n",
    "```\n",
    "\n",
    "* The AVG() function returns the average value of a numeric column\n",
    "\n",
    "* The COUNT() function returns the number of non NULL values\n",
    "\n",
    "* The SUM() function returns the total sum of a numeric column\n",
    "\n",
    "* DISTINCT can be used inside AVG(), COUNT() and SUM()\n"
   ]
  },
  {
   "cell_type": "markdown",
   "id": "fb12328d",
   "metadata": {
    "slideshow": {
     "slide_type": "slide"
    }
   },
   "source": [
    "### Arithmetic Operators\n",
    " \n",
    "\n",
    "```SQL\n",
    "SELECT <expression1><operator><expression2> ...\n",
    "FROM table_name;\n",
    "```\n",
    "\n",
    "* Arithmetic operators can perform addition, subtraction,\n",
    "multiplication and division on numeric values\n",
    "\n",
    "* Performing arithmetic calculations is not limited to column\n",
    "names but can be done on single constants, variables or\n",
    "results from other SQL queries\n",
    "      \n",
    "\n",
    "<div class=\"text\">\n",
    "<table>\n",
    "  <tr>\n",
    "    <th>Operator</th>\n",
    "    <th>Meaning</th>\n",
    "  </tr>\n",
    "  <tr>\n",
    "    <td>+</td>\n",
    "    <td>Addition</td>\n",
    "  </tr>\n",
    "  <tr>\n",
    "    <td>-</td>\n",
    "    <td>Subtraction</td>\n",
    "  </tr>\n",
    "  <tr>\n",
    "    <td>*</td>\n",
    "    <td>Multiplication</td>\n",
    "</tr>\n",
    "  <tr>\n",
    "    <td>/</td>\n",
    "    <td>Division</td>\n",
    "</tr>\n",
    "  <tr>\n",
    "    <td>%</td>\n",
    "    <td>Modulo</td>\n",
    "</tr>\n",
    "</table>\n",
    "</div>\n",
    "\n",
    "\n",
    "\n"
   ]
  },
  {
   "cell_type": "markdown",
   "id": "ded456e2",
   "metadata": {
    "slideshow": {
     "slide_type": "slide"
    }
   },
   "source": [
    "### GROUP BY\n",
    "\n",
    "```SQL\n",
    "SELECT column_name(s)\n",
    "FROM table_name\n",
    "WHERE condition\n",
    "GROUP BY column_name(s)\n",
    "ORDER BY column1, column2;\n",
    "```\n",
    "\n",
    "* GROUP BY lets you arrange identical data across rows into groups\n",
    "\n",
    "* In combination with aggregate functions (MIN(), MAX(), AVG(), COUNT(), SUM()) it’s used to create summary reports across columns\n"
   ]
  },
  {
   "cell_type": "markdown",
   "id": "13125c35",
   "metadata": {
    "slideshow": {
     "slide_type": "slide"
    }
   },
   "source": [
    "### HAVING\n",
    "\n",
    "```SQL\n",
    "SELECT column_name(s)\n",
    "FROM table_name\n",
    "WHERE condition\n",
    "GROUP BY column_name(s)\n",
    "HAVING condition,\n",
    "ORDER BY column1, column2;\n",
    "```\n",
    "    \n",
    "* Aggregate functions can’t be used to filter data inside the WHERE clause, instead use HAVING\n",
    "    \n",
    "* Example: HAVING COUNT(column1) > 5\n"
   ]
  },
  {
   "cell_type": "markdown",
   "id": "fb0d7d97",
   "metadata": {
    "slideshow": {
     "slide_type": "slide"
    }
   },
   "source": [
    "## Documenting Code\n"
   ]
  },
  {
   "cell_type": "markdown",
   "id": "92fc8932",
   "metadata": {
    "slideshow": {
     "slide_type": "slide"
    }
   },
   "source": [
    "### SQL Comments\n",
    "\n",
    "There are two ways of commenting your SQL code\n",
    "\n",
    "```SQL\n",
    "-- single line comment\n",
    "\n",
    "/* Mulit line\n",
    "coments\n",
    "*/\n",
    "```\n",
    "\n",
    "\n",
    "1. Single line comments starting with --\n",
    "2. Multi-line comments starting with /* and ending with */\n",
    "\n",
    "Why use comments?\n",
    "* Reviewing or taking over long and complicated SQL\n",
    "statements is much easier when having proper\n",
    "documentation\n",
    "* Testing or debugging your code often requires step-by-step\n",
    "execution, where being able to prevent execution of certain\n",
    "SQL statements proves very useful\n"
   ]
  }
 ],
 "metadata": {
  "celltoolbar": "Tags",
  "jupytext": {
   "cell_metadata_filter": "-all",
   "main_language": "python",
   "notebook_metadata_filter": "-all"
  },
  "kernelspec": {
   "display_name": "Python 3 (ipykernel)",
   "language": "python",
   "name": "python3"
  },
  "language_info": {
   "codemirror_mode": {
    "name": "ipython",
    "version": 3
   },
   "file_extension": ".py",
   "mimetype": "text/x-python",
   "name": "python",
   "nbconvert_exporter": "python",
   "pygments_lexer": "ipython3",
   "version": "3.11.3"
  },
  "rise": {
   "auto_select": "none",
   "transition": "fade"
  }
 },
 "nbformat": 4,
 "nbformat_minor": 5
}
