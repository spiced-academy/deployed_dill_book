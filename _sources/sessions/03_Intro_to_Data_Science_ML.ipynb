{
 "cells": [
  {
   "cell_type": "markdown",
   "id": "c0996db8",
   "metadata": {
    "slideshow": {
     "slide_type": "skip"
    }
   },
   "source": [
    "# Introduction to Data Science & ML"
   ]
  },
  {
   "cell_type": "markdown",
   "id": "ff0b739c",
   "metadata": {
    "slideshow": {
     "slide_type": "skip"
    },
    "tags": [
     "remove-cell"
    ]
   },
   "source": [
    "Some pictures in the presentations were self drawn with affinity designer. You can find the vector file (.afdesign) in the DSBOOK/images folder, where all images of this lecture are stored."
   ]
  },
  {
   "cell_type": "markdown",
   "id": "f88ef8f3",
   "metadata": {
    "slideshow": {
     "slide_type": "slide"
    },
    "tags": [
     "remove-cell"
    ]
   },
   "source": [
    "<div class=\"slide-title\">\n",
    "    \n",
    "# Introduction to \n",
    "# Data Science & ML \n",
    "    \n",
    "</div> "
   ]
  },
  {
   "cell_type": "markdown",
   "id": "08a6c7a3",
   "metadata": {
    "slideshow": {
     "slide_type": "slide"
    }
   },
   "source": [
    "## Understanding concepts for Data Science and Machine Learning\n",
    "\n",
    "* What is Data?\n",
    "* What is (not) Machine Learning?\n",
    "* What is AI? and what is it good for?\n",
    "* Who does what in data?\n",
    "* Becoming a Data Scientist\n"
   ]
  },
  {
   "cell_type": "markdown",
   "id": "a4a1fc3c",
   "metadata": {
    "slideshow": {
     "slide_type": "slide"
    }
   },
   "source": [
    "## What is data?"
   ]
  },
  {
   "cell_type": "markdown",
   "id": "3abb36e9",
   "metadata": {
    "slideshow": {
     "slide_type": "slide"
    }
   },
   "source": [
    "### Once upon a time\n",
    "\n",
    "<img src=\"../images/intro_to_data_science_ml/once_upon_a_time.png\" width=\"1100\" style=\"display:block; margin:auto\">"
   ]
  },
  {
   "cell_type": "markdown",
   "id": "fdd76e5a",
   "metadata": {
    "slideshow": {
     "slide_type": "notes"
    }
   },
   "source": [
    "data generated from human interaction with each other or situations they faced"
   ]
  },
  {
   "cell_type": "markdown",
   "id": "2c00cde2",
   "metadata": {
    "slideshow": {
     "slide_type": "slide"
    }
   },
   "source": [
    "### Now\n",
    "\n",
    "<img src=\"../images/intro_to_data_science_ml/now.png\" width=\"1100\" style=\"display:block; margin:auto\">"
   ]
  },
  {
   "cell_type": "markdown",
   "id": "ddfad281",
   "metadata": {
    "slideshow": {
     "slide_type": "notes"
    }
   },
   "source": [
    "everything can be data:\n",
    "\n",
    "a click, walking with your phone, opening zoom, accessing a website, the weather, buying something online, paying by card\n",
    "\n",
    "we both produce data and are clients for the data systems.. which collect our data"
   ]
  },
  {
   "cell_type": "markdown",
   "id": "059f5d8a",
   "metadata": {
    "slideshow": {
     "slide_type": "slide"
    }
   },
   "source": [
    "### Data Lifecycle\n",
    "interaction - collection - transformation - enriching - modeling - getting insights - improving the application\n",
    "\n",
    "<img src=\"../images/intro_to_data_science_ml/data_lifecycle_ds_ml.png\" width=\"1100\" style=\"display:block; margin:auto\">"
   ]
  },
  {
   "cell_type": "markdown",
   "id": "2524edc9",
   "metadata": {
    "slideshow": {
     "slide_type": "slide"
    }
   },
   "source": [
    "## What is \"NOT machine learning\"?"
   ]
  },
  {
   "cell_type": "markdown",
   "id": "9441cd01",
   "metadata": {
    "slideshow": {
     "slide_type": "notes"
    },
    "tags": [
     "remove-cell"
    ]
   },
   "source": [
    "Notes: Building on the experience of tic-tac-toe introduce the idea of deterministic and probabilistic systems"
   ]
  },
  {
   "cell_type": "markdown",
   "id": "f9d1c063",
   "metadata": {
    "slideshow": {
     "slide_type": "slide"
    }
   },
   "source": [
    "### Which problems can be solved by “NOT machine learning”"
   ]
  },
  {
   "cell_type": "markdown",
   "id": "7ccf3fd0",
   "metadata": {
    "slideshow": {
     "slide_type": "fragment"
    }
   },
   "source": [
    "<div class=\"group\">\n",
    "  <div class=\"images\">      \n",
    "    <img src=\"../images/intro_to_data_science_ml/tic-tac-toe.png\" >\n",
    "  </div>\n",
    "  <div class=\"images\">\n",
    "    <img src=\"../images/intro_to_data_science_ml/hang-man.png\" width=\"350\">\n",
    "  </div>\n",
    "</div>"
   ]
  },
  {
   "cell_type": "markdown",
   "id": "c39431d7",
   "metadata": {
    "slideshow": {
     "slide_type": "slide"
    }
   },
   "source": [
    "### Which problems can be solved by “NOT machine learning”\n",
    "\n",
    "<img src=\"../images/intro_to_data_science_ml/cookie_monster_2.png\" width=\"1100\">"
   ]
  },
  {
   "cell_type": "markdown",
   "id": "061982b1",
   "metadata": {
    "slideshow": {
     "slide_type": "notes"
    }
   },
   "source": [
    "Demystify the term “Machine Learning”. Many problems don’t require ML, but can be solved by writing a simple algorithm. Let’s look at 3 variations of the cookie monster problem."
   ]
  },
  {
   "cell_type": "markdown",
   "id": "02b2f01d",
   "metadata": {
    "slideshow": {
     "slide_type": "slide"
    }
   },
   "source": [
    "### 1. Cookie Monster gains weight\n",
    "\n",
    "<div class=\"group\">\n",
    "  <div class=\"text_70\">\n",
    "      \n",
    "Cookie Monster eats **10 kg** of cookies each **day**. For every **10 kg** that it eats, it gets fatter **by 5kg**. \n",
    "(It spends a lot of energy hunting for cookies).\n",
    "\n",
    "How many **kgs** does Cookie Monster **weigh today** if, its **initial** weight was **100kg**, and it has been eating cookies for **5 days**?\n",
    "\n",
    "  </div>\n",
    "  <div class=\"images_30\">\n",
    "    <img src=\"../images/intro_to_data_science_ml/img_p2_1.png\">\n",
    "  </div>\n",
    "</div>"
   ]
  },
  {
   "cell_type": "markdown",
   "id": "bd74909a",
   "metadata": {
    "slideshow": {
     "slide_type": "notes"
    }
   },
   "source": [
    "Demystify the term “Machine Learning”. Many problems don’t require ML, but can be solved by writing a simple algorithm. "
   ]
  },
  {
   "cell_type": "markdown",
   "id": "b423d25d",
   "metadata": {
    "slideshow": {
     "slide_type": "slide"
    }
   },
   "source": [
    "### Algorithm definition\n",
    "\n",
    "<div class=\"group\">\n",
    "  <div class=\"text_70\">\n",
    "\n",
    "“A **finite** set of **unambiguous instructions** that, given some set of **initial conditions**, can be performed in a **prescribed sequence** to achieve a certain goal and that has a recognizable set of **end conditions**.”\n",
    "\n",
    "      \n",
    "\n",
    "\n",
    "  </div>\n",
    "  <div class=\"text\">\n",
    "\n",
    "  </div>\n",
    "</div>"
   ]
  },
  {
   "cell_type": "markdown",
   "id": "4d603190",
   "metadata": {
    "slideshow": {
     "slide_type": "notes"
    }
   },
   "source": [
    "In the examples above the Machine is not learning, it’s doing what you told it to. So who’s doing the “learning”?"
   ]
  },
  {
   "cell_type": "markdown",
   "id": "19fecd1d",
   "metadata": {
    "slideshow": {
     "slide_type": "fragment"
    }
   },
   "source": [
    "<div class=\"group\">\n",
    "  <div class=\"text_70\">\n",
    "\n",
    "“Learning” - the act, process, or experience of **gaining knowledge or skill**.      \n",
    "\n",
    "\n",
    "  </div>\n",
    "  <div class=\"images_30\">\n",
    "    <img src=\"../images/intro_to_data_science_ml/img_p3_1.png\" width=\"500\">\n",
    "  </div>\n",
    "</div>"
   ]
  },
  {
   "cell_type": "markdown",
   "id": "3a8ba238",
   "metadata": {
    "slideshow": {
     "slide_type": "notes"
    }
   },
   "source": [
    "The algorithms we discussed so far were prescriptive and didn’t exhibit learning."
   ]
  },
  {
   "cell_type": "markdown",
   "id": "804174e9",
   "metadata": {
    "slideshow": {
     "slide_type": "slide"
    }
   },
   "source": [
    "### 2. Cookie Monster’s grandma\n",
    "\n",
    "<div class=\"group\">\n",
    "  <div class=\"text_70\">\n",
    "\n",
    "\n",
    "    \n",
    "Grandma Cookie Monster brings **15 kg** of cookies when she visits. \n",
    "She visits when she’s in a **good mood** and no **more than twice a week**.\n",
    "\n",
    "The following is known about Grandma Cookie Monster's mood:\n",
    "\n",
    "🌞 She likes when it's sunny outside but not too warm (<28℃). <br>\n",
    "👀 She doesn't like if her neighbor is looking out of the window when she is leaving the house. <br>\n",
    "🚃 She likes to take tram number 1 and not tram number 3.\n",
    "\n",
    "Grandma has a **good mood** if the number of her **likes outweighs the number of her dislikes** on any given day. \n",
    "On average, she has a good mood **3 times a week**.\n",
    "\n",
    "How much does Cookie Monster weigh today, if:\n",
    "* Its initial weight is 100 kg, and it has been eating cookies for 5 days.\n",
    "* Its grandma came to visit once this week already.\n",
    "* It's been a nice week with 25℃.\n",
    "* Tram number 1 is not working.\n",
    "\n",
    "      \n",
    "  </div>\n",
    "  <div class=\"images_30\">\n",
    "    <img src=\"../images/intro_to_data_science_ml/cookie_monster_grany.png\">\n",
    "  </div>\n",
    "</div>"
   ]
  },
  {
   "cell_type": "markdown",
   "id": "a0ff601b",
   "metadata": {
    "slideshow": {
     "slide_type": "notes"
    },
    "tags": [
     "remove-cell"
    ]
   },
   "source": [
    "Notes: Keep the system deterministic, but introduce some uncertainty. Deterministic algorithm can no longer predict exactly what will happen"
   ]
  },
  {
   "cell_type": "markdown",
   "id": "b4457e9f",
   "metadata": {
    "slideshow": {
     "slide_type": "slide"
    }
   },
   "source": [
    "### Uncertainty\n",
    "\n",
    "**A deterministic system** is one in which the occurrence of all events is known with certainty. If the description of the system state at a particular point of time of its operation is given, the next state can be perfectly predicted.\n"
   ]
  },
  {
   "cell_type": "markdown",
   "id": "ec8f58b4",
   "metadata": {
    "slideshow": {
     "slide_type": "fragment"
    }
   },
   "source": [
    "**A probabilistic system** is one in which the occurrence of events cannot be perfectly predicted. Though the behavior of such a system can be described in terms of probability, a certain degree of error is always attached to the prediction of the behavior of the system."
   ]
  },
  {
   "cell_type": "markdown",
   "id": "12f01729",
   "metadata": {
    "slideshow": {
     "slide_type": "slide"
    }
   },
   "source": [
    "### Heuristics / base model\n",
    "\n",
    "**A heuristic** is an approach to problem-solving or self-discovery using 'a calculated guess' derived from previous experiences. \n",
    "\n",
    "Heuristics are mental shortcuts that ease the cognitive load of making a decision. \n",
    "\n",
    "Usually, the opposite process to heuristics is the application of algorithms. Algorithms involve calculated answers and guesswork is eliminated.\n"
   ]
  },
  {
   "cell_type": "markdown",
   "id": "a7fcd9b4",
   "metadata": {
    "slideshow": {
     "slide_type": "notes"
    },
    "tags": [
     "remove-cell"
    ]
   },
   "source": [
    "Notes: Heuristics are a legitimate way to make decision if they are kept under control. ML allows to go beyond heuristics, but there are overheads involved. In our case : We could assume that grandma cookie monster comes once a week. It’s not 100% right, but it’s not entirely wrong either."
   ]
  },
  {
   "cell_type": "markdown",
   "id": "f03bf460",
   "metadata": {
    "slideshow": {
     "slide_type": "slide"
    }
   },
   "source": [
    "### 3. Cookie Monster gains weight mysteriously\n",
    "\n",
    "<div class=\"group\">\n",
    "  <div class=\"text_70\">\n",
    "\n",
    "Cookie Monster has a birthday in **2 weeks** and local municipality would like to give it a\n",
    "postcard with its **exact weight** written on it. Can you accurately predict it?\n",
    "      \n",
    "Very little is known about how Cookie Monster gains weight. The following observations are however available :\n",
    "\n",
    "  </div>\n",
    "  <div class=\"images_30\">\n",
    "    <img src=\"../images/intro_to_data_science_ml/cookie_monster_kermit.png\" width=\"400\">\n",
    "  </div>\n",
    "</div>\n"
   ]
  },
  {
   "cell_type": "markdown",
   "id": "e254ef12",
   "metadata": {
    "slideshow": {
     "slide_type": "fragment"
    }
   },
   "source": [
    "| Day | Kilograms of cookies consumed | Neighbour looking out of the window | Temperature outside | Tram 1 working | Lake water temperature | Evgeny teaching ML class | Weight beginning of day | Weight end of day |\n",
    "|---|---|---|---|---|---|---|---|---|\n",
    "| 1 | 15 | Yes | 25 | 1 | 15 | 1 | 100 | 114.3 |\n",
    "| 2 | 10 | No | 23 | 0 | 15.5 | 0 | 114.3 | 120.7 |\n",
    "| 3 | 40 | Yes | 29 | 1 | 15.3 | 1 | 120.7 | 135.4 |\n",
    "\n"
   ]
  },
  {
   "cell_type": "markdown",
   "id": "799a2c79",
   "metadata": {
    "slideshow": {
     "slide_type": "notes"
    },
    "tags": [
     "remove-cell"
    ]
   },
   "source": [
    "Notes: Last definition of the problem - deterministic rules are removed and we are in the world of uncertainty"
   ]
  },
  {
   "cell_type": "markdown",
   "id": "c0a53ccb",
   "metadata": {
    "slideshow": {
     "slide_type": "slide"
    }
   },
   "source": [
    "#### Humans or Machine Learning?\n",
    "### What if the system is non-determinstic and also highly complex?\n",
    "\n",
    "<div class=\"group\">\n",
    "  <div class=\"text_70\">\n",
    "      \n",
    "* It is difficult to understand what the rules are.\n",
    "* The rules are too complex to write down.\n",
    "* There are too many rules.\n",
    "* Rules sometimes apply and sometimes don’t and you don’t know when or why.\n",
    "* You have tried heuristics and they don’t work well.\n",
    "\n",
    "  </div>\n",
    "  <div class=\"images_30\">\n",
    "    <img src=\"../images/intro_to_data_science_ml/img_p8_1.png\">\n",
    "  </div>\n",
    "</div>"
   ]
  },
  {
   "cell_type": "markdown",
   "id": "6eef6e39",
   "metadata": {
    "slideshow": {
     "slide_type": "slide"
    }
   },
   "source": [
    "### Perhaps the machine can figure it out?\n",
    "\n",
    "If it’s too much for you to figure out, perhaps the machine could?\n",
    "\n",
    "<div>\n",
    "  <div class=\"images\">\n",
    "    <img src=\"../images/intro_to_data_science_ml/img_p3_1.png\">\n",
    "  </div>\n",
    "</div>\n",
    "<div>\n",
    "  <div class=\"images\">\n",
    "    <img src=\"../images/intro_to_data_science_ml/img_p9_1.png\">\n",
    "  </div>\n",
    "</div>"
   ]
  },
  {
   "cell_type": "markdown",
   "id": "496b1d31",
   "metadata": {
    "slideshow": {
     "slide_type": "slide"
    }
   },
   "source": [
    "### Machine Learning is a tool to deal with  <u>uncertainty</u> in <u>probabilistic</u> systems\n",
    "\n",
    "Use it when you have exhausted all other options and **not** because you don’t yet have the solution for a deterministic problem.\n"
   ]
  },
  {
   "cell_type": "markdown",
   "id": "f84446ed",
   "metadata": {
    "slideshow": {
     "slide_type": "slide"
    }
   },
   "source": [
    "<img src=\"../images/intro_to_data_science_ml/img_p10_1.png\" style=\"display:block; margin:auto\">"
   ]
  },
  {
   "cell_type": "markdown",
   "id": "80167126",
   "metadata": {
    "slideshow": {
     "slide_type": "slide"
    }
   },
   "source": [
    "### Do <u>NOT</u> solve <u>deterministic</u> problems with Machine Learning \n",
    "\n",
    "Using Machine Learning introduces complexity and overheads that can only be justified **if** they are absolutely necessary"
   ]
  },
  {
   "cell_type": "markdown",
   "id": "c91c805e",
   "metadata": {
    "slideshow": {
     "slide_type": "notes"
    },
    "tags": [
     "remove-cell"
    ]
   },
   "source": [
    "Notes: Do not solve “Tic Tac Toe” or “Rock paper scissors” with ML"
   ]
  },
  {
   "cell_type": "markdown",
   "id": "bab5700b",
   "metadata": {
    "slideshow": {
     "slide_type": "slide"
    }
   },
   "source": [
    "## What is AI?"
   ]
  },
  {
   "cell_type": "markdown",
   "id": "6b916fdd",
   "metadata": {
    "slideshow": {
     "slide_type": "slide"
    },
    "tags": [
     "remove-cell"
    ]
   },
   "source": [
    "### What is AI?\n",
    "\n",
    "<div class=\"group\">\n",
    "  <div class=\"images\">\n",
    "    <img src=\"../images/intro_to_data_science_ml/what_is_ai_1_1.png\">\n",
    "  </div>\n",
    "  <div class=\"images\">\n",
    "    <img src=\"../images/intro_to_data_science_ml/what_is_ai_2.png\">\n",
    "  </div>\n",
    "</div>"
   ]
  },
  {
   "cell_type": "markdown",
   "id": "d25589ed",
   "metadata": {
    "slideshow": {
     "slide_type": "slide"
    }
   },
   "source": [
    "### What is AI?\n",
    "\n",
    "<div class=\"group\">\n",
    "  <div class=\"images\">\n",
    "    <img src=\"../images/intro_to_data_science_ml/what_is_ai_1_2.png\">\n",
    "  </div>\n",
    "  <div class=\"images\">\n",
    "    <img src=\"../images/intro_to_data_science_ml/what_is_ai_2.png\">\n",
    "  </div>\n",
    "</div>"
   ]
  },
  {
   "cell_type": "markdown",
   "id": "6835fd7f",
   "metadata": {
    "slideshow": {
     "slide_type": "notes"
    }
   },
   "source": [
    "It’s not the Terminator\n",
    "\n",
    "It is a branch of Computer Science!! with subdomains"
   ]
  },
  {
   "cell_type": "markdown",
   "id": "3a5aef53",
   "metadata": {
    "slideshow": {
     "slide_type": "slide"
    }
   },
   "source": [
    "### What is AI?\n",
    "\n",
    "**Narrow AI:** real AI .. math / computational statistics on steroids .. solves one task\n",
    "\n",
    "**General AI:** imaginary AI .. killer robots, paperclip machine (decides to build paper clips and drowns all mankind)\n",
    "\n",
    "**Technochauvinism:** believing that all problems can be solved by tech\n",
    "\n",
    "\n",
    "\n",
    "<sub><sub>[Meredith Broussard, Artificial Unitelligence](https://www.c-span.org/video/?457638-2/artificial-unintelligence)</sub></sub>"
   ]
  },
  {
   "cell_type": "markdown",
   "id": "94e58be8",
   "metadata": {
    "slideshow": {
     "slide_type": "notes"
    }
   },
   "source": [
    "we work with narrow. movies are about general."
   ]
  },
  {
   "cell_type": "markdown",
   "id": "2b08bb87",
   "metadata": {
    "slideshow": {
     "slide_type": "slide"
    }
   },
   "source": [
    "### How can Machine learning help?\n",
    "\n",
    "<div class=\"group\">\n",
    "  <div class=\"text_70\">\n",
    "      \n",
    "* Smarter weather prediction and agriculture\n",
    "* Energy optimization\n",
    "* Self-driving cars\n",
    "* AI in healthcare / Drug discovery\n",
    "* Finance / Fraud detection\n",
    "* On-demand language translation\n",
    "\n",
    "  </div>\n",
    "  <div class=\"images_30\">\n",
    "    <img src=\"../images/intro_to_data_science_ml/img_p27_1.png\">\n",
    "  </div>\n",
    "</div>"
   ]
  },
  {
   "cell_type": "markdown",
   "id": "cda5c733",
   "metadata": {
    "slideshow": {
     "slide_type": "slide"
    }
   },
   "source": [
    "### What can we do with it?\n",
    "\n",
    "* Predict if a product will sell or not\n",
    "* Demand prediction for a service\n",
    "* Traffic prediction\n",
    "* Predicting when a large system will break.. a ship, a train and so on\n",
    "* Winning a game of chess"
   ]
  },
  {
   "cell_type": "markdown",
   "id": "7023def2",
   "metadata": {
    "slideshow": {
     "slide_type": "slide"
    }
   },
   "source": [
    "### Hot topics: GPT-3\n",
    "\n",
    "<div class=\"group\">\n",
    "  <div class=\"text\">\n",
    "      \n",
    "[https://openai.com/blog/openai-api/](https://openai.com/blog/openai-api/)\n",
    "\n",
    "  </div>\n",
    "  <div class=\"images\">\n",
    "    <img src=\"../images/intro_to_data_science_ml/chat_gpt.png\">\n",
    "  </div>\n",
    "</div>\n",
    "\n",
    "[https://www.theverge.com/21346343/gpt-3-explainer-openai-examples-errors-agi-potential](https://www.theverge.com/21346343/gpt-3-explainer-openai-examples-errors-agi-potential)"
   ]
  },
  {
   "cell_type": "markdown",
   "id": "9813fcbe",
   "metadata": {
    "slideshow": {
     "slide_type": "notes"
    }
   },
   "source": [
    "Generative Pre-trained Transformer 3 is an autoregressive language model released in 2020 that uses deep learning to produce human-like text. Given an initial text as prompt, it will produce text that continues the prompt."
   ]
  },
  {
   "cell_type": "markdown",
   "id": "99703194",
   "metadata": {
    "slideshow": {
     "slide_type": "slide"
    }
   },
   "source": [
    "### How can AI be dangerous?\n",
    "<div class=\"group\">\n",
    "  <div class=\"text_70\">\n",
    "      \n",
    "* Autonomous weapons\n",
    "* Social manipulation\n",
    "* Invasion of privacy and social grading\n",
    "* Recruiting\n",
    "* Amplifies discrimination\n",
    "\n",
    "*check out Coded Bias on Netflix*\n",
    "\n",
    "  </div>\n",
    "  <div class=\"images_30\">\n",
    "    <img src=\"../images/intro_to_data_science_ml/coded_bias.png\" width=\"350\">\n",
    "  </div>\n",
    "</div>"
   ]
  },
  {
   "cell_type": "markdown",
   "id": "57fc8cd4",
   "metadata": {
    "slideshow": {
     "slide_type": "notes"
    }
   },
   "source": [
    "When MIT Media Lab researcher Joy Buolamwini discovers that facial recognition does not see dark-skinned faces accurately, she embarks on a journey to push for the first-ever U.S. legislation against bias in algorithms that impact us all."
   ]
  },
  {
   "cell_type": "markdown",
   "id": "8050d90b",
   "metadata": {
    "slideshow": {
     "slide_type": "slide"
    }
   },
   "source": [
    "### AI - Effect on Society\n",
    "\n",
    "<div class=\"group\">\n",
    "  <div class=\"images\">\n",
    "    <img src=\"../images/intro_to_data_science_ml/Race-After-Technology.png\" width=\"350\">\n",
    "  </div>\n",
    "  <div class=\"images\">\n",
    "    <img src=\"../images/intro_to_data_science_ml/Weapons-of-Math-Destruction.png\" width=\"365\">\n",
    "  </div>\n",
    "</div>"
   ]
  },
  {
   "cell_type": "markdown",
   "id": "128c579c",
   "metadata": {
    "slideshow": {
     "slide_type": "slide"
    },
    "tags": [
     "#remove-cell"
    ]
   },
   "source": [
    "### AI and discrimination - PULSE AI\n",
    "\n",
    "<div class=\"group\">\n",
    "  <div class=\"images\">      \n",
    "    <img src=\"../images/intro_to_data_science_ml/img_p31_2.png\">\n",
    "  </div>\n",
    "  <div class=\"images\">\n",
    "    <img src=\"../images/intro_to_data_science_ml/img_p31_1.png\">\n",
    "    <img src=\"../images/intro_to_data_science_ml/img_p31_3.png\" width=\"600\">\n",
    "  </div>\n",
    "</div>\n",
    "\n"
   ]
  },
  {
   "cell_type": "markdown",
   "id": "8cf2419e",
   "metadata": {
    "slideshow": {
     "slide_type": "slide"
    },
    "tags": [
     "#remove-cell"
    ]
   },
   "source": [
    "### Awful AI\n",
    "\n",
    "<div class=\"group\">\n",
    "  <div class=\"text\">\n",
    "      \n",
    "[https://github.com/daviddao/awful-ai](https://github.com/daviddao/awful-ai)\n",
    "\n",
    "  </div>\n",
    "  <div class=\"images\">\n",
    "    <img src=\"../images/intro_to_data_science_ml/img_p33_2.png\">\n",
    "  </div>\n",
    "</div>"
   ]
  },
  {
   "cell_type": "markdown",
   "id": "629a3931",
   "metadata": {
    "slideshow": {
     "slide_type": "slide"
    }
   },
   "source": [
    "## Where does bias come from?"
   ]
  },
  {
   "cell_type": "markdown",
   "id": "ae648f45",
   "metadata": {
    "slideshow": {
     "slide_type": "slide"
    }
   },
   "source": [
    "### Who is contributing to the data?\n",
    "\n",
    "<img src=\"../images/intro_to_data_science_ml/img_p35_1.png\" width=\"900\">"
   ]
  },
  {
   "cell_type": "markdown",
   "id": "a0cd7af9",
   "metadata": {
    "slideshow": {
     "slide_type": "slide"
    }
   },
   "source": [
    "### What we do with the data?\n",
    "\n",
    "<div class=\"group\">\n",
    "  <div class=\"text\">\n",
    "      \n",
    "Algorithms can also be biased.\n",
    "\n",
    "Examples:\n",
    "* Do they care about the average?\n",
    "* Is the target of the model really what the system should optimise for?\n",
    "\n",
    "  </div>\n",
    "  <div class=\"images\">\n",
    "    <img src=\"../images/intro_to_data_science_ml/img_p36_3.png\">\n",
    "  </div>\n",
    "  <div class=\"text\">\n",
    "\n",
    "<sub><sub>[today in the Markup newsletter](https://www.wsj.com/articles/facebook-algorithm-change-zuckerberg-11631654215)</sub></sub>\n",
    "\n",
    "   </div>\n",
    "</div>"
   ]
  },
  {
   "cell_type": "markdown",
   "id": "35ff5e17",
   "metadata": {
    "slideshow": {
     "slide_type": "slide"
    }
   },
   "source": [
    "## Machine Learning"
   ]
  },
  {
   "cell_type": "markdown",
   "id": "6ba5d280",
   "metadata": {
    "slideshow": {
     "slide_type": "slide"
    }
   },
   "source": [
    "### Birds-Eye View\n",
    "\n",
    "<img src=\"../images/intro_to_data_science_ml/img_p40_1.png\" width=\"725\">\n",
    "\n",
    "<sub><sub>Sources:[https://datute.net/bigdata.html](https://datute.net/bigdata.html)</sub></sub>"
   ]
  },
  {
   "cell_type": "markdown",
   "id": "36cd87fa",
   "metadata": {
    "slideshow": {
     "slide_type": "slide"
    },
    "tags": [
     "remove-cell"
    ]
   },
   "source": [
    "### Supervised Learning\n",
    "\n",
    "<div class=\"group\">\n",
    "  <div class=\"text\">\n",
    "      \n",
    "[]()\n",
    "\n",
    "  </div>\n",
    "  <div class=\"images\">\n",
    "    <img src=\"../images/intro_to_data_science_ml/supervised_learning_ml.png\">\n",
    "  </div>\n",
    "</div>"
   ]
  },
  {
   "cell_type": "markdown",
   "id": "022fcf16",
   "metadata": {
    "slideshow": {
     "slide_type": "notes"
    },
    "tags": [
     "remove-cell"
    ]
   },
   "source": [
    "Notes: Training data (known data) includes the desired output (response) as well \n",
    "\n",
    "Example: Predicting house prices based on given features like: number of rooms, bathrooms, garage space, year it was built, location, etc."
   ]
  },
  {
   "cell_type": "markdown",
   "id": "9ab4c806",
   "metadata": {
    "slideshow": {
     "slide_type": "slide"
    }
   },
   "source": [
    "### Supervised Learning\n",
    "\n",
    "<div class=\"group\">\n",
    "  <div class=\"text\">\n",
    "      \n",
    "Training data (known data) includes the desired output (response) as well.\n",
    "\n",
    "Example:\n",
    "\n",
    "Predicting house prices based on given features like: number of rooms, bathrooms, garage space, year it was\n",
    "built, location, etc.\n",
    "\n",
    "<sub><sub> Sources:\n",
    "[Apple](https://www.flaticon.com/free-icon/apple_415682?term=apple&page=1&position=12), [Machine Learning](https://www.flaticon.com/free-icon/machine-learning_2464316?term=machine%20learning&page=2&position=5), [Computer](https://www.flaticon.com/free-icon/pc-monitor_81793?term=computer%20screen&page=6&position=14) </sub></sub>\n",
    "      \n",
    "  </div>\n",
    "  <div class=\"images\">\n",
    "    <img src=\"../images/intro_to_data_science_ml/supervised_learning_ml.png\">\n",
    "  </div>\n",
    "</div>"
   ]
  },
  {
   "cell_type": "markdown",
   "id": "17dcf124",
   "metadata": {
    "slideshow": {
     "slide_type": "slide"
    },
    "tags": [
     "remove-cell"
    ]
   },
   "source": [
    "### Unsupervised Learning\n",
    "\n",
    "<div class=\"group\">\n",
    "  <div class=\"text\">\n",
    "      \n",
    "[]()\n",
    "\n",
    "  </div>\n",
    "  <div class=\"images\">\n",
    "    <img src=\"../images/intro_to_data_science_ml/unsupervised_learning_ml.png\">\n",
    "  </div>\n",
    "</div>"
   ]
  },
  {
   "cell_type": "markdown",
   "id": "d843517d",
   "metadata": {
    "slideshow": {
     "slide_type": "notes"
    },
    "tags": [
     "remove-cell"
    ]
   },
   "source": [
    "Notes: The training data (known data) does NOT include the desired output (response) \n",
    "\n",
    "Example: Grouping customers by purchasing behavior"
   ]
  },
  {
   "cell_type": "markdown",
   "id": "930dfc8d",
   "metadata": {
    "slideshow": {
     "slide_type": "slide"
    }
   },
   "source": [
    "### Unsupervised Learning\n",
    "\n",
    "<div class=\"group\">\n",
    "  <div class=\"text\">\n",
    "      \n",
    "The training data (known data) does NOT includes the desired output (response).\n",
    "\n",
    "Example:\n",
    "\n",
    "Grouping costumers by purchasing behavior\n",
    "\n",
    "<sub><sub> Sources:\n",
    "[Apple/Banana/And Pearple](https://www.flaticon.com/packs/summer-food-drink), [Machine Learning](https://www.flaticon.com/free-icon/machine-learning_2464316?term=machine%20learning&page=2&position=5), [Computer](https://www.flaticon.com/free-icon/pc-monitor_81793?term=computer%20screen&page=6&position=14), [Thinking Bubble](https://www.flaticon.com/free-icon/thinking_522938?term=thinking%20bubble&page=1&position=17) </sub></sub>\n",
    "      \n",
    "  </div>\n",
    "  <div class=\"images\">\n",
    "    <img src=\"../images/intro_to_data_science_ml/unsupervised_learning_ml.png\">\n",
    "  </div>\n",
    "</div>"
   ]
  },
  {
   "cell_type": "markdown",
   "id": "402ddf8b",
   "metadata": {
    "slideshow": {
     "slide_type": "slide"
    }
   },
   "source": [
    "### Semi-supervised Learning\n",
    "<div class=\"group\">\n",
    "  <div class=\"text\">\n",
    "      \n",
    "Training data includes SOME of the\n",
    "desired output\n",
    "      \n",
    "Example:\n",
    "      \n",
    "Photo archive, where only some\n",
    "images are labeled (eg. dog,\n",
    "cat,person) and the majority is\n",
    "unlabeled.\n",
    "\n",
    "  </div>\n",
    "  <div class=\"images\">\n",
    "    <img src=\"../images/intro_to_data_science_ml/img_p45_1.png\">\n",
    "  </div>\n",
    "</div>"
   ]
  },
  {
   "cell_type": "markdown",
   "id": "578c2342",
   "metadata": {
    "slideshow": {
     "slide_type": "slide"
    }
   },
   "source": [
    "### Reinforcement Learning\n",
    "<div class=\"group\">\n",
    "  <div class=\"text\">\n",
    "      \n",
    "Training data has a feedback loop\n",
    "      \n",
    "Example:\n",
    "      \n",
    "autonomous video game player\n",
    "<img src=\"../images/intro_to_data_science_ml/img_p46_2.png\" width=\"500\">     \n",
    "\n",
    "      \n",
    "  </div>\n",
    "  <div class=\"images\">\n",
    "    <img src=\"../images/intro_to_data_science_ml/img_p46_1.png\">\n",
    "\n",
    "<sub><sub>Sources: [https://www.kdnuggets.com/2018/03/5-things-reinforcement-learning.html](https://www.kdnuggets.com/2018/03/5-things-reinforcement-learning.html)</sub></sub>\n",
    "\n",
    "  </div>\n",
    "</div>"
   ]
  },
  {
   "cell_type": "markdown",
   "id": "300132dc",
   "metadata": {
    "slideshow": {
     "slide_type": "slide"
    }
   },
   "source": [
    "### Regression vs. Classification\n",
    "\n",
    "<img src=\"../images/intro_to_data_science_ml/img_p40_1.png\" width=\"725\">\n",
    "\n",
    "<sub><sub>Sources:[https://datute.net/bigdata.html](https://datute.net/bigdata.html)</sub></sub>"
   ]
  },
  {
   "cell_type": "markdown",
   "id": "f6ad9391",
   "metadata": {
    "slideshow": {
     "slide_type": "slide"
    }
   },
   "source": [
    "### Classification vs. Regression\n",
    "\n",
    "<div class=\"group\">\n",
    "  <div class=\"images\">\n",
    "    <img src=\"../images/intro_to_data_science_ml/MLIntro_classification_example.png\" width=\"550\">\n",
    "  </div>\n",
    "  <div class=\"images\">\n",
    "    <img src=\"../images/intro_to_data_science_ml/MLIntro_regression_example.png\" width=\"550\">\n",
    "  </div>\n",
    "</div>"
   ]
  },
  {
   "cell_type": "markdown",
   "id": "72b00b46",
   "metadata": {
    "slideshow": {
     "slide_type": "slide"
    }
   },
   "source": [
    "### Unsupervised learning: Dimensionality reduction\n",
    "\n",
    "<img src=\"../images/intro_to_data_science_ml/img_p49_1.png\" width=\"800\" style=\"display:block; margin:auto\">\n",
    "\n",
    "<sub><sub>Sources: Hands-on Machine Learning, Geron</sub></sub>"
   ]
  },
  {
   "cell_type": "markdown",
   "id": "568a6ce6",
   "metadata": {
    "slideshow": {
     "slide_type": "slide"
    }
   },
   "source": [
    "### Unsupervised learning: Clustering\n",
    "\n",
    "<img src=\"../images/intro_to_data_science_ml/img_p50_1.png\" width=\"800\" style=\"display:block; margin:auto\">\n",
    "\n",
    "<sub><sub>Sources: kslearn data set, own visualization</sub></sub>"
   ]
  },
  {
   "cell_type": "markdown",
   "id": "97173e49",
   "metadata": {
    "slideshow": {
     "slide_type": "slide"
    }
   },
   "source": [
    "### Deep Learning\n",
    "\n",
    "<div class=\"group\">\n",
    "  <div class=\"text_70\">\n",
    "\n",
    "**Deep Learning** is a class of ML algorithms that <u>uses multiple layers to progressively extract higher level features from the raw input.</u>\n",
    "\n",
    "For example, in image processing, lower layers may identify edges, while higher layers may identify the concepts relevant to a human such as digits or letters or faces.\n",
    "\n",
    "  </div>\n",
    "  <div class=\"images_30\">\n",
    "    <img src=\"../images/intro_to_data_science_ml/MLIntro_deep_learning.png\" width=\"600\">\n",
    "  </div>\n",
    "</div>"
   ]
  },
  {
   "cell_type": "markdown",
   "id": "c0b80379",
   "metadata": {
    "slideshow": {
     "slide_type": "slide"
    }
   },
   "source": [
    "### Time Series Forecasting\n",
    "\n",
    "<div class=\"group\">\n",
    "  <div class=\"text\">\n",
    "\n",
    "**A Time Series** is a series of data points indexed in time order. Most commonly the data points are taken at equal intervals.\n",
    "\n",
    "  </div>\n",
    "  <div class=\"images\">\n",
    "    <img src=\"../images/intro_to_data_science_ml/img_p52_1.png\">\n",
    "  </div>\n",
    "</div>"
   ]
  },
  {
   "cell_type": "markdown",
   "id": "b36584a4",
   "metadata": {
    "slideshow": {
     "slide_type": "slide"
    }
   },
   "source": [
    "### Natural Language Processing\n",
    "\n",
    "<div class=\"group\">\n",
    "  <div class=\"text_70\">\n",
    "        \n",
    "**NLP** is the field dealing with how to program computers to process and analyze large amounts of natural language data.\n",
    "  \n",
    "  </div>\n",
    "  <div class=\"images_30\">\n",
    "    <img src=\"../images/intro_to_data_science_ml/img_p53_1.png\">\n",
    "  </div>\n",
    "</div>"
   ]
  },
  {
   "cell_type": "markdown",
   "id": "91a93d40",
   "metadata": {
    "slideshow": {
     "slide_type": "slide"
    }
   },
   "source": [
    "### Generative AI vs Supervised Learning\n",
    "<div class=\"group\">\n",
    "  <div class=\"text_70\">\n",
    "      \n",
    "> Generative AI is mind-blowing, but remember that Supervised learning is the most profitable Machine Learning technique today. The attached image is from @AndrewYNg's talk at Stanford University in July 2023. Supervised learning is massive, and he predicts it should double in the next few years. Generative AI should more than double, but it won't catch up. Don't let online hype lead you astray. Learning the fundamentals is as important as it's always been. <br> [Santiago Valdarrama](https://www.linkedin.com/posts/svpino_generative-ai-is-mind-blowing-but-remember-activity-7124020850646749184-Mc_X?utm_source=share&utm_medium=member_desktop)\n",
    "\n",
    "Also the link to Andrew Ng's talk: https://youtu.be/5p248yoa3oE?si=DmffehuDLWa2IAFB\n",
    "</div>\n",
    "  <div class=\"images_30\">\n",
    "    <img src=\"../images/intro_to_data_science_ml/andrew-ng-supervised-vs-generative.jpeg\" width=850>\n",
    "  </div>\n",
    "</div>"
   ]
  },
  {
   "cell_type": "markdown",
   "id": "f333e86e",
   "metadata": {
    "slideshow": {
     "slide_type": "slide"
    }
   },
   "source": [
    "## Who does what in data?"
   ]
  },
  {
   "cell_type": "markdown",
   "id": "4eb8b578",
   "metadata": {
    "slideshow": {
     "slide_type": "notes"
    }
   },
   "source": [
    "many roles, which ones have you heard of?\n",
    "\n",
    "data journalist, analytics engineer, mle, ds, da, de, data viz, data prod\n",
    "\n",
    "let’s focus on 4 common ones (though dae is on the rise)"
   ]
  },
  {
   "cell_type": "markdown",
   "id": "4cd1e508",
   "metadata": {
    "slideshow": {
     "slide_type": "slide"
    }
   },
   "source": [
    "### Data Engineer\n",
    "\n",
    "**Tasks:**\n",
    "\n",
    "data warehouse, data lake, data infrastructure, data pipeline, data transformation and enriching, ETL, automation, software engineering\n",
    "\n",
    "<div class=\"group\">\n",
    "  <div class=\"text\">\n",
    "\n",
    "**Closely related roles:**\n",
    "      \n",
    "Data ops, ML ops\n",
    "\n",
    "**Key skills:** \n",
    "      \n",
    "engineering, data modeling, communication\n",
    "\n",
    "<img src=\"../images/intro_to_data_science_ml/MLIntro_data_engineer_skills.png\" width=\"500\">\n",
    "      \n",
    "  </div>\n",
    "  <div class=\"images\">\n",
    "    <img src=\"../images/intro_to_data_science_ml/img_p18_1.png\" width=\"500\">\n",
    "  </div>\n",
    "</div>\n"
   ]
  },
  {
   "cell_type": "markdown",
   "id": "b0b9090c",
   "metadata": {
    "slideshow": {
     "slide_type": "slide"
    }
   },
   "source": [
    "### Data Analyst\n",
    "\n",
    "**Tasks:**\n",
    "\n",
    "data warehouse, data pipeline, data transformation and enriching, ETL, data analysis, EDA, KPIs, statistics, data exploration, dashboards, visualization, communicating, assessing data products\n",
    "\n",
    "<div class=\"group\">\n",
    "  <div class=\"text\">\n",
    "\n",
    "**Closely related roles:**\n",
    "      \n",
    "Product Analyst, Data Scientist, Data Visualizer, (Growth Hacker...)\n",
    "      \n",
    "**Key skills:** \n",
    "\n",
    "statistics, domain knowledge, communication\n",
    "      \n",
    "<img src=\"../images/intro_to_data_science_ml/img_p16_4.png\" width=\"200\">\n",
    "      \n",
    "  </div>\n",
    "  <div class=\"images\">\n",
    "    <img src=\"../images/intro_to_data_science_ml/img_p19_1.png\" width=\"500\">\n",
    "  </div>\n",
    "</div>"
   ]
  },
  {
   "cell_type": "markdown",
   "id": "91e01425",
   "metadata": {
    "slideshow": {
     "slide_type": "slide"
    }
   },
   "source": [
    "### Data Scientist\n",
    "\n",
    "**Tasks:**\n",
    "\n",
    "data pipeline, data analysis, KPIs, statistics, data exploration, visualization, EDA, communicating, data modeling, predicting, building data products, deep learning\n",
    "\n",
    "<div class=\"group\">\n",
    "  <div class=\"text\">\n",
    "\n",
    "**Closely related roles:**\n",
    "\n",
    "Product Analyst, ML Engineer, Data Visualizer\n",
    "      \n",
    "**Key skills:** \n",
    "\n",
    "algorithms, domain knowledge, communication\n",
    "      \n",
    "<img src=\"../images/intro_to_data_science_ml/img_p16_5.png\" width=\"200\">\n",
    "      \n",
    "  </div>\n",
    "  <div class=\"images\">\n",
    "    <img src=\"../images/intro_to_data_science_ml/img_p20_1.png\" width=\"500\">\n",
    "  </div>\n",
    "</div>"
   ]
  },
  {
   "cell_type": "markdown",
   "id": "d078dc36",
   "metadata": {
    "slideshow": {
     "slide_type": "slide"
    }
   },
   "source": [
    "### Machine Learning Engineer\n",
    "**Tasks:**\n",
    "\n",
    "data pipeline, data analysis, data modeling, predicting, building data products, automation, software engineering\n",
    "\n",
    "<div class=\"group\">\n",
    "  <div class=\"text\">\n",
    "\n",
    "      \n",
    "\n",
    "**Closely related roles:**\n",
    "      \n",
    "Data Scientist, Data Engineer\n",
    "      \n",
    "**Key skills:** \n",
    "      \n",
    "engineering, algorithms, communication\n",
    "\n",
    "<img src=\"../images/intro_to_data_science_ml/MLIntro_ml_engineer_skills.png\" width=\"500\">\n",
    "      \n",
    "  </div>\n",
    "  <div class=\"images\">\n",
    "    <img src=\"../images/intro_to_data_science_ml/img_p21_1.png\" width=\"550\">\n",
    "  </div>\n",
    "</div>"
   ]
  },
  {
   "cell_type": "markdown",
   "id": "6c808900",
   "metadata": {
    "slideshow": {
     "slide_type": "slide"
    }
   },
   "source": [
    "## Becoming a Data Scienctist"
   ]
  },
  {
   "cell_type": "markdown",
   "id": "3efa1e16",
   "metadata": {
    "slideshow": {
     "slide_type": "slide"
    }
   },
   "source": [
    "### Data Scientist\n",
    "\n",
    "\n",
    "<div class=\"group\">\n",
    "  <div class=\"text\">\n",
    "      \n",
    "      \n",
    "**Tasks:**\n",
    "\n",
    "data pipeline, data analysis, KPIs, statistics, data exploration, visualization, EDA, communicating, data modeling, predicting, building data products, deep learning\n",
    "\n",
    "\n",
    "**Closely related roles:**\n",
    "\n",
    "Product Analyst, ML Engineer, Data Visualizer\n",
    "      \n",
    "**Key skills:** \n",
    "\n",
    "algorithms, domain knowledge, communication\n",
    "    \n",
    "<img src=\"../images/intro_to_data_science_ml/img_p16_5.png\" width=\"200\">\n",
    "      \n",
    "  </div>\n",
    "  <div class=\"images\">\n",
    "    <img src=\"../images/intro_to_data_science_ml/img_p20_1.png\" width=\"500\">\n",
    "  </div>\n",
    "</div>"
   ]
  },
  {
   "cell_type": "markdown",
   "id": "d35546cb",
   "metadata": {
    "slideshow": {
     "slide_type": "slide"
    }
   },
   "source": [
    "### learn about the subject and where does your **past experience** fit in\n",
    "\n",
    "<div class=\"group\">\n",
    "  <div class=\"text_70\">\n",
    "        \n",
    "book:\n",
    "[https://www.manning.com/books/build-a-career-in-data-science](https://www.manning.com/books/build-a-career-in-data-science)\n",
    "\n",
    "podcast:\n",
    "[https://open.spotify.com/show/78Nft51TuU3X2urEKfCuys?si=-f7cN3v2Sgu0pyDelBc-Yg&dl_branch=1](https://open.spotify.com/show/78Nft51TuU3X2urEKfCuys?si=-f7cN3v2Sgu0pyDelBc-Yg&dl_branch=1)\n",
    "\n",
    "  </div>\n",
    "  <div class=\"images_30\">\n",
    "    <img src=\"../images/intro_to_data_science_ml/img_p56_6.png\">\n",
    "  </div>\n",
    "</div>"
   ]
  },
  {
   "cell_type": "markdown",
   "id": "d0a35655",
   "metadata": {
    "slideshow": {
     "slide_type": "slide"
    }
   },
   "source": [
    "### Try it out: kaggle.. zindi .. and more\n",
    "\n",
    "<div class=\"group\">\n",
    "    <div class=\"images\">       \n",
    "        <img src=\"../images/intro_to_data_science_ml/img_p57_1.png\" width=\"550\">  \n",
    "    </div>\n",
    "    <div class=\"images\">\n",
    "        <img src=\"../images/intro_to_data_science_ml/img_p57_2.png\">\n",
    "    </div>\n",
    "</div>\n",
    "\n",
    "<sub><sub>Sources:[kaggle](https://www.kaggle.com/datasets), [zindi](https://zindi.africa/competitions)</sub></sub>"
   ]
  },
  {
   "cell_type": "markdown",
   "id": "f2b5e183",
   "metadata": {
    "slideshow": {
     "slide_type": "slide"
    }
   },
   "source": [
    "### First 3 Weeks: Getting started with data\n",
    "\n",
    "\n",
    "|  | |\n",
    "|:---:|:---|\n",
    "| **1** | <ul><li>Working with IDEs and Python scripts</li></ul>  |\n",
    "| **2** | <ul><li>pandas & NumPy</li><li>Data Visualization</li></ul> |\n",
    "| **3** | <ul><li>Data Visualization</li><li>Data Cleaning</li><li>EDA</li></ul> |"
   ]
  }
 ],
 "metadata": {
  "celltoolbar": "Slideshow",
  "kernelspec": {
   "display_name": "Python 3 (ipykernel)",
   "language": "python",
   "name": "python3"
  },
  "language_info": {
   "codemirror_mode": {
    "name": "ipython",
    "version": 3
   },
   "file_extension": ".py",
   "mimetype": "text/x-python",
   "name": "python",
   "nbconvert_exporter": "python",
   "pygments_lexer": "ipython3",
   "version": "3.11.3"
  },
  "rise": {
   "auto_select": "none",
   "transition": "fade"
  }
 },
 "nbformat": 4,
 "nbformat_minor": 5
}
